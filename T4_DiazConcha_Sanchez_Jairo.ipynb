{
 "cells": [
  {
   "cell_type": "markdown",
   "id": "ea7f4788",
   "metadata": {},
   "source": [
    "1. Crea una lista con 5 nombres y muéstrala usando print()."
   ]
  },
  {
   "cell_type": "code",
   "execution_count": null,
   "id": "86abccdd",
   "metadata": {},
   "outputs": [],
   "source": [
    "nombres = ['Jairo', 'Álvaro', 'Borja', 'Manu', 'Ángel']\n",
    "print(nombres)"
   ]
  },
  {
   "cell_type": "markdown",
   "id": "d7aed04f",
   "metadata": {},
   "source": [
    "2. Ahora crea otra lista con 5 nombres introducidos por el usuario.\n",
    "Nota: Usa input() dentro de la lista."
   ]
  },
  {
   "cell_type": "code",
   "execution_count": null,
   "id": "df561028",
   "metadata": {},
   "outputs": [
    {
     "name": "stdout",
     "output_type": "stream",
     "text": [
      "Lista de nombres:  ['Jairo', 'López', 'Borja']\n"
     ]
    }
   ],
   "source": [
    "nombres = [input('Introduce el primer nombre: '), input('Introduce el segundo nombre: '), input('Introduce el tercer nombre: ')]\n",
    "print('Lista de nombres: ', nombres)"
   ]
  },
  {
   "cell_type": "markdown",
   "id": "480b5a25",
   "metadata": {},
   "source": [
    "3. Concatena dos listas de números introducidos por el usuario y muestra la\n",
    "lista resultante."
   ]
  },
  {
   "cell_type": "code",
   "execution_count": 5,
   "id": "f6548f73",
   "metadata": {},
   "outputs": [
    {
     "name": "stdout",
     "output_type": "stream",
     "text": [
      "[1.0, 4.0, 6.0, 4.0, 3.0, 6.0]\n"
     ]
    }
   ],
   "source": [
    "numeros1 = [float(input('Introduce el primer número: ')), float(input('Introduce el segundo número: ')), float(input('Introduce el tercer número: '))]\n",
    "numeros2 = [float(input('Introduce el primer número: ')), float(input('Introduce el segundo número: ')), float(input('Introduce el tercer número: '))]\n",
    "listaT = numeros1 + numeros2\n",
    "print(listaT)"
   ]
  },
  {
   "cell_type": "markdown",
   "id": "4a371d95",
   "metadata": {},
   "source": [
    "4. Usa .append() y .insert() para agregar elementos a una lista vacía."
   ]
  },
  {
   "cell_type": "code",
   "execution_count": 17,
   "id": "483b040f",
   "metadata": {},
   "outputs": [
    {
     "name": "stdout",
     "output_type": "stream",
     "text": [
      "[10, 14, 12]\n"
     ]
    }
   ],
   "source": [
    "lista = []\n",
    "lista.insert(1, 14)\n",
    "lista.insert(0, 10)\n",
    "lista.append(12)\n",
    "print(lista)"
   ]
  },
  {
   "cell_type": "markdown",
   "id": "736ddfb1",
   "metadata": {},
   "source": [
    "5. Usa .pop() y .remove() para eliminar elementos de una lista dada.\n",
    "lista = [“a”, “b”, “c”, “d”]"
   ]
  },
  {
   "cell_type": "code",
   "execution_count": null,
   "id": "4957b282",
   "metadata": {},
   "outputs": [
    {
     "name": "stdout",
     "output_type": "stream",
     "text": [
      "['c', 'd']\n"
     ]
    }
   ],
   "source": [
    "lista = ['a', 'b', 'c', 'd']\n",
    "lista.pop(0) # pop se usa con el indice\n",
    "lista.remove('b') # Remove se utiliza con el elemento que quieres sacar\n",
    "print(lista)"
   ]
  },
  {
   "cell_type": "markdown",
   "id": "70c1d403",
   "metadata": {},
   "source": [
    "6. Crea una lista de palabras y usa .sort() y .reverse() para ordenarla\n",
    "alfabéticamente y luego invertirla."
   ]
  },
  {
   "cell_type": "code",
   "execution_count": 33,
   "id": "50c8c27e",
   "metadata": {},
   "outputs": [
    {
     "name": "stdout",
     "output_type": "stream",
     "text": [
      "['Borja', 'Jairo', 'Manu', 'Álvaro', 'Ángel']\n",
      "['Ángel', 'Álvaro', 'Manu', 'Jairo', 'Borja']\n"
     ]
    }
   ],
   "source": [
    "nombres = ['Jairo', 'Álvaro', 'Borja', 'Manu', 'Ángel']\n",
    "nombres.sort()\n",
    "print(nombres)\n",
    "nombres.reverse()\n",
    "print(nombres)"
   ]
  },
  {
   "cell_type": "markdown",
   "id": "72c0ce89",
   "metadata": {},
   "source": [
    "6. Crea una tupla con 4 elementos numéricos y muestra:\n",
    "- Su longitud\n",
    "- El primer y último elemento"
   ]
  },
  {
   "cell_type": "code",
   "execution_count": null,
   "id": "cf6de83c",
   "metadata": {},
   "outputs": [
    {
     "name": "stdout",
     "output_type": "stream",
     "text": [
      "4\n",
      "1 4\n"
     ]
    }
   ],
   "source": [
    "tupla = (1, 2, 3, 4)\n",
    "print(len(tupla))\n",
    "print(tupla[0],tupla[-1])"
   ]
  },
  {
   "cell_type": "markdown",
   "id": "11fb61cc",
   "metadata": {},
   "source": [
    "7. Convierte una lista en tupla y una tupla en lista usando list() y tuple()"
   ]
  },
  {
   "cell_type": "code",
   "execution_count": 40,
   "id": "292eb520",
   "metadata": {},
   "outputs": [
    {
     "name": "stdout",
     "output_type": "stream",
     "text": [
      "[1, 2, 3]\n",
      "(1, 2, 3)\n"
     ]
    }
   ],
   "source": [
    "tupla = (1, 2, 3)\n",
    "lista = [1, 2, 3]\n",
    "print(list(tupla))\n",
    "print(tuple(lista))"
   ]
  },
  {
   "cell_type": "markdown",
   "id": "07ce713a",
   "metadata": {},
   "source": [
    "8. Crea una tupla con datos personales (nombre, edad, ciudad) y muéstrala\n",
    "con un f-string."
   ]
  },
  {
   "cell_type": "code",
   "execution_count": null,
   "id": "206be254",
   "metadata": {},
   "outputs": [
    {
     "name": "stdout",
     "output_type": "stream",
     "text": [
      "Me llamo Jairo, tengo 17 y vivo en Majadahonda\n"
     ]
    }
   ],
   "source": [
    "tupla = ('Jairo', 17, 'Majadahonda')\n",
    "print(f'Me llamo {tupla[0]}, tengo {tupla[1]} años y vivo en {tupla[2]}')"
   ]
  },
  {
   "cell_type": "markdown",
   "id": "186ad50f",
   "metadata": {},
   "source": [
    "9. Crea dos sets con elementos introducidos por el usuario y muestra:\n",
    "- Unión (|)\n",
    "- Intersección (&)\n",
    "- Diferencia (-)"
   ]
  },
  {
   "cell_type": "code",
   "execution_count": 42,
   "id": "7962adb8",
   "metadata": {},
   "outputs": [
    {
     "name": "stdout",
     "output_type": "stream",
     "text": [
      "{'adios', 'hola'}\n",
      "{'hola', 'chao'}\n",
      "{'adios', 'hola', 'chao'}\n",
      "{'hola'}\n",
      "{'adios'}\n"
     ]
    }
   ],
   "source": [
    "set1 = {input('Pon una palabara: '), input('Pon otra palabra: ')}\n",
    "set2 = {input('Pon una palabara: '), input('Pon otra palabra: ')}\n",
    "print(set1)\n",
    "print(set2)\n",
    "print(set1 | set2)\n",
    "print(set1 & set2)\n",
    "print(set1 - set2)"
   ]
  },
  {
   "cell_type": "markdown",
   "id": "a5878d79",
   "metadata": {},
   "source": [
    "10. Muestra cómo un set elimina duplicados al convertir una lista con\n",
    "elementos repetidos."
   ]
  },
  {
   "cell_type": "code",
   "execution_count": 6,
   "id": "e082add7",
   "metadata": {},
   "outputs": [
    {
     "name": "stdout",
     "output_type": "stream",
     "text": [
      "{1, 2, 3, 5}\n"
     ]
    }
   ],
   "source": [
    "lista = [1, 1, 2, 3, 5]\n",
    "print(set(lista))\n"
   ]
  },
  {
   "cell_type": "markdown",
   "id": "dce3ace2",
   "metadata": {},
   "source": [
    "11. Usa .add() y .discard() para modificar un set."
   ]
  },
  {
   "cell_type": "code",
   "execution_count": 50,
   "id": "a91b3a67",
   "metadata": {},
   "outputs": [
    {
     "name": "stdout",
     "output_type": "stream",
     "text": [
      "{0, 2, 3, 4, 6}\n"
     ]
    }
   ],
   "source": [
    "set1 = {0, 1, 2, 3, 4}\n",
    "set1.add(6)\n",
    "set1.discard(1)\n",
    "print(set1)"
   ]
  },
  {
   "cell_type": "markdown",
   "id": "49c03214",
   "metadata": {},
   "source": [
    "12. Crea un diccionario con claves 'nombre', 'edad', 'ciudad' y valores\n",
    "introducidos por el usuario."
   ]
  },
  {
   "cell_type": "code",
   "execution_count": 1,
   "id": "2138a613",
   "metadata": {},
   "outputs": [
    {
     "name": "stdout",
     "output_type": "stream",
     "text": [
      "{'nombre': 'Jairoç', 'edad': '18', 'ciudad': 'Majadahonda'}\n"
     ]
    }
   ],
   "source": [
    "dict = {\n",
    "    'nombre': input('Introduce tu nombre: ') ,\n",
    "    'edad': input('Introduce tu edad: '),\n",
    "    'ciudad': input('Introduce tu ciudad: ')\n",
    "}\n",
    "print(dict)"
   ]
  },
  {
   "cell_type": "markdown",
   "id": "11806baf",
   "metadata": {},
   "source": [
    "13. Usa .keys(), .values() y .items() para mostrar las partes del diccionario."
   ]
  },
  {
   "cell_type": "code",
   "execution_count": 5,
   "id": "60fc944e",
   "metadata": {},
   "outputs": [
    {
     "name": "stdout",
     "output_type": "stream",
     "text": [
      "dict_keys(['nombre', 'edad', 'ciudad'])\n",
      "dict_values(['Jairo', 17, 'Majadahonda'])\n",
      "dict_items([('nombre', 'Jairo'), ('edad', 17), ('ciudad', 'Majadahonda')])\n"
     ]
    }
   ],
   "source": [
    "dict = {\n",
    "    'nombre': 'Jairo',\n",
    "    'edad': 17,\n",
    "    'ciudad': 'Majadahonda'\n",
    "}\n",
    "print(dict.keys())\n",
    "print(dict.values())\n",
    "print(dict.items())"
   ]
  },
  {
   "cell_type": "markdown",
   "id": "98861edc",
   "metadata": {},
   "source": [
    "14. Agrega una nueva clave 'profesión' al diccionario y muestra el resultado."
   ]
  },
  {
   "cell_type": "code",
   "execution_count": 7,
   "id": "357d9d5e",
   "metadata": {},
   "outputs": [
    {
     "name": "stdout",
     "output_type": "stream",
     "text": [
      "{'nombre': 'Jairo', 'edad': 17, 'ciudad': 'Majadahonda', 'Profesión': 'Profesor'}\n"
     ]
    }
   ],
   "source": [
    "dict = {\n",
    "    'nombre': 'Jairo',\n",
    "    'edad': 17,\n",
    "    'ciudad': 'Majadahonda'\n",
    "}\n",
    "dict['Profesión'] = 'Profesor'\n",
    "print(dict)"
   ]
  },
  {
   "cell_type": "markdown",
   "id": "ad483871",
   "metadata": {},
   "source": [
    "15. Modifica el valor de una clave existente ('edad') usando asignación directa."
   ]
  },
  {
   "cell_type": "code",
   "execution_count": 8,
   "id": "067a2973",
   "metadata": {},
   "outputs": [
    {
     "name": "stdout",
     "output_type": "stream",
     "text": [
      "{'nombre': 'Jairo', 'edad': 20, 'ciudad': 'Majadahonda'}\n"
     ]
    }
   ],
   "source": [
    "dict = {\n",
    "    'nombre': 'Jairo',\n",
    "    'edad': 17,\n",
    "    'ciudad': 'Majadahonda'\n",
    "}\n",
    "dict['edad'] = 20\n",
    "print(dict)"
   ]
  },
  {
   "cell_type": "markdown",
   "id": "07a0500d",
   "metadata": {},
   "source": [
    "16. Elimina una clave del diccionario usando .pop()."
   ]
  },
  {
   "cell_type": "code",
   "execution_count": 9,
   "id": "1e689e92",
   "metadata": {},
   "outputs": [
    {
     "name": "stdout",
     "output_type": "stream",
     "text": [
      "{'nombre': 'Jairo', 'ciudad': 'Majadahonda'}\n"
     ]
    }
   ],
   "source": [
    "dict = {\n",
    "    'nombre': 'Jairo',\n",
    "    'edad': 17,\n",
    "    'ciudad': 'Majadahonda'\n",
    "}\n",
    "dict.pop('edad')\n",
    "print(dict)"
   ]
  },
  {
   "cell_type": "markdown",
   "id": "64e6ee96",
   "metadata": {},
   "source": [
    "17. Crea una lista de diccionarios, cada uno representando un estudiante con\n",
    "'nombre' y 'nota'."
   ]
  },
  {
   "cell_type": "code",
   "execution_count": 11,
   "id": "6452fad3",
   "metadata": {},
   "outputs": [
    {
     "name": "stdout",
     "output_type": "stream",
     "text": [
      "[{'nombre': 'Jairo', 'nota': 7}, {'nombre': 'Borja', 'nota': 6}, {'nombre': 'López', 'nota': 8}]\n"
     ]
    }
   ],
   "source": [
    "alumno1 = {\n",
    "    'nombre': 'Jairo',\n",
    "    'nota': 7\n",
    "}\n",
    "alumno2 = {\n",
    "    'nombre': 'Borja',\n",
    "    'nota': 6\n",
    "}\n",
    "alumno3 = {\n",
    "    'nombre': 'López',\n",
    "    'nota': 8\n",
    "}\n",
    "lista_alumnos = [alumno1, alumno2, alumno3]\n",
    "print(lista_alumnos)"
   ]
  },
  {
   "cell_type": "markdown",
   "id": "5cff793e",
   "metadata": {},
   "source": [
    "18. Crea un diccionario donde las claves sean nombres de materias y los\n",
    "valores sean sets de alumnos inscritos."
   ]
  },
  {
   "cell_type": "code",
   "execution_count": 12,
   "id": "8b5e7bb7",
   "metadata": {},
   "outputs": [
    {
     "name": "stdout",
     "output_type": "stream",
     "text": [
      "{'Álgebra lineal': {'Jose', 'Jorge', 'Jairo'}, 'Analisis': {'Jairo', 'Borja', 'López'}}\n"
     ]
    }
   ],
   "source": [
    "dict = {\n",
    "    'Álgebra lineal': {'Jairo', 'Jorge', 'Jose'},\n",
    "    'Analisis': {'Jairo', 'López', 'Borja'}\n",
    "}\n",
    "print(dict)"
   ]
  },
  {
   "cell_type": "markdown",
   "id": "d9f1d715",
   "metadata": {},
   "source": [
    "19. Crea una tupla que contenga una lista y un set como elementos. Mostrar\n",
    "cómo acceder a cada uno"
   ]
  },
  {
   "cell_type": "code",
   "execution_count": null,
   "id": "3d44fef2",
   "metadata": {},
   "outputs": [
    {
     "name": "stdout",
     "output_type": "stream",
     "text": [
      "({1, 2, 3, 4}, [1, 2, 3, 4])\n"
     ]
    }
   ],
   "source": [
    "set1 = {1, 2, 3, 4}\n",
    "lista = [1, 2, 3, 4]\n",
    "tupla = (set1, lista)\n",
    "print(tupla)"
   ]
  },
  {
   "cell_type": "markdown",
   "id": "6b8279a9",
   "metadata": {},
   "source": [
    "20. Pide al usuario que introduzca una frase. Convierte la frase en una lista de\n",
    "palabras usando .split(), elimina las repetidas usando un set, y luego\n",
    "ordena alfabéticamente la lista resultante.\n",
    "- Entrada: \"hola mundo hola python mundo\"\n",
    "- Salida: ['hola', 'mundo', 'python']"
   ]
  },
  {
   "cell_type": "code",
   "execution_count": null,
   "id": "84740a83",
   "metadata": {},
   "outputs": [
    {
     "ename": "TypeError",
     "evalue": "'set' object is not callable",
     "output_type": "error",
     "traceback": [
      "\u001b[31m---------------------------------------------------------------------------\u001b[39m",
      "\u001b[31mTypeError\u001b[39m                                 Traceback (most recent call last)",
      "\u001b[36mCell\u001b[39m\u001b[36m \u001b[39m\u001b[32mIn[19]\u001b[39m\u001b[32m, line 3\u001b[39m\n\u001b[32m      1\u001b[39m frase = \u001b[38;5;28minput\u001b[39m(\u001b[33m'\u001b[39m\u001b[33mintroduce una frase cualquiera: \u001b[39m\u001b[33m'\u001b[39m).split()\n\u001b[32m      2\u001b[39m lista_frase = \u001b[38;5;28mlist\u001b[39m(frase)\n\u001b[32m----> \u001b[39m\u001b[32m3\u001b[39m \u001b[38;5;28;43mset\u001b[39;49m\u001b[43m(\u001b[49m\u001b[43mfrase\u001b[49m\u001b[43m)\u001b[49m\n\u001b[32m      4\u001b[39m lista_frase.sort()\n\u001b[32m      5\u001b[39m \u001b[38;5;28mprint\u001b[39m(lista_frase)\n",
      "\u001b[31mTypeError\u001b[39m: 'set' object is not callable"
     ]
    }
   ],
   "source": [
    "frase = input(\"Introduce una frase: \").split()\n",
    "palabras = frase.split()\n",
    "palabras_unicas = list(set(palabras))\n",
    "palabras_unicas.sort()\n",
    "print(palabras_unicas)\n"
   ]
  }
 ],
 "metadata": {
  "kernelspec": {
   "display_name": "Python 3",
   "language": "python",
   "name": "python3"
  },
  "language_info": {
   "codemirror_mode": {
    "name": "ipython",
    "version": 3
   },
   "file_extension": ".py",
   "mimetype": "text/x-python",
   "name": "python",
   "nbconvert_exporter": "python",
   "pygments_lexer": "ipython3",
   "version": "3.13.7"
  }
 },
 "nbformat": 4,
 "nbformat_minor": 5
}
