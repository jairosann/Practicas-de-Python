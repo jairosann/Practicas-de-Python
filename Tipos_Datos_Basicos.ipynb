{
  "cells": [
    {
      "cell_type": "markdown",
      "metadata": {
        "id": "7USkmdDBW0zV"
      },
      "source": [
        "# Tipo de datos básicos\n",
        "\n",
        "## Tipos Numéricos\n",
        "#### Podemos distinguir 3 tipos de números\n",
        "- **Enteros**: Que no tienen una parte decimal y van desde menos infinito a más infinito.\n",
        "- **Flotantes** o decimales: Números que tienen una parte decimal escrita con un punto.\n",
        "- **Complex**: Números compuestos de una parte real y una parte imaginaria\n"
      ]
    },
    {
      "cell_type": "code",
      "execution_count": null,
      "metadata": {
        "id": "yIHs1hsvzpx0"
      },
      "outputs": [],
      "source": []
    },
    {
      "cell_type": "markdown",
      "metadata": {
        "id": "4KbPbVAuZKSe"
      },
      "source": [
        "#### También podemos realizar operaciones más complejas\n",
        "Python interpretará automáticamente las prioridades de los operadores."
      ]
    },
    {
      "cell_type": "code",
      "execution_count": 8,
      "metadata": {
        "id": "5rNPg7q7zrbL"
      },
      "outputs": [
        {
          "data": {
            "text/plain": [
              "5"
            ]
          },
          "execution_count": 8,
          "metadata": {},
          "output_type": "execute_result"
        }
      ],
      "source": [
        "3+2"
      ]
    },
    {
      "cell_type": "markdown",
      "metadata": {
        "id": "2A_0gqQWZDvF"
      },
      "source": [
        "## Las variables\n",
        "Concepto fundamental de la programación, en el cuál se define un identificador y se le asigna un valor.\n",
        "\n",
        "Luego podemos utilizarlas como si se tratase de un valor literal, incluso operarlas entre otras variables y volver a asignarles un valor en cualquier momento.\n",
        "\n",
        "La asignación se realiza con el operador =. Los nombres de las variables en Python pueden contener caracteres alfanuméricos (empezando con una letra) a-z, A-Z, 0-9 y otros símbolos como la _.\n",
        "\n",
        "Como recomendación, aunque Python lo permita, sería conveniente no comenzar con números el nombre de las variables, la mayoria de sistemas y lenguajes de programación ajenos a Python no lo permiten.\n",
        "\n",
        "Por cuestiones de estilo, las variables suelen empezar con minúscula, reservando la mayúcula para clases.\n",
        "\n",
        "Algunos nombres no pueden ser usados porque son usados por python:\n",
        "\n",
        "- and, as, assert, break, class, continue, def, del, elif, else, except, exec, finally, for, from, global, if, import, in, is, lambda, not, or, pass, print, raise, return, try, while, with, yield"
      ]
    },
    {
      "cell_type": "markdown",
      "metadata": {
        "id": "JU5F9WdIcPZI"
      },
      "source": [
        "En Python la asignación no imprime el resultado por pantalla, al contrario de como sucede en MATLAB y Octave (salvo que se incluya el punto y coma al final). La mejor manera de visualizar la variable que acabamos de asignar es esta (OJO. Esto solo es válido en Jupyter):"
      ]
    },
    {
      "cell_type": "code",
      "execution_count": null,
      "metadata": {
        "id": "t0feFMMLZh8A"
      },
      "outputs": [],
      "source": []
    },
    {
      "cell_type": "markdown",
      "metadata": {
        "id": "fAQ9KKmtepuu"
      },
      "source": [
        "### Asignación múltiple\n",
        "También podemos realizar **asignación múltiple**. En \"x\" se guardará el 1 y en \"y\" se guardará el 2. La instruccion  <div><br><b>x, y = 1, 2</b> sería igual que:  <br><b>x = 1 <br>\n",
        "    y = 2</b></div>"
      ]
    },
    {
      "cell_type": "code",
      "execution_count": null,
      "metadata": {
        "id": "S655Y2t1eZUK"
      },
      "outputs": [],
      "source": []
    },
    {
      "cell_type": "markdown",
      "metadata": {
        "id": "VwETvmrdgqWY"
      },
      "source": [
        "### Reutilización\n",
        "Al crear una estructura de cálculos con variables, podemos fácilmente adaptar sus valores para hacer distintas comprobaciones."
      ]
    },
    {
      "cell_type": "code",
      "execution_count": null,
      "metadata": {
        "id": "zsufQy1Igjrw"
      },
      "outputs": [],
      "source": []
    },
    {
      "cell_type": "markdown",
      "metadata": {
        "id": "mLahPOL4hDlR"
      },
      "source": [
        "## Tipo Lógico (boolean)\n",
        "Representa la mínima expresión racional:\n",
        "- `True` (verdadero o 1 en otros lenguajes)\n",
        "- `False` (falso o 0 en otros lenguajes)"
      ]
    },
    {
      "cell_type": "markdown",
      "metadata": {
        "id": "euMHPU08iL6O"
      },
      "source": [
        "Los booleanos podremos unirlos a los operadores lógicos AND y OR (sí y no lógicos) para obtener combinaciones lógicas (tablas de verdad)\n",
        " * 0 y 0 = 0\n",
        " * 0 y 1 = 0\n",
        " * 1 y 0 = 0\n",
        " * 1 y 1 = 1\n",
        "<div><br></div>\n",
        "\n",
        " * 0 o 0 = 0\n",
        " * 0 o 1 = 1\n",
        " * 1 o 0 = 1\n",
        " * 1 o 1 = 1"
      ]
    },
    {
      "cell_type": "code",
      "execution_count": 9,
      "metadata": {
        "id": "8fCQBM8iiIXT"
      },
      "outputs": [
        {
          "name": "stdout",
          "output_type": "stream",
          "text": [
            "True\n"
          ]
        }
      ],
      "source": [
        "esta_lloviendo = True\n",
        "esta_haciendo_sol = False\n",
        "print(esta_lloviendo)"
      ]
    },
    {
      "cell_type": "markdown",
      "metadata": {
        "id": "FUkpnTJPi7qU"
      },
      "source": [
        "Los booleanos se utilizan habitualmente para guardar en todo momento el estado de una propiedad o caracteristica. A continuación unos ejemplos:"
      ]
    },
    {
      "cell_type": "code",
      "execution_count": null,
      "metadata": {
        "id": "ip2Tkxcwi1Z1"
      },
      "outputs": [],
      "source": []
    },
    {
      "cell_type": "markdown",
      "metadata": {
        "id": "EEpQXxnOjdr5"
      },
      "source": [
        "## Tipo Texto (string)"
      ]
    },
    {
      "cell_type": "code",
      "execution_count": null,
      "metadata": {
        "id": "S6N9cYTIjUbI"
      },
      "outputs": [],
      "source": []
    },
    {
      "cell_type": "markdown",
      "metadata": {
        "id": "DtXPVVR3pkP-"
      },
      "source": [
        "CUIDADO con las comillas cuando se copia código de un procesador de textos como Word o PDF. Es posible que os aparezca unas comillas simples, pero no son las comillas simples de la tecla del teclado por lo que Python no lo entenderá como un string y dará error. También puede ocurrir este error cuando se descarga código fuente codificado en otra región del mundo donde la codificación de caracteres sea diferente y el caracter de la comilla simple no sea igual que en España. Normalmente hay menos problemas con la doble comilla"
      ]
    },
    {
      "cell_type": "markdown",
      "metadata": {
        "id": "K7CCxHhmp0g6"
      },
      "source": [
        "#### También es posible asignar cadenas a variables"
      ]
    },
    {
      "cell_type": "code",
      "execution_count": null,
      "metadata": {
        "id": "rIQld2u8kxn5"
      },
      "outputs": [],
      "source": []
    },
    {
      "cell_type": "markdown",
      "metadata": {
        "id": "GS6a8mDHqJ2a"
      },
      "source": [
        "### Operaciones\n",
        "\n",
        "#### Concatenación (o suma)"
      ]
    },
    {
      "cell_type": "code",
      "execution_count": null,
      "metadata": {
        "id": "dXL7no2Np-g_"
      },
      "outputs": [],
      "source": []
    },
    {
      "cell_type": "markdown",
      "metadata": {
        "id": "DtUuAByWqY0v"
      },
      "source": [
        "#### Multiplicación"
      ]
    },
    {
      "cell_type": "code",
      "execution_count": 12,
      "metadata": {
        "id": "ieqiMn-7qYDe"
      },
      "outputs": [
        {
          "name": "stdout",
          "output_type": "stream",
          "text": [
            "\n"
          ]
        }
      ],
      "source": [
        "diez_espacios = \"\" * 10\n",
        "print(diez_espacios)"
      ]
    },
    {
      "cell_type": "markdown",
      "metadata": {
        "id": "gW_AxdFbqw9J"
      },
      "source": [
        "### Indices en las cadenas\n",
        "Los índices nos permiten posicionarnos en un carácter específico de una cadena.\n",
        "\n",
        "Representan un número [índice], que empezando por el 0 indica el carácter de la primera posición, y así sucesivamente."
      ]
    },
    {
      "cell_type": "code",
      "execution_count": 1,
      "metadata": {
        "id": "7ynTQUQBqrh_"
      },
      "outputs": [
        {
          "data": {
            "text/plain": [
              "'p'"
            ]
          },
          "execution_count": 1,
          "metadata": {},
          "output_type": "execute_result"
        }
      ],
      "source": [
        "palabra = 'python'\n",
        "palabra[0]"
      ]
    },
    {
      "cell_type": "markdown",
      "metadata": {
        "id": "reKuQcECrUOQ"
      },
      "source": [
        "El índice negativo -1, hace referencia al carácter de la última posición, el -2 al penúltimo y así sucesivamente"
      ]
    },
    {
      "cell_type": "code",
      "execution_count": null,
      "metadata": {
        "id": "rd4yni9nrQm6"
      },
      "outputs": [],
      "source": []
    },
    {
      "cell_type": "markdown",
      "metadata": {
        "id": "KyJbZ4zQrtTz"
      },
      "source": [
        "### Slicing\n",
        "El slicing es una capacidad de las cadenas que devuelve un subconjunto o subcadena utilizando dos índices `[inicio:fin]`:\n",
        "- El primer índice indica donde empieza la subcadena (se incluye el carácter).\n",
        "- El segundo índice indica donde acaba la subcadena (se excluye el carácter)."
      ]
    },
    {
      "cell_type": "code",
      "execution_count": null,
      "metadata": {
        "id": "O8jPJsWbrkLM"
      },
      "outputs": [],
      "source": []
    },
    {
      "cell_type": "markdown",
      "metadata": {
        "id": "Yj9Nx9nMsECE"
      },
      "source": [
        "Si en el slicing no se indica un índice se toma por defecto el principio y el final (incluídos)"
      ]
    },
    {
      "cell_type": "code",
      "execution_count": null,
      "metadata": {
        "id": "lrz2t9Qyr_Ez"
      },
      "outputs": [],
      "source": []
    },
    {
      "cell_type": "markdown",
      "metadata": {
        "id": "ZXfDSLjasZ2a"
      },
      "source": [
        "Si un indice esta fuera del rango de la cadena, va a dar error"
      ]
    },
    {
      "cell_type": "code",
      "execution_count": null,
      "metadata": {
        "id": "8zF6BtUMsVis"
      },
      "outputs": [],
      "source": []
    },
    {
      "cell_type": "markdown",
      "metadata": {
        "id": "JqHWWdd-sko1"
      },
      "source": [
        "Sin embargo, con slicing no pasa esto y simplemente se ignora el espacio hueco"
      ]
    },
    {
      "cell_type": "code",
      "execution_count": null,
      "metadata": {
        "id": "BOKiTS9isj4s"
      },
      "outputs": [],
      "source": []
    },
    {
      "cell_type": "markdown",
      "metadata": {
        "id": "HqXRza4Xsy5g"
      },
      "source": [
        "### Inmutabilidad\n",
        "Una propiedad de las cadenas es que no se pueden modificar"
      ]
    },
    {
      "cell_type": "code",
      "execution_count": null,
      "metadata": {
        "id": "-P2V1ZuMsuDO"
      },
      "outputs": [],
      "source": []
    },
    {
      "cell_type": "markdown",
      "metadata": {
        "id": "QO7_JWxotT3i"
      },
      "source": [
        "Sin embargo, utulizando slicing y concatenación podemos generar nuevas cadenas fácilmente"
      ]
    },
    {
      "cell_type": "code",
      "execution_count": null,
      "metadata": {
        "id": "JCoSdNdttEzr"
      },
      "outputs": [],
      "source": []
    },
    {
      "cell_type": "markdown",
      "metadata": {
        "id": "Sq_8PTQwyoG3"
      },
      "source": [
        "### Funciones\n",
        "Un ejemplo de función útil que soportan las cadenas es `len()`, que nos permite saber su longitud (el número de caracteres que contienen)."
      ]
    },
    {
      "cell_type": "code",
      "execution_count": 2,
      "metadata": {
        "id": "_XkYx-QVthwM"
      },
      "outputs": [
        {
          "data": {
            "text/plain": [
              "6"
            ]
          },
          "execution_count": 2,
          "metadata": {},
          "output_type": "execute_result"
        }
      ],
      "source": [
        "len(palabra)"
      ]
    },
    {
      "cell_type": "markdown",
      "metadata": {
        "id": "mCkJ6hfBzEBj"
      },
      "source": [
        "Hay mas funciones pero las vamos a ir descubriendo a lo largo del curso"
      ]
    },
    {
      "cell_type": "code",
      "execution_count": 3,
      "metadata": {
        "id": "eMlPityczAR4"
      },
      "outputs": [
        {
          "name": "stdout",
          "output_type": "stream",
          "text": [
            "6.8\n"
          ]
        }
      ],
      "source": [
        "Lado1 = float(input('¿Cuánto mide el lado 1?'))\n",
        "Lado2 = float(input('¿Cuánto mide el lado 2?'))\n",
        "Area_rect = Lado1 * Lado2\n",
        "print(Area_rect)"
      ]
    },
    {
      "cell_type": "code",
      "execution_count": 4,
      "metadata": {},
      "outputs": [
        {
          "name": "stdout",
          "output_type": "stream",
          "text": [
            "3.2\n"
          ]
        }
      ],
      "source": [
        "Base = float(input('¿Cuánto mide la base?'))\n",
        "Altura = float(input('¿Cuánto mide la altura?'))\n",
        "Area_triang = (Base * Altura) / 2\n",
        "print(Area_triang)"
      ]
    },
    {
      "cell_type": "code",
      "execution_count": 15,
      "metadata": {},
      "outputs": [
        {
          "name": "stdout",
          "output_type": "stream",
          "text": [
            "Lado1: 3.4\n",
            "Lado2: 2.0\n"
          ]
        }
      ],
      "source": [
        "Lado1, Lado2 = Lado2, Lado1\n",
        "print(\"Lado1:\", Lado1)\n",
        "print(\"Lado2:\", Lado2)"
      ]
    },
    {
      "cell_type": "code",
      "execution_count": 3,
      "metadata": {},
      "outputs": [
        {
          "name": "stdout",
          "output_type": "stream",
          "text": [
            "16\n"
          ]
        }
      ],
      "source": [
        "Nums = [1, 2, 3, 4, 6]\n",
        "print(sum(Nums))\n"
      ]
    },
    {
      "cell_type": "code",
      "execution_count": null,
      "metadata": {},
      "outputs": [],
      "source": [
        "Precio = float(input('¿Cuanto vale la prenda?'))\n",
        "Descuento = float(input('¿Cuanto Descuento lleva?'))\n",
        "PrecioFinal = Precio * (Descuento / 100)\n",
        "print(PrecioFinal)"
      ]
    },
    {
      "cell_type": "code",
      "execution_count": 4,
      "metadata": {},
      "outputs": [
        {
          "ename": "NameError",
          "evalue": "name 'sqrt' is not defined",
          "output_type": "error",
          "traceback": [
            "\u001b[31m---------------------------------------------------------------------------\u001b[39m",
            "\u001b[31mNameError\u001b[39m                                 Traceback (most recent call last)",
            "\u001b[36mCell\u001b[39m\u001b[36m \u001b[39m\u001b[32mIn[4]\u001b[39m\u001b[32m, line 2\u001b[39m\n\u001b[32m      1\u001b[39m Num = \u001b[38;5;28mfloat\u001b[39m(\u001b[38;5;28minput\u001b[39m(\u001b[33m'\u001b[39m\u001b[33mPon un numero\u001b[39m\u001b[33m'\u001b[39m))\n\u001b[32m----> \u001b[39m\u001b[32m2\u001b[39m \u001b[38;5;28mprint\u001b[39m(\u001b[43msqrt\u001b[49m(Num))\n",
            "\u001b[31mNameError\u001b[39m: name 'sqrt' is not defined"
          ]
        }
      ],
      "source": [
        "Num = float(input('Pon un numero'))\n",
        "print(sqrt(Num))"
      ]
    }
  ],
  "metadata": {
    "colab": {
      "provenance": []
    },
    "kernelspec": {
      "display_name": "Python 3",
      "name": "python3"
    },
    "language_info": {
      "codemirror_mode": {
        "name": "ipython",
        "version": 3
      },
      "file_extension": ".py",
      "mimetype": "text/x-python",
      "name": "python",
      "nbconvert_exporter": "python",
      "pygments_lexer": "ipython3",
      "version": "3.13.7"
    }
  },
  "nbformat": 4,
  "nbformat_minor": 0
}
