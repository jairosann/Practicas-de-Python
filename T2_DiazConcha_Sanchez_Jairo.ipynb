{
 "cells": [
  {
   "cell_type": "markdown",
   "id": "7d796a38",
   "metadata": {},
   "source": [
    "1. Imprime tu edad"
   ]
  },
  {
   "cell_type": "code",
   "execution_count": null,
   "id": "517071aa",
   "metadata": {},
   "outputs": [
    {
     "name": "stdout",
     "output_type": "stream",
     "text": [
      "18\n"
     ]
    }
   ],
   "source": [
    "Edad = 18 # Ponemos nuestra edad\n",
    "print(Edad) # Imprimimos la edad"
   ]
  },
  {
   "cell_type": "markdown",
   "id": "f0426629",
   "metadata": {},
   "source": [
    "2. Calcula el área de un rectángulo"
   ]
  },
  {
   "cell_type": "code",
   "execution_count": null,
   "id": "f08ebdd1",
   "metadata": {},
   "outputs": [
    {
     "name": "stdout",
     "output_type": "stream",
     "text": [
      "20\n"
     ]
    }
   ],
   "source": [
    "# Establecemos la base y la altura de un rectángulo\n",
    "base = 5\n",
    "altura = 4\n",
    "area = base * altura # Calculamos el área del rectángulo\n",
    "print(area) # Imprimimos el área del rectángulo"
   ]
  },
  {
   "cell_type": "markdown",
   "id": "fa57b82e",
   "metadata": {},
   "source": [
    "3. Convierte grados Celsius a Fahrenheit "
   ]
  },
  {
   "cell_type": "code",
   "execution_count": null,
   "id": "bebf2314",
   "metadata": {},
   "outputs": [
    {
     "name": "stdout",
     "output_type": "stream",
     "text": [
      "104.0\n"
     ]
    }
   ],
   "source": [
    "celsius = 40 # Temperatura en grados Celsius\n",
    "fahrenheit = (celsius * 9/5) + 32 # Convertimos la temperatura a grados Fahrenheit\n",
    "print(fahrenheit) # Imprimimos la temperatura en grados Fahrenheit\n"
   ]
  },
  {
   "cell_type": "markdown",
   "id": "2d2d354d",
   "metadata": {},
   "source": [
    "4. Declara tres variables numéricas y muestra su suma"
   ]
  },
  {
   "cell_type": "code",
   "execution_count": null,
   "id": "c353feef",
   "metadata": {},
   "outputs": [
    {
     "name": "stdout",
     "output_type": "stream",
     "text": [
      "12\n"
     ]
    }
   ],
   "source": [
    "# Establecemos 3 números\n",
    "n1 = 3\n",
    "n2 = 4\n",
    "n3 = 5\n",
    "print(n1 + n2 + n3) # Imprimimos la suma de los 3 numeros"
   ]
  },
  {
   "cell_type": "markdown",
   "id": "ffe6a745",
   "metadata": {},
   "source": [
    "5. Calcula el promedio"
   ]
  },
  {
   "cell_type": "code",
   "execution_count": null,
   "id": "436acd2d",
   "metadata": {},
   "outputs": [
    {
     "name": "stdout",
     "output_type": "stream",
     "text": [
      "5.666666666666667\n"
     ]
    }
   ],
   "source": [
    "# Establecemos 3 números\n",
    "n1 = 8\n",
    "n2 = 5\n",
    "n3 = 4\n",
    "prom = (n1 + n2 + n3) / 3 # Calculamos el promedio de los 3 números\n",
    "print(prom) # Imprimimos el promedio de los 3 números\n"
   ]
  },
  {
   "cell_type": "markdown",
   "id": "b0c9d7ee",
   "metadata": {},
   "source": [
    "6. Intercambia los valores de dos variables"
   ]
  },
  {
   "cell_type": "code",
   "execution_count": null,
   "id": "18cbbee6",
   "metadata": {},
   "outputs": [
    {
     "name": "stdout",
     "output_type": "stream",
     "text": [
      "2 1\n"
     ]
    }
   ],
   "source": [
    "# Intercambiamos los valores de n1 y n2\n",
    "n1, n2 = 1, 2\n",
    "print(n2, n1) # Imprimimos los valores intercambiados"
   ]
  },
  {
   "cell_type": "markdown",
   "id": "f12f8848",
   "metadata": {},
   "source": [
    "7. Declara tres variables en una sola línea."
   ]
  },
  {
   "cell_type": "code",
   "execution_count": null,
   "id": "8f5f6311",
   "metadata": {},
   "outputs": [
    {
     "name": "stdout",
     "output_type": "stream",
     "text": [
      "1 2 3\n"
     ]
    }
   ],
   "source": [
    "# Establecemos 3 números\n",
    "n1, n2, n3 = 1, 2, 3\n",
    "print(n1, n2, n3) # Imprimimos los 3 números"
   ]
  },
  {
   "cell_type": "markdown",
   "id": "3a956b63",
   "metadata": {},
   "source": [
    "8. Usa una variable para guardar el resultado de una operación."
   ]
  },
  {
   "cell_type": "code",
   "execution_count": null,
   "id": "ecbb038c",
   "metadata": {},
   "outputs": [
    {
     "name": "stdout",
     "output_type": "stream",
     "text": [
      "6\n"
     ]
    }
   ],
   "source": [
    "# Establecemos x\n",
    "x = 3\n",
    "y = x + 3 # Establecemos y que será la suma de x con otro numero\n",
    "print(y) # Imprimimos y"
   ]
  },
  {
   "cell_type": "markdown",
   "id": "c6beafba",
   "metadata": {},
   "source": [
    "9. Calcula el área de un triángulo."
   ]
  },
  {
   "cell_type": "code",
   "execution_count": null,
   "id": "9abb3d72",
   "metadata": {},
   "outputs": [
    {
     "name": "stdout",
     "output_type": "stream",
     "text": [
      "10.0\n"
     ]
    }
   ],
   "source": [
    "# establecemos la base y la altura de un triángulo\n",
    "base = 4\n",
    "altura = 5\n",
    "areat = (base * altura) / 2 # Calculamos el área del triángulo\n",
    "print(areat) # Imprimimos el área del triángulo"
   ]
  },
  {
   "cell_type": "markdown",
   "id": "8b5cec9c",
   "metadata": {},
   "source": [
    "10. Evalúa si una persona puede votar o no."
   ]
  },
  {
   "cell_type": "code",
   "execution_count": null,
   "id": "f042ac22",
   "metadata": {},
   "outputs": [
    {
     "name": "stdout",
     "output_type": "stream",
     "text": [
      "True\n"
     ]
    }
   ],
   "source": [
    "edad = 18 # establecemos la edad\n",
    "votar = edad >= 18 # establecemos si la edad es mayor o igual a 18 y por tanto puede votar\n",
    "print(votar) # Establecemos si el usuario puede votar o no\n"
   ]
  },
  {
   "cell_type": "markdown",
   "id": "30b6b843",
   "metadata": {},
   "source": [
    "11. Comprueba si un número está entre 10 y 20."
   ]
  },
  {
   "cell_type": "code",
   "execution_count": null,
   "id": "c01267dd",
   "metadata": {},
   "outputs": [
    {
     "name": "stdout",
     "output_type": "stream",
     "text": [
      "False\n"
     ]
    }
   ],
   "source": [
    "# Establecemos una constante x\n",
    "x = 5\n",
    "intervalo = x >= 10 and x <= 20 # Estudiamos si x está en un intervalo determinado (en este caso entre 10 y 20)\n",
    "print(intervalo) # Imprimimos si x está en el intervalo o no\n"
   ]
  },
  {
   "cell_type": "markdown",
   "id": "13790e2b",
   "metadata": {},
   "source": [
    "12. Determina si un número es múltiplo de 3 o de 5."
   ]
  },
  {
   "cell_type": "code",
   "execution_count": null,
   "id": "fa5aa244",
   "metadata": {},
   "outputs": [
    {
     "name": "stdout",
     "output_type": "stream",
     "text": [
      "False\n"
     ]
    }
   ],
   "source": [
    "# Establecemos una constante a\n",
    "a = 7\n",
    "multiplo = a % 3 == 0 or a % 5 == 0 # Estudiamos si a es múltiplo de 3 o de 5\n",
    "print(multiplo) # Imprimimos si a es múltiplo de 3 o de 5\n"
   ]
  },
  {
   "cell_type": "markdown",
   "id": "f16381a8",
   "metadata": {},
   "source": [
    "13. Combina condiciones booleanas para verificar si un usuario puede\n",
    "acceder a una app (edad y contraseña correcta)."
   ]
  },
  {
   "cell_type": "code",
   "execution_count": null,
   "id": "2f5a3061",
   "metadata": {},
   "outputs": [
    {
     "name": "stdout",
     "output_type": "stream",
     "text": [
      "True\n"
     ]
    }
   ],
   "source": [
    "# Establecemos las edades y contraseñas ingresadas y guardadas en un sistema\n",
    "edad_guardada = 18\n",
    "edad_ingresada = 18\n",
    "contraseña_guardada = '12345'\n",
    "contraseña_ingresada = '12345'\n",
    "correcto = edad_ingresada == edad_guardada and contraseña_ingresada == contraseña_guardada # Estudiamos si la edad y la contraseña ingresadas son correctas y coinciden con las guardadas en el sistema\n",
    "print(correcto) # Imprimimos si la edad y la contraseña son correctas o no\n"
   ]
  },
  {
   "cell_type": "markdown",
   "id": "9c4e18c1",
   "metadata": {},
   "source": [
    "14. Concatena tu nombre y apellido en una sola variable."
   ]
  },
  {
   "cell_type": "code",
   "execution_count": null,
   "id": "902db495",
   "metadata": {},
   "outputs": [
    {
     "name": "stdout",
     "output_type": "stream",
     "text": [
      "Jairo Sanchez\n"
     ]
    }
   ],
   "source": [
    "# Establecemos el nombre y apellido de una persona\n",
    "nombre = 'Jairo'\n",
    "apellido = 'Sánchez'\n",
    "nombre_completo = nombre + ' ' + apellido # Concatenamos el nombre y el apellido para obtener el nombre completo\n",
    "print(nombre_completo) # Imprimimos el nombre completo\n"
   ]
  },
  {
   "cell_type": "markdown",
   "id": "b5a0104f",
   "metadata": {},
   "source": [
    "15. Multiplica una cadena."
   ]
  },
  {
   "cell_type": "code",
   "execution_count": null,
   "id": "5351c369",
   "metadata": {},
   "outputs": [
    {
     "name": "stdout",
     "output_type": "stream",
     "text": [
      "hola hola hola hola hola \n"
     ]
    }
   ],
   "source": [
    "# Establecemos un mensaje y lo repetimos varias veces\n",
    "mensaje = 'hola '\n",
    "repetido = mensaje * 5\n",
    "print(repetido) # Imprimimos el mensaje repetido"
   ]
  },
  {
   "cell_type": "markdown",
   "id": "fbc5eb09",
   "metadata": {},
   "source": [
    "16. Accede al primer y último carácter."
   ]
  },
  {
   "cell_type": "code",
   "execution_count": null,
   "id": "5b88a1ca",
   "metadata": {},
   "outputs": [
    {
     "name": "stdout",
     "output_type": "stream",
     "text": [
      "h\n",
      "a\n"
     ]
    }
   ],
   "source": [
    "# Establecemos una cadena de texto\n",
    "cadena = 'hola'\n",
    "print(cadena[0]) # Imprimimos el primer caracter de la cadena\n",
    "print(cadena[-1]) # Imprimimos el último caracter de la cadena"
   ]
  },
  {
   "cell_type": "markdown",
   "id": "23916d36",
   "metadata": {},
   "source": [
    "17. Extrae una subcadena."
   ]
  },
  {
   "cell_type": "code",
   "execution_count": null,
   "id": "945f9bb1",
   "metadata": {},
   "outputs": [
    {
     "name": "stdout",
     "output_type": "stream",
     "text": [
      "Hola,\n"
     ]
    }
   ],
   "source": [
    "# Establecemos una frase\n",
    "frase = 'Hola, me gustan los perros'\n",
    "print(frase[0:5])  # Imprimimos los primeros 5 caracteres de la frase"
   ]
  },
  {
   "cell_type": "markdown",
   "id": "cdd254fc",
   "metadata": {},
   "source": [
    "18. Invierte una cadena."
   ]
  },
  {
   "cell_type": "code",
   "execution_count": null,
   "id": "fd74977b",
   "metadata": {},
   "outputs": [
    {
     "name": "stdout",
     "output_type": "stream",
     "text": [
      "aloh\n"
     ]
    }
   ],
   "source": [
    "# Establecemos una cadena de texto\n",
    "cadena = 'hola'\n",
    "cadena_invertida = cadena[::-1] # Invertimos la cadena\n",
    "print(cadena_invertida) # Imprimimos la cadena invertida"
   ]
  },
  {
   "cell_type": "markdown",
   "id": "8f3a6e04",
   "metadata": {},
   "source": [
    "19. Cuenta cuántas veces aparece una letra."
   ]
  },
  {
   "cell_type": "code",
   "execution_count": null,
   "id": "d145ac7b",
   "metadata": {},
   "outputs": [
    {
     "name": "stdout",
     "output_type": "stream",
     "text": [
      "0\n"
     ]
    }
   ],
   "source": [
    "# Establecemos una frase\n",
    "frase = 'Me gusta el pollo'\n",
    "letra_l = frase.count('m') # Contamos cuantas veces aparece la letra 'm' en la frase (O cualquier otro caracter)\n",
    "print(letra_l) # Imprimimos cuantas veces aparece la letra 'm' en la frase"
   ]
  },
  {
   "cell_type": "markdown",
   "id": "953e8533",
   "metadata": {},
   "source": [
    "20. Crea una contraseña segura."
   ]
  },
  {
   "cell_type": "code",
   "execution_count": null,
   "id": "6e1a51cc",
   "metadata": {},
   "outputs": [
    {
     "name": "stdout",
     "output_type": "stream",
     "text": [
      "aseña123contrctsa3ctsa3cnrsñ13\n"
     ]
    }
   ],
   "source": [
    "# Establecemos una contraseña de usuario\n",
    "contraseña_usuario = 'contraseña123'\n",
    "# Establecemos las distintas partes de una contraseña más segura desde una contraseña principal que establezca el usuario\n",
    "primera_parte = contraseña_usuario[:5]\n",
    "segunda_parte = contraseña_usuario[5:]\n",
    "parte_extra1 = contraseña_usuario[::3]\n",
    "parte_extra2 = contraseña_usuario[::2]\n",
    "# Concatenamos las distintas variables\n",
    "contraeña_segura = segunda_parte + primera_parte + parte_extra1 * 2 + parte_extra2 \n",
    "# Imprimimos la contraseña segura\n",
    "print(contraeña_segura)\n"
   ]
  }
 ],
 "metadata": {
  "kernelspec": {
   "display_name": "Python 3",
   "language": "python",
   "name": "python3"
  },
  "language_info": {
   "codemirror_mode": {
    "name": "ipython",
    "version": 3
   },
   "file_extension": ".py",
   "mimetype": "text/x-python",
   "name": "python",
   "nbconvert_exporter": "python",
   "pygments_lexer": "ipython3",
   "version": "3.13.5"
  }
 },
 "nbformat": 4,
 "nbformat_minor": 5
}
