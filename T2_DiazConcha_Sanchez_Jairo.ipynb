{
 "cells": [
  {
   "cell_type": "code",
   "execution_count": 9,
   "id": "517071aa",
   "metadata": {},
   "outputs": [
    {
     "name": "stdout",
     "output_type": "stream",
     "text": [
      "18\n"
     ]
    }
   ],
   "source": [
    "Edad = 18 # ponemos nuestra edad\n",
    "print(Edad) # Imprimimos la edad"
   ]
  },
  {
   "cell_type": "code",
   "execution_count": 10,
   "id": "f08ebdd1",
   "metadata": {},
   "outputs": [
    {
     "name": "stdout",
     "output_type": "stream",
     "text": [
      "20\n"
     ]
    }
   ],
   "source": [
    "base = 5\n",
    "altura = 4\n",
    "area = base * altura\n",
    "print(area)"
   ]
  },
  {
   "cell_type": "code",
   "execution_count": 11,
   "id": "bebf2314",
   "metadata": {},
   "outputs": [
    {
     "name": "stdout",
     "output_type": "stream",
     "text": [
      "104.0\n"
     ]
    }
   ],
   "source": [
    "celsius = 40\n",
    "fahrenheit = (celsius * 9/5) + 32\n",
    "print(fahrenheit)"
   ]
  },
  {
   "cell_type": "code",
   "execution_count": 12,
   "id": "c353feef",
   "metadata": {},
   "outputs": [
    {
     "name": "stdout",
     "output_type": "stream",
     "text": [
      "12\n"
     ]
    }
   ],
   "source": [
    "n1 = 3\n",
    "n2 = 4\n",
    "n3 = 5\n",
    "print(n1 + n2 + n3)"
   ]
  },
  {
   "cell_type": "code",
   "execution_count": 13,
   "id": "436acd2d",
   "metadata": {},
   "outputs": [
    {
     "name": "stdout",
     "output_type": "stream",
     "text": [
      "5.666666666666667\n"
     ]
    }
   ],
   "source": [
    "n1 = 8\n",
    "n2 = 5\n",
    "n3 = 4\n",
    "prom = (n1 + n2 + n3) / 3 \n",
    "print(prom)"
   ]
  },
  {
   "cell_type": "code",
   "execution_count": 14,
   "id": "18cbbee6",
   "metadata": {},
   "outputs": [
    {
     "name": "stdout",
     "output_type": "stream",
     "text": [
      "2 1\n"
     ]
    }
   ],
   "source": [
    "n1, n2 = 1, 2\n",
    "print(n2, n1)"
   ]
  },
  {
   "cell_type": "code",
   "execution_count": 15,
   "id": "8f5f6311",
   "metadata": {},
   "outputs": [
    {
     "name": "stdout",
     "output_type": "stream",
     "text": [
      "1 2 3\n"
     ]
    }
   ],
   "source": [
    "n1, n2, n3 = 1, 2, 3\n",
    "print(n1, n2, n3)"
   ]
  },
  {
   "cell_type": "code",
   "execution_count": 16,
   "id": "ecbb038c",
   "metadata": {},
   "outputs": [
    {
     "name": "stdout",
     "output_type": "stream",
     "text": [
      "6\n"
     ]
    }
   ],
   "source": [
    "x = 3\n",
    "y = x + 3 \n",
    "print(y)"
   ]
  },
  {
   "cell_type": "code",
   "execution_count": 17,
   "id": "9abb3d72",
   "metadata": {},
   "outputs": [
    {
     "name": "stdout",
     "output_type": "stream",
     "text": [
      "10.0\n"
     ]
    }
   ],
   "source": [
    "base = 4\n",
    "altura = 5\n",
    "areat = (base * altura) / 2\n",
    "print(areat)"
   ]
  },
  {
   "cell_type": "code",
   "execution_count": 18,
   "id": "f042ac22",
   "metadata": {},
   "outputs": [
    {
     "name": "stdout",
     "output_type": "stream",
     "text": [
      "True\n"
     ]
    }
   ],
   "source": [
    "edad = 18\n",
    "votar = edad >= 18\n",
    "print(votar)"
   ]
  },
  {
   "cell_type": "code",
   "execution_count": 19,
   "id": "c01267dd",
   "metadata": {},
   "outputs": [
    {
     "name": "stdout",
     "output_type": "stream",
     "text": [
      "False\n"
     ]
    }
   ],
   "source": [
    "x = 5\n",
    "intervalo = x >= 10 and x <= 20\n",
    "print(intervalo)"
   ]
  },
  {
   "cell_type": "code",
   "execution_count": 20,
   "id": "fa5aa244",
   "metadata": {},
   "outputs": [
    {
     "name": "stdout",
     "output_type": "stream",
     "text": [
      "False\n"
     ]
    }
   ],
   "source": [
    "a = 7\n",
    "multiplo = a % 3 == 0 or a % 5 == 0\n",
    "print(multiplo) "
   ]
  },
  {
   "cell_type": "code",
   "execution_count": 21,
   "id": "2f5a3061",
   "metadata": {},
   "outputs": [
    {
     "name": "stdout",
     "output_type": "stream",
     "text": [
      "True\n"
     ]
    }
   ],
   "source": [
    "edad_guardada = 18\n",
    "edad_ingresada = 18\n",
    "contraseña_guardada = '12345'\n",
    "contraseña_ingresada = '12345'\n",
    "correcto = edad_ingresada == edad_guardada and contraseña_ingresada == contraseña_guardada\n",
    "print(correcto)\n"
   ]
  },
  {
   "cell_type": "code",
   "execution_count": 22,
   "id": "902db495",
   "metadata": {},
   "outputs": [
    {
     "name": "stdout",
     "output_type": "stream",
     "text": [
      "Jairo Sanchez\n"
     ]
    }
   ],
   "source": [
    "nombre = 'Jairo'\n",
    "apellido = 'Sanchez'\n",
    "nombre_completo = nombre + ' ' + apellido\n",
    "print(nombre_completo)"
   ]
  },
  {
   "cell_type": "code",
   "execution_count": 23,
   "id": "5351c369",
   "metadata": {},
   "outputs": [
    {
     "name": "stdout",
     "output_type": "stream",
     "text": [
      "hola hola hola hola hola \n"
     ]
    }
   ],
   "source": [
    "mensaje = 'hola '\n",
    "repetido = mensaje * 5\n",
    "print(repetido)"
   ]
  },
  {
   "cell_type": "code",
   "execution_count": 24,
   "id": "5b88a1ca",
   "metadata": {},
   "outputs": [
    {
     "name": "stdout",
     "output_type": "stream",
     "text": [
      "h\n",
      "a\n"
     ]
    }
   ],
   "source": [
    "cadena = 'hola'\n",
    "print(cadena[0])\n",
    "print(cadena[-1])"
   ]
  },
  {
   "cell_type": "code",
   "execution_count": 25,
   "id": "945f9bb1",
   "metadata": {},
   "outputs": [
    {
     "name": "stdout",
     "output_type": "stream",
     "text": [
      "Hola,\n"
     ]
    }
   ],
   "source": [
    "frase = 'Hola, me gustan los perros'\n",
    "print(frase[0:5])  # 'Hola'"
   ]
  },
  {
   "cell_type": "code",
   "execution_count": null,
   "id": "fd74977b",
   "metadata": {},
   "outputs": [],
   "source": []
  }
 ],
 "metadata": {
  "kernelspec": {
   "display_name": "Python 3",
   "language": "python",
   "name": "python3"
  },
  "language_info": {
   "codemirror_mode": {
    "name": "ipython",
    "version": 3
   },
   "file_extension": ".py",
   "mimetype": "text/x-python",
   "name": "python",
   "nbconvert_exporter": "python",
   "pygments_lexer": "ipython3",
   "version": "3.13.5"
  }
 },
 "nbformat": 4,
 "nbformat_minor": 5
}
