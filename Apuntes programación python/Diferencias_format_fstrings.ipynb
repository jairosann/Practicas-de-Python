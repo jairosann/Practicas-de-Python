{
 "cells": [
  {
   "cell_type": "markdown",
   "id": "39846a78",
   "metadata": {},
   "source": [
    "# Diferencias entre `.format()` y f-strings en Python"
   ]
  },
  {
   "cell_type": "markdown",
   "id": "8d127fbd",
   "metadata": {},
   "source": [
    "\n",
    "Tanto `.format()` como las f-strings son métodos para formatear cadenas en Python, pero existen algunas diferencias clave entre ellos:\n",
    "        "
   ]
  },
  {
   "cell_type": "markdown",
   "id": "79baef27",
   "metadata": {},
   "source": [
    "## 1. Sintaxis y Legibilidad"
   ]
  },
  {
   "cell_type": "markdown",
   "id": "01e4a261",
   "metadata": {},
   "source": [
    "\n",
    "- **`.format()`**: La sintaxis puede ser más verbosa y menos intuitiva, especialmente cuando se incluyen muchos elementos o expresiones complejas.\n",
    "- **f-strings**: Son más concisas y fáciles de leer. Se introdujeron en Python 3.6 y permiten insertar expresiones directamente dentro de la cadena, rodeadas por llaves `{}`.\n",
    "        "
   ]
  },
  {
   "cell_type": "code",
   "execution_count": null,
   "id": "8ffc99d1",
   "metadata": {},
   "outputs": [],
   "source": [
    "\n",
    "# Ejemplo con .format()\n",
    "nombre = \"Andrés\"\n",
    "edad = 30\n",
    "mensaje = \"Mi nombre es {} y tengo {} años.\".format(nombre, edad)\n",
    "mensaje\n",
    "# Resultado: 'Mi nombre es Andrés y tengo 30 años.'\n",
    "        "
   ]
  },
  {
   "cell_type": "code",
   "execution_count": null,
   "id": "90b3f129",
   "metadata": {},
   "outputs": [],
   "source": [
    "\n",
    "# Ejemplo con f-strings\n",
    "nombre = \"Andrés\"\n",
    "edad = 30\n",
    "mensaje = f\"Mi nombre es {nombre} y tengo {edad} años.\"\n",
    "mensaje\n",
    "# Resultado: 'Mi nombre es Andrés y tengo 30 años.'\n",
    "        "
   ]
  },
  {
   "cell_type": "markdown",
   "id": "73f2a072",
   "metadata": {},
   "source": [
    "## 2. Rendimiento"
   ]
  },
  {
   "cell_type": "markdown",
   "id": "4a7aad4a",
   "metadata": {},
   "source": [
    "\n",
    "- **`.format()`**: Es un poco más lento que las f-strings porque tiene que realizar más operaciones internamente para reemplazar las llaves con sus valores.\n",
    "- **f-strings**: Son generalmente más rápidas porque el reemplazo de valores ocurre en tiempo de compilación, lo que las hace más eficientes.\n",
    "        "
   ]
  },
  {
   "cell_type": "markdown",
   "id": "8f481e8c",
   "metadata": {},
   "source": [
    "## 3. Flexibilidad y Funcionalidad"
   ]
  },
  {
   "cell_type": "markdown",
   "id": "3b8144d9",
   "metadata": {},
   "source": [
    "\n",
    "- **`.format()`**: Permite el uso de algunas características avanzadas, como la especificación del orden de los argumentos, el uso de los mismos múltiples veces, y la aplicación de formatos avanzados de números y cadenas.\n",
    "        "
   ]
  },
  {
   "cell_type": "code",
   "execution_count": 1,
   "id": "3453fa41",
   "metadata": {},
   "outputs": [
    {
     "data": {
      "text/plain": [
       "'Mi nombre es Andrés y tengo 30 años. Andrés es un nombre común.'"
      ]
     },
     "execution_count": 1,
     "metadata": {},
     "output_type": "execute_result"
    }
   ],
   "source": [
    "\n",
    "# Uso avanzado de .format()\n",
    "nombre = \"Andrés\"\n",
    "edad = 30\n",
    "mensaje = \"Mi nombre es {0} y tengo {1} años. {0} es un nombre común.\".format(nombre, edad)\n",
    "mensaje\n",
    "# Resultado: 'Mi nombre es Andrés y tengo 30 años. Andrés es un nombre común.'\n",
    "        "
   ]
  },
  {
   "cell_type": "markdown",
   "id": "7f3fb951",
   "metadata": {},
   "source": [
    "\n",
    "- **f-strings**: Son más flexibles en el sentido de que permiten la inclusión de expresiones completas directamente en las llaves.\n",
    "        "
   ]
  },
  {
   "cell_type": "code",
   "execution_count": null,
   "id": "ceafb5c8",
   "metadata": {},
   "outputs": [],
   "source": [
    "\n",
    "# Uso de expresiones en f-strings\n",
    "ancho = 5\n",
    "alto = 10\n",
    "area = f\"El área del rectángulo es {ancho * alto}.\"\n",
    "area\n",
    "# Resultado: 'El área del rectángulo es 50.'\n",
    "        "
   ]
  },
  {
   "cell_type": "markdown",
   "id": "82339111",
   "metadata": {},
   "source": [
    "## 4. Uso de Expresiones"
   ]
  },
  {
   "cell_type": "markdown",
   "id": "611e8617",
   "metadata": {},
   "source": [
    "\n",
    "- **`.format()`**: Las expresiones dentro de `.format()` tienen que ser calculadas fuera de la cadena.\n",
    "        "
   ]
  },
  {
   "cell_type": "code",
   "execution_count": null,
   "id": "f5419cbf",
   "metadata": {},
   "outputs": [],
   "source": [
    "\n",
    "# Uso de .format() con expresiones\n",
    "ancho = 5\n",
    "alto = 10\n",
    "area = ancho * alto\n",
    "mensaje = \"El área del rectángulo es {}.\".format(area)\n",
    "mensaje\n",
    "# Resultado: 'El área del rectángulo es 50.'\n",
    "        "
   ]
  },
  {
   "cell_type": "markdown",
   "id": "265687a6",
   "metadata": {},
   "source": [
    "\n",
    "- **f-strings**: Permiten la evaluación de expresiones directamente dentro de la cadena.\n",
    "        "
   ]
  },
  {
   "cell_type": "code",
   "execution_count": null,
   "id": "5b368ab9",
   "metadata": {},
   "outputs": [],
   "source": [
    "\n",
    "# Uso de expresiones en f-strings\n",
    "mensaje = f\"El área del rectángulo es {ancho * alto}.\"\n",
    "mensaje\n",
    "# Resultado: 'El área del rectángulo es 50.'\n",
    "        "
   ]
  },
  {
   "cell_type": "markdown",
   "id": "f5b10038",
   "metadata": {},
   "source": [
    "## 5. Disponibilidad"
   ]
  },
  {
   "cell_type": "markdown",
   "id": "c808d31a",
   "metadata": {},
   "source": [
    "\n",
    "- **`.format()`**: Está disponible en todas las versiones de Python a partir de 2.7.\n",
    "- **f-strings**: Solo están disponibles a partir de Python 3.6.\n",
    "        "
   ]
  },
  {
   "cell_type": "markdown",
   "id": "500a89a2",
   "metadata": {},
   "source": [
    "## 6. Escapando Llaves"
   ]
  },
  {
   "cell_type": "markdown",
   "id": "e0a90023",
   "metadata": {},
   "source": [
    "\n",
    "- **`.format()`**: Doble las llaves (`{{}}`) para incluir una sola llave en la cadena.\n",
    "        "
   ]
  },
  {
   "cell_type": "code",
   "execution_count": null,
   "id": "440772ec",
   "metadata": {},
   "outputs": [],
   "source": [
    "\n",
    "# Escapando llaves con .format()\n",
    "mensaje = \"Mostrar una llave: {{}}\".format()\n",
    "mensaje\n",
    "# Resultado: 'Mostrar una llave: {}'\n",
    "        "
   ]
  },
  {
   "cell_type": "markdown",
   "id": "1e936841",
   "metadata": {},
   "source": [
    "\n",
    "- **f-strings**: La forma de escapar las llaves es la misma, usando dobles llaves (`{{}}`).\n",
    "        "
   ]
  },
  {
   "cell_type": "code",
   "execution_count": null,
   "id": "13b03f07",
   "metadata": {},
   "outputs": [],
   "source": [
    "\n",
    "# Escapando llaves con f-strings\n",
    "mensaje = f\"Mostrar una llave: {{}}\"\n",
    "mensaje\n",
    "# Resultado: 'Mostrar una llave: {}'\n",
    "        "
   ]
  },
  {
   "cell_type": "markdown",
   "id": "3118d941",
   "metadata": {},
   "source": [
    "## Resumen"
   ]
  },
  {
   "cell_type": "markdown",
   "id": "108b0d1b",
   "metadata": {},
   "source": [
    "\n",
    "- Usa **f-strings** si necesitas una sintaxis más limpia, legible, y estás usando Python 3.6 o superior.\n",
    "- Usa **`.format()`** si necesitas una funcionalidad más avanzada, como el uso de elementos en un orden específico, y si necesitas compatibilidad con versiones anteriores de Python.\n",
    "        "
   ]
  }
 ],
 "metadata": {
  "kernelspec": {
   "display_name": "Python 3",
   "language": "python",
   "name": "python3"
  },
  "language_info": {
   "codemirror_mode": {
    "name": "ipython",
    "version": 3
   },
   "file_extension": ".py",
   "mimetype": "text/x-python",
   "name": "python",
   "nbconvert_exporter": "python",
   "pygments_lexer": "ipython3",
   "version": "3.13.7"
  }
 },
 "nbformat": 4,
 "nbformat_minor": 5
}
