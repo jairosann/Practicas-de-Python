{
 "cells": [
  {
   "cell_type": "markdown",
   "id": "a89a4173",
   "metadata": {},
   "source": [
    "# Provocando errores\n",
    "### Errores de sintaxis (SyntaxError)\n",
    "Son los que podemos apreciar repasando el código, por ejemplo al dejarnos de cerrar un paréntesis (observa que no se ejecuta ninguna línea del código):"
   ]
  },
  {
   "cell_type": "code",
   "execution_count": null,
   "id": "47db64f9",
   "metadata": {},
   "outputs": [],
   "source": []
  },
  {
   "cell_type": "markdown",
   "id": "325fef06",
   "metadata": {},
   "source": [
    "#### La mayoría de errores de sintácticos los identifica Python antes de ejecutar el código y nos avisa de que debemos arreglarlos.\n",
    "\n",
    "Sin embargo existen otro tipo de errores que pasan más desapercibidos...\n",
    "\n",
    "## Los errores semánticos\n",
    "Son muy difíciles de identificar, ya que van ligados al sentido del funcionamiento y dependen de la situación. Algunas veces pueden ocurrir y otras no.\n",
    "\n",
    "Cuanta más experiencia como programador tengas, y más te hayas equivocado, más aprenderás a avanzarte a los errores semánticos.\n",
    "\n",
    "__A diferencia de los errores sintácticos, estos errores ejecutan el código hasta que llegan a la línea donde se produce el error.__"
   ]
  },
  {
   "cell_type": "markdown",
   "id": "550b980b",
   "metadata": {},
   "source": [
    "### Ejemplo de errores de nombre (NameError)\n",
    "Se producen cuando el sistema interpreta que debe ejecutar alguna función, método... pero no lo encuentra definido:"
   ]
  },
  {
   "cell_type": "code",
   "execution_count": 2,
   "id": "ff24b822",
   "metadata": {},
   "outputs": [
    {
     "name": "stdout",
     "output_type": "stream",
     "text": [
      "Hola\n",
      "hola\n"
     ]
    }
   ],
   "source": [
    "print('Hola')\n",
    "print('hola')"
   ]
  },
  {
   "cell_type": "markdown",
   "id": "f95302c8",
   "metadata": {},
   "source": [
    "### Ejemplo de errores de lista vacía con pop() (IndexError)\n",
    "Se producen cuando se intenta acceder a una posición de una estructura de almacenamiento de datos que no existe, por lo tanto su índice no lleva a ningún sitio."
   ]
  },
  {
   "cell_type": "code",
   "execution_count": 6,
   "id": "056a4f08",
   "metadata": {},
   "outputs": [
    {
     "name": "stdout",
     "output_type": "stream",
     "text": [
      "[]\n"
     ]
    },
    {
     "ename": "IndexError",
     "evalue": "pop from empty list",
     "output_type": "error",
     "traceback": [
      "\u001b[31m---------------------------------------------------------------------------\u001b[39m",
      "\u001b[31mIndexError\u001b[39m                                Traceback (most recent call last)",
      "\u001b[36mCell\u001b[39m\u001b[36m \u001b[39m\u001b[32mIn[6]\u001b[39m\u001b[32m, line 6\u001b[39m\n\u001b[32m      4\u001b[39m l.pop()\n\u001b[32m      5\u001b[39m \u001b[38;5;28mprint\u001b[39m(l)\n\u001b[32m----> \u001b[39m\u001b[32m6\u001b[39m \u001b[43ml\u001b[49m\u001b[43m.\u001b[49m\u001b[43mpop\u001b[49m\u001b[43m(\u001b[49m\u001b[43m)\u001b[49m\n",
      "\u001b[31mIndexError\u001b[39m: pop from empty list"
     ]
    }
   ],
   "source": [
    "l = [1, 2, 3]\n",
    "l.pop()\n",
    "l.pop()\n",
    "l.pop()\n",
    "print(l)\n",
    "l.pop()"
   ]
  },
  {
   "cell_type": "code",
   "execution_count": 8,
   "id": "e5e535dd",
   "metadata": {},
   "outputs": [
    {
     "name": "stdout",
     "output_type": "stream",
     "text": [
      "[1, 2]\n"
     ]
    }
   ],
   "source": [
    "l = [1, 2, 3]\n",
    "if len(l) > 0:\n",
    "    l.pop()\n",
    "\n",
    "print(l)\n"
   ]
  },
  {
   "cell_type": "code",
   "execution_count": null,
   "id": "91636b2a",
   "metadata": {},
   "outputs": [],
   "source": []
  },
  {
   "cell_type": "code",
   "execution_count": null,
   "id": "ec84c16f",
   "metadata": {},
   "outputs": [],
   "source": []
  },
  {
   "cell_type": "markdown",
   "id": "7aa2fd68",
   "metadata": {},
   "source": [
    "#### Prevención utilizando comprobación con len() > 0"
   ]
  },
  {
   "cell_type": "code",
   "execution_count": null,
   "id": "fe99cf9a",
   "metadata": {},
   "outputs": [],
   "source": []
  },
  {
   "cell_type": "code",
   "execution_count": null,
   "id": "7c74b4b2",
   "metadata": {},
   "outputs": [],
   "source": []
  },
  {
   "cell_type": "code",
   "execution_count": null,
   "id": "f2b9820a",
   "metadata": {},
   "outputs": [],
   "source": []
  },
  {
   "cell_type": "markdown",
   "id": "a7b3afa3",
   "metadata": {},
   "source": [
    "### Ejemplo de errores de conversión. Lectura de cadena por teclado y operación de resultado sin conversión a número (TypeError)"
   ]
  },
  {
   "cell_type": "code",
   "execution_count": null,
   "id": "b15f2ea9",
   "metadata": {},
   "outputs": [],
   "source": []
  },
  {
   "cell_type": "code",
   "execution_count": null,
   "id": "ba8f7b97",
   "metadata": {},
   "outputs": [],
   "source": []
  },
  {
   "cell_type": "code",
   "execution_count": null,
   "id": "234ac029",
   "metadata": {},
   "outputs": [],
   "source": []
  },
  {
   "cell_type": "markdown",
   "id": "c7f098a6",
   "metadata": {},
   "source": [
    "#### Prevención haciendo una conversión a flotante"
   ]
  },
  {
   "cell_type": "code",
   "execution_count": null,
   "id": "2437915b",
   "metadata": {},
   "outputs": [],
   "source": []
  },
  {
   "cell_type": "markdown",
   "id": "4edbd529",
   "metadata": {},
   "source": [
    "#### Sin embargo en algunas ocasiones no podemos prevenir el error, como cuando se introduce una cadena:"
   ]
  },
  {
   "cell_type": "code",
   "execution_count": null,
   "id": "4c95aed7",
   "metadata": {},
   "outputs": [],
   "source": []
  },
  {
   "cell_type": "markdown",
   "id": "233d8fbd",
   "metadata": {},
   "source": [
    "### Para prevenir estos casos existen las excepciones\n"
   ]
  },
  {
   "cell_type": "markdown",
   "id": "9f5f4038",
   "metadata": {},
   "source": [
    "# Las excepciones\n",
    "Son bloques de código excepcionales que nos permiten continuar con la ejecución de un programa pese a que ocurra un error.\n",
    "### Siguiendo con el ejemplo de la lección anterior\n",
    "Teníamos el caso en que leíamos un número por teclado, pero el usuario no introducía un número:"
   ]
  },
  {
   "cell_type": "code",
   "execution_count": 2,
   "id": "fa0f41b1",
   "metadata": {},
   "outputs": [
    {
     "name": "stdout",
     "output_type": "stream",
     "text": [
      "Hay un error\n",
      "0.0/4 = 0.0\n",
      "Continuamos el programa por aqui...\n"
     ]
    }
   ],
   "source": [
    "while(True):\n",
    "    try:\n",
    "        n = float(input('Introduce un número: '))\n",
    "        m = 4\n",
    "        print(f'{n}/{m} = {n/m}')\n",
    "        break\n",
    "    except:\n",
    "        print('Hay un error')\n",
    "\n",
    "\n",
    "print('Continuamos el programa por aqui...')"
   ]
  },
  {
   "cell_type": "markdown",
   "id": "64498739",
   "metadata": {},
   "source": [
    "### Creando la excepción - Bloques try y except\n",
    "Para prevenir el error, debemos poner el código propenso a error un bloque **try** y luego encadenaremos un bloque **except** para tratar la excepción:"
   ]
  },
  {
   "cell_type": "code",
   "execution_count": null,
   "id": "0fbcf119",
   "metadata": {},
   "outputs": [],
   "source": []
  },
  {
   "cell_type": "markdown",
   "id": "f1cef314",
   "metadata": {},
   "source": [
    "#### Utilizando un while(true), podemos asegurárnos de que el usuario introduce bien el valor\n",
    "Repitiendo la lectura por teclado hasta que lo haga bien, y entonces rompemos el bucle con un break:"
   ]
  },
  {
   "cell_type": "code",
   "execution_count": null,
   "id": "75bb563b",
   "metadata": {},
   "outputs": [],
   "source": []
  },
  {
   "cell_type": "markdown",
   "id": "460a64a1",
   "metadata": {},
   "source": [
    "### Bloque else en excepciones\n",
    "Es posible encadenar un bloque else después del *except* para comprobar el caso en que **todo funcione correctamente** (no se ejecuta la excepción).\n",
    "\n",
    "El bloque *else* es un buen momento para romper la iteración con *break* si todo funciona correctamente:"
   ]
  },
  {
   "cell_type": "code",
   "execution_count": 6,
   "id": "440b6bf5",
   "metadata": {},
   "outputs": [
    {
     "name": "stdout",
     "output_type": "stream",
     "text": [
      "Hay un error\n",
      "Fin de la iteracion\n",
      "0.5\n",
      "Todo ha ido bien\n",
      "Fin de la iteracion\n",
      "Continuamos el programa por aqui...\n"
     ]
    }
   ],
   "source": [
    "while(True):\n",
    "    try:\n",
    "        n = float(input('Introduce un número: '))\n",
    "        m = 4\n",
    "        print(n / m)\n",
    "    except:\n",
    "        print('Hay un error')\n",
    "    else:\n",
    "        print('Todo ha ido bien')\n",
    "        break\n",
    "    finally:\n",
    "        print('Fin de la iteracion')\n",
    "\n",
    "print('Continuamos el programa por aqui...')"
   ]
  },
  {
   "cell_type": "markdown",
   "id": "18901880",
   "metadata": {},
   "source": [
    "### Bloque finally en excepciones\n",
    "Por último es posible utilizar un bloque *finally* que se ejecute al final del código, **ocurra o no ocurra un error**:"
   ]
  },
  {
   "cell_type": "code",
   "execution_count": null,
   "id": "05e8b678",
   "metadata": {},
   "outputs": [],
   "source": []
  },
  {
   "cell_type": "markdown",
   "id": "c59d38d2",
   "metadata": {},
   "source": [
    "# Excepciones múltiples\n",
    "## Capturando múltiples excepciones\n",
    "### Guardando la excepción\n",
    "Podemos asignar una excepción a una variable (por ejemplo e). De esta forma haciendo un pequeño truco podemos analizar el tipo de error que sucede gracias a su identificador:"
   ]
  },
  {
   "cell_type": "code",
   "execution_count": 8,
   "id": "d5eb9776",
   "metadata": {},
   "outputs": [
    {
     "name": "stdout",
     "output_type": "stream",
     "text": [
      "-1.0\n"
     ]
    }
   ],
   "source": [
    "try:\n",
    "    n = float(input('Establece un numero: '))\n",
    "    print(5/n)\n",
    "except Exception as e:\n",
    "    print(type(e).__name__)\n"
   ]
  },
  {
   "cell_type": "markdown",
   "id": "dc340138",
   "metadata": {},
   "source": [
    "### Encadenando excepciones\n",
    "Gracias a los identificadores de errores podemos crear múltiples comprobaciones, siempre que dejemos en último lugar la excepción por defecto *Excepcion* que engloba cualquier tipo de error (si la pusiéramos al principio, las demas excepciones nunca se ejecutarían):"
   ]
  },
  {
   "cell_type": "code",
   "execution_count": 13,
   "id": "77834d37",
   "metadata": {},
   "outputs": [
    {
     "name": "stdout",
     "output_type": "stream",
     "text": [
      "Entrada inválida: escribe un número.\n"
     ]
    }
   ],
   "source": [
    "try:\n",
    "    n = float(input('Establece un número: '))\n",
    "    print(5/n)\n",
    "except ValueError:\n",
    "    print('Entrada inválida: escribe un número.')\n",
    "except ZeroDivisionError:\n",
    "    print('No se puede dividir por 0.')\n",
    "except Exception as e:\n",
    "    print('Error desconocido:', type(e).__name__)\n",
    "\n"
   ]
  },
  {
   "cell_type": "markdown",
   "id": "2f4cc53f",
   "metadata": {},
   "source": [
    "# Invocación de excepciones\n",
    "En algunas ocasiones quizá nos interesa llamar un error manualmente, ya que un *print* común no es muy elegante:"
   ]
  },
  {
   "cell_type": "code",
   "execution_count": 14,
   "id": "fb2bc1f2",
   "metadata": {},
   "outputs": [
    {
     "name": "stdout",
     "output_type": "stream",
     "text": [
      "Dato recibido\n"
     ]
    }
   ],
   "source": [
    "def funcion(algo = None):\n",
    "    if algo == None:\n",
    "        print('No se permite valores nulos')\n",
    "    else:\n",
    "        print('Dato recibido')\n",
    "funcion('Hola')"
   ]
  },
  {
   "cell_type": "code",
   "execution_count": 15,
   "id": "090b5165",
   "metadata": {},
   "outputs": [
    {
     "name": "stdout",
     "output_type": "stream",
     "text": [
      "No se permite valores nulos\n"
     ]
    }
   ],
   "source": [
    "funcion()"
   ]
  },
  {
   "cell_type": "markdown",
   "id": "cdf7e550",
   "metadata": {},
   "source": [
    "### La instrucción raise\n",
    "Gracias a raise podemos lanzar un error manual pasándole el identificador. Luego simplemente podemos añadir un except para tratar esta excepción que hemos lanzado:"
   ]
  },
  {
   "cell_type": "code",
   "execution_count": 21,
   "id": "b0ce19c4",
   "metadata": {},
   "outputs": [
    {
     "name": "stdout",
     "output_type": "stream",
     "text": [
      "Error no se permite un valor nulo (desde la excepcion)\n"
     ]
    }
   ],
   "source": [
    "def funcion(algo = None):\n",
    "    try:\n",
    "        if algo is None:\n",
    "            raise ValueError('No se permite un valor nulo')\n",
    "    except ValueError:\n",
    "        print('Error no se permite un valor nulo (desde la excepcion)')\n",
    "\n",
    "funcion()"
   ]
  },
  {
   "cell_type": "code",
   "execution_count": 29,
   "id": "aaf8340b",
   "metadata": {},
   "outputs": [],
   "source": [
    "def funcion(algo = None):\n",
    "    if algo is None:\n",
    "        raise ValueError()"
   ]
  },
  {
   "cell_type": "code",
   "execution_count": 31,
   "id": "b4c08e6a",
   "metadata": {},
   "outputs": [],
   "source": [
    "try:\n",
    "    funcion(4)\n",
    "except ValueError:\n",
    "    print('Capturando el error')"
   ]
  },
  {
   "cell_type": "markdown",
   "id": "1211f239",
   "metadata": {},
   "source": [
    "OOP (Programacion orientada a objetos)"
   ]
  },
  {
   "cell_type": "code",
   "execution_count": 32,
   "id": "1d7ba182",
   "metadata": {},
   "outputs": [
    {
     "name": "stdout",
     "output_type": "stream",
     "text": [
      "<class '__main__.saludo'>\n"
     ]
    }
   ],
   "source": [
    "class saludo:\n",
    "    pass\n",
    "print(saludo)"
   ]
  },
  {
   "cell_type": "code",
   "execution_count": 38,
   "id": "9c8c34c1",
   "metadata": {},
   "outputs": [
    {
     "name": "stdout",
     "output_type": "stream",
     "text": [
      "Bienvenido Jairo\n"
     ]
    }
   ],
   "source": [
    "class Saludo:\n",
    "    mensaje = 'Bienvenido'\n",
    "\n",
    "    def saludar(self, nombre):\n",
    "        print(self.mensaje + nombre)\n",
    "\n",
    "s = Saludo()\n",
    "s.saludar(' Jairo')\n"
   ]
  },
  {
   "cell_type": "code",
   "execution_count": null,
   "id": "acaad8bb",
   "metadata": {},
   "outputs": [],
   "source": []
  }
 ],
 "metadata": {
  "kernelspec": {
   "display_name": "Python 3",
   "language": "python",
   "name": "python3"
  },
  "language_info": {
   "codemirror_mode": {
    "name": "ipython",
    "version": 3
   },
   "file_extension": ".py",
   "mimetype": "text/x-python",
   "name": "python",
   "nbconvert_exporter": "python",
   "pygments_lexer": "ipython3",
   "version": "3.13.7"
  }
 },
 "nbformat": 4,
 "nbformat_minor": 5
}
