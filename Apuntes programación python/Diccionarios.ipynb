{
 "cells": [
  {
   "cell_type": "markdown",
   "metadata": {},
   "source": [
    "# Trabajando con tipos de datos avanzados\n",
    "\n",
    "* `Lista []`  Colección ordenada y modificable. Permite miembros duplicados.\n",
    "* `Tupla ()` Colección ordenada e inmutable. Permite miembros duplicados.\n",
    "* `Set {}` Colección desordenada y no indexada. No hay miembros duplicados.\n",
    "* `Diccionario {}`  Colección desordenada, modificable e indexada. No hay miembros duplicados.\n"
   ]
  },
  {
   "cell_type": "markdown",
   "metadata": {},
   "source": [
    "# Diccionarios\n",
    "\n",
    "Un diccionario es una colección de pares formados por una clave y un valor asociado a la clave.\n",
    "\n",
    "Se construyen poniendo los pares entre llaves { } separados por comas, y separando la clave del valor con dos puntos :.\n",
    "\n",
    "Se caracterizan por:\n",
    "\n",
    "- No tienen orden.\n",
    "- Pueden contener elementos de distintos tipos.\n",
    "- Son mutables, es decir, pueden alterarse durante la ejecución de un programa.\n",
    "- Las claves son únicas, es decir, no pueden repetirse en un mismo diccionario, y pueden ser de cualquier tipo de datos inmutable."
   ]
  },
  {
   "cell_type": "code",
   "execution_count": 2,
   "metadata": {},
   "outputs": [
    {
     "data": {
      "text/plain": [
       "dict"
      ]
     },
     "execution_count": 2,
     "metadata": {},
     "output_type": "execute_result"
    }
   ],
   "source": [
    "# podemos crear un diccionario vacio\n",
    "diccionario = {}\n",
    "type(diccionario)"
   ]
  },
  {
   "cell_type": "code",
   "execution_count": 3,
   "metadata": {},
   "outputs": [],
   "source": [
    "vehiculos = {\n",
    "    \"brand\": \"Ford\",\n",
    "    \"model\": \"Mustang\",\n",
    "    \"year\": 1964\n",
    "}"
   ]
  },
  {
   "cell_type": "code",
   "execution_count": null,
   "metadata": {},
   "outputs": [],
   "source": []
  },
  {
   "cell_type": "markdown",
   "metadata": {},
   "source": [
    "### Acceso a los elementos de un diccionario\n",
    "Accederemos a los elementos de un diccionario haciendo referencia a su __clave__, y esto nos devolverá su __valor__ correspondiente.\n",
    "\n",
    "- __d[clave]__ devuelve el valor del diccionario __d__ asociado a la clave __clave__. Si en el diccionario no existe esa clave devuelve un error.\n",
    "- __d.get(clave, valor)__ devuelve el valor del diccionario __d__ asociado a la clave __clave__. Si en el diccionario no existe esa clave devuelve __valor__, y si no se especifica un valor por defecto devuelve __None__."
   ]
  },
  {
   "cell_type": "code",
   "execution_count": 4,
   "metadata": {},
   "outputs": [],
   "source": [
    "valorQueMeInteresa = vehiculos[\"model\"]"
   ]
  },
  {
   "cell_type": "code",
   "execution_count": 5,
   "metadata": {},
   "outputs": [],
   "source": [
    "valorQueMeInteresa = vehiculos.get(\"model\")"
   ]
  },
  {
   "cell_type": "code",
   "execution_count": 6,
   "metadata": {},
   "outputs": [
    {
     "name": "stdout",
     "output_type": "stream",
     "text": [
      "azul\n"
     ]
    }
   ],
   "source": [
    "print(vehiculos.get(\"color\", \"azul\"))"
   ]
  },
  {
   "cell_type": "markdown",
   "metadata": {},
   "source": [
    "### Operaciones que no modifican un diccionario\n",
    "\n",
    "- __len(d)__ : Devuelve el número de elementos (pares clave-valor) del diccionario __d__.\n",
    "- __min(d)__ : Devuelve la mínima clave del diccionario __d__ siempre que las claves sean comparables.\n",
    "- __max(d)__ : Devuelve la máxima clave del diccionario __d__ siempre que las claves sean comparables.\n",
    "- __sum(d)__ : Devuelve la suma de las claves del diccionario __d__, siempre que las claves se puedan sumar.\n",
    "- __clave in d__ : Devuelve __True__ si la clave __clave__ pertenece al diccionario __d__ y __False__ en caso contrario.\n",
    "- __d.keys()__ : Devuelve un iterador sobre las claves de un diccionario.\n",
    "- __d.values()__ : Devuelve un iterador sobre los valores de un diccionario.\n",
    "- __d.items()__ : Devuelve un iterador sobre los pares clave-valor de un diccionario."
   ]
  },
  {
   "cell_type": "code",
   "execution_count": 7,
   "metadata": {},
   "outputs": [
    {
     "name": "stdout",
     "output_type": "stream",
     "text": [
      "dict_keys(['brand', 'model', 'year'])\n",
      "dict_values(['Ford', 'Mustang', 1964])\n",
      "dict_items([('brand', 'Ford'), ('model', 'Mustang'), ('year', 1964)])\n"
     ]
    }
   ],
   "source": [
    "print(vehiculos.keys())\n",
    "print(vehiculos.values())\n",
    "print(vehiculos.items())"
   ]
  },
  {
   "cell_type": "markdown",
   "metadata": {},
   "source": [
    "### Operaciones que modifican un diccionario\n",
    "\n",
    "- __d[clave] = valor__ : Añade al diccionario __d__ el par formado por la clave __clave__ y el valor __valor__.\n",
    "- __d.update(d2)__. Añade los pares del diccionario __d2__ al diccionario __d__.\n",
    "- __d.pop(clave, alternativo)__ : Devuelve del valor asociado a la clave __clave__ del diccionario __d__ y lo elimina del diccionario. Si la clave no está devuelve el valor __alternativo__.\n",
    "- __d.popitem()__ : Devuelve la tupla formada por la clave y el valor del último par añadido al diccionario __d__ y lo elimina del diccionario.\n",
    "- __del d[clave]__ : Elimina del diccionario __d__ el par con la clave __clave__.\n",
    "- __d.clear()__ : Elimina todos los pares del diccionario __d__ de manera que se queda vacío."
   ]
  },
  {
   "cell_type": "code",
   "execution_count": 8,
   "metadata": {},
   "outputs": [
    {
     "name": "stdout",
     "output_type": "stream",
     "text": [
      "{'brand': 'Ford', 'model': 'Mustang', 'year': 1964}\n"
     ]
    }
   ],
   "source": [
    "vehiculos = {\n",
    "    \"brand\": \"Ford\",\n",
    "    \"model\": \"Mustang\",\n",
    "    \"year\": 1964\n",
    "}\n",
    "print(vehiculos)"
   ]
  },
  {
   "cell_type": "code",
   "execution_count": 9,
   "metadata": {},
   "outputs": [
    {
     "name": "stdout",
     "output_type": "stream",
     "text": [
      "{'brand': 'Ford', 'model': 'Mustang', 'year': 2020}\n"
     ]
    }
   ],
   "source": [
    "vehiculos[\"year\"] = 2020\n",
    "print(vehiculos)"
   ]
  },
  {
   "cell_type": "code",
   "execution_count": null,
   "metadata": {},
   "outputs": [
    {
     "ename": "TypeError",
     "evalue": "'dict_keys' object is not subscriptable",
     "output_type": "error",
     "traceback": [
      "\u001b[31m---------------------------------------------------------------------------\u001b[39m",
      "\u001b[31mTypeError\u001b[39m                                 Traceback (most recent call last)",
      "\u001b[36mCell\u001b[39m\u001b[36m \u001b[39m\u001b[32mIn[14]\u001b[39m\u001b[32m, line 1\u001b[39m\n\u001b[32m----> \u001b[39m\u001b[32m1\u001b[39m \u001b[38;5;28mprint\u001b[39m(\u001b[43mvehiculos\u001b[49m\u001b[43m.\u001b[49m\u001b[43mkeys\u001b[49m\u001b[43m(\u001b[49m\u001b[43m)\u001b[49m\u001b[43m[\u001b[49m\u001b[32;43m0\u001b[39;49m\u001b[43m]\u001b[49m)\n",
      "\u001b[31mTypeError\u001b[39m: 'dict_keys' object is not subscriptable"
     ]
    }
   ],
   "source": [
    "print(vehiculos.keys())"
   ]
  },
  {
   "cell_type": "markdown",
   "metadata": {},
   "source": [
    "### Recorrer un diccionario:"
   ]
  },
  {
   "cell_type": "code",
   "execution_count": null,
   "metadata": {},
   "outputs": [
    {
     "name": "stdout",
     "output_type": "stream",
     "text": [
      "Ford\n",
      "['brand', 'model', 'year']\n"
     ]
    }
   ],
   "source": [
    "print(vehiculos['brand'])\n",
    "ListaClaves = []\n",
    "for i in vehiculos.keys():\n",
    "    ListaClave       s.append(i)\n",
    "\n",
    "print(ListaClaves)"
   ]
  },
  {
   "cell_type": "code",
   "execution_count": null,
   "metadata": {},
   "outputs": [
    {
     "name": "stdout",
     "output_type": "stream",
     "text": [
      "brand\n",
      "Ford\n",
      "model\n",
      "Mustang\n",
      "year\n",
      "2020\n"
     ]
    }
   ],
   "source": [
    "for x in vehiculos:\n",
    "    print(x)\n",
    "    print(vehiculos[x])\n",
    "\n"
   ]
  },
  {
   "cell_type": "code",
   "execution_count": null,
   "metadata": {},
   "outputs": [
    {
     "name": "stdout",
     "output_type": "stream",
     "text": [
      "Ford\n",
      "Mustang\n",
      "2020\n"
     ]
    }
   ],
   "source": [
    "for x in vehiculos:\n",
    "    print(vehiculos[x])"
   ]
  },
  {
   "cell_type": "code",
   "execution_count": null,
   "metadata": {},
   "outputs": [
    {
     "name": "stdout",
     "output_type": "stream",
     "text": [
      "brand :  Ford\n",
      "model :  Mustang\n",
      "year :  2020\n"
     ]
    }
   ],
   "source": [
    "for x in vehiculos:\n",
    "    print(x, \": \", vehiculos[x])"
   ]
  },
  {
   "cell_type": "code",
   "execution_count": null,
   "metadata": {},
   "outputs": [
    {
     "name": "stdout",
     "output_type": "stream",
     "text": [
      "Ford\n",
      "Mustang\n",
      "2020\n"
     ]
    }
   ],
   "source": [
    "for x in vehiculos.values():\n",
    "    print(x)"
   ]
  },
  {
   "cell_type": "markdown",
   "metadata": {},
   "source": [
    "### El método .items()\n",
    "Nos facilita la lectura en clave y valor de los elementos porque devuelve ambos valores en cada iteración automáticamente:"
   ]
  },
  {
   "cell_type": "code",
   "execution_count": null,
   "metadata": {},
   "outputs": [
    {
     "data": {
      "text/plain": [
       "False"
      ]
     },
     "execution_count": 4,
     "metadata": {},
     "output_type": "execute_result"
    }
   ],
   "source": [
    "def es_primo(n):\n",
    "    if n % (k != n) == 0 or n % (k != 1) == 0:\n",
    "        print('no es primo')\n",
    "    else:\n",
    "        print('es primo')\n",
    "\n",
    "\n",
    "    \n",
    "\n"
   ]
  },
  {
   "cell_type": "code",
   "execution_count": null,
   "metadata": {},
   "outputs": [
    {
     "name": "stdout",
     "output_type": "stream",
     "text": [
      "brand : Ford\n",
      "model : Mustang\n",
      "year : 2020\n"
     ]
    }
   ],
   "source": [
    "for x, y in vehiculos.items(): \n",
    "    print(x, \":\", y)"
   ]
  },
  {
   "cell_type": "markdown",
   "metadata": {},
   "source": [
    "### Agregar elementos al diccionario:\n",
    "La adición de un elemento al diccionario se realiza utilizando una nueva clave de índice y asignándole un valor:"
   ]
  },
  {
   "cell_type": "code",
   "execution_count": null,
   "metadata": {},
   "outputs": [
    {
     "name": "stdout",
     "output_type": "stream",
     "text": [
      "{'brand': 'Ford', 'model': 'Mustang', 'year': 1964}\n"
     ]
    }
   ],
   "source": [
    "vehiculos = {\n",
    "  \"brand\": \"Ford\",\n",
    "  \"model\": \"Mustang\",\n",
    "  \"year\": 1964\n",
    "}\n",
    "print(vehiculos)"
   ]
  },
  {
   "cell_type": "code",
   "execution_count": null,
   "metadata": {},
   "outputs": [
    {
     "name": "stdout",
     "output_type": "stream",
     "text": [
      "{'brand': 'Ford', 'model': 'Mustang', 'year': 1964, 'color': 'azul'}\n"
     ]
    }
   ],
   "source": [
    "vehiculos[\"color\"] = \"azul\"\n",
    "print(vehiculos)"
   ]
  },
  {
   "cell_type": "markdown",
   "metadata": {},
   "source": [
    "### Eliminar elementos del diccionario"
   ]
  },
  {
   "cell_type": "code",
   "execution_count": null,
   "metadata": {},
   "outputs": [
    {
     "name": "stdout",
     "output_type": "stream",
     "text": [
      "{'brand': 'Ford', 'model': 'Mustang', 'year': 1964}\n",
      "{'brand': 'Ford', 'model': 'Mustang'}\n"
     ]
    }
   ],
   "source": [
    "vehiculos = {\n",
    "  \"brand\": \"Ford\",\n",
    "  \"model\": \"Mustang\",\n",
    "  \"year\": 1964\n",
    "}\n",
    "print(vehiculos)\n",
    "\n",
    "vehiculos.popitem() # Elimina el último elemento insertado (en versiones anteriores a 3.7, en su lugar, se elimina un elemento aleatorio):\n",
    "print(vehiculos)"
   ]
  },
  {
   "cell_type": "code",
   "execution_count": null,
   "metadata": {},
   "outputs": [
    {
     "name": "stdout",
     "output_type": "stream",
     "text": [
      "{'brand': 'Ford', 'model': 'Mustang', 'year': 1964}\n",
      "{'brand': 'Ford', 'year': 1964}\n"
     ]
    }
   ],
   "source": [
    "vehiculos = {\n",
    "  \"brand\": \"Ford\",\n",
    "  \"model\": \"Mustang\",\n",
    "  \"year\": 1964\n",
    "}\n",
    "print(vehiculos)\n",
    "\n",
    "vehiculos.pop(\"model\") # Elimina el elemento con el nombre de clave especificado\n",
    "print(vehiculos)"
   ]
  },
  {
   "cell_type": "code",
   "execution_count": null,
   "metadata": {},
   "outputs": [
    {
     "name": "stdout",
     "output_type": "stream",
     "text": [
      "{'brand': 'Ford', 'model': 'Mustang', 'year': 1964}\n",
      "{}\n"
     ]
    }
   ],
   "source": [
    "vehiculos = {\n",
    "  \"brand\": \"Ford\",\n",
    "  \"model\": \"Mustang\",\n",
    "  \"year\": 1964\n",
    "}\n",
    "print(vehiculos)\n",
    "\n",
    "# Limpiar diccionario\n",
    "vehiculos.clear() # Equivalente a vehiculos = {}\n",
    "print(vehiculos)"
   ]
  },
  {
   "cell_type": "markdown",
   "metadata": {},
   "source": [
    "### Copiar un diccionario\n",
    "\n",
    "No puede copiar un diccionario simplemente escribiendo dict2 = dict1 , porque: dict2 solo será una referencia a dict1 , y los cambios realizados en dict1 también se realizarán automáticamente en dict2 .\n",
    "\n",
    "Hay formas de hacer una copia, una es usar el método incorporado copy() ."
   ]
  },
  {
   "cell_type": "code",
   "execution_count": null,
   "metadata": {},
   "outputs": [
    {
     "name": "stdout",
     "output_type": "stream",
     "text": [
      "{'brand': 'Ford', 'model': 'Mustang', 'year': 1964}\n",
      "{'brand': 'Ford', 'model': 'Mustang', 'year': 1964}\n"
     ]
    }
   ],
   "source": [
    "vehiculos = {\n",
    "  \"brand\": \"Ford\",\n",
    "  \"model\": \"Mustang\",\n",
    "  \"year\": 1964\n",
    "}\n",
    "print(vehiculos)\n",
    "\n",
    "vehiculos_copia = vehiculos.copy()\n",
    "print(vehiculos_copia)"
   ]
  },
  {
   "cell_type": "code",
   "execution_count": null,
   "metadata": {},
   "outputs": [
    {
     "name": "stdout",
     "output_type": "stream",
     "text": [
      "{'brand': 'Ford', 'year': 1964}\n",
      "{'brand': 'Ford', 'model': 'Mustang', 'year': 1964}\n"
     ]
    }
   ],
   "source": [
    "vehiculos.pop(\"model\") # Elimina el elemento con el nombre de clave especificado\n",
    "print(vehiculos)\n",
    "print(vehiculos_copia) # Comprobamos que la copia sigue intacta y no se ha modificado con el original"
   ]
  },
  {
   "cell_type": "markdown",
   "metadata": {},
   "source": [
    "### SI puede haber diccionarios dentro de otros diccionarios (anidados)\n",
    "El siguiente diccionario (familia) contiene otros 3 diccionarios"
   ]
  },
  {
   "cell_type": "code",
   "execution_count": null,
   "metadata": {},
   "outputs": [
    {
     "name": "stdout",
     "output_type": "stream",
     "text": [
      "{'hijo1': {'nombre': 'Sara', 'año': 1984}, 'hijo2': {'nombre': 'Ana', 'año': 1989}, 'hijo3': {'nombre': 'Marcos', 'año': 1991}}\n"
     ]
    }
   ],
   "source": [
    "familia = {\n",
    "    \"hijo1\" : {\n",
    "        \"nombre\" : \"Sara\",\n",
    "        \"año\" : 1984\n",
    "    },\n",
    "    \"hijo2\" : {\n",
    "        \"nombre\" : \"Ana\",\n",
    "        \"año\" : 1989\n",
    "    },\n",
    "    \"hijo3\" : {\n",
    "        \"nombre\" : \"Marcos\",\n",
    "        \"año\" : 1991\n",
    "    }\n",
    "}\n",
    "\n",
    "print(familia)"
   ]
  },
  {
   "cell_type": "markdown",
   "metadata": {},
   "source": [
    "Y ahora veremos como accedemos a los diccionarios \"internos\""
   ]
  },
  {
   "cell_type": "code",
   "execution_count": null,
   "metadata": {},
   "outputs": [
    {
     "name": "stdout",
     "output_type": "stream",
     "text": [
      "{'nombre': 'Sara', 'año': 1984}\n"
     ]
    }
   ],
   "source": [
    "valorQueMeInteresa = familia[\"hijo1\"]\n",
    "print(valorQueMeInteresa)"
   ]
  },
  {
   "cell_type": "code",
   "execution_count": null,
   "metadata": {},
   "outputs": [
    {
     "name": "stdout",
     "output_type": "stream",
     "text": [
      "Marcos\n"
     ]
    }
   ],
   "source": [
    "valorQueMeInteresa = familia[\"hijo3\"][\"nombre\"]\n",
    "print(valorQueMeInteresa)"
   ]
  },
  {
   "cell_type": "markdown",
   "metadata": {},
   "source": [
    "### BONUS. Incluir listas en nuestros diccionarios"
   ]
  },
  {
   "cell_type": "code",
   "execution_count": null,
   "metadata": {},
   "outputs": [
    {
     "name": "stdout",
     "output_type": "stream",
     "text": [
      "Diccionario completo: \n",
      "{'nombre': 'Carlos', 'edad': 22, 'cursos': ['Python', 'Django', 'JavaScript']}\n",
      "\n",
      "Elementos del diccionario\n",
      "Carlos\n",
      "22\n",
      "['Python', 'Django', 'JavaScript']\n",
      "\n",
      "Items de la lista cursos: \n",
      "Python\n",
      "Django\n",
      "JavaScript\n",
      "\n",
      "Recorriendo el diccionario con un bucle for\n",
      "nombre : Carlos\n",
      "edad : 22\n",
      "cursos : ['Python', 'Django', 'JavaScript']\n"
     ]
    }
   ],
   "source": [
    "diccionario = {\n",
    "    'nombre' : 'Carlos', \n",
    "    'edad' : 22, \n",
    "    'cursos': ['Python','Django','JavaScript'] \n",
    "}\n",
    "\n",
    "print(\"Diccionario completo: \")\n",
    "print(diccionario)\n",
    "\n",
    "print(\"\\nElementos del diccionario\")\n",
    "print(diccionario['nombre']) # Carlos\n",
    "print(diccionario['edad']) # 22\n",
    "print(diccionario['cursos']) #['Python','Django','JavaScript']\n",
    "\n",
    "print(\"\\nItems de la lista cursos: \")\n",
    "print(diccionario['cursos'][0]) #Python\n",
    "print(diccionario['cursos'][1]) #Django\n",
    "print(diccionario['cursos'][2]) #JavaScript\n",
    "\n",
    "print(\"\\nRecorriendo el diccionario con un bucle for\")\n",
    "for key in diccionario:\n",
    "    print(key, \":\", diccionario[key])"
   ]
  },
  {
   "cell_type": "code",
   "execution_count": null,
   "metadata": {},
   "outputs": [
    {
     "name": "stdout",
     "output_type": "stream",
     "text": [
      "Diccionario completo: \n",
      "{'nombre': 'Carlos', 'edad': 22, 'cursos': ['Python', 'Django', 'JavaScript']}\n",
      "\n",
      "Mostrar todos los datos del primer cliente\n",
      "Carlos\n",
      "22\n",
      "Python\n",
      "\n",
      "Mostrar todos los datos del segundo cliente\n",
      "Cristian\n",
      "30\n",
      "Django\n",
      "\n",
      "Mostrar todos los datos del tercer cliente\n",
      "David, 32, JavaScript\n"
     ]
    }
   ],
   "source": [
    "clientes = {\n",
    "    'nombre' : ['Carlos','Cristian','David'] ,\n",
    "    'edad' : [22,30,32] ,\n",
    "    'lenguaje_favorito': ['Python','Django','JavaScript'] \n",
    "}\n",
    "\n",
    "print(\"Diccionario completo: \")\n",
    "print(diccionario)\n",
    "\n",
    "print(\"\\nMostrar todos los datos del primer cliente\")\n",
    "print(clientes['nombre'][0]) \n",
    "print(clientes['edad'][0]) \n",
    "print(clientes['lenguaje_favorito'][0]) \n",
    "\n",
    "print(\"\\nMostrar todos los datos del segundo cliente\")\n",
    "print(clientes['nombre'][1]) \n",
    "print(clientes['edad'][1]) \n",
    "print(clientes['lenguaje_favorito'][1]) \n",
    "\n",
    "print(\"\\nMostrar todos los datos del tercer cliente\")\n",
    "print(clientes['nombre'][2], end=\", \") \n",
    "print(clientes['edad'][2], end=\", \") \n",
    "print(clientes['lenguaje_favorito'][2]) "
   ]
  },
  {
   "cell_type": "markdown",
   "metadata": {},
   "source": [
    "### Como crear un diccionario dinámicamente"
   ]
  },
  {
   "cell_type": "code",
   "execution_count": null,
   "metadata": {},
   "outputs": [
    {
     "name": "stdout",
     "output_type": "stream",
     "text": [
      "{'vehiculos': {'nombre': 'toyota', 'edad': 2024}}\n"
     ]
    }
   ],
   "source": [
    "alumnos = {}\n",
    "numElementos = int(input(\"Cuantos elementos quiere en el diccionario? \"))\n",
    "for i in range(numElementos):\n",
    "    key = input(\"Introduzca clave del diccionario\")\n",
    "    alumnos[key] = {}\n",
    "    #print(alumnos)\n",
    "    \n",
    "    nombre = input(\"Introduzca el nombre de {}: \".format(key))\n",
    "    alumnos[key][\"nombre\"] = nombre\n",
    "    \n",
    "    edad = int(input(\"Introduzca la edad de {}: \".format(key)))\n",
    "    alumnos[key][\"edad\"] = edad\n",
    "    \n",
    "    print(alumnos)"
   ]
  },
  {
   "cell_type": "code",
   "execution_count": null,
   "metadata": {},
   "outputs": [
    {
     "name": "stdout",
     "output_type": "stream",
     "text": [
      "3.9\n"
     ]
    }
   ],
   "source": [
    "persona = {\n",
    "    'Nombre': 'Jairo',\n",
    "    'Edad': 18,\n",
    "    'Ciudad': 'Majadahonda',\n",
    "    'DNI': '53980599P',\n",
    "    'Deportes practicados': ['Tenis', 'Fútbol', 'Basket'],\n",
    "    'notas': {\n",
    "        'Matemática discreta': 6.4,\n",
    "        'Analisis I': 5.3,\n",
    "        'Algebra lineal': 7.8\n",
    "    }\n",
    "}\n",
    "media = (persona['notas']['Matemática discreta'] + persona['notas']['Analisis I'] + persona['notas']['Algebra lineal']) / len('notas')\n",
    "print(media)"
   ]
  }
 ],
 "metadata": {
  "kernelspec": {
   "display_name": "Python 3",
   "language": "python",
   "name": "python3"
  },
  "language_info": {
   "codemirror_mode": {
    "name": "ipython",
    "version": 3
   },
   "file_extension": ".py",
   "mimetype": "text/x-python",
   "name": "python",
   "nbconvert_exporter": "python",
   "pygments_lexer": "ipython3",
   "version": "3.13.7"
  },
  "varInspector": {
   "cols": {
    "lenName": 16,
    "lenType": 16,
    "lenVar": 40
   },
   "kernels_config": {
    "python": {
     "delete_cmd_postfix": "",
     "delete_cmd_prefix": "del ",
     "library": "var_list.py",
     "varRefreshCmd": "print(var_dic_list())"
    },
    "r": {
     "delete_cmd_postfix": ") ",
     "delete_cmd_prefix": "rm(",
     "library": "var_list.r",
     "varRefreshCmd": "cat(var_dic_list()) "
    }
   },
   "types_to_exclude": [
    "module",
    "function",
    "builtin_function_or_method",
    "instance",
    "_Feature"
   ],
   "window_display": false
  }
 },
 "nbformat": 4,
 "nbformat_minor": 1
}
