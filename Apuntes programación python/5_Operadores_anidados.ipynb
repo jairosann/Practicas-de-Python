{
 "cells": [
  {
   "cell_type": "markdown",
   "metadata": {},
   "source": [
    "# Operadores anidados\n",
    "Se han visto operadores relacionales, operadores lógicos, operadores aritméticos y mucho más. Pero cuando se unen diferentes tipos de operadores existen unas reglas de precedencia:\n",
    "1. Paréntesis y corchetes: `(), []`\n",
    "2. Operadores unarios como el not (!) o el simbolo de signo: `!, +, -`\n",
    "3. Operadores aritméticos en el siguiente orden: `**, *, /, //, %, +, -`\n",
    "4. Operadores relacionales (comparación): `<, >, <=, >=`\n",
    "5. Operadores de igualdad: `==, !=`\n",
    "6. Operadores lógicos: `and, or`\n",
    "7. Operadores de asignación: `=, +=, -=, *=, /=, //=, %=` "
   ]
  },
  {
   "cell_type": "code",
   "execution_count": 1,
   "metadata": {},
   "outputs": [
    {
     "data": {
      "text/plain": [
       "False"
      ]
     },
     "execution_count": 1,
     "metadata": {},
     "output_type": "execute_result"
    }
   ],
   "source": [
    "num1 = 7\n",
    "num2 = 10\n",
    "resultado = (7 ** 2 + (4 / 2) and (10 < 20)) != 1\n",
    "resultado"
   ]
  },
  {
   "cell_type": "code",
   "execution_count": null,
   "metadata": {},
   "outputs": [],
   "source": []
  }
 ],
 "metadata": {
  "kernelspec": {
   "display_name": "Python 3",
   "language": "python",
   "name": "python3"
  },
  "language_info": {
   "codemirror_mode": {
    "name": "ipython",
    "version": 3
   },
   "file_extension": ".py",
   "mimetype": "text/x-python",
   "name": "python",
   "nbconvert_exporter": "python",
   "pygments_lexer": "ipython3",
   "version": "3.13.7"
  },
  "varInspector": {
   "cols": {
    "lenName": 16,
    "lenType": 16,
    "lenVar": 40
   },
   "kernels_config": {
    "python": {
     "delete_cmd_postfix": "",
     "delete_cmd_prefix": "del ",
     "library": "var_list.py",
     "varRefreshCmd": "print(var_dic_list())"
    },
    "r": {
     "delete_cmd_postfix": ") ",
     "delete_cmd_prefix": "rm(",
     "library": "var_list.r",
     "varRefreshCmd": "cat(var_dic_list()) "
    }
   },
   "types_to_exclude": [
    "module",
    "function",
    "builtin_function_or_method",
    "instance",
    "_Feature"
   ],
   "window_display": false
  }
 },
 "nbformat": 4,
 "nbformat_minor": 1
}
