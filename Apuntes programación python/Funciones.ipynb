{
 "cells": [
  {
   "cell_type": "markdown",
   "id": "d2fbb774",
   "metadata": {},
   "source": [
    "# Las funciones\n",
    "Son fragmentos de código que se pueden ejecutar múltiples veces. Pueden recibir y devolver información para comunicarse con el proceso principal (con la función principal, llamada __main__).\n",
    "\n",
    "## 1. Definición y llamada"
   ]
  },
  {
   "cell_type": "code",
   "execution_count": null,
   "id": "2b898e9a",
   "metadata": {},
   "outputs": [
    {
     "name": "stdout",
     "output_type": "stream",
     "text": [
      "Hola, este print se llama desde la funcion salud0()\n"
     ]
    }
   ],
   "source": [
    "def saludo():\n",
    "    print('Hola, este print se llama desde la funcion saludo()')\n",
    "\n",
    "saludo()"
   ]
  },
  {
   "cell_type": "markdown",
   "id": "026e3fec",
   "metadata": {},
   "source": []
  },
  {
   "cell_type": "markdown",
   "id": "98133043",
   "metadata": {},
   "source": [
    "### Programación secuencial\n",
    "Sabemos que Python es un lenguaje de __programación secuencial__, lo que significa que ejecuta las líneas de código desde la primera hasta N de una en una. __Pero__ las funciones tienen un comportamiento diferente, sus líneas de código sólamente se ejecutan cuando la función es llamada. \n",
    "Para verlo, vamos a realizar __la trazabilidad__ del programa,  es decir, la secuencia de ejecuciones de nuestro programa:"
   ]
  },
  {
   "cell_type": "code",
   "execution_count": null,
   "id": "11ab5024",
   "metadata": {},
   "outputs": [
    {
     "name": "stdout",
     "output_type": "stream",
     "text": [
      "Hola que tal\n",
      "esto es una prueba\n",
      "Hola, este print se llama desde la funcion saludo()\n",
      "Hola de nuevo\n",
      "Hola, este print se llama desde la funcion saludo()\n",
      "adios skibidi\n"
     ]
    }
   ],
   "source": [
    "def saludo():\n",
    "    print('Hola, este print se llama desde la funcion saludo()')\n",
    "\n",
    "print('Hola que tal')\n",
    "print('esto es una prueba')\n",
    "saludo()\n",
    "print('Hola de nuevo')\n",
    "saludo()\n",
    "print('adiós skibidi')"
   ]
  },
  {
   "cell_type": "markdown",
   "id": "211da57e",
   "metadata": {},
   "source": [
    "#### Dentro de una función podemos utilizar variables y sentencias de control:"
   ]
  },
  {
   "cell_type": "code",
   "execution_count": 9,
   "id": "0a808bc6",
   "metadata": {},
   "outputs": [
    {
     "name": "stdout",
     "output_type": "stream",
     "text": [
      "0*5 = 0\n",
      "1*5 = 5\n",
      "2*5 = 10\n",
      "3*5 = 15\n",
      "4*5 = 20\n",
      "5*5 = 25\n",
      "6*5 = 30\n",
      "7*5 = 35\n",
      "8*5 = 40\n",
      "9*5 = 45\n"
     ]
    }
   ],
   "source": [
    "def dibujar_tabla_5():\n",
    "    for i in range(10):\n",
    "        print(f'{i}*5 = {i*5}')\n",
    "\n",
    "dibujar_tabla_5()"
   ]
  },
  {
   "cell_type": "markdown",
   "id": "f7c66a4e",
   "metadata": {},
   "source": [
    "### Ámbito de las variables\n",
    "Una variable declarada en una función no existe en la función principal:"
   ]
  },
  {
   "cell_type": "code",
   "execution_count": 11,
   "id": "bdab0acb",
   "metadata": {},
   "outputs": [
    {
     "name": "stdout",
     "output_type": "stream",
     "text": [
      "Mostrando n dentro de la función test() 10\n"
     ]
    }
   ],
   "source": [
    "def test():\n",
    "    n = 10\n",
    "    print('Mostrando n dentro de la función test()', n)\n",
    "test()"
   ]
  },
  {
   "cell_type": "code",
   "execution_count": 14,
   "id": "366b66b4",
   "metadata": {},
   "outputs": [
    {
     "ename": "NameError",
     "evalue": "name 'n' is not defined",
     "output_type": "error",
     "traceback": [
      "\u001b[31m---------------------------------------------------------------------------\u001b[39m",
      "\u001b[31mNameError\u001b[39m                                 Traceback (most recent call last)",
      "\u001b[36mCell\u001b[39m\u001b[36m \u001b[39m\u001b[32mIn[14]\u001b[39m\u001b[32m, line 1\u001b[39m\n\u001b[32m----> \u001b[39m\u001b[32m1\u001b[39m \u001b[38;5;28mprint\u001b[39m(\u001b[43mn\u001b[49m)\n",
      "\u001b[31mNameError\u001b[39m: name 'n' is not defined"
     ]
    }
   ],
   "source": [
    "print(n)"
   ]
  },
  {
   "cell_type": "markdown",
   "id": "4ff81a6b",
   "metadata": {},
   "source": [
    "#### Sin embargo, una variable declarada fuera de la función (al mismo nivel), sí que es accesible desde la función (estas variables se conocen como globales):"
   ]
  },
  {
   "cell_type": "code",
   "execution_count": null,
   "id": "0d5a050b",
   "metadata": {},
   "outputs": [],
   "source": []
  },
  {
   "cell_type": "markdown",
   "id": "20a0f7c4",
   "metadata": {},
   "source": [
    "#### Siempre que declaremos la variable antes de la ejecución, podemos acceder a ella desde dentro:"
   ]
  },
  {
   "cell_type": "code",
   "execution_count": null,
   "id": "60bf6ffc",
   "metadata": {},
   "outputs": [],
   "source": [
    "def test():\n",
    "    print(l)\n",
    "\n",
    "test()\n",
    "l = 10"
   ]
  },
  {
   "cell_type": "markdown",
   "id": "fdf20650",
   "metadata": {},
   "source": [
    "#### En el caso que declaremos de nuevo una variable en la función, se creará un copia de la misma que sólo funcionará dentro de la función. \n",
    "### Por tanto *no podemos modificar una variable externa dentro de una función*:"
   ]
  },
  {
   "cell_type": "code",
   "execution_count": 16,
   "id": "77346e8b",
   "metadata": {},
   "outputs": [
    {
     "name": "stdout",
     "output_type": "stream",
     "text": [
      "La variable o esta dentro de la función 5\n",
      "La variable o esta dentro de la función 5\n",
      "La variable o 10 en este caso está fuera de la funcion\n"
     ]
    }
   ],
   "source": [
    "def test():\n",
    "    o = 5\n",
    "    print('La variable o esta dentro de la función', o)\n",
    "\n",
    "test()\n",
    "o = 10\n",
    "test()\n",
    "print(f'La variable o {o} en este caso está fuera de la funcion')"
   ]
  },
  {
   "cell_type": "markdown",
   "id": "8d7bf3b1",
   "metadata": {},
   "source": [
    "### La instrucción global\n",
    "Para poder modificar una variable externa en la función, debemos indicar que es global de la siguiente forma:"
   ]
  },
  {
   "cell_type": "code",
   "execution_count": 18,
   "id": "ac3292c2",
   "metadata": {},
   "outputs": [
    {
     "name": "stdout",
     "output_type": "stream",
     "text": [
      "5\n",
      "5\n",
      "El valor de o fuera de la funcion es 5\n"
     ]
    }
   ],
   "source": [
    "def test(): \n",
    "    global o\n",
    "    o = 5\n",
    "    print(o)\n",
    "\n",
    "test()\n",
    "o = 10\n",
    "test()\n",
    "\n",
    "print(f'El valor de o fuera de la funcion es {o}')"
   ]
  },
  {
   "cell_type": "markdown",
   "id": "2e8dcbde",
   "metadata": {},
   "source": [
    "El ejemplo anterior sería igual a:"
   ]
  },
  {
   "cell_type": "code",
   "execution_count": null,
   "id": "ad6b33d5",
   "metadata": {},
   "outputs": [],
   "source": []
  },
  {
   "cell_type": "markdown",
   "id": "2f5ed2c7",
   "metadata": {},
   "source": [
    "## 2. Retorno de valores\n",
    "Para comunicarse con el exterior, las funciones pueden devolver valores al proceso principal gracias a la instrucción **return**. \n",
    "\n",
    "En el momento de devolver un valor, la ejecución de la función finalizará:"
   ]
  },
  {
   "cell_type": "code",
   "execution_count": null,
   "id": "2bba779a",
   "metadata": {},
   "outputs": [
    {
     "data": {
      "text/plain": [
       "'un string retornado'"
      ]
     },
     "execution_count": 20,
     "metadata": {},
     "output_type": "execute_result"
    }
   ],
   "source": [
    "def test():\n",
    "    texto = 'un string retornado'\n",
    "    return texto\n",
    "print(test())"
   ]
  },
  {
   "cell_type": "markdown",
   "id": "d206bd94",
   "metadata": {},
   "source": [
    "#### Lo lógico, es almacenar en variables lo que nos devuelven las funciones, para posteriormente poder operar con dichos valores"
   ]
  },
  {
   "cell_type": "code",
   "execution_count": 21,
   "id": "977fae72",
   "metadata": {},
   "outputs": [
    {
     "name": "stdout",
     "output_type": "stream",
     "text": [
      "un string retornado\n"
     ]
    }
   ],
   "source": [
    "texto_devuelto = test()\n",
    "print(texto_devuelto)"
   ]
  },
  {
   "cell_type": "markdown",
   "id": "606c29e9",
   "metadata": {},
   "source": [
    "#### Los valores devueltos se tratan como valores literales directos del tipo de dato retornado (por eso es muy importante conocer los tipos de los datos que estamos manejando):"
   ]
  },
  {
   "cell_type": "code",
   "execution_count": 23,
   "id": "11241b1e",
   "metadata": {},
   "outputs": [
    {
     "ename": "TypeError",
     "evalue": "can only concatenate str (not \"int\") to str",
     "output_type": "error",
     "traceback": [
      "\u001b[31m---------------------------------------------------------------------------\u001b[39m",
      "\u001b[31mTypeError\u001b[39m                                 Traceback (most recent call last)",
      "\u001b[36mCell\u001b[39m\u001b[36m \u001b[39m\u001b[32mIn[23]\u001b[39m\u001b[32m, line 1\u001b[39m\n\u001b[32m----> \u001b[39m\u001b[32m1\u001b[39m c = \u001b[43mtest\u001b[49m\u001b[43m(\u001b[49m\u001b[43m)\u001b[49m\u001b[43m \u001b[49m\u001b[43m+\u001b[49m\u001b[43m \u001b[49m\u001b[32;43m10\u001b[39;49m\n\u001b[32m      2\u001b[39m \u001b[38;5;28mprint\u001b[39m(c)\n",
      "\u001b[31mTypeError\u001b[39m: can only concatenate str (not \"int\") to str"
     ]
    }
   ],
   "source": [
    "c = test() + 10\n",
    "print(c)"
   ]
  },
  {
   "cell_type": "code",
   "execution_count": 25,
   "id": "cde82725",
   "metadata": {},
   "outputs": [
    {
     "name": "stdout",
     "output_type": "stream",
     "text": [
      "un string retornado hola skibidi\n"
     ]
    }
   ],
   "source": [
    "c = test() + ' hola skibidi'\n",
    "print(c)"
   ]
  },
  {
   "cell_type": "markdown",
   "id": "2d2ac8b4",
   "metadata": {},
   "source": [
    "#### Éso incluye cualquier tipo de colección:"
   ]
  },
  {
   "cell_type": "code",
   "execution_count": null,
   "id": "f78c4d30",
   "metadata": {},
   "outputs": [],
   "source": [
    "def test(): \n",
    "    lista = [1, 2, 3, 4]\n",
    "    return lista\n",
    "print(test())"
   ]
  },
  {
   "cell_type": "code",
   "execution_count": 1,
   "id": "d0d00b01",
   "metadata": {},
   "outputs": [
    {
     "ename": "NameError",
     "evalue": "name 'test' is not defined",
     "output_type": "error",
     "traceback": [
      "\u001b[31m---------------------------------------------------------------------------\u001b[39m",
      "\u001b[31mNameError\u001b[39m                                 Traceback (most recent call last)",
      "\u001b[36mCell\u001b[39m\u001b[36m \u001b[39m\u001b[32mIn[1]\u001b[39m\u001b[32m, line 1\u001b[39m\n\u001b[32m----> \u001b[39m\u001b[32m1\u001b[39m lista_devuelta = \u001b[43mtest\u001b[49m()\n\u001b[32m      2\u001b[39m \u001b[38;5;28mprint\u001b[39m(lista_devuelta[-\u001b[32m1\u001b[39m])\n",
      "\u001b[31mNameError\u001b[39m: name 'test' is not defined"
     ]
    }
   ],
   "source": [
    "lista_devuelta = test()\n",
    "print(lista_devuelta[-1])"
   ]
  },
  {
   "cell_type": "code",
   "execution_count": null,
   "id": "4cbf3ab7",
   "metadata": {},
   "outputs": [],
   "source": []
  },
  {
   "cell_type": "code",
   "execution_count": null,
   "id": "e6c14748",
   "metadata": {},
   "outputs": [],
   "source": []
  },
  {
   "cell_type": "code",
   "execution_count": null,
   "id": "96b5f81d",
   "metadata": {},
   "outputs": [],
   "source": []
  },
  {
   "cell_type": "markdown",
   "id": "0c023019",
   "metadata": {},
   "source": [
    "### Retorno múltiple\n",
    "Una característica interesante, es la posibilidad de devolver múltiples valores separados por comas."
   ]
  },
  {
   "cell_type": "code",
   "execution_count": 3,
   "id": "b2a21e05",
   "metadata": {},
   "outputs": [
    {
     "name": "stdout",
     "output_type": "stream",
     "text": [
      "('una cadena', 10, [1, 2, 3, 4])\n",
      "<class 'tuple'>\n"
     ]
    }
   ],
   "source": [
    "def test():\n",
    "    texto = 'una cadena'\n",
    "    numero = 10\n",
    "    lista = [1, 2, 3, 4]\n",
    "    return texto, numero, lista\n",
    "print(test())\n",
    "print(type(test()))"
   ]
  },
  {
   "cell_type": "markdown",
   "id": "96479e9c",
   "metadata": {},
   "source": [
    "####  Éstos valores se tratan en conjunto como una tupla inmutable y se pueden reasignar a distintas variables:"
   ]
  },
  {
   "cell_type": "code",
   "execution_count": 4,
   "id": "ad552a6c",
   "metadata": {},
   "outputs": [
    {
     "ename": "SyntaxError",
     "evalue": "cannot assign to literal here. Maybe you meant '==' instead of '='? (2639039802.py, line 9)",
     "output_type": "error",
     "traceback": [
      "  \u001b[36mCell\u001b[39m\u001b[36m \u001b[39m\u001b[32mIn[4]\u001b[39m\u001b[32m, line 9\u001b[39m\n\u001b[31m    \u001b[39m\u001b[31mt, n, 1 = test()\u001b[39m\n          ^\n\u001b[31mSyntaxError\u001b[39m\u001b[31m:\u001b[39m cannot assign to literal here. Maybe you meant '==' instead of '='?\n"
     ]
    }
   ],
   "source": [
    "def test():\n",
    "    texto = 'una cadena'\n",
    "    numero = 10\n",
    "    lista = [1, 2, 3, 4]\n",
    "    return texto, numero, lista\n",
    "print(test())\n",
    "print(type(test()))\n",
    "\n",
    "t, n, 1 = test()"
   ]
  },
  {
   "cell_type": "code",
   "execution_count": 5,
   "id": "b8c5c2a5",
   "metadata": {},
   "outputs": [
    {
     "ename": "SyntaxError",
     "evalue": "cannot assign to literal here. Maybe you meant '==' instead of '='? (2630456922.py, line 1)",
     "output_type": "error",
     "traceback": [
      "  \u001b[36mCell\u001b[39m\u001b[36m \u001b[39m\u001b[32mIn[5]\u001b[39m\u001b[32m, line 1\u001b[39m\n\u001b[31m    \u001b[39m\u001b[31mt, n, 1 = test()\u001b[39m\n          ^\n\u001b[31mSyntaxError\u001b[39m\u001b[31m:\u001b[39m cannot assign to literal here. Maybe you meant '==' instead of '='?\n"
     ]
    }
   ],
   "source": [
    "t, n, 1 = test()"
   ]
  },
  {
   "cell_type": "markdown",
   "id": "47c6c2ec",
   "metadata": {},
   "source": [
    "## 3. Envío de valores\n",
    "Para comunicarse con el exterior, las funciones no sólo pueden devolver valores (return), también pueden recibir información"
   ]
  },
  {
   "cell_type": "markdown",
   "id": "8482510f",
   "metadata": {},
   "source": [
    "<div class=\"alert alert-success\"><h3>Parámetros y argumentos</h3><br>\n",
    "    En la definición de una función, los valores que se reciben se denominan <b>parámetros</b>, y en la llamada se denominan <b>argumentos</b>. </div>"
   ]
  },
  {
   "cell_type": "code",
   "execution_count": 7,
   "id": "14224938",
   "metadata": {},
   "outputs": [
    {
     "name": "stdout",
     "output_type": "stream",
     "text": [
      "15\n"
     ]
    }
   ],
   "source": [
    "def sumar(a, b):\n",
    "    suma = a + b\n",
    "    return suma\n",
    "sumar(3, 4)\n",
    "\n",
    "num_a = 10\n",
    "num_b = 5\n",
    "resultado = sumar(num_a, num_b)\n",
    "print(resultado)"
   ]
  },
  {
   "cell_type": "markdown",
   "id": "d5636d80",
   "metadata": {},
   "source": [
    "#### Ahora podemos enviar dos valores a la función:"
   ]
  },
  {
   "cell_type": "code",
   "execution_count": null,
   "id": "7eb20b31",
   "metadata": {},
   "outputs": [],
   "source": []
  },
  {
   "cell_type": "markdown",
   "id": "4787a9c5",
   "metadata": {},
   "source": [
    "#### Y evidentemente, podemos enviar como argumentos, variables"
   ]
  },
  {
   "cell_type": "code",
   "execution_count": null,
   "id": "ffb8ab83",
   "metadata": {},
   "outputs": [],
   "source": []
  },
  {
   "cell_type": "markdown",
   "id": "b933fe12",
   "metadata": {},
   "source": [
    "### Llamada sin argumentos\n",
    "Al llamar una función que tiene definidos unos parámetros, si no pasamos los argumentos correctamente provocará un error:"
   ]
  },
  {
   "cell_type": "code",
   "execution_count": null,
   "id": "b3d4fe85",
   "metadata": {},
   "outputs": [],
   "source": []
  },
  {
   "cell_type": "markdown",
   "id": "6edea643",
   "metadata": {},
   "source": [
    "O con un número incorrecto de argumentos:"
   ]
  },
  {
   "cell_type": "code",
   "execution_count": null,
   "id": "1fb0a74a",
   "metadata": {},
   "outputs": [],
   "source": []
  },
  {
   "cell_type": "markdown",
   "id": "6ea066b3",
   "metadata": {},
   "source": [
    "### Parámetros por defecto\n",
    "Para solucionar el problema de que se realicen llamadas sin argumentos, podemos asignar unos valores por defecto nulos (o los valores por defecto que queramos) a los parámetros, y de ésa forma podríamos hacer una comprobación antes de ejecutar el código de la función:"
   ]
  },
  {
   "cell_type": "code",
   "execution_count": null,
   "id": "2df97a1a",
   "metadata": {},
   "outputs": [
    {
     "name": "stdout",
     "output_type": "stream",
     "text": [
      "Error, no has metido ningún valor\n",
      "5\n"
     ]
    }
   ],
   "source": [
    "def sumar(a = None, b = None): # Estamos usando parametros por defecto\n",
    "    if a == None and b == None:\n",
    "        mensaje = 'Error, no has metido ningún valor'\n",
    "        return mensaje\n",
    "    else:\n",
    "        suma = a + b\n",
    "        return suma\n",
    "resultado = sumar()\n",
    "print(resultado)\n",
    "resultado = sumar(2, 3)\n",
    "print(resultado)"
   ]
  },
  {
   "cell_type": "code",
   "execution_count": 22,
   "id": "6e55b0e6",
   "metadata": {},
   "outputs": [
    {
     "name": "stdout",
     "output_type": "stream",
     "text": [
      "4\n"
     ]
    }
   ],
   "source": [
    "def suma_vehiculos(contenedor_A = None, contenedor_B = None):\n",
    "    if contenedor_A == None and contenedor_B == None:\n",
    "        return 'Error, los dos parametros están vacios'\n",
    "    elif contenedor_A == None:\n",
    "        return contenedor_B\n",
    "    elif contenedor_B == None:\n",
    "        return contenedor_A\n",
    "    else:\n",
    "        suma = contenedor_A + contenedor_B\n",
    "        return suma\n",
    "resultado = suma_vehiculos(4)\n",
    "print(resultado)"
   ]
  },
  {
   "cell_type": "code",
   "execution_count": null,
   "id": "5d8e286e",
   "metadata": {},
   "outputs": [],
   "source": []
  },
  {
   "cell_type": "markdown",
   "id": "f45ff6e1",
   "metadata": {},
   "source": [
    "## 4. Paso por valor y paso por referencia\n",
    "- **Paso por valor**: Se crea una copia local de la variable dentro de la función.\n",
    "- **Paso por referencia**: Se maneja directamente la variable, los cambios realizados dentro le afectarán también fuera.\n",
    "\n",
    "Tradicionalmente, **los tipos simples se pasan automáticamente por valor y los compuestos por referencia**.\n",
    "- **Simples**: Enteros, flotantes, cadenas, lógicos...\n",
    "- **Compuestos**: Listas, diccionarios, conjuntos...\n",
    "\n",
    "### Ejemplo paso por valor"
   ]
  },
  {
   "cell_type": "code",
   "execution_count": 23,
   "id": "bacaa141",
   "metadata": {},
   "outputs": [
    {
     "name": "stdout",
     "output_type": "stream",
     "text": [
      "el numero dentro de la funcion es 20\n",
      "el numero dentro de la funcion es 60\n",
      "10\n",
      "30\n"
     ]
    }
   ],
   "source": [
    "def doblar_valor(numero):\n",
    "    numero *= 2\n",
    "    print(f'el numero dentro de la funcion es {numero}')\n",
    "    return numero\n",
    "n = 10\n",
    "doblar_valor(n)\n",
    "a = 30\n",
    "doblar_valor(a)\n",
    "print(n)\n",
    "print(a)"
   ]
  },
  {
   "cell_type": "code",
   "execution_count": 28,
   "id": "bb73b631",
   "metadata": {},
   "outputs": [
    {
     "name": "stdout",
     "output_type": "stream",
     "text": [
      "20\n",
      "10\n"
     ]
    }
   ],
   "source": [
    "def doblar_valor(numero):\n",
    "    numero *= 2\n",
    "    return numero\n",
    "\n",
    "numero = 10\n",
    "resultado = doblar_valor(10)\n",
    "print(resultado)\n",
    "print(numero)"
   ]
  },
  {
   "cell_type": "markdown",
   "id": "56ab68b4",
   "metadata": {},
   "source": [
    "### Ejemplo paso por referencia"
   ]
  },
  {
   "cell_type": "code",
   "execution_count": 30,
   "id": "dd26a68e",
   "metadata": {},
   "outputs": [
    {
     "name": "stdout",
     "output_type": "stream",
     "text": [
      "elemento 0 de la lista es 10\n",
      "elemento 1 de la lista es 50\n",
      "elemento 2 de la lista es 100\n",
      "[20, 100, 200]\n"
     ]
    }
   ],
   "source": [
    "def doblar_valores(numeros):\n",
    "    for i, n in enumerate(numeros):\n",
    "        print(f'elemento {i} de la lista es {n}')\n",
    "        numeros[i] *= 2\n",
    "        \n",
    "lista_numeros = [10, 50, 100]\n",
    "doblar_valores(lista_numeros)\n",
    "print(lista_numeros)"
   ]
  },
  {
   "cell_type": "markdown",
   "id": "ac3b2a4d",
   "metadata": {},
   "source": [
    "### Trucos\n",
    "#### Para modificar los tipos simples podemos devolverlos modificados y reasignarlos:"
   ]
  },
  {
   "cell_type": "code",
   "execution_count": 31,
   "id": "3447133b",
   "metadata": {},
   "outputs": [
    {
     "name": "stdout",
     "output_type": "stream",
     "text": [
      "20\n"
     ]
    }
   ],
   "source": [
    "def doblar_valor(numero):\n",
    "    numero *= 2\n",
    "    return numero\n",
    "num = 10\n",
    "num = doblar_valor(num)\n",
    "print(num)"
   ]
  },
  {
   "cell_type": "markdown",
   "id": "8818e084",
   "metadata": {},
   "source": [
    "#### Y en el caso de los tipos compuestos, podemos evitar la modificación enviando una copia:"
   ]
  },
  {
   "cell_type": "code",
   "execution_count": 33,
   "id": "44e5f23b",
   "metadata": {},
   "outputs": [
    {
     "name": "stdout",
     "output_type": "stream",
     "text": [
      "El elemento 0 de la lista es 1\n",
      "El elemento 1 de la lista es 2\n",
      "El elemento 2 de la lista es 3\n",
      "[1, 2, 3]\n"
     ]
    }
   ],
   "source": [
    "def doblar_valores(numero):\n",
    "    for i, n in enumerate(numero):\n",
    "        print(f'El elemento {i} de la lista es {n}')\n",
    "        numero[i] *= 2\n",
    "\n",
    "lista_numeros = [1, 2, 3]\n",
    "doblar_valores(lista_numeros.copy())\n",
    "print(lista_numeros)"
   ]
  },
  {
   "cell_type": "code",
   "execution_count": null,
   "id": "bc5e900d",
   "metadata": {},
   "outputs": [
    {
     "name": "stdout",
     "output_type": "stream",
     "text": [
      "49\n"
     ]
    },
    {
     "ename": "",
     "evalue": "",
     "output_type": "error",
     "traceback": [
      "\u001b[1;31mEl kernel se bloqueó al ejecutar código en la celda actual o en una celda anterior. \n",
      "\u001b[1;31mRevise el código de las celdas para identificar una posible causa del error. \n",
      "\u001b[1;31mHaga clic <a href='https://aka.ms/vscodeJupyterKernelCrash'>aquí</a> para obtener más información. \n",
      "\u001b[1;31mVea Jupyter <a href='command:jupyter.viewOutput'>log</a> para obtener más detalles."
     ]
    }
   ],
   "source": [
    "def suma(a, b):\n",
    "    return a+b\n",
    "\n",
    "def restar(x, y):\n",
    "    return x-y\n",
    "\n",
    "def pot(n1, n2):\n",
    "    return n1**n2\n",
    "\n",
    "def op1(n1):\n",
    "    n2 = 5\n",
    "    op2(n1, n2)\n",
    "\n",
    "def op2(a, b):\n",
    "    resultado1 = suma(a, b)\n",
    "    resultado2 = restar(resultado1, b)\n",
    "    op3(resultado1, resultado2)\n",
    "\n",
    "\n",
    "def op3(a, b):\n",
    "    resultado = pot(a, b)\n",
    "    print(resultado)\n",
    "\n",
    "op1(2)\n"
   ]
  }
 ],
 "metadata": {
  "kernelspec": {
   "display_name": "Python 3",
   "language": "python",
   "name": "python3"
  },
  "language_info": {
   "codemirror_mode": {
    "name": "ipython",
    "version": 3
   },
   "file_extension": ".py",
   "mimetype": "text/x-python",
   "name": "python",
   "nbconvert_exporter": "python",
   "pygments_lexer": "ipython3",
   "version": "3.13.7"
  }
 },
 "nbformat": 4,
 "nbformat_minor": 5
}
