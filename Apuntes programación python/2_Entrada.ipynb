{
 "cells": [
  {
   "cell_type": "markdown",
   "metadata": {},
   "source": [
    "# Entrada de datos por teclado\n",
    "Utilizaremos la función input() la cual recibe algo por teclado y lo almacena en un string"
   ]
  },
  {
   "cell_type": "code",
   "execution_count": 8,
   "metadata": {
    "ExecuteTime": {
     "end_time": "2020-10-15T10:31:02.774036Z",
     "start_time": "2020-10-15T10:30:57.724316Z"
    }
   },
   "outputs": [
    {
     "name": "stdout",
     "output_type": "stream",
     "text": [
      "Empecemos la demo de input\n",
      "rve\n"
     ]
    }
   ],
   "source": [
    "print(\"Empecemos la demo de input\")\n",
    "valor = input()\n",
    "print(valor)"
   ]
  },
  {
   "cell_type": "code",
   "execution_count": 9,
   "metadata": {
    "ExecuteTime": {
     "end_time": "2020-10-15T10:31:18.534530Z",
     "start_time": "2020-10-15T10:31:18.531600Z"
    }
   },
   "outputs": [
    {
     "name": "stdout",
     "output_type": "stream",
     "text": [
      "rve\n"
     ]
    }
   ],
   "source": [
    "print(valor)"
   ]
  },
  {
   "cell_type": "code",
   "execution_count": 10,
   "metadata": {
    "ExecuteTime": {
     "end_time": "2020-10-15T10:31:26.000592Z",
     "start_time": "2020-10-15T10:31:25.996688Z"
    }
   },
   "outputs": [
    {
     "name": "stdout",
     "output_type": "stream",
     "text": [
      "<class 'str'>\n"
     ]
    }
   ],
   "source": [
    "print(type(valor))"
   ]
  },
  {
   "cell_type": "code",
   "execution_count": 11,
   "metadata": {},
   "outputs": [],
   "source": [
    "valor = input()"
   ]
  },
  {
   "cell_type": "code",
   "execution_count": 12,
   "metadata": {},
   "outputs": [
    {
     "name": "stdout",
     "output_type": "stream",
     "text": [
      "vtre\n"
     ]
    }
   ],
   "source": [
    "# Aunque leemos un número, en realidad es una cadena de texto\n",
    "print(valor)"
   ]
  },
  {
   "cell_type": "code",
   "execution_count": 13,
   "metadata": {},
   "outputs": [
    {
     "name": "stdout",
     "output_type": "stream",
     "text": [
      "<class 'str'>\n"
     ]
    }
   ],
   "source": [
    "print(type(valor))"
   ]
  },
  {
   "cell_type": "code",
   "execution_count": 16,
   "metadata": {
    "ExecuteTime": {
     "end_time": "2020-10-15T10:33:09.118648Z",
     "start_time": "2020-10-15T10:33:01.756451Z"
    }
   },
   "outputs": [],
   "source": [
    "# Podemos mostrar un mensaje antes de leer el valor\n",
    "valor = input(\"Por favor, introduce un valor: \")"
   ]
  },
  {
   "cell_type": "code",
   "execution_count": 17,
   "metadata": {
    "ExecuteTime": {
     "end_time": "2020-10-15T10:33:19.042571Z",
     "start_time": "2020-10-15T10:33:18.899567Z"
    }
   },
   "outputs": [
    {
     "ename": "TypeError",
     "evalue": "can only concatenate str (not \"int\") to str",
     "output_type": "error",
     "traceback": [
      "\u001b[31m---------------------------------------------------------------------------\u001b[39m",
      "\u001b[31mTypeError\u001b[39m                                 Traceback (most recent call last)",
      "\u001b[36mCell\u001b[39m\u001b[36m \u001b[39m\u001b[32mIn[17]\u001b[39m\u001b[32m, line 2\u001b[39m\n\u001b[32m      1\u001b[39m \u001b[38;5;66;03m# Una cadena y un número no se pueden operar\u001b[39;00m\n\u001b[32m----> \u001b[39m\u001b[32m2\u001b[39m \u001b[38;5;28mprint\u001b[39m(\u001b[43mvalor\u001b[49m\u001b[43m \u001b[49m\u001b[43m+\u001b[49m\u001b[43m \u001b[49m\u001b[32;43m100\u001b[39;49m)  \n",
      "\u001b[31mTypeError\u001b[39m: can only concatenate str (not \"int\") to str"
     ]
    }
   ],
   "source": [
    "# Una cadena y un número no se pueden operar\n",
    "print(valor + 100)  "
   ]
  },
  {
   "cell_type": "markdown",
   "metadata": {},
   "source": [
    "## Cast con int(), de cadena a entero"
   ]
  },
  {
   "cell_type": "code",
   "execution_count": null,
   "metadata": {
    "ExecuteTime": {
     "end_time": "2020-10-15T10:40:47.614977Z",
     "start_time": "2020-10-15T10:40:46.460264Z"
    }
   },
   "outputs": [],
   "source": [
    "valor = input(\"Introduce un número entero: \")"
   ]
  },
  {
   "cell_type": "code",
   "execution_count": null,
   "metadata": {},
   "outputs": [
    {
     "data": {
      "text/plain": [
       "'500'"
      ]
     },
     "execution_count": 10,
     "metadata": {},
     "output_type": "execute_result"
    }
   ],
   "source": [
    "valor"
   ]
  },
  {
   "cell_type": "code",
   "execution_count": null,
   "metadata": {
    "ExecuteTime": {
     "end_time": "2020-10-15T10:40:50.633052Z",
     "start_time": "2020-10-15T10:40:50.628175Z"
    }
   },
   "outputs": [
    {
     "name": "stdout",
     "output_type": "stream",
     "text": [
      "500 es del tipo <class 'str'>\n",
      "500 es del tipo <class 'int'>\n",
      "500 es del tipo <class 'str'>\n"
     ]
    }
   ],
   "source": [
    "# La función int() de entero, devuelve un número entero a partir de una cadena\n",
    "print(valor, \"es del tipo\", type(valor))\n",
    "print(valor, \"es del tipo\", type(int(valor)))\n",
    "print(valor, \"es del tipo\", type(valor))"
   ]
  },
  {
   "cell_type": "code",
   "execution_count": null,
   "metadata": {
    "ExecuteTime": {
     "end_time": "2020-10-15T10:40:53.185501Z",
     "start_time": "2020-10-15T10:40:53.180621Z"
    }
   },
   "outputs": [
    {
     "name": "stdout",
     "output_type": "stream",
     "text": [
      "500 es del tipo <class 'str'>\n",
      "500 es del tipo <class 'int'>\n"
     ]
    }
   ],
   "source": [
    "# La función int() de entero, devuelve un número entero a partir de una cadena\n",
    "print(valor, \"es del tipo\", type(valor))\n",
    "valor = int(valor)\n",
    "print(valor, \"es del tipo\", type(valor))"
   ]
  },
  {
   "cell_type": "code",
   "execution_count": null,
   "metadata": {
    "ExecuteTime": {
     "end_time": "2020-10-15T10:41:08.847982Z",
     "start_time": "2020-10-15T10:41:08.844077Z"
    }
   },
   "outputs": [
    {
     "name": "stdout",
     "output_type": "stream",
     "text": [
      "500\n"
     ]
    }
   ],
   "source": [
    "print(valor)"
   ]
  },
  {
   "cell_type": "code",
   "execution_count": null,
   "metadata": {
    "ExecuteTime": {
     "end_time": "2020-10-15T10:41:11.375997Z",
     "start_time": "2020-10-15T10:41:11.372094Z"
    }
   },
   "outputs": [
    {
     "name": "stdout",
     "output_type": "stream",
     "text": [
      "<class 'int'>\n"
     ]
    }
   ],
   "source": [
    "print(type(valor))"
   ]
  },
  {
   "cell_type": "code",
   "execution_count": null,
   "metadata": {
    "ExecuteTime": {
     "end_time": "2020-10-15T10:41:24.542023Z",
     "start_time": "2020-10-15T10:41:24.539095Z"
    }
   },
   "outputs": [
    {
     "name": "stdout",
     "output_type": "stream",
     "text": [
      "1500\n"
     ]
    }
   ],
   "source": [
    "print(valor + 1000)  # Ahora ya es operable"
   ]
  },
  {
   "cell_type": "code",
   "execution_count": null,
   "metadata": {
    "ExecuteTime": {
     "end_time": "2020-10-15T10:44:37.429218Z",
     "start_time": "2020-10-15T10:44:36.643505Z"
    }
   },
   "outputs": [
    {
     "name": "stdout",
     "output_type": "stream",
     "text": [
      "Introduce un número entero: 500\n"
     ]
    }
   ],
   "source": [
    "# También se puede realizar en una única linea:\n",
    "valor = int(input(\"Introduce un número entero: \"))"
   ]
  },
  {
   "cell_type": "code",
   "execution_count": null,
   "metadata": {
    "ExecuteTime": {
     "end_time": "2020-10-15T10:43:00.400192Z",
     "start_time": "2020-10-15T10:43:00.395312Z"
    }
   },
   "outputs": [
    {
     "name": "stdout",
     "output_type": "stream",
     "text": [
      "<class 'int'>\n"
     ]
    }
   ],
   "source": [
    "print(type(valor))"
   ]
  },
  {
   "cell_type": "markdown",
   "metadata": {},
   "source": [
    "## Cast con float(), de cadena a flotante"
   ]
  },
  {
   "cell_type": "code",
   "execution_count": null,
   "metadata": {
    "ExecuteTime": {
     "end_time": "2020-10-15T10:45:42.085641Z",
     "start_time": "2020-10-15T10:45:39.987517Z"
    }
   },
   "outputs": [],
   "source": [
    "valor = input(\"Introduce un número entero: \")"
   ]
  },
  {
   "cell_type": "code",
   "execution_count": null,
   "metadata": {
    "ExecuteTime": {
     "end_time": "2020-10-15T10:45:44.685973Z",
     "start_time": "2020-10-15T10:45:44.683045Z"
    }
   },
   "outputs": [],
   "source": [
    "# La función float() de flotante, devuelve un número flotante a partir de una cadena\n",
    "valor = float(valor) "
   ]
  },
  {
   "cell_type": "code",
   "execution_count": null,
   "metadata": {
    "ExecuteTime": {
     "end_time": "2020-10-15T10:45:55.326855Z",
     "start_time": "2020-10-15T10:45:55.323927Z"
    }
   },
   "outputs": [],
   "source": [
    "valor = 10 + valor"
   ]
  },
  {
   "cell_type": "code",
   "execution_count": null,
   "metadata": {
    "ExecuteTime": {
     "end_time": "2020-10-15T10:45:58.279011Z",
     "start_time": "2020-10-15T10:45:58.275110Z"
    }
   },
   "outputs": [],
   "source": [
    "print(valor)"
   ]
  },
  {
   "cell_type": "code",
   "execution_count": null,
   "metadata": {
    "ExecuteTime": {
     "end_time": "2020-10-15T10:46:48.678770Z",
     "start_time": "2020-10-15T10:46:48.674866Z"
    }
   },
   "outputs": [],
   "source": [
    "print(type(valor))"
   ]
  },
  {
   "cell_type": "code",
   "execution_count": 18,
   "metadata": {
    "ExecuteTime": {
     "end_time": "2020-10-15T10:48:07.588031Z",
     "start_time": "2020-10-15T10:48:05.443540Z"
    }
   },
   "outputs": [],
   "source": [
    "valor = float( input(\"Introduce un número decimal o entero: \") )"
   ]
  },
  {
   "cell_type": "code",
   "execution_count": 19,
   "metadata": {
    "ExecuteTime": {
     "end_time": "2020-10-15T10:48:09.094576Z",
     "start_time": "2020-10-15T10:48:09.091652Z"
    }
   },
   "outputs": [
    {
     "name": "stdout",
     "output_type": "stream",
     "text": [
      "4.32\n"
     ]
    }
   ],
   "source": [
    "print(valor)"
   ]
  },
  {
   "cell_type": "code",
   "execution_count": 20,
   "metadata": {
    "ExecuteTime": {
     "end_time": "2020-10-15T10:47:31.502461Z",
     "start_time": "2020-10-15T10:47:31.499533Z"
    }
   },
   "outputs": [
    {
     "name": "stdout",
     "output_type": "stream",
     "text": [
      "<class 'float'>\n"
     ]
    }
   ],
   "source": [
    "print(type(valor))"
   ]
  },
  {
   "cell_type": "code",
   "execution_count": 21,
   "metadata": {
    "ExecuteTime": {
     "end_time": "2020-10-15T10:52:14.414324Z",
     "start_time": "2020-10-15T10:52:12.795462Z"
    }
   },
   "outputs": [
    {
     "name": "stdout",
     "output_type": "stream",
     "text": [
      "4\n"
     ]
    }
   ],
   "source": [
    "valor = int(input(\"Introduzca un numero\")) # string - int\n",
    "print(valor)"
   ]
  },
  {
   "cell_type": "code",
   "execution_count": null,
   "metadata": {
    "ExecuteTime": {
     "end_time": "2020-10-15T10:51:03.543904Z",
     "start_time": "2020-10-15T10:51:03.539026Z"
    }
   },
   "outputs": [],
   "source": [
    "num = 34.3 # float\n",
    "num = int(num) # float - int\n",
    "print(num)"
   ]
  },
  {
   "cell_type": "code",
   "execution_count": null,
   "metadata": {
    "ExecuteTime": {
     "end_time": "2020-10-15T10:56:51.511684Z",
     "start_time": "2020-10-15T10:56:51.507780Z"
    }
   },
   "outputs": [],
   "source": [
    "numero = 25.625516526326\n",
    "print(round(numero, 2))"
   ]
  }
 ],
 "metadata": {
  "kernelspec": {
   "display_name": "Python 3",
   "language": "python",
   "name": "python3"
  },
  "language_info": {
   "codemirror_mode": {
    "name": "ipython",
    "version": 3
   },
   "file_extension": ".py",
   "mimetype": "text/x-python",
   "name": "python",
   "nbconvert_exporter": "python",
   "pygments_lexer": "ipython3",
   "version": "3.13.7"
  },
  "toc": {
   "base_numbering": 1,
   "nav_menu": {},
   "number_sections": true,
   "sideBar": true,
   "skip_h1_title": false,
   "title_cell": "Table of Contents",
   "title_sidebar": "Contents",
   "toc_cell": false,
   "toc_position": {},
   "toc_section_display": true,
   "toc_window_display": false
  },
  "varInspector": {
   "cols": {
    "lenName": 16,
    "lenType": 16,
    "lenVar": 40
   },
   "kernels_config": {
    "python": {
     "delete_cmd_postfix": "",
     "delete_cmd_prefix": "del ",
     "library": "var_list.py",
     "varRefreshCmd": "print(var_dic_list())"
    },
    "r": {
     "delete_cmd_postfix": ") ",
     "delete_cmd_prefix": "rm(",
     "library": "var_list.r",
     "varRefreshCmd": "cat(var_dic_list()) "
    }
   },
   "types_to_exclude": [
    "module",
    "function",
    "builtin_function_or_method",
    "instance",
    "_Feature"
   ],
   "window_display": false
  }
 },
 "nbformat": 4,
 "nbformat_minor": 1
}
