{
 "cells": [
  {
   "cell_type": "markdown",
   "id": "0abd6b21",
   "metadata": {},
   "source": [
    "# Funciones integradas útiles en Python\n",
    "\n",
    "Este notebook contiene explicaciones y ejemplos de funciones integradas (`built-in`) en Python."
   ]
  },
  {
   "cell_type": "markdown",
   "id": "5208b01c",
   "metadata": {},
   "source": [
    "### ➡️ Conversión de tipos\n",
    "\n",
    "- `int()`, `float()`, `str()`, `bool()`: conversión entre tipos básicos.\n",
    "- `list()`, `tuple()`, `set()`, `dict()`: conversión entre estructuras de datos."
   ]
  },
  {
   "cell_type": "code",
   "execution_count": null,
   "id": "c704b1a7",
   "metadata": {},
   "outputs": [],
   "source": [
    "print(type(int(\"123\")))\n",
    "print(type(float(\"12.3\")))\n",
    "print(type(str(123)))\n",
    "print(bool(0), bool(1))\n",
    "print(bool(\"\"), bool(\"123\"))"
   ]
  },
  {
   "cell_type": "code",
   "execution_count": null,
   "id": "b4774db7",
   "metadata": {},
   "outputs": [],
   "source": [
    "print(list((1,2,3)))\n",
    "print(tuple([1,2,3]))\n",
    "print(set([1,2,3]))\n",
    "print(dict([(\"a\", 1), (\"b\", 2)]))"
   ]
  },
  {
   "cell_type": "markdown",
   "id": "99a8fdbf",
   "metadata": {},
   "source": [
    "### ➡️ Inspección y comprobación\n",
    "\n",
    "- `len()`: devuelve la longitud de una secuencia.\n",
    "- `type()`: indica el tipo de dato.\n",
    "- `isinstance()`: comprueba si un objeto es de un tipo específico.\n",
    "- `id()`: devuelve el identificador único de un objeto (útil para explicar referencias)."
   ]
  },
  {
   "cell_type": "code",
   "execution_count": null,
   "id": "5ebb5a2c",
   "metadata": {},
   "outputs": [],
   "source": [
    "print(len([1,2,3]))\n",
    "print(isinstance(3.14, float))\n",
    "print(id([1,2,3]))"
   ]
  },
  {
   "cell_type": "markdown",
   "id": "ccb1cb42",
   "metadata": {},
   "source": [
    "### ➡️ Funciones matemáticas básicas\n",
    "\n",
    "- `sum()`: suma los elementos de una secuencia.\n",
    "- `min()` / `max()`: devuelve el valor mínimo o máximo.\n",
    "- `abs()`: valor absoluto.\n",
    "- `round()`: redondea un número.\n",
    "- `pow()`: potencia (aunque también se puede usar **)."
   ]
  },
  {
   "cell_type": "code",
   "execution_count": null,
   "id": "6460a6fc",
   "metadata": {},
   "outputs": [],
   "source": [
    "numeros = [1,2,3,4,5]\n",
    "print(sum(numeros))\n",
    "print(max(numeros))\n",
    "print(min(numeros))\n",
    "print(round(3.1415, 2))"
   ]
  },
  {
   "cell_type": "markdown",
   "id": "6a5338d2",
   "metadata": {},
   "source": [
    "### ➡️ Funciones para pruebas y depuración\n",
    "\n",
    "- `print()`: para mostrar información en pantalla.\n",
    "- `input()`: para recibir datos del usuario.\n",
    "- `help()`: muestra la documentación de una función u objeto.\n",
    "- `dir()`: lista los atributos y métodos disponibles de un objeto."
   ]
  },
  {
   "cell_type": "code",
   "execution_count": null,
   "id": "5ff2b0f0",
   "metadata": {},
   "outputs": [],
   "source": [
    "print(dir(numeros))\n",
    "print(help(numeros.append))"
   ]
  },
  {
   "cell_type": "markdown",
   "id": "34a44879",
   "metadata": {},
   "source": [
    "### ➡️ Funciones útiles para colecciones\n",
    "\n",
    "- `all()`: devuelve True si todos los elementos son verdaderos.\n",
    "- `any()`: devuelve True si al menos uno es verdadero.\n",
    "- `sum()`: ya mencionada, pero muy útil con listas de números.\n",
    "- `set()`: elimina duplicados y permite operaciones de conjuntos."
   ]
  },
  {
   "cell_type": "code",
   "execution_count": null,
   "id": "f55d7446",
   "metadata": {},
   "outputs": [],
   "source": [
    "\n",
    "condiciones = [True, True, True]\n",
    "print(all(condiciones))\n",
    "print(any(condiciones))\n",
    "\n",
    "condiciones = [True, False, True]\n",
    "print(all(condiciones))\n",
    "print(any(condiciones))\n",
    "\n",
    "print(set(condiciones))"
   ]
  },
  {
   "cell_type": "markdown",
   "id": "b926a7d7",
   "metadata": {},
   "source": [
    "### ➡️ Iteración y combinación\n",
    "\n",
    "- `range()`: genera una secuencia de números, muy usada en bucles for.\n",
    "- `sorted()`: devuelve una nueva lista ordenada.\n",
    "- `reversed()`: devuelve un iterador que recorre una secuencia en orden inverso.\n",
    "- `enumerate()`: permite iterar sobre una secuencia y obtener el índice y el valor al mismo tiempo.\n",
    "- `zip()`: combina varias listas (u otras secuencias) en tuplas elemento a elemento.\n",
    "- `map()`: aplica una función a cada elemento de una secuencia.\n",
    "- `filter()`: filtra elementos de una secuencia según una condición."
   ]
  },
  {
   "cell_type": "markdown",
   "id": "0ea37da3",
   "metadata": {},
   "source": [
    "#### 🔢 `enumerate()`\n",
    "\n",
    "Permite iterar sobre una secuencia y obtener el índice y el valor al mismo tiempo."
   ]
  },
  {
   "cell_type": "code",
   "execution_count": null,
   "id": "0ceed404",
   "metadata": {},
   "outputs": [
    {
     "name": "stdout",
     "output_type": "stream",
     "text": [
      "0 1\n",
      "1 2\n",
      "2 3\n",
      "3 4\n",
      "[('Jairo', 18), ('López', 19), ('ángel', 18)]\n"
     ]
    }
   ],
   "source": [
    "lista = [1, 2, 3, 4]\n",
    "for i, numero in enumerate(lista):\n",
    "    print(i, numero)\n",
    "\n",
    "nombres = ['Jairo', 'López', 'ángel']\n",
    "edad = [18, 19, 18]\n",
    "combinado = zip(nombres, edad)\n",
    "print(list(combinado))\n",
    "\n"
   ]
  },
  {
   "cell_type": "markdown",
   "id": "84efead5",
   "metadata": {},
   "source": [
    "#### 🔗 `zip()`\n",
    "\n",
    "combina varias listas (u otras secuencias) en tuplas elemento a elemento."
   ]
  },
  {
   "cell_type": "code",
   "execution_count": null,
   "id": "43bb7968",
   "metadata": {},
   "outputs": [],
   "source": [
    "nombres = ['Jairo', 'López', 'ángel']\n",
    "edad = [18, 19, 18]\n",
    "combinado = zip(nombres, edad)\n",
    "print(list(combinado))"
   ]
  },
  {
   "cell_type": "markdown",
   "id": "73dd3bce",
   "metadata": {},
   "source": [
    "#### 🗺️ `map()`\n",
    "\n",
    "Aplica una función a cada elemento de una secuencia y devuelve un iterador con los resultados."
   ]
  },
  {
   "cell_type": "code",
   "execution_count": 6,
   "id": "7711d32e",
   "metadata": {},
   "outputs": [
    {
     "name": "stdout",
     "output_type": "stream",
     "text": [
      "[1, 4, 9, 16]\n"
     ]
    }
   ],
   "source": [
    "def cuadrado(x):\n",
    "    return x**2\n",
    "\n",
    "numeros = [1, 2, 3, 4]\n",
    "cuadrados = list(map(cuadrado, numeros))\n",
    "print(cuadrados)"
   ]
  },
  {
   "cell_type": "markdown",
   "id": "69bbc0f2",
   "metadata": {},
   "source": [
    "#### 🔍 `filter()`\n",
    "\n",
    "Filtra los elementos de una secuencia según una condición."
   ]
  },
  {
   "cell_type": "code",
   "execution_count": 8,
   "id": "fb4df007",
   "metadata": {},
   "outputs": [
    {
     "name": "stdout",
     "output_type": "stream",
     "text": [
      "[2, 4, 6, 8, 10]\n"
     ]
    }
   ],
   "source": [
    "def par(x):\n",
    "    return x % 2 == 0\n",
    "\n",
    "numeros = [1, 2, 3, 4, 5, 6, 7, 8, 9, 10]\n",
    "pares = list(filter(par, numeros))\n",
    "print(pares)\n",
    "\n"
   ]
  },
  {
   "cell_type": "markdown",
   "id": "87a80cdb",
   "metadata": {},
   "source": [
    "#### ➡️ Expresiones `lambda`\n",
    "\n",
    "Una expresión `lambda` define una función anónima de forma rápida y concisa.\n",
    "\n",
    "- **lambda** *argumentos*: *expresión*"
   ]
  },
  {
   "cell_type": "code",
   "execution_count": 10,
   "id": "c339c9ca",
   "metadata": {},
   "outputs": [
    {
     "name": "stdout",
     "output_type": "stream",
     "text": [
      "[1, 4, 9, 16, 25, 36, 49, 64, 81, 100]\n"
     ]
    },
    {
     "data": {
      "text/plain": [
       "4"
      ]
     },
     "execution_count": 10,
     "metadata": {},
     "output_type": "execute_result"
    }
   ],
   "source": [
    "cuadrado = lambda x: x**2\n",
    "cuadrados = list(map(cuadrado, numeros))\n",
    "print(cuadrados)\n",
    "cuadrado(2)"
   ]
  },
  {
   "cell_type": "markdown",
   "id": "aab09e0d",
   "metadata": {},
   "source": [
    "### Ejemplos con `lambda` y funciones integradas"
   ]
  },
  {
   "cell_type": "code",
   "execution_count": 11,
   "id": "5bec63ff",
   "metadata": {},
   "outputs": [
    {
     "name": "stdout",
     "output_type": "stream",
     "text": [
      "[1, 4, 9, 16, 25, 36, 49, 64, 81, 100]\n"
     ]
    }
   ],
   "source": [
    "cuadrado = list(map(lambda x: x**2, numeros))\n",
    "print(cuadrado)"
   ]
  },
  {
   "cell_type": "code",
   "execution_count": 12,
   "id": "788df2b6",
   "metadata": {},
   "outputs": [
    {
     "name": "stdout",
     "output_type": "stream",
     "text": [
      "[1, 3, 5, 7, 9]\n"
     ]
    }
   ],
   "source": [
    "impares = list(filter(lambda x: x % 2 != 0, numeros))\n",
    "print(impares)"
   ]
  },
  {
   "cell_type": "code",
   "execution_count": null,
   "id": "a6db47d2",
   "metadata": {},
   "outputs": [],
   "source": []
  }
 ],
 "metadata": {
  "kernelspec": {
   "display_name": "Python 3",
   "language": "python",
   "name": "python3"
  },
  "language_info": {
   "codemirror_mode": {
    "name": "ipython",
    "version": 3
   },
   "file_extension": ".py",
   "mimetype": "text/x-python",
   "name": "python",
   "nbconvert_exporter": "python",
   "pygments_lexer": "ipython3",
   "version": "3.13.7"
  }
 },
 "nbformat": 4,
 "nbformat_minor": 5
}
