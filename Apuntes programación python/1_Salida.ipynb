{
 "cells": [
  {
   "cell_type": "markdown",
   "metadata": {},
   "source": [
    "# Salida de datos por pantalla: función print()\n",
    "La función print() es la forma general de mostrar información por pantalla. Generalmente podemos mostrar texto y variables separándolos con comas:"
   ]
  },
  {
   "cell_type": "markdown",
   "metadata": {},
   "source": [
    "## La función print()\n",
    "Es una instrucción que nos permite mostrar correctamente el valor de una cadena (u otros valores/variables) por pantalla."
   ]
  },
  {
   "cell_type": "code",
   "execution_count": 1,
   "metadata": {},
   "outputs": [
    {
     "name": "stdout",
     "output_type": "stream",
     "text": [
      "Una cadena\n",
      "otra cadena\n",
      "otra cadena más, cada print en una línea\n"
     ]
    }
   ],
   "source": [
    "print(\"Una cadena\")\n",
    "print('otra cadena')\n",
    "print('otra cadena más, cada print en una línea')"
   ]
  },
  {
   "cell_type": "markdown",
   "metadata": {},
   "source": [
    "#### Escribir cadenas seguidas en la misma linea utilizando la coma (,)\n",
    "Se esta realizando un proceso de concatenación de cadenas de caracteres"
   ]
  },
  {
   "cell_type": "code",
   "execution_count": 4,
   "metadata": {},
   "outputs": [
    {
     "name": "stdout",
     "output_type": "stream",
     "text": [
      "Una cadena  otra cadena\n",
      "2 3 5\n",
      "hola 5\n"
     ]
    }
   ],
   "source": [
    "print(\"Una cadena \", \"otra cadena\")\n",
    "print(2,3,5)\n",
    "a = \"hola\"\n",
    "b = 5\n",
    "print(a,b)"
   ]
  },
  {
   "cell_type": "markdown",
   "metadata": {},
   "source": [
    "De hecho, no hace falta la coma (,), bastaría con un espacio entre las cadenas, pero como podemos observar, no nos separa automaticamente las cadenas como si hace la coma (,)"
   ]
  },
  {
   "cell_type": "code",
   "execution_count": 9,
   "metadata": {},
   "outputs": [
    {
     "name": "stdout",
     "output_type": "stream",
     "text": [
      "Una cadena otra cadena\n"
     ]
    }
   ],
   "source": [
    "print(\"Una cadena\" \" \" \"otra cadena\")"
   ]
  },
  {
   "cell_type": "markdown",
   "metadata": {},
   "source": [
    "Es decir, como se ve, la función __print() incluye un salto de línea cada vez que se ejecuta__. Si se quiere que Python __no añada un salto de línea al final de un print()__ se usará el argumento __end__:"
   ]
  },
  {
   "cell_type": "code",
   "execution_count": 1,
   "metadata": {},
   "outputs": [
    {
     "name": "stdout",
     "output_type": "stream",
     "text": [
      "Una cadenaotra cadena\n"
     ]
    }
   ],
   "source": [
    "print(\"Una cadena\", end=\"\")\n",
    "print(\"otra cadena\")"
   ]
  },
  {
   "cell_type": "markdown",
   "metadata": {},
   "source": [
    "Pero __end__ no solamente sirve para eliminar el salto de línea predeterminado de print, si no, que __lo que se añada en el texto de end se concatenará al final del print__:"
   ]
  },
  {
   "cell_type": "code",
   "execution_count": 14,
   "metadata": {},
   "outputs": [
    {
     "name": "stdout",
     "output_type": "stream",
     "text": [
      "Una cadena**otra cadena\n"
     ]
    }
   ],
   "source": [
    "print(\"Una cadena\", end=\" \")\n",
    "print(\"otra cadena\")"
   ]
  },
  {
   "cell_type": "code",
   "execution_count": 15,
   "metadata": {},
   "outputs": [
    {
     "name": "stdout",
     "output_type": "stream",
     "text": [
      "Una cadena, otra cadena\n"
     ]
    }
   ],
   "source": [
    "print(\"Una cadena\", end=\", \")\n",
    "print(\"otra cadena\")"
   ]
  },
  {
   "cell_type": "code",
   "execution_count": 2,
   "metadata": {},
   "outputs": [
    {
     "name": "stdout",
     "output_type": "stream",
     "text": [
      "Una cadena y para finalizar otra cadena\n"
     ]
    }
   ],
   "source": [
    "textoDeFinalizacion = \" y para finalizar \"\n",
    "print(\"Una cadena\", end=f\"{textoDeFinalizacion}\")\n",
    "print(\"otra cadena\")"
   ]
  },
  {
   "cell_type": "markdown",
   "metadata": {},
   "source": [
    "Gracias a print podemos mezclar texto literal con variables de una forma rápida y sencilla"
   ]
  },
  {
   "cell_type": "code",
   "execution_count": 3,
   "metadata": {
    "ExecuteTime": {
     "end_time": "2020-10-15T11:01:30.190657Z",
     "start_time": "2020-10-15T11:01:30.185778Z"
    }
   },
   "outputs": [
    {
     "name": "stdout",
     "output_type": "stream",
     "text": [
      "El profe Andrés tiene el identificador 107\n"
     ]
    }
   ],
   "source": [
    "nombre = \"Andrés\"\n",
    "id_profe = 107\n",
    "print(\"El profe\", nombre,\"tiene el identificador\", id_profe)"
   ]
  },
  {
   "cell_type": "markdown",
   "metadata": {},
   "source": [
    "### Veamos algunas caracteristicas más avanzadas de print()"
   ]
  },
  {
   "cell_type": "markdown",
   "metadata": {},
   "source": [
    "#### Acepta carácteres especiales como las tabulaciones \\t o los saltos de línea \\n"
   ]
  },
  {
   "cell_type": "code",
   "execution_count": 23,
   "metadata": {
    "ExecuteTime": {
     "end_time": "2020-10-15T11:03:35.005407Z",
     "start_time": "2020-10-15T11:03:35.002479Z"
    }
   },
   "outputs": [
    {
     "name": "stdout",
     "output_type": "stream",
     "text": [
      "Un texto\t\tuna tabulación\n"
     ]
    }
   ],
   "source": [
    "print(\"Un texto\\tuna tabulación\")"
   ]
  },
  {
   "cell_type": "code",
   "execution_count": 24,
   "metadata": {
    "ExecuteTime": {
     "end_time": "2020-10-15T11:04:11.086025Z",
     "start_time": "2020-10-15T11:04:11.082121Z"
    }
   },
   "outputs": [
    {
     "name": "stdout",
     "output_type": "stream",
     "text": [
      "Un texto\n",
      "una nueva línea\n"
     ]
    }
   ],
   "source": [
    "print(\"Un texto\\nuna nueva línea\")"
   ]
  },
  {
   "cell_type": "markdown",
   "metadata": {},
   "source": [
    "#### Para evitar los carácteres especiales, debemos indicar que una cadena es cruda (raw)"
   ]
  },
  {
   "cell_type": "code",
   "execution_count": 25,
   "metadata": {},
   "outputs": [
    {
     "name": "stdout",
     "output_type": "stream",
     "text": [
      "C:\n",
      "ombre\\directorio\n"
     ]
    }
   ],
   "source": [
    "print(\"C:\\nombre\\directorio\")"
   ]
  },
  {
   "cell_type": "code",
   "execution_count": 26,
   "metadata": {},
   "outputs": [
    {
     "name": "stdout",
     "output_type": "stream",
     "text": [
      "C:\\nombre\\directorio\n"
     ]
    }
   ],
   "source": [
    "print(r\"C:\\nombre\\directorio\")  # r => raw (cruda)"
   ]
  },
  {
   "cell_type": "markdown",
   "metadata": {},
   "source": [
    "#### Podemos utilizar \"\"\" *(triple comillas)* para cadenas multilínea"
   ]
  },
  {
   "cell_type": "code",
   "execution_count": 27,
   "metadata": {
    "ExecuteTime": {
     "end_time": "2020-10-15T11:07:36.623915Z",
     "start_time": "2020-10-15T11:07:36.620012Z"
    }
   },
   "outputs": [
    {
     "name": "stdout",
     "output_type": "stream",
     "text": [
      "Una línea\n",
      "\n",
      "\n",
      "    otra línea\n",
      "otra línea\tuna tabulación\n"
     ]
    }
   ],
   "source": [
    "print(\"\"\"Una línea\n",
    "\n",
    "\n",
    "    otra línea\n",
    "otra línea\\tuna tabulación\"\"\")"
   ]
  },
  {
   "cell_type": "markdown",
   "metadata": {},
   "source": [
    "#### sep y end"
   ]
  },
  {
   "cell_type": "code",
   "execution_count": 4,
   "metadata": {
    "ExecuteTime": {
     "end_time": "2020-10-15T11:09:43.295673Z",
     "start_time": "2020-10-15T11:09:43.290793Z"
    }
   },
   "outputs": [
    {
     "name": "stdout",
     "output_type": "stream",
     "text": [
      "1 2 3 4\n",
      "1**2**3**4\n",
      "1# 2# 3# 4."
     ]
    }
   ],
   "source": [
    "print(1,2,3,4)\n",
    "print(1, 2, 3, 4, sep='**')\n",
    "print(1, 2, 3, 4, sep='# ', end='.')"
   ]
  },
  {
   "cell_type": "markdown",
   "metadata": {},
   "source": [
    "## El método .format()\n",
    "Nos permite poder escribir nuestro literal y concentrarnos en las variables al final, todas ellas agrupadas y ordenadas por posición."
   ]
  },
  {
   "cell_type": "code",
   "execution_count": null,
   "metadata": {
    "ExecuteTime": {
     "end_time": "2020-10-15T11:18:04.766533Z",
     "start_time": "2020-10-15T11:18:04.762629Z"
    }
   },
   "outputs": [
    {
     "name": "stdout",
     "output_type": "stream",
     "text": [
      "Mi nombre es Andrés y mi apellido es Hidalgo\n",
      "<class 'str'>\n"
     ]
    }
   ],
   "source": [
    "nombre = \"Tomás\"\n",
    "apellido = \"Alvarez\"\n",
    "texto = \"Mi nombre es {} y mi apellido es {}\".format(nombre, apellido)\n",
    "print(texto)\n",
    "print(type(texto))"
   ]
  },
  {
   "cell_type": "markdown",
   "metadata": {},
   "source": [
    "#### También podemos referenciar a partir de la posición de los valores utilizando índices:"
   ]
  },
  {
   "cell_type": "code",
   "execution_count": 11,
   "metadata": {},
   "outputs": [
    {
     "name": "stdout",
     "output_type": "stream",
     "text": [
      "Mi apellido es Hidalgo y mi nombre es Andrés\n"
     ]
    }
   ],
   "source": [
    "print( \"Mi apellido es {1} y mi nombre es {0}\".format(nombre, apellido) )"
   ]
  },
  {
   "cell_type": "markdown",
   "metadata": {},
   "source": [
    "#### O podemos utilizar identificador con una clave y luego pasarlas en el format:"
   ]
  },
  {
   "cell_type": "code",
   "execution_count": 34,
   "metadata": {},
   "outputs": [
    {
     "name": "stdout",
     "output_type": "stream",
     "text": [
      "Mi nombre es Andrés y mi apellido es Hidalgo\n",
      "<class 'str'>\n"
     ]
    }
   ],
   "source": [
    "texto2 =  \"Mi nombre es {n} y mi apellido es {a}\".format(n=nombre, a=apellido)\n",
    "print(texto2)\n",
    "print(type(texto2))"
   ]
  },
  {
   "cell_type": "code",
   "execution_count": 5,
   "metadata": {},
   "outputs": [
    {
     "name": "stdout",
     "output_type": "stream",
     "text": [
      "hola,hola,hola\n",
      "hola,hola,hola,saludo\n"
     ]
    }
   ],
   "source": [
    "texto = \"hola\"\n",
    "apellido = \"saludo\"\n",
    "print(\"{t},{t},{t}\".format(t=texto))\n",
    "print(\"{t},{t},{t},{a}\".format(t=texto, a=apellido))"
   ]
  },
  {
   "cell_type": "markdown",
   "metadata": {},
   "source": [
    "## Formateo avanzado"
   ]
  },
  {
   "cell_type": "code",
   "execution_count": 6,
   "metadata": {},
   "outputs": [],
   "source": [
    "texto = \"Python\""
   ]
  },
  {
   "cell_type": "code",
   "execution_count": 7,
   "metadata": {},
   "outputs": [
    {
     "name": "stdout",
     "output_type": "stream",
     "text": [
      "                                            Python\n"
     ]
    }
   ],
   "source": [
    "# Alineamiento a la derecha en 10 caracteres\n",
    "print( \"{:>50}\".format(texto) )  "
   ]
  },
  {
   "cell_type": "code",
   "execution_count": 11,
   "metadata": {},
   "outputs": [
    {
     "name": "stdout",
     "output_type": "stream",
     "text": [
      "                      Python                      \n"
     ]
    }
   ],
   "source": [
    "# Alineamiento al centro en 10 caracteres\n",
    "print(\"{:^50}\".format(texto)) "
   ]
  },
  {
   "cell_type": "code",
   "execution_count": 11,
   "metadata": {},
   "outputs": [
    {
     "name": "stdout",
     "output_type": "stream",
     "text": [
      "Pyth\n"
     ]
    }
   ],
   "source": [
    "# Truncamiento a 5 caracteres\n",
    "print( \"{:.4}\".format(texto) )  "
   ]
  },
  {
   "cell_type": "code",
   "execution_count": 46,
   "metadata": {},
   "outputs": [
    {
     "name": "stdout",
     "output_type": "stream",
     "text": [
      "       Pyt\n",
      "                                               Pyt\n"
     ]
    }
   ],
   "source": [
    "# Alineamiento a la derecha en 10 caracteres con truncamiento de 3\n",
    "print( \"{:>10.3}\".format(texto) )  \n",
    "# Alineamiento a la derecha en 50 caracteres con truncamiento de 3\n",
    "print( \"{:>50.3}\".format(texto) )  "
   ]
  },
  {
   "cell_type": "code",
   "execution_count": 48,
   "metadata": {},
   "outputs": [
    {
     "name": "stdout",
     "output_type": "stream",
     "text": [
      "00010\n",
      "0100\n",
      "1000\n"
     ]
    }
   ],
   "source": [
    "# Formateo de números enteros, rellenados con ceros\n",
    "print(\"{:05d}\".format(10))\n",
    "print(\"{:04d}\".format(100))\n",
    "print(\"{:04d}\".format(1000))"
   ]
  },
  {
   "cell_type": "code",
   "execution_count": 12,
   "metadata": {},
   "outputs": [
    {
     "name": "stdout",
     "output_type": "stream",
     "text": [
      "010.255\n",
      " 10.255\n",
      "365.214\n"
     ]
    }
   ],
   "source": [
    "# Formateo de números flotantes, rellenados con ceros\n",
    "# Se imprimiran 7 caracteres (incluido el punto decimal). De esos 7 caracteres, 3 serán decimales\n",
    "print(\"{:07.3f}\".format(10.254789))\n",
    "print(\"{:7.3f}\".format(10.254789))\n",
    "print(\"{:07.3f}\".format(365.2145))"
   ]
  },
  {
   "cell_type": "markdown",
   "metadata": {},
   "source": [
    "Más ejemplos de format()"
   ]
  },
  {
   "cell_type": "code",
   "execution_count": 15,
   "metadata": {},
   "outputs": [
    {
     "name": "stdout",
     "output_type": "stream",
     "text": [
      "11000\n",
      "-11000\n",
      "18\n",
      "-18\n"
     ]
    }
   ],
   "source": [
    "posinteger = 24\n",
    "neginteger = -24\n",
    " \n",
    "#binary\n",
    "pos_binary = format(posinteger,'b')\n",
    "neg_binary = format(neginteger,'b')\n",
    " \n",
    "print(pos_binary)\n",
    "print(neg_binary)\n",
    "\n",
    "#hexa\n",
    "pos_hexa = format(posinteger,'x')\n",
    "neg_hexa = format(neginteger,'x')\n",
    " \n",
    "print(pos_hexa)\n",
    "print(neg_hexa)"
   ]
  },
  {
   "cell_type": "code",
   "execution_count": 14,
   "metadata": {},
   "outputs": [
    {
     "name": "stdout",
     "output_type": "stream",
     "text": [
      "The binary version of 10 is 1010\n",
      "The hexa version of 15 is f\n",
      "The hexa version of 16 is 10\n"
     ]
    }
   ],
   "source": [
    "txt = \"The binary version of {0} is {0:b}\"\n",
    "\n",
    "print(txt.format(10))\n",
    "\n",
    "txt = \"The hexa version of {0} is {0:x}\"\n",
    "\n",
    "print(txt.format(15))\n",
    "print(txt.format(16))"
   ]
  }
 ],
 "metadata": {
  "kernelspec": {
   "display_name": "Python 3",
   "language": "python",
   "name": "python3"
  },
  "language_info": {
   "codemirror_mode": {
    "name": "ipython",
    "version": 3
   },
   "file_extension": ".py",
   "mimetype": "text/x-python",
   "name": "python",
   "nbconvert_exporter": "python",
   "pygments_lexer": "ipython3",
   "version": "3.13.7"
  },
  "toc": {
   "base_numbering": 1,
   "nav_menu": {},
   "number_sections": true,
   "sideBar": true,
   "skip_h1_title": false,
   "title_cell": "Table of Contents",
   "title_sidebar": "Contents",
   "toc_cell": false,
   "toc_position": {},
   "toc_section_display": true,
   "toc_window_display": false
  },
  "varInspector": {
   "cols": {
    "lenName": 16,
    "lenType": 16,
    "lenVar": 40
   },
   "kernels_config": {
    "python": {
     "delete_cmd_postfix": "",
     "delete_cmd_prefix": "del ",
     "library": "var_list.py",
     "varRefreshCmd": "print(var_dic_list())"
    },
    "r": {
     "delete_cmd_postfix": ") ",
     "delete_cmd_prefix": "rm(",
     "library": "var_list.r",
     "varRefreshCmd": "cat(var_dic_list()) "
    }
   },
   "types_to_exclude": [
    "module",
    "function",
    "builtin_function_or_method",
    "instance",
    "_Feature"
   ],
   "window_display": false
  }
 },
 "nbformat": 4,
 "nbformat_minor": 1
}
