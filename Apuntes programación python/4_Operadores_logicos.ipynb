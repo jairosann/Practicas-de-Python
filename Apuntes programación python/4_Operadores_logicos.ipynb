{
 "cells": [
  {
   "attachments": {
    "Truth_table_for_AND,_OR,_and_NOT.png": {
     "image/png": "[encoded data removed]"
    }
   },
   "cell_type": "markdown",
   "metadata": {},
   "source": [
    "# Los operadores lógicos\n",
    "qu encontramos en Python son los 3 fundamentales:\n",
    "* `and` AND (conjunción lógica)\n",
    "* `or` OR (disyunción lógica)\n",
    "* `not` NOT (negación lógica)\n",
    "\n",
    "Al codificar en Python, estos operadores deben ir en MINUSCULAS\n",
    "\n",
    "![Truth_table_for_AND,_OR,_and_NOT.png](attachment:Truth_table_for_AND,_OR,_and_NOT.png)"
   ]
  },
  {
   "cell_type": "markdown",
   "metadata": {},
   "source": [
    "#### and (Y lógico)"
   ]
  },
  {
   "cell_type": "code",
   "execution_count": 1,
   "metadata": {},
   "outputs": [
    {
     "data": {
      "text/plain": [
       "True"
      ]
     },
     "execution_count": 1,
     "metadata": {},
     "output_type": "execute_result"
    }
   ],
   "source": [
    "# Probemos directamente la tabla de verdad de arriba\n",
    "True and True"
   ]
  },
  {
   "cell_type": "code",
   "execution_count": 4,
   "metadata": {},
   "outputs": [
    {
     "data": {
      "text/plain": [
       "True"
      ]
     },
     "execution_count": 4,
     "metadata": {},
     "output_type": "execute_result"
    }
   ],
   "source": [
    "# Evaluemos si la temperatura del paciente es mayor que 38 Y menor que 42\n",
    "temperaturaPaciente = 40\n",
    "temperaturaPaciente > 38 and temperaturaPaciente < 42"
   ]
  },
  {
   "cell_type": "code",
   "execution_count": 8,
   "metadata": {},
   "outputs": [
    {
     "data": {
      "text/plain": [
       "True"
      ]
     },
     "execution_count": 8,
     "metadata": {},
     "output_type": "execute_result"
    }
   ],
   "source": [
    "# Evaluemos si la frase tiene más de 20 caracteres y su primera letra es una E\n",
    "frase = \"Estamos aprendiendo Python\"\n",
    "len(frase) >= 20 and frase[0] == \"E\""
   ]
  },
  {
   "cell_type": "code",
   "execution_count": 9,
   "metadata": {},
   "outputs": [
    {
     "data": {
      "text/plain": [
       "False"
      ]
     },
     "execution_count": 9,
     "metadata": {},
     "output_type": "execute_result"
    }
   ],
   "source": [
    "# Evaluemos si la frase tiene más de 50 caracteres y su primera letra es una E\n",
    "frase = \"Estamos aprendiendo Python\"\n",
    "len(frase) >= 50 and frase[0] == \"E\"\n",
    "# Como vemos, al no cumplirse las 2 condiciones, nos devuelve False"
   ]
  },
  {
   "cell_type": "markdown",
   "metadata": {},
   "source": [
    "#### or (O lógico)"
   ]
  },
  {
   "cell_type": "code",
   "execution_count": null,
   "metadata": {},
   "outputs": [],
   "source": [
    "# Probemos directamente la tabla de verdad de arriba\n",
    "True or True"
   ]
  },
  {
   "cell_type": "code",
   "execution_count": 10,
   "metadata": {},
   "outputs": [
    {
     "data": {
      "text/plain": [
       "True"
      ]
     },
     "execution_count": 10,
     "metadata": {},
     "output_type": "execute_result"
    }
   ],
   "source": [
    "# Evaluemos si la frase tiene más de 20 caracteres y su primera letra es una E\n",
    "frase = \"Estamos aprendiendo Python\"\n",
    "len(frase) >= 20 or frase[0] == \"E\""
   ]
  },
  {
   "cell_type": "code",
   "execution_count": 11,
   "metadata": {},
   "outputs": [
    {
     "data": {
      "text/plain": [
       "True"
      ]
     },
     "execution_count": 11,
     "metadata": {},
     "output_type": "execute_result"
    }
   ],
   "source": [
    "# Evaluemos si la frase tiene más de 50 caracteres y su primera letra es una E\n",
    "frase = \"Estamos aprendiendo Python\"\n",
    "len(frase) >= 50 or frase[0] == \"E\"\n",
    "# Como vemos, ahora con el or nos devuelve True, porque al menos \n",
    "# 1 de las 2 condiciones se cumple"
   ]
  },
  {
   "cell_type": "markdown",
   "metadata": {},
   "source": [
    "#### not (Negación lógica)"
   ]
  },
  {
   "cell_type": "code",
   "execution_count": 12,
   "metadata": {},
   "outputs": [
    {
     "data": {
      "text/plain": [
       "False"
      ]
     },
     "execution_count": 12,
     "metadata": {},
     "output_type": "execute_result"
    }
   ],
   "source": [
    "# Probemos directamente la tabla de verdad de arriba\n",
    "not True"
   ]
  },
  {
   "cell_type": "code",
   "execution_count": 13,
   "metadata": {},
   "outputs": [
    {
     "data": {
      "text/plain": [
       "True"
      ]
     },
     "execution_count": 13,
     "metadata": {},
     "output_type": "execute_result"
    }
   ],
   "source": [
    "# Probemos directamente la tabla de verdad de arriba\n",
    "not False"
   ]
  },
  {
   "cell_type": "code",
   "execution_count": 14,
   "metadata": {},
   "outputs": [
    {
     "data": {
      "text/plain": [
       "True"
      ]
     },
     "execution_count": 14,
     "metadata": {},
     "output_type": "execute_result"
    }
   ],
   "source": [
    "not True == False # Esto es lo mismo que False == False"
   ]
  }
 ],
 "metadata": {
  "kernelspec": {
   "display_name": "Python 3 (ipykernel)",
   "language": "python",
   "name": "python3"
  },
  "language_info": {
   "codemirror_mode": {
    "name": "ipython",
    "version": 3
   },
   "file_extension": ".py",
   "mimetype": "text/x-python",
   "name": "python",
   "nbconvert_exporter": "python",
   "pygments_lexer": "ipython3",
   "version": "3.11.1"
  },
  "varInspector": {
   "cols": {
    "lenName": 16,
    "lenType": 16,
    "lenVar": 40
   },
   "kernels_config": {
    "python": {
     "delete_cmd_postfix": "",
     "delete_cmd_prefix": "del ",
     "library": "var_list.py",
     "varRefreshCmd": "print(var_dic_list())"
    },
    "r": {
     "delete_cmd_postfix": ") ",
     "delete_cmd_prefix": "rm(",
     "library": "var_list.r",
     "varRefreshCmd": "cat(var_dic_list()) "
    }
   },
   "types_to_exclude": [
    "module",
    "function",
    "builtin_function_or_method",
    "instance",
    "_Feature"
   ],
   "window_display": false
  }
 },
 "nbformat": 4,
 "nbformat_minor": 1
}
