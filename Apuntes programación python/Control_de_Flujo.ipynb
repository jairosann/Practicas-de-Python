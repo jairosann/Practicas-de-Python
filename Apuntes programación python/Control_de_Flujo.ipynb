{
 "cells": [
  {
   "cell_type": "markdown",
   "metadata": {},
   "source": [
    "# Condiciones y bucles\n",
    "\n",
    "* Condicionales: `if`, `elif`, `else`\n",
    "* Bucles `for`\n",
    "* Bucles `while`\n",
    "\n",
    "\n",
    "## Sentencia If (Si)\n",
    "Permite dividir el flujo de un programa en diferentes caminos. El if se ejecuta siempre que la expresión que comprueba devuelva True"
   ]
  },
  {
   "cell_type": "code",
   "execution_count": 1,
   "metadata": {},
   "outputs": [
    {
     "name": "stdout",
     "output_type": "stream",
     "text": [
      "Se cumple la condicion\n"
     ]
    }
   ],
   "source": [
    "if True:\n",
    "    print('Se cumple la condicion')"
   ]
  },
  {
   "cell_type": "code",
   "execution_count": null,
   "metadata": {},
   "outputs": [
    {
     "name": "stdout",
     "output_type": "stream",
     "text": [
      "No se cumple la condicion\n",
      "Esto no depende de la condicion del if\n"
     ]
    }
   ],
   "source": [
    "n = float(input('Establece un numero'))\n",
    "if n == 7:\n",
    "    print('Se cumple la condicion')\n",
    "else:\n",
    "    print('No se cumple la condicion')\n",
    "print('Este print no depende de la condicion del if')"
   ]
  },
  {
   "cell_type": "markdown",
   "metadata": {},
   "source": [
    "#### Podemos encadenar diferentes If"
   ]
  },
  {
   "cell_type": "code",
   "execution_count": null,
   "metadata": {},
   "outputs": [],
   "source": []
  },
  {
   "cell_type": "markdown",
   "metadata": {},
   "source": [
    "#### O también anidar If dentro de If"
   ]
  },
  {
   "cell_type": "code",
   "execution_count": null,
   "metadata": {},
   "outputs": [
    {
     "name": "stdout",
     "output_type": "stream",
     "text": [
      "a = 7\n",
      "b =  10\n"
     ]
    }
   ],
   "source": [
    "a = 7\n",
    "b = 9\n",
    "if a == 7:\n",
    "    print('a =', a)\n",
    "    b += 1\n",
    "    if b == 10:\n",
    "        print('b =', b)\n",
    "\n"
   ]
  },
  {
   "cell_type": "markdown",
   "metadata": {},
   "source": [
    "#### Como condición podemos evaluar múltiples expresiones, siempre que éstas devuelvan True o False"
   ]
  },
  {
   "cell_type": "code",
   "execution_count": 6,
   "metadata": {},
   "outputs": [
    {
     "name": "stdout",
     "output_type": "stream",
     "text": [
      "Se cumple la condicion\n"
     ]
    }
   ],
   "source": [
    "if a == 7 and b == 10:\n",
    "    print('Se cumple la condicion')"
   ]
  },
  {
   "cell_type": "markdown",
   "metadata": {},
   "source": [
    "# Sentencia Else (Sino)\n",
    "Se encadena a un If para comprobar el caso contrario (en el que no se cumple la condición)."
   ]
  },
  {
   "cell_type": "code",
   "execution_count": null,
   "metadata": {},
   "outputs": [
    {
     "name": "stdout",
     "output_type": "stream",
     "text": [
      "Tu numero es negativo\n"
     ]
    }
   ],
   "source": [
    "n = -1\n",
    "if n > 0:\n",
    "    print('Es un número positivo')\n",
    "elif n < 0:\n",
    "    print('Tu numero es negativo')\n",
    "else:\n",
    "    print('Tu numero es 0')"
   ]
  },
  {
   "cell_type": "code",
   "execution_count": null,
   "metadata": {},
   "outputs": [],
   "source": []
  },
  {
   "cell_type": "markdown",
   "metadata": {},
   "source": [
    "# Sentencia Elif (Sino Si)\n",
    "Se encadena a un if u otro elif para comprobar múltiples condiciones, siempre que las anteriores no se ejecuten."
   ]
  },
  {
   "cell_type": "code",
   "execution_count": null,
   "metadata": {},
   "outputs": [
    {
     "name": "stdout",
     "output_type": "stream",
     "text": [
      "bien\n"
     ]
    }
   ],
   "source": [
    "n = float(input('Introduce una nota: '))\n",
    "if n >= 9:\n",
    "    print('sobresaliente')\n",
    "elif n >= 7:\n",
    "    print('notable')\n",
    "elif n >= 6:\n",
    "    print('bien')\n",
    "elif n > 5:\n",
    "    print('aprobado')\n",
    "elif n == 5:\n",
    "    print('Aprobado raspado')\n",
    "else:\n",
    "    print('Eres un pringao vas a la extraordinaria')"
   ]
  },
  {
   "cell_type": "markdown",
   "metadata": {},
   "source": [
    "#### Es posible simular el funcionamiento de elif con if utilizando expresiones condicionales _(pero esto hace que se ejecuten todas las instrucciones aunque no haga falta)_"
   ]
  },
  {
   "cell_type": "code",
   "execution_count": null,
   "metadata": {},
   "outputs": [],
   "source": []
  },
  {
   "cell_type": "markdown",
   "metadata": {},
   "source": [
    "## Alternativa al Switch\n",
    "El switch es una estructura condicional multiple, permite evaluar de manera rápida si un valor coincide con una gran lista de posibilidades. Ejemplo (si la variable dia vale 0, se escogerá Lunes, si la variable dia vale 1, se escogerá Martes, etc.): \n",
    "    <pre>switch(dia): \n",
    "        case 0: \"Lunes\",\n",
    "        case 1: \"Martes\",\n",
    "        case 2: \"Miercoles\",\n",
    "        case 3: \"Jueves\",\n",
    "        case 4: \"Viernes\",\n",
    "        case 5: \"Sabado\",\n",
    "        case 6: \"Domingo\",\n",
    "        default: \"Desconocido\"</pre>\n",
    "        \n",
    "Debido a que en Python han eliminado la estructura Switch, vamos a ver cual sería la alternativa para el siguiente ejemplo:"
   ]
  },
  {
   "cell_type": "code",
   "execution_count": 13,
   "metadata": {},
   "outputs": [
    {
     "name": "stdout",
     "output_type": "stream",
     "text": [
      "El dia 6 es Domingo\n"
     ]
    }
   ],
   "source": [
    "# Creamos un diccionario con las diferentes opciones:\n",
    "dias = {\n",
    "    0: \"Lunes\",\n",
    "    1: \"Martes\",\n",
    "    2: \"Miercoles\",\n",
    "    3: \"Jueves\",\n",
    "    4: \"Viernes\",\n",
    "    5: \"Sabado\",\n",
    "    6: \"Domingo\"\n",
    "}\n",
    "\n",
    "# Solicitamos al usuario que introduzca un numero del 0 al 6 para conocer el nombre del día de la semana\n",
    "\n",
    "opcionUsuario = int(input('Dia de la semana que quiere mostrar'))\n",
    "\n",
    "# Con el número introducido por el usuario, accedemos al diccionario y accedemos a ese clave-valor concreto\n",
    "\n",
    "nombreDia = dias.get(opcionUsuario, 'desconocido')\n",
    "\n",
    "# Mostramos el resultado\n",
    "\n",
    "print(f'El dia {opcionUsuario} es {nombreDia}')\n"
   ]
  },
  {
   "cell_type": "markdown",
   "metadata": {},
   "source": [
    "---"
   ]
  },
  {
   "cell_type": "markdown",
   "metadata": {},
   "source": [
    "## Sentencia While (Mientras)\n",
    "Se basa en repetir un bloque a partir de evaluar una condición lógica, siempre que ésta sea True.\n",
    "\n",
    "Queda en las manos del programador decidir el momento en que la condición cambie a False para hacer que el While finalice.\n",
    "\n",
    "### Iteraciones\n",
    "Iterar significa realizar una acción varias veces. Cada vez que se repite se denomina iteración."
   ]
  },
  {
   "cell_type": "code",
   "execution_count": null,
   "metadata": {},
   "outputs": [
    {
     "name": "stdout",
     "output_type": "stream",
     "text": [
      "1\n",
      "2\n",
      "3\n",
      "4\n",
      "5\n"
     ]
    }
   ],
   "source": [
    "contador = 1\n",
    "while contador <= 5:\n",
    "    print(contador)\n",
    "    contador += 1 "
   ]
  },
  {
   "cell_type": "markdown",
   "metadata": {},
   "source": [
    "## Sentencia Else en bucle While\n",
    "Se encadena al While para ejecutar un bloque de código una vez la condición ya no devuelve True (normalmente al final)."
   ]
  },
  {
   "cell_type": "code",
   "execution_count": null,
   "metadata": {},
   "outputs": [],
   "source": []
  },
  {
   "cell_type": "markdown",
   "metadata": {},
   "source": [
    "## Instrucción Break\n",
    "Sirve para \"romper\" la ejecución del While en cualquier momento."
   ]
  },
  {
   "cell_type": "code",
   "execution_count": null,
   "metadata": {},
   "outputs": [
    {
     "name": "stdout",
     "output_type": "stream",
     "text": [
      "1\n",
      "2\n",
      "SACABÓ 3\n",
      "4\n",
      "5\n",
      "6\n",
      "fin bucle\n",
      "Continuamos con el codigo\n"
     ]
    }
   ],
   "source": [
    "n = 0\n",
    "while n <= 5:\n",
    "    n += 1\n",
    "    if n == 3:\n",
    "        print('SACABÓ', n)\n",
    "        continue\n",
    "    print(n)\n",
    "else: \n",
    "    print('fin bucle')\n",
    "print('Continuamos con el codigo')"
   ]
  },
  {
   "cell_type": "markdown",
   "metadata": {},
   "source": [
    "<div class=\"alert alert-danger\">CUIDADO con la instrucción BREAK. Con ella estamos rompiendo el flujo normal del programa. </div>"
   ]
  },
  {
   "cell_type": "markdown",
   "metadata": {},
   "source": [
    "## Instrucción Continue\n",
    "Sirve para \"saltarse\" la iteración actual sin romper el bucle."
   ]
  },
  {
   "cell_type": "code",
   "execution_count": null,
   "metadata": {},
   "outputs": [],
   "source": [
    "n = 0\n",
    "while n <= 5:\n",
    "    n += 1\n",
    "    if n == 3:\n",
    "        print('SACABÓ', n)\n",
    "        continue\n",
    "    print(n)\n",
    "else: \n",
    "    print('fin bucle')\n",
    "print('Continuamos con el codigo')"
   ]
  },
  {
   "cell_type": "markdown",
   "metadata": {},
   "source": [
    "### Creando un menú interactivo"
   ]
  },
  {
   "cell_type": "code",
   "execution_count": 36,
   "metadata": {},
   "outputs": [
    {
     "name": "stdout",
     "output_type": "stream",
     "text": [
      "\n",
      "    1) Sumar dos números\n",
      "    2) Restar dos números\n",
      "    3) Salir\n",
      "    \n",
      "la resta es -2.0\n",
      "\n",
      "    1) Sumar dos números\n",
      "    2) Restar dos números\n",
      "    3) Salir\n",
      "    \n",
      "Usted ha salido de la calculadora\n"
     ]
    }
   ],
   "source": [
    "menu = \"\"\"\n",
    "    1) Sumar dos números\n",
    "    2) Restar dos números\n",
    "    3) Salir\n",
    "    \"\"\"\n",
    "\n",
    "while True: \n",
    "    print(menu)\n",
    "    opcion = int(input('Elige una opcion [1/2/3]: '))\n",
    "    if opcion == 1:\n",
    "        n1 = float(input('Introduce el primer numero: '))\n",
    "        n2 = float(input('Introduce el segundo numero: '))\n",
    "        suma = n1 + n2\n",
    "        print(f'la suma es {suma}')\n",
    "    elif opcion == 2:\n",
    "        n1 = float(input('Introduce el primer numero: '))\n",
    "        n2 = float(input('Introduce el segundo numero: '))\n",
    "        resta = n1 - n2\n",
    "        print(f'la resta es {resta}')\n",
    "    elif opcion == 3:\n",
    "        print('Usted ha salido de la calculadora')\n",
    "        break\n",
    "    else:\n",
    "        print('Opcion no valida, introduzca un valor valido [1/2/3]')\n",
    "\n"
   ]
  },
  {
   "cell_type": "markdown",
   "metadata": {},
   "source": [
    "## Bucle infinito\n",
    "Si la condición del bucle se cumple siempre, el bucle no terminará nunca de ejecutarse y tendremos lo que se denomina un bucle infinito\n",
    "\n",
    "*Disponeis de un botón de Stop para detener el proceso (a la derecha de Run)*"
   ]
  },
  {
   "cell_type": "code",
   "execution_count": null,
   "metadata": {},
   "outputs": [],
   "source": []
  },
  {
   "cell_type": "markdown",
   "metadata": {},
   "source": [
    "---"
   ]
  },
  {
   "cell_type": "markdown",
   "metadata": {},
   "source": [
    "## Sentencia For (Para)\n",
    "El bucle __for__ se utiliza para repetir una o más instrucciones un determinado número de veces."
   ]
  },
  {
   "cell_type": "code",
   "execution_count": 39,
   "metadata": {},
   "outputs": [
    {
     "name": "stdout",
     "output_type": "stream",
     "text": [
      "6\n",
      "1\n",
      "2\n",
      "3\n",
      "4\n",
      "5\n",
      "6\n"
     ]
    }
   ],
   "source": [
    "numeros = [1, 2, 3, 4, 5, 6]\n",
    "print(len(numeros))\n",
    "i = 0\n",
    "while i < len(numeros):\n",
    "    print(numeros[i])\n",
    "    i += 1"
   ]
  },
  {
   "cell_type": "markdown",
   "metadata": {},
   "source": [
    "## _[Recordatorio]_ Recorriendo los elementos de una lista utilizando While"
   ]
  },
  {
   "cell_type": "code",
   "execution_count": null,
   "metadata": {},
   "outputs": [],
   "source": []
  },
  {
   "cell_type": "markdown",
   "metadata": {},
   "source": [
    "## Sentencia For (Para) con listas"
   ]
  },
  {
   "cell_type": "code",
   "execution_count": null,
   "metadata": {
    "scrolled": true
   },
   "outputs": [],
   "source": []
  },
  {
   "cell_type": "markdown",
   "metadata": {},
   "source": [
    "### Modificar ítems de la lista al vuelo\n",
    "Para asignar un nuevo valor a los elementos de una lista mientras la recorremos, podríamos intentar asignar al número el nuevo valor:"
   ]
  },
  {
   "cell_type": "code",
   "execution_count": null,
   "metadata": {},
   "outputs": [],
   "source": []
  },
  {
   "cell_type": "markdown",
   "metadata": {},
   "source": [
    "#### Sin embargo, ésto no funciona. La forma correcta de hacerlo es haciendo referencia al índice de la lista en lugar de la variable:"
   ]
  },
  {
   "cell_type": "code",
   "execution_count": 42,
   "metadata": {},
   "outputs": [
    {
     "name": "stdout",
     "output_type": "stream",
     "text": [
      "lista inicial [1, 2, 3, 4, 5]\n",
      "1\n",
      "2\n",
      "3\n",
      "4\n",
      "5\n",
      "Lista final [10, 20, 30, 40, 50]\n"
     ]
    }
   ],
   "source": [
    "numeros = [1, 2, 3, 4, 5]\n",
    "indice = 0\n",
    "print(f'lista inicial {numeros}')\n",
    "for numero in numeros:\n",
    "    print(numero)\n",
    "    numeros[indice] *= 10\n",
    "    indice += 1\n",
    "print(f'Lista final {numeros}')"
   ]
  },
  {
   "cell_type": "markdown",
   "metadata": {},
   "source": [
    "#### Podemos utilizar la función enumerate() para conseguir el índice y el valor en cada iteración fácilmente:"
   ]
  },
  {
   "cell_type": "code",
   "execution_count": 43,
   "metadata": {},
   "outputs": [
    {
     "name": "stdout",
     "output_type": "stream",
     "text": [
      "indice: 0\n",
      "num: 1\n",
      "indice: 1\n",
      "num: 2\n",
      "indice: 2\n",
      "num: 3\n",
      "indice: 3\n",
      "num: 4\n",
      "indice: 4\n",
      "num: 5\n",
      "[10, 20, 30, 40, 50]\n"
     ]
    }
   ],
   "source": [
    "numeros = [1, 2, 3, 4, 5]\n",
    "for indice, num in enumerate(numeros):\n",
    "    print(f'indice: {indice}')\n",
    "    print(f'num: {num}')\n",
    "    numeros[indice] *= 10\n",
    "print(numeros)"
   ]
  },
  {
   "cell_type": "code",
   "execution_count": null,
   "metadata": {},
   "outputs": [],
   "source": []
  },
  {
   "cell_type": "code",
   "execution_count": null,
   "metadata": {},
   "outputs": [],
   "source": []
  },
  {
   "cell_type": "markdown",
   "metadata": {},
   "source": [
    "## Sentencia For (Para) con strings (cadenas de caracteres)"
   ]
  },
  {
   "cell_type": "code",
   "execution_count": null,
   "metadata": {},
   "outputs": [],
   "source": []
  },
  {
   "cell_type": "markdown",
   "metadata": {},
   "source": [
    "#### Pero debemos recordar que las cadenas son inmutables:"
   ]
  },
  {
   "cell_type": "code",
   "execution_count": 45,
   "metadata": {},
   "outputs": [
    {
     "name": "stdout",
     "output_type": "stream",
     "text": [
      "a\n",
      "p\n",
      "r\n",
      "e\n",
      "n\n",
      "d\n",
      "i\n",
      "e\n",
      "n\n",
      "d\n",
      "o\n",
      " \n",
      "p\n",
      "y\n",
      "t\n",
      "h\n",
      "o\n",
      "n\n"
     ]
    }
   ],
   "source": [
    "texto = 'aprendiendo python'\n",
    "for letra in texto:\n",
    "    print(letra)"
   ]
  },
  {
   "cell_type": "markdown",
   "metadata": {},
   "source": [
    "#### Sin embargo siempre podemos generar una nueva cadena:"
   ]
  },
  {
   "cell_type": "code",
   "execution_count": 48,
   "metadata": {},
   "outputs": [
    {
     "name": "stdout",
     "output_type": "stream",
     "text": [
      "aprendiendo python\n",
      " \n"
     ]
    }
   ],
   "source": [
    "texto2 = ' '\n",
    "for letra in texto2:\n",
    "    if letra == ' ':\n",
    "        texto2 += ''\n",
    "    else:\n",
    "        texto2 += letra\n",
    "print(texto)\n",
    "print(texto2)\n",
    "\n"
   ]
  },
  {
   "cell_type": "markdown",
   "metadata": {},
   "source": [
    "## La función range()\n",
    "Sirve para generar una lista de números que podemos recorrer fácilmente, pero no ocupa memoria porque se interpreta sobre la marcha:\n",
    "- `range(fin)`\n",
    "- `range(inicio, fin)`\n",
    "- `range(inicio, fin, salto)`"
   ]
  },
  {
   "cell_type": "code",
   "execution_count": 2,
   "metadata": {},
   "outputs": [
    {
     "name": "stdout",
     "output_type": "stream",
     "text": [
      "0\n",
      "1\n",
      "2\n",
      "3\n",
      "4\n",
      "5\n",
      "6\n",
      "7\n",
      "8\n",
      "9\n",
      "10\n",
      "11\n",
      "12\n",
      "13\n",
      "14\n",
      "15\n",
      "16\n",
      "17\n",
      "18\n",
      "19\n",
      "20\n",
      "21\n",
      "22\n",
      "23\n",
      "24\n",
      "25\n",
      "26\n",
      "27\n",
      "28\n",
      "29\n",
      "30\n",
      "31\n",
      "32\n",
      "33\n",
      "34\n",
      "35\n",
      "36\n",
      "37\n",
      "38\n",
      "39\n",
      "40\n",
      "41\n",
      "42\n",
      "43\n",
      "44\n",
      "45\n",
      "46\n",
      "47\n",
      "48\n",
      "49\n"
     ]
    }
   ],
   "source": [
    "for i in range(50):\n",
    "    print(i)"
   ]
  },
  {
   "cell_type": "code",
   "execution_count": 3,
   "metadata": {},
   "outputs": [
    {
     "name": "stdout",
     "output_type": "stream",
     "text": [
      "1\n",
      "2\n",
      "3\n",
      "4\n",
      "5\n",
      "6\n",
      "7\n",
      "8\n",
      "9\n",
      "10\n",
      "11\n",
      "12\n",
      "13\n",
      "14\n",
      "15\n",
      "16\n",
      "17\n",
      "18\n",
      "19\n",
      "20\n",
      "21\n",
      "22\n",
      "23\n",
      "24\n",
      "25\n",
      "26\n",
      "27\n",
      "28\n",
      "29\n",
      "30\n",
      "31\n",
      "32\n",
      "33\n",
      "34\n",
      "35\n",
      "36\n",
      "37\n",
      "38\n",
      "39\n",
      "40\n",
      "41\n",
      "42\n",
      "43\n",
      "44\n",
      "45\n",
      "46\n",
      "47\n",
      "48\n",
      "49\n",
      "1\n",
      "6\n",
      "11\n",
      "16\n",
      "21\n",
      "26\n",
      "31\n",
      "36\n",
      "41\n",
      "46\n"
     ]
    }
   ],
   "source": [
    "for i in range(1, 50):\n",
    "    print(i)\n",
    "\n",
    "for i in range(1, 50, 5):\n",
    "    print(i)"
   ]
  },
  {
   "cell_type": "code",
   "execution_count": null,
   "metadata": {},
   "outputs": [],
   "source": []
  },
  {
   "cell_type": "markdown",
   "metadata": {},
   "source": [
    "#### Si queremos conseguir la lista literal podemos transformar el range a una lista:"
   ]
  },
  {
   "cell_type": "code",
   "execution_count": null,
   "metadata": {},
   "outputs": [],
   "source": [
    "listaelementos = list(range(10))\n",
    "print(listaelementos)\n",
    "print(type(listaelementos))"
   ]
  },
  {
   "cell_type": "code",
   "execution_count": 6,
   "metadata": {},
   "outputs": [
    {
     "name": "stdout",
     "output_type": "stream",
     "text": [
      "5, 6, 7, 8, 9, "
     ]
    }
   ],
   "source": [
    "for i in range(5, 10):\n",
    "    print(i, end = ', ')\n",
    "\n"
   ]
  },
  {
   "cell_type": "code",
   "execution_count": 4,
   "metadata": {},
   "outputs": [
    {
     "name": "stdout",
     "output_type": "stream",
     "text": [
      "0\n",
      "10\n",
      "20\n",
      "30\n",
      "40\n",
      "50\n",
      "60\n",
      "70\n",
      "80\n",
      "90\n"
     ]
    }
   ],
   "source": [
    "for i in range(0,100,10):\n",
    "    print(i)"
   ]
  },
  {
   "cell_type": "code",
   "execution_count": 7,
   "metadata": {},
   "outputs": [
    {
     "name": "stdout",
     "output_type": "stream",
     "text": [
      "10\n",
      "9\n",
      "8\n",
      "7\n",
      "6\n",
      "5\n",
      "4\n",
      "3\n",
      "2\n",
      "1\n"
     ]
    }
   ],
   "source": [
    "for i in range(10, 0, -1):\n",
    "    print(i)"
   ]
  },
  {
   "cell_type": "code",
   "execution_count": null,
   "metadata": {},
   "outputs": [],
   "source": []
  },
  {
   "cell_type": "code",
   "execution_count": null,
   "metadata": {},
   "outputs": [],
   "source": []
  },
  {
   "cell_type": "markdown",
   "metadata": {},
   "source": [
    "## Bucle infinito\n",
    "Si la condición del bucle se cumple siempre, el bucle no terminará nunca de ejecutarse y tendremos lo que se denomina un bucle infinito\n",
    "\n",
    "*Disponeis de un botón de Stop para detener el proceso (a la derecha de Run)*\n",
    "\n",
    "**El bucle for no incluye de forma nativa una manera de implementar un bucle inifinito. Se tiene que realizar a través de una librería (se verá más adelante).**"
   ]
  },
  {
   "cell_type": "code",
   "execution_count": null,
   "metadata": {},
   "outputs": [],
   "source": []
  },
  {
   "cell_type": "code",
   "execution_count": 8,
   "metadata": {},
   "outputs": [
    {
     "name": "stdout",
     "output_type": "stream",
     "text": [
      "1 es un numero impar\n",
      "2 es un número par\n",
      "3 es un numero impar\n",
      "4 es un número par\n",
      "5 es un numero impar\n",
      "6 es un número par\n",
      "7 es un numero impar\n",
      "8 es un número par\n",
      "9 es un numero impar\n",
      "10 es un número par\n"
     ]
    }
   ],
   "source": [
    "for i in range(1, 11):\n",
    "    if i % 2 == 0:\n",
    "        print(f'{i} es un número par')\n",
    "    else:\n",
    "        print(f'{i} es un numero impar')"
   ]
  },
  {
   "cell_type": "code",
   "execution_count": 20,
   "metadata": {},
   "outputs": [
    {
     "name": "stdout",
     "output_type": "stream",
     "text": [
      "El idioma en España es Es\n",
      "El idioma en Italia es It\n",
      "El idioma en Reino_Unido es En\n",
      "El idioma en Usa es En\n",
      "El idioma en Argentina es Es\n"
     ]
    }
   ],
   "source": [
    "lista = ['Es_España', 'It_Italia', 'En_Reino_Unido', 'En_Usa', 'Es_Argentina']\n",
    "for i in lista:\n",
    "    print(f'El idioma en {i[3:]} es {i[:2]}')"
   ]
  }
 ],
 "metadata": {
  "kernelspec": {
   "display_name": "Python 3",
   "language": "python",
   "name": "python3"
  },
  "language_info": {
   "codemirror_mode": {
    "name": "ipython",
    "version": 3
   },
   "file_extension": ".py",
   "mimetype": "text/x-python",
   "name": "python",
   "nbconvert_exporter": "python",
   "pygments_lexer": "ipython3",
   "version": "3.13.7"
  },
  "varInspector": {
   "cols": {
    "lenName": 16,
    "lenType": 16,
    "lenVar": 40
   },
   "kernels_config": {
    "python": {
     "delete_cmd_postfix": "",
     "delete_cmd_prefix": "del ",
     "library": "var_list.py",
     "varRefreshCmd": "print(var_dic_list())"
    },
    "r": {
     "delete_cmd_postfix": ") ",
     "delete_cmd_prefix": "rm(",
     "library": "var_list.r",
     "varRefreshCmd": "cat(var_dic_list()) "
    }
   },
   "types_to_exclude": [
    "module",
    "function",
    "builtin_function_or_method",
    "instance",
    "_Feature"
   ],
   "window_display": false
  }
 },
 "nbformat": 4,
 "nbformat_minor": 1
}
