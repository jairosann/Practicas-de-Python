{
 "cells": [
  {
   "cell_type": "code",
   "execution_count": null,
   "id": "517071aa",
   "metadata": {},
   "outputs": [
    {
     "name": "stdout",
     "output_type": "stream",
     "text": [
      "18\n"
     ]
    }
   ],
   "source": [
    "Edad = 18 # ponemos nuestra edad\n",
    "print(Edad) # Imprimimos la edad"
   ]
  },
  {
   "cell_type": "code",
   "execution_count": 2,
   "id": "f08ebdd1",
   "metadata": {},
   "outputs": [
    {
     "name": "stdout",
     "output_type": "stream",
     "text": [
      "20\n"
     ]
    }
   ],
   "source": [
    "base = 5\n",
    "altura = 4\n",
    "area = base * altura\n",
    "print(area)"
   ]
  },
  {
   "cell_type": "code",
   "execution_count": null,
   "id": "bebf2314",
   "metadata": {},
   "outputs": [
    {
     "name": "stdout",
     "output_type": "stream",
     "text": [
      "37.4\n"
     ]
    }
   ],
   "source": [
    "celsius = 40\n",
    "fahrenheit = (celsius * 9/5) + 32\n",
    "print(fahrenheit)"
   ]
  },
  {
   "cell_type": "code",
   "execution_count": null,
   "id": "c353feef",
   "metadata": {},
   "outputs": [],
   "source": [
    "n1 = 3\n",
    "n2 = 4\n",
    "n3 = 5\n",
    "print(n1 + n2 + n3)"
   ]
  },
  {
   "cell_type": "code",
   "execution_count": null,
   "id": "436acd2d",
   "metadata": {},
   "outputs": [],
   "source": [
    "n1 = 8\n",
    "n2 = 5\n",
    "n3 = 4\n",
    "prom = (n1 + n2 + n3) / 3 \n",
    "print(prom)"
   ]
  },
  {
   "cell_type": "code",
   "execution_count": 5,
   "id": "18cbbee6",
   "metadata": {},
   "outputs": [
    {
     "name": "stdout",
     "output_type": "stream",
     "text": [
      "2 1\n"
     ]
    }
   ],
   "source": [
    "n1, n2 = 1, 2\n",
    "print(n2, n1)"
   ]
  },
  {
   "cell_type": "code",
   "execution_count": 6,
   "id": "8f5f6311",
   "metadata": {},
   "outputs": [
    {
     "name": "stdout",
     "output_type": "stream",
     "text": [
      "1 2 3\n"
     ]
    }
   ],
   "source": [
    "n1, n2, n3 = 1, 2, 3\n",
    "print(n1, n2, n3)"
   ]
  },
  {
   "cell_type": "code",
   "execution_count": null,
   "id": "ecbb038c",
   "metadata": {},
   "outputs": [],
   "source": [
    "x = 3\n",
    "y = x + 3 \n",
    "print(y)"
   ]
  },
  {
   "cell_type": "code",
   "execution_count": null,
   "id": "9abb3d72",
   "metadata": {},
   "outputs": [],
   "source": [
    "base = 4\n",
    "altura = 5\n",
    "areat = (base * altura) / 2\n",
    "print(areat)"
   ]
  },
  {
   "cell_type": "code",
   "execution_count": 8,
   "id": "f042ac22",
   "metadata": {},
   "outputs": [
    {
     "name": "stdout",
     "output_type": "stream",
     "text": [
      "True\n"
     ]
    }
   ],
   "source": [
    "edad = 18\n",
    "votar = edad >= 18\n",
    "print(votar)"
   ]
  },
  {
   "cell_type": "code",
   "execution_count": 4,
   "id": "c01267dd",
   "metadata": {},
   "outputs": [
    {
     "name": "stdout",
     "output_type": "stream",
     "text": [
      "False\n"
     ]
    }
   ],
   "source": [
    "x = 5\n",
    "intervalo = x >= 10 and x <= 20\n",
    "print(intervalo)"
   ]
  },
  {
   "cell_type": "code",
   "execution_count": 9,
   "id": "fa5aa244",
   "metadata": {},
   "outputs": [
    {
     "name": "stdout",
     "output_type": "stream",
     "text": [
      "False\n"
     ]
    }
   ],
   "source": [
    "a = 7\n",
    "multiplo = a % 3 == 0 or a % 5 == 0\n",
    "print(multiplo) "
   ]
  },
  {
   "cell_type": "code",
   "execution_count": 10,
   "id": "2f5a3061",
   "metadata": {},
   "outputs": [
    {
     "name": "stdout",
     "output_type": "stream",
     "text": [
      "True\n"
     ]
    }
   ],
   "source": [
    "edad = 18\n",
    "contraseña = 12345\n",
    "correcto = edad == 18 and contraseña == 12345\n",
    "print(correcto)\n"
   ]
  }
 ],
 "metadata": {
  "kernelspec": {
   "display_name": "Python 3",
   "language": "python",
   "name": "python3"
  },
  "language_info": {
   "codemirror_mode": {
    "name": "ipython",
    "version": 3
   },
   "file_extension": ".py",
   "mimetype": "text/x-python",
   "name": "python",
   "nbconvert_exporter": "python",
   "pygments_lexer": "ipython3",
   "version": "3.13.7"
  }
 },
 "nbformat": 4,
 "nbformat_minor": 5
}
