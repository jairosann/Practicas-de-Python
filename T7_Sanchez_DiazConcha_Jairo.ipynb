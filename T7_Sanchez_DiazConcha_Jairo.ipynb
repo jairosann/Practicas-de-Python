{
 "cells": [
  {
   "cell_type": "markdown",
   "id": "1e103403",
   "metadata": {},
   "source": [
    "1. Define una función que imprima “Hola, mundo”."
   ]
  },
  {
   "cell_type": "code",
   "execution_count": null,
   "id": "60dfb4d9",
   "metadata": {},
   "outputs": [],
   "source": [
    "def saludo():\n",
    "    print('Hola mundo')\n",
    "\n",
    "saludo()"
   ]
  },
  {
   "cell_type": "markdown",
   "id": "eab169ee",
   "metadata": {},
   "source": [
    "2. Crea una función que reciba un nombre y lo salude: Hola, <nombre>"
   ]
  },
  {
   "cell_type": "code",
   "execution_count": 1,
   "id": "c8cf5d01",
   "metadata": {},
   "outputs": [
    {
     "name": "stdout",
     "output_type": "stream",
     "text": [
      "Hola, Jairo\n"
     ]
    }
   ],
   "source": [
    "def saludo(nombre):\n",
    "    print(f'Hola, {nombre}')\n",
    "saludo('Jairo')\n"
   ]
  },
  {
   "cell_type": "markdown",
   "id": "653373cf",
   "metadata": {},
   "source": [
    "3. Define una función que reciba dos números y devuelva su suma y su\n",
    "producto."
   ]
  },
  {
   "cell_type": "code",
   "execution_count": null,
   "id": "02ebc8e2",
   "metadata": {},
   "outputs": [
    {
     "data": {
      "text/plain": [
       "(9, 20)"
      ]
     },
     "execution_count": 3,
     "metadata": {},
     "output_type": "execute_result"
    }
   ],
   "source": [
    "def op1(a, b):\n",
    "    sumar = a + b\n",
    "    prod = a * b\n",
    "    return sumar, prod\n",
    "op1(4, 5)"
   ]
  },
  {
   "cell_type": "markdown",
   "id": "f5686151",
   "metadata": {},
   "source": [
    "4. Realiza una función llamada lee_numero() que solicite y lea por teclado un\n",
    "número. Utiliza esta función para pedirle al usuario 3 números y guárdalos\n",
    "en una lista. Luego pásale la lista a una función que se llame mayor() que\n",
    "devuelva el número mayor de los 3."
   ]
  },
  {
   "cell_type": "code",
   "execution_count": null,
   "id": "f146fffc",
   "metadata": {},
   "outputs": [
    {
     "name": "stdout",
     "output_type": "stream",
     "text": [
      "El numero 3.0 es el mayor\n"
     ]
    }
   ],
   "source": [
    "def lee_numero():\n",
    "    global lista\n",
    "    lista = input('Establezca 3 numeros separados por un espacio entre ellos: ').split()\n",
    "    return lista\n",
    "\n",
    "lee_numero()\n",
    "\n",
    "nueva_lista = []\n",
    "for i in lista:\n",
    "    nueva_lista.append(float(i))\n",
    "\n",
    "def mayor():\n",
    "    if nueva_lista[0] >= nueva_lista[1] and nueva_lista[0] >= nueva_lista[2]:\n",
    "        print(f'El numero {nueva_lista[0]} es el mayor')\n",
    "\n",
    "    elif nueva_lista[1] >= nueva_lista[0] and nueva_lista[1] >= nueva_lista[2]:\n",
    "        print(f'El numero {nueva_lista[1]} es el mayor')\n",
    "        \n",
    "    elif nueva_lista[2] >= nueva_lista[0] and nueva_lista[2] >= nueva_lista[1]:\n",
    "        print(f'El numero {nueva_lista[2]} es el mayor')\n",
    "\n",
    "mayor()\n",
    "\n",
    "\n",
    "\n",
    "    \n",
    "\n",
    "\n",
    "    "
   ]
  },
  {
   "cell_type": "markdown",
   "id": "6265dfa8",
   "metadata": {},
   "source": [
    "5. Realizar una función llamada imc(). Esta función nos proporcionará el\n",
    "estado nutricional de una persona. Esto es la clasificación de su índice de\n",
    "masa corporal (IMC), según la tabla proporcionada. La función recibirá el\n",
    "peso (en kilos) y la talla de una persona (en metros con dos decimales).\n",
    "Datos a partir de los cuales se puede calcular el IMC cómo:\n",
    "a. IMC = peso / (altura * altura)\n",
    "Clasificación: IMC (Kg/m^2)\n",
    "b. Bajo peso: < 18.50\n",
    "c. Normal: [18.50, 25.00)\n",
    "d. Sobrepeso: >= 25.00\n",
    "e. Obesidad: >= 30.00"
   ]
  },
  {
   "cell_type": "code",
   "execution_count": 13,
   "id": "ec9199c4",
   "metadata": {},
   "outputs": [
    {
     "name": "stdout",
     "output_type": "stream",
     "text": [
      "Tu IMC es de 21.04981790236894 puntos\n",
      "Tienes un peso normal\n"
     ]
    }
   ],
   "source": [
    "def imc():\n",
    "\n",
    "    peso = float(input('Establece tu peso en kilogramos: '))\n",
    "    altura = float(input('Establece tu altura en metros: '))\n",
    "    imc = peso / (altura**2)\n",
    "\n",
    "    print(f'Tu IMC es de {imc} puntos')\n",
    "\n",
    "    if imc >= 18.5:\n",
    "        print('Tienes un peso normal')\n",
    "    elif imc >= 25:\n",
    "        print('Tienes sobrepeso')\n",
    "    elif imc >= 30:\n",
    "        print('Tienes obesidad')\n",
    "    else:\n",
    "        print('Tienes un peso bajo')\n",
    "\n",
    "imc()\n",
    "\n"
   ]
  },
  {
   "cell_type": "markdown",
   "id": "79f2574a",
   "metadata": {},
   "source": [
    "6. Escribe una función llamada hacer_camiseta() que acepte un tamaño y el\n",
    "texto de un mensaje que debe imprimirse en la camiseta. La función debe\n",
    "imprimir una oración que resuma el tamaño de la camiseta y el mensaje\n",
    "impreso en ella. Llama a la función una vez usando argumentos\n",
    "posicionales para hacer una camiseta. Llama a la función una segunda vez\n",
    "usando argumentos con palabras clave.\n",
    "Ejemplo de uso de argumentos con palabras clave:\n",
    "a. hacer_camiseta(tamaño='M', mensaje='Código y café')\n",
    "En este caso, estamos especificando el valor de cada argumento\n",
    "directamente con su nombre, lo que nos permite pasar los argumentos en\n",
    "cualquier orden."
   ]
  },
  {
   "cell_type": "code",
   "execution_count": null,
   "id": "b7ca1935",
   "metadata": {},
   "outputs": [
    {
     "name": "stdout",
     "output_type": "stream",
     "text": [
      "La camiseta es de talla S  y el mensaje escogido es Hola\n"
     ]
    },
    {
     "data": {
      "text/plain": [
       "('M', 'Código y café')"
      ]
     },
     "execution_count": 15,
     "metadata": {},
     "output_type": "execute_result"
    }
   ],
   "source": [
    "def hacer_camiseta(tamaño, mensaje):\n",
    "    print(f\"La camiseta es talla {tamaño} y tiene impreso el mensaje: '{mensaje}'\")\n",
    "\n",
    "# Llamada con argumentos posicionales\n",
    "hacer_camiseta('L', 'Vive, programa y sueña')\n",
    "\n",
    "# Llamada con argumentos con palabras clave\n",
    "hacer_camiseta(tamaño='M', mensaje='Código y café')"
   ]
  },
  {
   "cell_type": "markdown",
   "id": "0708d2ff",
   "metadata": {},
   "source": [
    "7. Modifica la función hacer_camiseta() para que las camisetas sean grandes\n",
    "por defecto con un mensaje de una frase célebre. Haz una camiseta grande\n",
    "y una mediana con el mensaje por defecto, y una camiseta de cualquier\n",
    "tamaño con un mensaje diferente"
   ]
  },
  {
   "cell_type": "code",
   "execution_count": 22,
   "id": "14b19bcf",
   "metadata": {},
   "outputs": [
    {
     "name": "stdout",
     "output_type": "stream",
     "text": [
      "La camiseta es talla L y tiene impreso el mensaje: 'Hola'\n",
      "La camiseta es talla M y tiene impreso el mensaje: 'Hola'\n",
      "La camiseta es talla S y tiene impreso el mensaje: 'Skibidi 6 7'\n"
     ]
    }
   ],
   "source": [
    "def hacer_camiseta(tamaño = 'L', mensaje = 'Hola'):\n",
    "    print(f\"La camiseta es talla {tamaño} y tiene impreso el mensaje: '{mensaje}'\")\n",
    "hacer_camiseta()\n",
    "hacer_camiseta(tamaño = 'M')\n",
    "hacer_camiseta(tamaño = input('Introduce tu talla: '), mensaje = input('Introduce el mensaje que tú quieras: '))"
   ]
  },
  {
   "cell_type": "markdown",
   "id": "6d3ed1af",
   "metadata": {},
   "source": [
    "8. Define una función que reciba otra función y un número, y aplique esa\n",
    "función al número"
   ]
  },
  {
   "cell_type": "code",
   "execution_count": 33,
   "id": "63d5d7c1",
   "metadata": {},
   "outputs": [
    {
     "data": {
      "text/plain": [
       "120"
      ]
     },
     "execution_count": 33,
     "metadata": {},
     "output_type": "execute_result"
    }
   ],
   "source": [
    "def factorial(n):\n",
    "    x = 1\n",
    "    for i in range(1, (n + 1)):\n",
    "        x *= i\n",
    "    return x\n",
    "\n",
    "\n",
    "\n",
    "def numero(): \n",
    "    n = int(input('Establece un numero entero: '))\n",
    "    fact = factorial(n)\n",
    "    return fact\n",
    "\n",
    "numero()"
   ]
  },
  {
   "cell_type": "markdown",
   "id": "930435ae",
   "metadata": {},
   "source": [
    "9. Crea una función que reciba una lista, devuelva una copia con los\n",
    "elementos duplicados (x * 2), pero sin modificar la lista original. Nota:\n",
    "Utiliza comprensión de listas"
   ]
  },
  {
   "cell_type": "code",
   "execution_count": 39,
   "id": "5cd166b4",
   "metadata": {},
   "outputs": [
    {
     "name": "stdout",
     "output_type": "stream",
     "text": [
      "[1, 2, 3, 4] [2, 4, 6, 8]\n"
     ]
    }
   ],
   "source": [
    "def main(lista):\n",
    "    return [i*2 for i in lista]\n",
    "\n",
    "lista_original = [1, 2, 3, 4]\n",
    "lista_copiada = main(lista_original)\n",
    "print(lista_original, lista_copiada)\n",
    "\n"
   ]
  },
  {
   "cell_type": "markdown",
   "id": "2ac2087b",
   "metadata": {},
   "source": [
    "10. Usa una comprensión de lista para aplicar una función que calcule la raíz\n",
    "cuadrada a los números del 1 al 10. Nota: Utiliza la función sqrt() del\n",
    "módulo math: import math"
   ]
  },
  {
   "cell_type": "code",
   "execution_count": null,
   "id": "c7ff109e",
   "metadata": {},
   "outputs": [
    {
     "data": {
      "text/plain": [
       "[1.0,\n",
       " 1.4142135623730951,\n",
       " 1.7320508075688772,\n",
       " 2.0,\n",
       " 2.23606797749979,\n",
       " 2.449489742783178,\n",
       " 2.6457513110645907,\n",
       " 2.8284271247461903,\n",
       " 3.0,\n",
       " 3.1622776601683795]"
      ]
     },
     "execution_count": 44,
     "metadata": {},
     "output_type": "execute_result"
    }
   ],
   "source": [
    "# Importamos la biblioteca y hacemos la raiz de cada elemento de 1 a 10\n",
    "import math\n",
    "def raiz():\n",
    "    lista = [math.sqrt(i) for i in range(1, 11)]\n",
    "    return lista\n",
    "\n",
    "raiz()"
   ]
  },
  {
   "cell_type": "markdown",
   "id": "437f3d29",
   "metadata": {},
   "source": [
    "11. Crea un diccionario que contenga solo los números impares del 1 al 10\n",
    "como claves, y sus cubos como valores"
   ]
  },
  {
   "cell_type": "code",
   "execution_count": null,
   "id": "07cf0809",
   "metadata": {},
   "outputs": [
    {
     "name": "stdout",
     "output_type": "stream",
     "text": [
      "{1: 1, 3: 27, 5: 125, 7: 343, 9: 729}\n"
     ]
    }
   ],
   "source": [
    "def dicc_creator():\n",
    "    # Creamos un diccionario vacio\n",
    "    dicc = {\n",
    "\n",
    "    }\n",
    "    # Recorremos los elementos de 1 a 10 discriminando a los pares \n",
    "    for i in range(1, 11):\n",
    "        if i % 2 != 0:\n",
    "            dicc[i] = i**3 # Hacemos que los impares sean claves de nuestro diccionario y los cubos de esos numeros los valores\n",
    "\n",
    "    print(dicc)\n",
    "dicc_creator()"
   ]
  },
  {
   "cell_type": "markdown",
   "id": "c539d6e6",
   "metadata": {},
   "source": [
    "12. Crea una función que reciba una lista de tuplas (nombre, edad) y devuelva\n",
    "un diccionario con los nombres de las personas mayores de edad."
   ]
  },
  {
   "cell_type": "code",
   "execution_count": null,
   "id": "451c5a6d",
   "metadata": {},
   "outputs": [
    {
     "name": "stdout",
     "output_type": "stream",
     "text": [
      "[('Jairo', 18), ('Jorge', 21), ('Jose', 18)]\n",
      "{'Jairo': 18, 'Jorge': 21, 'Jose': 18}\n"
     ]
    }
   ],
   "source": [
    "def diccionario():\n",
    "    # Creamos un diccionario vacio\n",
    "    dicc = {\n",
    "\n",
    "    }\n",
    "    # Creamos la lista de tuplas y la filtramos segun quieenes sean mayores o menores de edad\n",
    "    lista = [('Jairo', 18), ('Jorge', 21), ('Jose', 18), ('Lucía', 17)]\n",
    "    lista_filtrada = [i for i in lista if i[1] >= 18]\n",
    "    print(lista_filtrada)\n",
    "    # Para cada tupla de la lista filtrada, introducimos sus elementos en un diccionario\n",
    "    for i in lista_filtrada:\n",
    "        dicc[i[0]] = i[1]\n",
    "    print(dicc)\n",
    "\n",
    "\n",
    "diccionario()"
   ]
  }
 ],
 "metadata": {
  "kernelspec": {
   "display_name": "Python 3",
   "language": "python",
   "name": "python3"
  },
  "language_info": {
   "codemirror_mode": {
    "name": "ipython",
    "version": 3
   },
   "file_extension": ".py",
   "mimetype": "text/x-python",
   "name": "python",
   "nbconvert_exporter": "python",
   "pygments_lexer": "ipython3",
   "version": "3.13.7"
  }
 },
 "nbformat": 4,
 "nbformat_minor": 5
}
