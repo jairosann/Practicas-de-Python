{
 "cells": [
  {
   "cell_type": "markdown",
   "id": "875baa10",
   "metadata": {},
   "source": [
    "1. Calcula la suma de los números del 1 al 10 usando sum()."
   ]
  },
  {
   "cell_type": "code",
   "execution_count": 1,
   "id": "c3e2dd74",
   "metadata": {},
   "outputs": [
    {
     "name": "stdout",
     "output_type": "stream",
     "text": [
      "55\n"
     ]
    }
   ],
   "source": [
    "lista = []\n",
    "for i in range(1, 11):\n",
    "    lista.append(i)\n",
    "\n",
    "print(sum(lista))"
   ]
  },
  {
   "cell_type": "markdown",
   "id": "3ca01627",
   "metadata": {},
   "source": [
    "2. Usa range() con sum() para calcular la suma de los números del 1 al 10."
   ]
  },
  {
   "cell_type": "code",
   "execution_count": 2,
   "id": "81d66d75",
   "metadata": {},
   "outputs": [
    {
     "name": "stdout",
     "output_type": "stream",
     "text": [
      "55\n"
     ]
    }
   ],
   "source": [
    "print(sum(range(11)))"
   ]
  },
  {
   "cell_type": "markdown",
   "id": "ef40e6d1",
   "metadata": {},
   "source": [
    "3. Usa all() para verificar si todos los elementos de una lista de booleanos son\n",
    "True."
   ]
  },
  {
   "cell_type": "code",
   "execution_count": 6,
   "id": "e7757c9b",
   "metadata": {},
   "outputs": [
    {
     "name": "stdout",
     "output_type": "stream",
     "text": [
      "False\n"
     ]
    }
   ],
   "source": [
    "lista = [2 == 2, 3 != 2+1]\n",
    "print(all(lista))"
   ]
  },
  {
   "cell_type": "markdown",
   "id": "cef65ae4",
   "metadata": {},
   "source": [
    "4. Uselementos de una lista junto a enumerate() para imprimir los con su\n",
    "índice."
   ]
  },
  {
   "cell_type": "code",
   "execution_count": 7,
   "id": "65fdb4dd",
   "metadata": {},
   "outputs": [
    {
     "name": "stdout",
     "output_type": "stream",
     "text": [
      "0 1\n",
      "1 2\n",
      "2 3\n",
      "3 4\n"
     ]
    }
   ],
   "source": [
    "lista = [1, 2, 3, 4]\n",
    "for i, numeros in enumerate(lista):\n",
    "    print(i, numeros)"
   ]
  },
  {
   "cell_type": "markdown",
   "id": "8cdf6fa1",
   "metadata": {},
   "source": [
    "5. Combina dos listas: una de nombres y otra de edades, usando zip()"
   ]
  },
  {
   "cell_type": "code",
   "execution_count": 8,
   "id": "41a59f8d",
   "metadata": {},
   "outputs": [
    {
     "name": "stdout",
     "output_type": "stream",
     "text": [
      "[('Jairo', 18), ('Borja', 19), ('López', 18)]\n"
     ]
    }
   ],
   "source": [
    "nombres = ['Jairo', 'Borja', 'López']\n",
    "edad = [18, 19, 18]\n",
    "combinados = list(zip(nombres, edad))\n",
    "print(combinados)"
   ]
  },
  {
   "cell_type": "markdown",
   "id": "35505d51",
   "metadata": {},
   "source": [
    "6. Usa map() para convertir una lista de temperaturas en grados Celsius a\n",
    "Fahrenheit"
   ]
  },
  {
   "cell_type": "code",
   "execution_count": null,
   "id": "0521c55f",
   "metadata": {},
   "outputs": [
    {
     "name": "stdout",
     "output_type": "stream",
     "text": [
      "[33.8, 39.2, 46.4, 50.0]\n"
     ]
    }
   ],
   "source": [
    "def c_f(x):\n",
    "    return (x * 9/5) + 32\n",
    "\n",
    "temperaturas = [1, 4, 8, 10]\n",
    "pasado = list(map(c_f, temperaturas))\n",
    "print(pasado)"
   ]
  },
  {
   "cell_type": "markdown",
   "id": "4d94f1ae",
   "metadata": {},
   "source": [
    "7. Usa filter() para obtener los números pares de una lista"
   ]
  },
  {
   "cell_type": "code",
   "execution_count": 10,
   "id": "4c8c9b3f",
   "metadata": {},
   "outputs": [
    {
     "name": "stdout",
     "output_type": "stream",
     "text": [
      "[2, 4, 6, 8, 10]\n"
     ]
    }
   ],
   "source": [
    "def par(x):\n",
    "    return x % 2 == 0\n",
    "\n",
    "lista = [1, 2, 3, 4, 5, 6, 7, 8, 9, 10]\n",
    "pares = list(filter(par, lista))\n",
    "print(pares)"
   ]
  },
  {
   "cell_type": "markdown",
   "id": "2883adfb",
   "metadata": {},
   "source": [
    "8. Usa reversed() para imprimir una lista de palabras en orden inverso"
   ]
  },
  {
   "cell_type": "code",
   "execution_count": 13,
   "id": "41b26b3f",
   "metadata": {},
   "outputs": [
    {
     "name": "stdout",
     "output_type": "stream",
     "text": [
      "['Como', 'Adios', 'Hola']\n"
     ]
    }
   ],
   "source": [
    "lista = ['Hola', 'Adios', 'Como']\n",
    "print(list(reversed(lista)))"
   ]
  },
  {
   "cell_type": "markdown",
   "id": "6f2ed5f2",
   "metadata": {},
   "source": [
    "9. Crea una lista por comprensión con los cuadrados de los números del 1 al\n",
    "5"
   ]
  },
  {
   "cell_type": "code",
   "execution_count": 22,
   "id": "6fb7fda9",
   "metadata": {},
   "outputs": [
    {
     "name": "stdout",
     "output_type": "stream",
     "text": [
      "1\n",
      "4\n",
      "9\n",
      "16\n",
      "[]\n"
     ]
    }
   ],
   "source": [
    "lista = [i for i in range(1, 5) if print(i**2)]\n",
    "print(lista)"
   ]
  },
  {
   "cell_type": "markdown",
   "id": "b6bf4fa3",
   "metadata": {},
   "source": [
    "10. Crea una tupla por comprensión con los números impares del 1 al 10"
   ]
  },
  {
   "cell_type": "code",
   "execution_count": null,
   "id": "53e2d73f",
   "metadata": {},
   "outputs": [],
   "source": []
  },
  {
   "cell_type": "markdown",
   "id": "cf1a09c8",
   "metadata": {},
   "source": [
    "11. Usa any() para comprobar si al menos un número en una lista es negativo.\n",
    "Pista: usa comprensión de listas"
   ]
  },
  {
   "cell_type": "code",
   "execution_count": null,
   "id": "0ec0e41c",
   "metadata": {},
   "outputs": [],
   "source": []
  },
  {
   "cell_type": "markdown",
   "id": "d7692ccc",
   "metadata": {},
   "source": [
    "12. Usa zip() y enumerate() para imprimir el índice y el par (nombre, edad) de\n",
    "dos listas combinadas"
   ]
  },
  {
   "cell_type": "code",
   "execution_count": null,
   "id": "37a1f9f9",
   "metadata": {},
   "outputs": [],
   "source": []
  },
  {
   "cell_type": "markdown",
   "id": "5f3f5ad4",
   "metadata": {},
   "source": [
    "13. Usa map() con lambda para convertir una lista de strings en mayúsculas."
   ]
  },
  {
   "cell_type": "code",
   "execution_count": null,
   "id": "bd32f3c1",
   "metadata": {},
   "outputs": [],
   "source": []
  },
  {
   "cell_type": "markdown",
   "id": "95519a33",
   "metadata": {},
   "source": [
    "14. Usa filter() con lambda para filtrar palabras que tengan más de 5 letras."
   ]
  },
  {
   "cell_type": "code",
   "execution_count": null,
   "id": "1148ee6a",
   "metadata": {},
   "outputs": [],
   "source": []
  },
  {
   "cell_type": "markdown",
   "id": "bb0d27ce",
   "metadata": {},
   "source": [
    "15. Usa all() para verificar si todos los elementos de una lista son mayores que cero. Pista: usa map() para generar la lista de booleanos"
   ]
  },
  {
   "cell_type": "code",
   "execution_count": null,
   "id": "289ea757",
   "metadata": {},
   "outputs": [],
   "source": []
  },
  {
   "cell_type": "markdown",
   "id": "e62dfb4c",
   "metadata": {},
   "source": [
    "16. Crea un diccionario por comprensión que relacione cada número del 1 al\n",
    "5 con su cuadrado."
   ]
  },
  {
   "cell_type": "code",
   "execution_count": null,
   "id": "48bce2ec",
   "metadata": {},
   "outputs": [],
   "source": []
  },
  {
   "cell_type": "markdown",
   "id": "ac3d36af",
   "metadata": {},
   "source": [
    "17. Usa enumerate() para obtener los índices de los elementos negativos en\n",
    "una lista"
   ]
  },
  {
   "cell_type": "code",
   "execution_count": null,
   "id": "55d1e532",
   "metadata": {},
   "outputs": [],
   "source": []
  },
  {
   "cell_type": "markdown",
   "id": "85def424",
   "metadata": {},
   "source": [
    "18. Usa map() y sum() para calcular la suma de los cuadrados de los números\n",
    "del 1 al 10"
   ]
  },
  {
   "cell_type": "code",
   "execution_count": null,
   "id": "ddbeca12",
   "metadata": {},
   "outputs": [],
   "source": []
  },
  {
   "cell_type": "markdown",
   "id": "4f941d02",
   "metadata": {},
   "source": [
    "19. Crea un diccionario por comprensión que relacione cada letra de una\n",
    "palabra con su posición en la palabra (usando enumerate())"
   ]
  },
  {
   "cell_type": "code",
   "execution_count": null,
   "id": "468baeb2",
   "metadata": {},
   "outputs": [],
   "source": []
  },
  {
   "cell_type": "markdown",
   "id": "29cba07f",
   "metadata": {},
   "source": [
    "20. Usa zip() y filter() para comparar dos listas de respuestas y obtener solo las\n",
    "respuestas correctas. Nota: crea dos listas -> respuestas = ['a', 'b', 'c'];\n",
    "correctas = ['a', 'x', 'c']"
   ]
  },
  {
   "cell_type": "code",
   "execution_count": null,
   "id": "a29cf321",
   "metadata": {},
   "outputs": [],
   "source": []
  },
  {
   "cell_type": "markdown",
   "id": "a901e73b",
   "metadata": {},
   "source": []
  },
  {
   "cell_type": "code",
   "execution_count": null,
   "id": "c574bfae",
   "metadata": {},
   "outputs": [],
   "source": []
  },
  {
   "cell_type": "markdown",
   "id": "6aae5383",
   "metadata": {},
   "source": []
  },
  {
   "cell_type": "code",
   "execution_count": null,
   "id": "5b095e83",
   "metadata": {},
   "outputs": [],
   "source": []
  }
 ],
 "metadata": {
  "kernelspec": {
   "display_name": "Python 3",
   "language": "python",
   "name": "python3"
  },
  "language_info": {
   "codemirror_mode": {
    "name": "ipython",
    "version": 3
   },
   "file_extension": ".py",
   "mimetype": "text/x-python",
   "name": "python",
   "nbconvert_exporter": "python",
   "pygments_lexer": "ipython3",
   "version": "3.13.7"
  }
 },
 "nbformat": 4,
 "nbformat_minor": 5
}
