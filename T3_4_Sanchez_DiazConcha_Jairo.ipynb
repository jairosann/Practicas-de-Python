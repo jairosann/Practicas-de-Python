{
 "cells": [
  {
   "cell_type": "markdown",
   "id": "ca7fe4dc",
   "metadata": {},
   "source": [
    "1. Saludo personalizado"
   ]
  },
  {
   "cell_type": "code",
   "execution_count": null,
   "id": "cb549371",
   "metadata": {},
   "outputs": [
    {
     "name": "stdout",
     "output_type": "stream",
     "text": [
      "Hola Jairo\n"
     ]
    }
   ],
   "source": [
    "nombre_usuario = input('Introduce tu nombre')  # Se pide al usuario su nombre\n",
    "print(f'Hola {nombre_usuario}')  # Se imprime el saludo personalizado utilizando un f-string"
   ]
  },
  {
   "cell_type": "markdown",
   "id": "a4fd237e",
   "metadata": {},
   "source": [
    "2. Suma de dos números"
   ]
  },
  {
   "cell_type": "code",
   "execution_count": null,
   "id": "b611d91b",
   "metadata": {},
   "outputs": [
    {
     "name": "stdout",
     "output_type": "stream",
     "text": [
      "La suma de los dos numeroas enteros es 7\n"
     ]
    }
   ],
   "source": [
    "# Pedimos al usuario 2 numeros enteros\n",
    "n1 = int(input('Establece un número entero:'))\n",
    "n2 = int(input('Establece un número entero:'))\n",
    "suma = n1 + n2  # Realizamos la suma de ambos números\n",
    "mensaje = 'La suma de los dos números enteros es {}'.format(suma)\n",
    "print(mensaje)  # Mostramos el resultado al usuario"
   ]
  },
  {
   "cell_type": "markdown",
   "id": "a9611461",
   "metadata": {},
   "source": [
    "3. Área de un triángulo"
   ]
  },
  {
   "cell_type": "code",
   "execution_count": null,
   "id": "c9f93a03",
   "metadata": {},
   "outputs": [
    {
     "name": "stdout",
     "output_type": "stream",
     "text": [
      "El área del triángulo es 5.78\n"
     ]
    }
   ],
   "source": [
    "# Pedimos la base y la altura del triángulo\n",
    "base = float(input('Establece la medida de la base del triángulo:'))\n",
    "altura = float(input('Establece la medida de la altura del triángulo:'))\n",
    "areat = (base * altura) / 2  # Calculamos el área con la fórmula\n",
    "mensaje = 'El área del triángulo es {:.2f}'.format(areat) # Establecemos el formato del mensaje poniendo 2 decimales\n",
    "print(mensaje)  # Imprime el área con formato"
   ]
  },
  {
   "cell_type": "markdown",
   "id": "b8cfba68",
   "metadata": {},
   "source": [
    "4. Conversor Celsius → Fahrenheit"
   ]
  },
  {
   "cell_type": "code",
   "execution_count": null,
   "id": "5cfecf81",
   "metadata": {},
   "outputs": [
    {
     "name": "stdout",
     "output_type": "stream",
     "text": [
      "La temperatura en grados fahrenheit es 35.6\n"
     ]
    }
   ],
   "source": [
    "# Pedimos una cantidad cualquiera de graos celsius\n",
    "celsius = float(input('Establece la temperatura en grados celsius: '))\n",
    "fahrenheit = (celsius * 9/5) + 32 # Cconvertimos de celsius a Fahrenheit\n",
    "print(f'La temperatura en grados fahrenheit es {fahrenheit}') # Imprimimos la temperatura en Fahrenheit"
   ]
  },
  {
   "cell_type": "markdown",
   "id": "4273722a",
   "metadata": {},
   "source": [
    "5. Doble y triple"
   ]
  },
  {
   "cell_type": "code",
   "execution_count": 24,
   "id": "a1443a30",
   "metadata": {},
   "outputs": [
    {
     "name": "stdout",
     "output_type": "stream",
     "text": [
      "El doble del numero es 8.0\n",
      "el triple del numero es 12.0\n"
     ]
    }
   ],
   "source": [
    "n = float(input('Establece un numero cualquiera')) # Pedimos un número cualquiera \n",
    "# Calculamos el doble y el triple\n",
    "doble = 2 * n\n",
    "triple = 3 * n\n",
    "# Imprimimos los resultados\n",
    "print(f'El doble del numero es {doble}')\n",
    "print(f'el triple del numero es {triple}')"
   ]
  },
  {
   "cell_type": "markdown",
   "id": "151a71ed",
   "metadata": {},
   "source": [
    "6. Comparación de dos números"
   ]
  },
  {
   "cell_type": "code",
   "execution_count": 17,
   "id": "32f89180",
   "metadata": {},
   "outputs": [
    {
     "name": "stdout",
     "output_type": "stream",
     "text": [
      "la comparacion es False\n",
      "la comparacion es True\n"
     ]
    }
   ],
   "source": [
    "# Pedimos 2 numeros al usuario\n",
    "n1 = float(input('Establece un numero cualquiera'))\n",
    "n2 = float(input('Establece otro numero cualquiera'))\n",
    "# Imprimimos la comparacion\n",
    "print(f'la comparacion es {n1 > n2}')\n",
    "print(f'la comparacion es {n1 < n2}')"
   ]
  },
  {
   "cell_type": "markdown",
   "id": "fbc185d3",
   "metadata": {},
   "source": [
    "7. Multiplicación con formato"
   ]
  },
  {
   "cell_type": "code",
   "execution_count": null,
   "id": "44f773a6",
   "metadata": {},
   "outputs": [
    {
     "name": "stdout",
     "output_type": "stream",
     "text": [
      "3.0 6.0 9.0\n"
     ]
    }
   ],
   "source": [
    "# Se pide al usuario un número\n",
    "n = float(input('Establece un numero cualquiera'))\n",
    "# Se hacen los calculos\n",
    "n_1 = n * 1\n",
    "n_2 = n * 2\n",
    "n_3 = n * 3\n",
    "# Los imprimimos en la misma linea usando end\n",
    "print(n_1, end=' ')\n",
    "print(n_2, end=' ')\n",
    "print(n_3)"
   ]
  },
  {
   "cell_type": "markdown",
   "id": "f9dc04f0",
   "metadata": {},
   "source": [
    "8. Evaluación de operadores lógicos"
   ]
  },
  {
   "cell_type": "code",
   "execution_count": null,
   "id": "9a3c98e8",
   "metadata": {},
   "outputs": [
    {
     "name": "stdout",
     "output_type": "stream",
     "text": [
      "30 60\n",
      "False\n",
      "True\n"
     ]
    }
   ],
   "source": [
    "# Se piden dos números cualquiera al usuario \n",
    "n1 = int(input('Establece un numero cualquiera'))\n",
    "n2 = int(input('Establece otro numero cualquiera'))\n",
    "# Imprimimos los numeros\n",
    "print(n1, n2)\n",
    "# Evaluamos los numeros con operadores\n",
    "print(n1 > 10 and n2 < 50)\n",
    "print(n1 > 10 or n2 < 50)\n"
   ]
  },
  {
   "cell_type": "markdown",
   "id": "fcbfaffd",
   "metadata": {},
   "source": [
    "9. Longitud de un nombre"
   ]
  },
  {
   "cell_type": "code",
   "execution_count": null,
   "id": "7b1a4398",
   "metadata": {},
   "outputs": [
    {
     "name": "stdout",
     "output_type": "stream",
     "text": [
      "Tu nombre tiene 5 letras\n"
     ]
    }
   ],
   "source": [
    "# Pedimos su nombre al usuario\n",
    "nombre_usuario = input('introduce tu nombre: ')\n",
    "# Calculamos cuantas letras tiene su nombre\n",
    "long_nombre = len(nombre_usuario)\n",
    "# Mostramos cuantas letras tiene el nombre del usuario\n",
    "print(f'Tu nombre tiene {long_nombre} letras')"
   ]
  },
  {
   "cell_type": "markdown",
   "id": "8a4bf537",
   "metadata": {},
   "source": [
    "10. Conversión de minutos a horas y minutos"
   ]
  },
  {
   "cell_type": "code",
   "execution_count": null,
   "id": "d8770d85",
   "metadata": {},
   "outputs": [
    {
     "name": "stdout",
     "output_type": "stream",
     "text": [
      "120 minutos son: 2 horas y 0 minutos\n"
     ]
    }
   ],
   "source": [
    "# Pedimos al usuario una cantidad de minutos\n",
    "minutos = int(input('Establece un numero de minutos'))\n",
    "# Caclulamos las horas sin el resto\n",
    "horas = minutos // 60\n",
    "# Ponemos con el módulo, el resto en minutos\n",
    "minutos_restantes = minutos % 60\n",
    "# Imprimimos a cuantas horas y minutos corresponde\n",
    "print(f'{minutos} minutos son: {horas} horas y {minutos_restantes} minutos')"
   ]
  },
  {
   "cell_type": "markdown",
   "id": "1d9e1199",
   "metadata": {},
   "source": [
    "11. Imprimir con separadores personalizados"
   ]
  },
  {
   "cell_type": "code",
   "execution_count": 25,
   "id": "a65c9782",
   "metadata": {},
   "outputs": [
    {
     "name": "stdout",
     "output_type": "stream",
     "text": [
      "hola-mundo-python\n"
     ]
    }
   ],
   "source": [
    "print('hola', 'mundo', 'python', sep='-') # Imprimimos 3 cadenas de caracteres separadas con '-'"
   ]
  },
  {
   "cell_type": "markdown",
   "id": "04adb2a5",
   "metadata": {},
   "source": [
    "12. Imprimir en la misma línea"
   ]
  },
  {
   "cell_type": "code",
   "execution_count": 26,
   "id": "c92094dd",
   "metadata": {},
   "outputs": [
    {
     "name": "stdout",
     "output_type": "stream",
     "text": [
      "hola que tal?\n"
     ]
    }
   ],
   "source": [
    "# Pedimos 3 palabras al usuario\n",
    "palabra1 = input('Establece una palabra')\n",
    "palabra2 = input('Establece otra palabra')\n",
    "palabra3 = input('Establece una última palabra')\n",
    "# Las imprimimos en la misma linea usando end\n",
    "print(palabra1, end=' ')\n",
    "print(palabra2, end=' ')\n",
    "print(palabra3)"
   ]
  },
  {
   "cell_type": "markdown",
   "id": "255b8523",
   "metadata": {},
   "source": [
    "13. Cálculo de descuento"
   ]
  },
  {
   "cell_type": "code",
   "execution_count": null,
   "id": "97eadef1",
   "metadata": {},
   "outputs": [
    {
     "name": "stdout",
     "output_type": "stream",
     "text": [
      "El precio final del producto es de 87.0 €\n"
     ]
    }
   ],
   "source": [
    "# Pedimos al usuario el precio y el descuento de un producto\n",
    "precio_producto = float(input('Establece el precio del producto: '))\n",
    "porcentaje_descuento = float(input('Establece el porcentaje de descuneto del producto: '))\n",
    "# # Calculamos el precio final del producto y lo imprimimos\n",
    "precio_final = precio_producto * (1 - (porcentaje_descuento / 100))\n",
    "print(f'El precio final del producto es de {precio_final} €')"
   ]
  },
  {
   "cell_type": "markdown",
   "id": "048df1c5",
   "metadata": {},
   "source": [
    "14. Operadores de pertenencia"
   ]
  },
  {
   "cell_type": "code",
   "execution_count": null,
   "id": "6937c1f1",
   "metadata": {},
   "outputs": [
    {
     "name": "stdout",
     "output_type": "stream",
     "text": [
      "hola \n",
      "f\n",
      "False\n"
     ]
    }
   ],
   "source": [
    "# Pedimos al usuario un texto y una letra\n",
    "texto = input('Establece una frase: ')\n",
    "letra = input('Establece una letra: ')\n",
    "# Imprimimos el texto, la letra y si la letra está contenida en el texto\n",
    "print(texto)\n",
    "print(letra)\n",
    "print(letra in texto)"
   ]
  },
  {
   "cell_type": "markdown",
   "id": "c44a9612",
   "metadata": {},
   "source": [
    "15. Comparación de identidad"
   ]
  },
  {
   "cell_type": "code",
   "execution_count": null,
   "id": "67d33c0c",
   "metadata": {},
   "outputs": [
    {
     "name": "stdout",
     "output_type": "stream",
     "text": [
      "gewb\n",
      "nrgefw\n",
      "False\n",
      "True\n"
     ]
    }
   ],
   "source": [
    "# Pedimos al usuario dos cadenas de texto\n",
    "str1 = input('establece una cadena de texto: ')\n",
    "str2 = input('Establece otra cadena de texto: ')\n",
    "# Las imprimimos\n",
    "print(str1)\n",
    "print(str2)\n",
    "# Comprobamos si la primera cadena, en memoria, es igual que la segunda o no\n",
    "print(str1 is str2)\n",
    "print(str1 is not str2)"
   ]
  },
  {
   "cell_type": "markdown",
   "id": "a8826531",
   "metadata": {},
   "source": [
    "16. Número dentro de un rango"
   ]
  },
  {
   "cell_type": "code",
   "execution_count": null,
   "id": "bb26af19",
   "metadata": {},
   "outputs": [
    {
     "name": "stdout",
     "output_type": "stream",
     "text": [
      "True\n"
     ]
    }
   ],
   "source": [
    "# Pedimos al usuario un numero\n",
    "n1 = float(input('Establece un numero cualquiera: '))\n",
    "# Comprobamos si pertenece al intervalo [10, 50]\n",
    "pertenencia = 10 <= n1 <= 50\n",
    "# Imprimimos el número y vemos si pertenece al intervalo\n",
    "print(n1)\n",
    "print(pertenencia)"
   ]
  },
  {
   "cell_type": "markdown",
   "id": "bf5849a7",
   "metadata": {},
   "source": [
    "17. Tabla de productos"
   ]
  },
  {
   "cell_type": "code",
   "execution_count": null,
   "id": "c28d2221",
   "metadata": {},
   "outputs": [
    {
     "name": "stdout",
     "output_type": "stream",
     "text": [
      "Producto            Precio\n",
      "zapatillas           70.00\n",
      "sudadera             60.00\n",
      "pantalones           40.00\n"
     ]
    }
   ],
   "source": [
    "# Pedimos al usuario el precio y nombre de 3 productos\n",
    "producto1 = input(\"Nombre del primer producto: \")\n",
    "precio1 = float(input(\"Precio del primer producto: \"))\n",
    "producto2 = input(\"Nombre del segundo producto: \")\n",
    "precio2 = float(input(\"Precio del segundo producto: \"))\n",
    "producto3 = input(\"Nombre del tercer producto: \")\n",
    "precio3 = float(input(\"Precio del tercer producto: \"))\n",
    "# Establecemos con format dos columnas llamadas producto y precio y ponemos cada uno de los nombres y precios que ha establecido el usuario\n",
    "print(\"{:<15} {:>10}\".format(\"Producto\", \"Precio\"))\n",
    "print(\"{:<15} {:>10.2f}\".format(producto1, precio1))\n",
    "print(\"{:<15} {:>10.2f}\".format(producto2, precio2))\n",
    "print(\"{:<15} {:>10.2f}\".format(producto3, precio3))\n"
   ]
  },
  {
   "cell_type": "markdown",
   "id": "7ef8d0c6",
   "metadata": {},
   "source": [
    "18. Mini calculadora"
   ]
  },
  {
   "cell_type": "code",
   "execution_count": null,
   "id": "3ee1bda5",
   "metadata": {},
   "outputs": [
    {
     "name": "stdout",
     "output_type": "stream",
     "text": [
      "5.0\n",
      "-1.0\n",
      "6.0\n",
      "0.6666666666666666\n"
     ]
    }
   ],
   "source": [
    "# Pedimos al usuario dos numeros cualesquiera\n",
    "n1 = float(input('Establece un numero cualquiera: '))\n",
    "n2 = float(input('Establece otro numero cualquiera: '))\n",
    "# Calculamos su suma, resta, multiplicación y división\n",
    "suma = n1 + n2\n",
    "resta = n1 - n2\n",
    "prod = n1 * n2\n",
    "div = n1 / n2\n",
    "# Mostramos los resultados\n",
    "print(f'El resultado de la suma es {suma}')\n",
    "print(f'El resultado de la resta es {resta}')\n",
    "print(f'El resultado de la multiplicación es {prod}')\n",
    "print(f'El resultado de la división es {div}')"
   ]
  },
  {
   "cell_type": "markdown",
   "id": "5d08e695",
   "metadata": {},
   "source": [
    "19. Entrada múltiple en una sola línea"
   ]
  },
  {
   "cell_type": "code",
   "execution_count": null,
   "id": "f6b08900",
   "metadata": {},
   "outputs": [
    {
     "name": "stdout",
     "output_type": "stream",
     "text": [
      "La suma de los dos numeros en su formato entero es: 4\n"
     ]
    }
   ],
   "source": [
    "# Mapeamos dos numeros pedidos al usuario usando map y split\n",
    "n1, n2 = map(float, input('Establece 2 numeros separados por un espacio: ').split())\n",
    "# Los convertimos a entero y los sumamos\n",
    "n1 = int(n1)\n",
    "n2 = int(n2)\n",
    "suma = n1 + n2\n",
    "print(f'La suma de los dos numeros en su formato entero es: {suma}') # Mostramos la suma de los números\n"
   ]
  }
 ],
 "metadata": {
  "kernelspec": {
   "display_name": "Python 3",
   "language": "python",
   "name": "python3"
  },
  "language_info": {
   "codemirror_mode": {
    "name": "ipython",
    "version": 3
   },
   "file_extension": ".py",
   "mimetype": "text/x-python",
   "name": "python",
   "nbconvert_exporter": "python",
   "pygments_lexer": "ipython3",
   "version": "3.13.7"
  }
 },
 "nbformat": 4,
 "nbformat_minor": 5
}
