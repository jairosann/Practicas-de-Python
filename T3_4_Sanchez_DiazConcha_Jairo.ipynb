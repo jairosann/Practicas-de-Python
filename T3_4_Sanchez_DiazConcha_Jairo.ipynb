{
 "cells": [
  {
   "cell_type": "markdown",
   "id": "ca7fe4dc",
   "metadata": {},
   "source": [
    "1. Saludo personalizado"
   ]
  },
  {
   "cell_type": "code",
   "execution_count": null,
   "id": "cb549371",
   "metadata": {},
   "outputs": [
    {
     "name": "stdout",
     "output_type": "stream",
     "text": [
      "Hola Jairo\n"
     ]
    }
   ],
   "source": [
    "nombre_usuario = input('Introduce tu nombre') # Se pide al usuario su nombre\n",
    "print(f'Hola {nombre_usuario}') # Se imprime el nombre del usuario usando f-string y establece un saludo personalizado"
   ]
  },
  {
   "cell_type": "markdown",
   "id": "a4fd237e",
   "metadata": {},
   "source": [
    "2. Suma de dos números"
   ]
  },
  {
   "cell_type": "code",
   "execution_count": 10,
   "id": "b611d91b",
   "metadata": {},
   "outputs": [
    {
     "name": "stdout",
     "output_type": "stream",
     "text": [
      "La suma de los dos numeroas enteros es 7\n"
     ]
    }
   ],
   "source": [
    "n1 = int(input('Establece un número entero:'))\n",
    "n2 = int(input('Establece un número entero:'))\n",
    "suma = n1 + n2\n",
    "mensaje = 'La suma de los dos numeroas enteros es {}'.format(suma)\n",
    "print(mensaje)"
   ]
  },
  {
   "cell_type": "markdown",
   "id": "a9611461",
   "metadata": {},
   "source": [
    "3. Área de un triángulo"
   ]
  },
  {
   "cell_type": "code",
   "execution_count": 15,
   "id": "c9f93a03",
   "metadata": {},
   "outputs": [
    {
     "name": "stdout",
     "output_type": "stream",
     "text": [
      "El área del triángulo es 5.78\n"
     ]
    }
   ],
   "source": [
    "base = float(input('Establece la medida de la base del triángulo:'))\n",
    "altura = float(input('Establece la medida de la altura del triángulo:'))\n",
    "areat = (base * altura) / 2\n",
    "mensaje = 'El área del triángulo es {:.2f}'.format(areat)\n",
    "print(mensaje)"
   ]
  },
  {
   "cell_type": "code",
   "execution_count": 16,
   "id": "0af89331",
   "metadata": {},
   "outputs": [
    {
     "name": "stdout",
     "output_type": "stream",
     "text": [
      "El área del triángulo es 5.78\n"
     ]
    }
   ],
   "source": [
    "base = float(input('Establece la medida de la base del triángulo:'))\n",
    "altura = float(input('Establece la medida de la altura del triángulo:'))\n",
    "areat = (base * altura) / 2\n",
    "print(f'El área del triángulo es {areat:.2f}')"
   ]
  },
  {
   "cell_type": "markdown",
   "id": "b8cfba68",
   "metadata": {},
   "source": [
    "4. Conversor Celsius → Fahrenheit"
   ]
  },
  {
   "cell_type": "code",
   "execution_count": 20,
   "id": "5cfecf81",
   "metadata": {},
   "outputs": [
    {
     "name": "stdout",
     "output_type": "stream",
     "text": [
      "La temperatura en grados fahrenheit es 35.6\n"
     ]
    }
   ],
   "source": [
    "celsius = float(input('Establece la temperatura en grados celsius: '))\n",
    "fahrenheit = (celsius * 9/5) + 32\n",
    "print(f'La temperatura en grados fahrenheit es {fahrenheit}')"
   ]
  },
  {
   "cell_type": "markdown",
   "id": "4273722a",
   "metadata": {},
   "source": [
    "5. Doble y triple"
   ]
  },
  {
   "cell_type": "code",
   "execution_count": null,
   "id": "a1443a30",
   "metadata": {},
   "outputs": [],
   "source": [
    "n = float(input('Establece un numero cualquiera'))\n",
    "doble = 2 * n\n",
    "triple = 3 * n\n",
    "print(f'El doble del numero es {doble}')\n",
    "print(f'el triple del numero es {triple}')"
   ]
  },
  {
   "cell_type": "markdown",
   "id": "151a71ed",
   "metadata": {},
   "source": [
    "6. Comparación de dos números"
   ]
  },
  {
   "cell_type": "code",
   "execution_count": null,
   "id": "32f89180",
   "metadata": {},
   "outputs": [
    {
     "name": "stdout",
     "output_type": "stream",
     "text": [
      "la comparacion es False\n",
      "False\n",
      "True\n"
     ]
    }
   ],
   "source": [
    "n1 = float(input('Establece un numero cualquiera'))\n",
    "n2 = float(input('Establece otro numero cualquiera'))\n",
    "print(f'n1 {n1 > n2}')\n",
    "print(f'la comparacion es {n1 > n2}')\n",
    "print(f'la comparacion es {n1 > n2}')"
   ]
  },
  {
   "cell_type": "markdown",
   "id": "fbc185d3",
   "metadata": {},
   "source": [
    "7. Multiplicación con formato"
   ]
  },
  {
   "cell_type": "code",
   "execution_count": null,
   "id": "44f773a6",
   "metadata": {},
   "outputs": [
    {
     "name": "stdout",
     "output_type": "stream",
     "text": [
      "3.0 6.0 9.0\n"
     ]
    }
   ],
   "source": [
    "n = float(input('Establece un numero cualquiera'))\n",
    "n_1 = n * 1\n",
    "n_2 = n * 2\n",
    "n_3 = n * 3\n",
    "print(n_1)\n",
    "print(n_2)\n",
    "print(n_3)"
   ]
  },
  {
   "cell_type": "markdown",
   "id": "f9dc04f0",
   "metadata": {},
   "source": [
    "8. Evaluación de operadores lógicos"
   ]
  },
  {
   "cell_type": "code",
   "execution_count": null,
   "id": "9a3c98e8",
   "metadata": {},
   "outputs": [
    {
     "name": "stdout",
     "output_type": "stream",
     "text": [
      "False\n"
     ]
    }
   ],
   "source": [
    "n1 = int(input('Establece un numero cualquiera'))\n",
    "n2 = int(input('Establece otro numero cualquiera'))\n",
    "print(n1 < 10 and n2 < 10)\n",
    "print()\n"
   ]
  },
  {
   "cell_type": "markdown",
   "id": "fcbfaffd",
   "metadata": {},
   "source": [
    "9. Longitud de un nombre"
   ]
  },
  {
   "cell_type": "code",
   "execution_count": 7,
   "id": "7b1a4398",
   "metadata": {},
   "outputs": [
    {
     "name": "stdout",
     "output_type": "stream",
     "text": [
      "Tu nombre tiene 5 letras\n"
     ]
    }
   ],
   "source": [
    "nombre_usuario = input('introduce tu nombre')\n",
    "long_nombre = len(nombre_usuario)\n",
    "print(f'Tu nombre tiene {long_nombre} letras')"
   ]
  },
  {
   "cell_type": "markdown",
   "id": "8a4bf537",
   "metadata": {},
   "source": [
    "10. Conversión de minutos a horas y minutos"
   ]
  },
  {
   "cell_type": "code",
   "execution_count": 14,
   "id": "d8770d85",
   "metadata": {},
   "outputs": [
    {
     "name": "stdout",
     "output_type": "stream",
     "text": [
      "120 minutos son: 2 horas y 0 minutos\n"
     ]
    }
   ],
   "source": [
    "minutos = int(input('Establece un numero de minutos'))\n",
    "horas = minutos // 60\n",
    "minutos_restantes = minutos % 60\n",
    "print(f'{minutos} minutos son: {horas} horas y {minutos_restantes} minutos')"
   ]
  },
  {
   "cell_type": "markdown",
   "id": "1d9e1199",
   "metadata": {},
   "source": [
    "11. Imprimir con separadores personalizados"
   ]
  },
  {
   "cell_type": "code",
   "execution_count": null,
   "id": "a65c9782",
   "metadata": {},
   "outputs": [],
   "source": [
    "palabra1 = input('Establece una palabra')\n",
    "palabra2 = \n",
    "palabra3 = "
   ]
  },
  {
   "cell_type": "markdown",
   "id": "04adb2a5",
   "metadata": {},
   "source": [
    "12. Imprimir en la misma línea"
   ]
  },
  {
   "cell_type": "code",
   "execution_count": null,
   "id": "c92094dd",
   "metadata": {},
   "outputs": [],
   "source": []
  },
  {
   "cell_type": "markdown",
   "id": "255b8523",
   "metadata": {},
   "source": [
    "13. Cálculo de descuento"
   ]
  },
  {
   "cell_type": "code",
   "execution_count": null,
   "id": "97eadef1",
   "metadata": {},
   "outputs": [],
   "source": []
  }
 ],
 "metadata": {
  "kernelspec": {
   "display_name": "Python 3",
   "language": "python",
   "name": "python3"
  },
  "language_info": {
   "codemirror_mode": {
    "name": "ipython",
    "version": 3
   },
   "file_extension": ".py",
   "mimetype": "text/x-python",
   "name": "python",
   "nbconvert_exporter": "python",
   "pygments_lexer": "ipython3",
   "version": "3.13.7"
  }
 },
 "nbformat": 4,
 "nbformat_minor": 5
}
