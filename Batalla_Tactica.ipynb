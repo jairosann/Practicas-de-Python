{
 "cells": [
  {
   "cell_type": "code",
   "execution_count": 2,
   "id": "910bc50f",
   "metadata": {},
   "outputs": [
    {
     "data": {
      "text/html": [
       "<pre style=\"white-space:pre;overflow-x:auto;line-height:normal;font-family:Menlo,'DejaVu Sans Mono',consolas,'Courier New',monospace\"><span style=\"color: #808000; text-decoration-color: #808000; background-color: #000000; font-weight: bold\">=== Batalla Táctica ===</span>\n",
       "</pre>\n"
      ],
      "text/plain": [
       "\u001b[1;33;40m=== Batalla Táctica ===\u001b[0m\n"
      ]
     },
     "metadata": {},
     "output_type": "display_data"
    },
    {
     "data": {
      "text/html": [
       "<pre style=\"white-space:pre;overflow-x:auto;line-height:normal;font-family:Menlo,'DejaVu Sans Mono',consolas,'Courier New',monospace\"><span style=\"color: #008080; text-decoration-color: #008080; font-weight: bold\">Nombre del Jugador 1</span>: </pre>\n"
      ],
      "text/plain": [
       "\u001b[1;36mNombre del Jugador 1\u001b[0m: "
      ]
     },
     "metadata": {},
     "output_type": "display_data"
    },
    {
     "data": {
      "text/html": [
       "<pre style=\"white-space:pre;overflow-x:auto;line-height:normal;font-family:Menlo,'DejaVu Sans Mono',consolas,'Courier New',monospace\"><span style=\"color: #008080; text-decoration-color: #008080; font-weight: bold\">Nombre del Jugador 2</span>: </pre>\n"
      ],
      "text/plain": [
       "\u001b[1;36mNombre del Jugador 2\u001b[0m: "
      ]
     },
     "metadata": {},
     "output_type": "display_data"
    },
    {
     "data": {
      "text/html": [
       "<pre style=\"white-space:pre;overflow-x:auto;line-height:normal;font-family:Menlo,'DejaVu Sans Mono',consolas,'Courier New',monospace\"><span style=\"color: #ff00ff; text-decoration-color: #ff00ff\">╭── </span><span style=\"color: #800080; text-decoration-color: #800080; font-weight: bold\">-------- ESTADÍSTICAS --------</span><span style=\"color: #ff00ff; text-decoration-color: #ff00ff\"> ──╮</span>\n",
       "<span style=\"color: #ff00ff; text-decoration-color: #ff00ff\">│</span> <span style=\"color: #008080; text-decoration-color: #008080; font-weight: bold\">Hola</span>                               <span style=\"color: #ff00ff; text-decoration-color: #ff00ff\">│</span>\n",
       "<span style=\"color: #ff00ff; text-decoration-color: #ff00ff\">│</span> <span style=\"color: #008000; text-decoration-color: #008000; font-weight: bold\">VIDA:</span> 100/125 <span style=\"color: #008000; text-decoration-color: #008000; font-weight: bold\">████████████████</span><span style=\"color: #800000; text-decoration-color: #800000; font-weight: bold\">░░░░</span> <span style=\"color: #ff00ff; text-decoration-color: #ff00ff\">│</span>\n",
       "<span style=\"color: #ff00ff; text-decoration-color: #ff00ff\">│</span> <span style=\"color: #808000; text-decoration-color: #808000; font-weight: bold\">ENERGÍA:</span> <span style=\"color: #808000; text-decoration-color: #808000; font-weight: bold\">■</span> <span style=\"color: #808000; text-decoration-color: #808000; font-weight: bold\">■</span> <span style=\"color: #808000; text-decoration-color: #808000; font-weight: bold\">■</span> <span style=\"color: #dfdfdf; text-decoration-color: #dfdfdf\">□</span> <span style=\"color: #dfdfdf; text-decoration-color: #dfdfdf\">□</span>                 <span style=\"color: #ff00ff; text-decoration-color: #ff00ff\">│</span>\n",
       "<span style=\"color: #ff00ff; text-decoration-color: #ff00ff\">│</span> <span style=\"color: #800000; text-decoration-color: #800000; font-weight: bold\">RECARGAS:</span> <span style=\"color: #800000; text-decoration-color: #800000; font-weight: bold\">■</span>                        <span style=\"color: #ff00ff; text-decoration-color: #ff00ff\">│</span>\n",
       "<span style=\"color: #ff00ff; text-decoration-color: #ff00ff\">╰────────────────────────────────────╯</span>\n",
       "</pre>\n"
      ],
      "text/plain": [
       "\u001b[95m╭─\u001b[0m\u001b[95m─\u001b[0m\u001b[95m \u001b[0m\u001b[1;35m-------- ESTADÍSTICAS --------\u001b[0m\u001b[95m \u001b[0m\u001b[95m─\u001b[0m\u001b[95m─╮\u001b[0m\n",
       "\u001b[95m│\u001b[0m \u001b[1;36mHola\u001b[0m                               \u001b[95m│\u001b[0m\n",
       "\u001b[95m│\u001b[0m \u001b[1;32mVIDA:\u001b[0m 100/125 \u001b[1;32m████████████████\u001b[0m\u001b[1;31m░░░░\u001b[0m \u001b[95m│\u001b[0m\n",
       "\u001b[95m│\u001b[0m \u001b[1;33mENERGÍA:\u001b[0m \u001b[1;33m■\u001b[0m \u001b[1;33m■\u001b[0m \u001b[1;33m■\u001b[0m \u001b[2;37m□\u001b[0m \u001b[2;37m□\u001b[0m                 \u001b[95m│\u001b[0m\n",
       "\u001b[95m│\u001b[0m \u001b[1;31mRECARGAS:\u001b[0m \u001b[1;31m■\u001b[0m                        \u001b[95m│\u001b[0m\n",
       "\u001b[95m╰────────────────────────────────────╯\u001b[0m\n"
      ]
     },
     "metadata": {},
     "output_type": "display_data"
    },
    {
     "data": {
      "text/html": [
       "<pre style=\"white-space:pre;overflow-x:auto;line-height:normal;font-family:Menlo,'DejaVu Sans Mono',consolas,'Courier New',monospace\"><span style=\"color: #ff00ff; text-decoration-color: #ff00ff\">╭── </span><span style=\"color: #800080; text-decoration-color: #800080; font-weight: bold\">-------- ESTADÍSTICAS --------</span><span style=\"color: #ff00ff; text-decoration-color: #ff00ff\"> ──╮</span>\n",
       "<span style=\"color: #ff00ff; text-decoration-color: #ff00ff\">│</span> <span style=\"color: #008080; text-decoration-color: #008080; font-weight: bold\">Hola</span>                               <span style=\"color: #ff00ff; text-decoration-color: #ff00ff\">│</span>\n",
       "<span style=\"color: #ff00ff; text-decoration-color: #ff00ff\">│</span> <span style=\"color: #008000; text-decoration-color: #008000; font-weight: bold\">VIDA:</span> 100/125 <span style=\"color: #008000; text-decoration-color: #008000; font-weight: bold\">████████████████</span><span style=\"color: #800000; text-decoration-color: #800000; font-weight: bold\">░░░░</span> <span style=\"color: #ff00ff; text-decoration-color: #ff00ff\">│</span>\n",
       "<span style=\"color: #ff00ff; text-decoration-color: #ff00ff\">│</span> <span style=\"color: #808000; text-decoration-color: #808000; font-weight: bold\">ENERGÍA:</span> <span style=\"color: #808000; text-decoration-color: #808000; font-weight: bold\">■</span> <span style=\"color: #808000; text-decoration-color: #808000; font-weight: bold\">■</span> <span style=\"color: #808000; text-decoration-color: #808000; font-weight: bold\">■</span> <span style=\"color: #dfdfdf; text-decoration-color: #dfdfdf\">□</span> <span style=\"color: #dfdfdf; text-decoration-color: #dfdfdf\">□</span>                 <span style=\"color: #ff00ff; text-decoration-color: #ff00ff\">│</span>\n",
       "<span style=\"color: #ff00ff; text-decoration-color: #ff00ff\">│</span> <span style=\"color: #800000; text-decoration-color: #800000; font-weight: bold\">RECARGAS:</span> <span style=\"color: #800000; text-decoration-color: #800000; font-weight: bold\">■</span>                        <span style=\"color: #ff00ff; text-decoration-color: #ff00ff\">│</span>\n",
       "<span style=\"color: #ff00ff; text-decoration-color: #ff00ff\">╰────────────────────────────────────╯</span>\n",
       "</pre>\n"
      ],
      "text/plain": [
       "\u001b[95m╭─\u001b[0m\u001b[95m─\u001b[0m\u001b[95m \u001b[0m\u001b[1;35m-------- ESTADÍSTICAS --------\u001b[0m\u001b[95m \u001b[0m\u001b[95m─\u001b[0m\u001b[95m─╮\u001b[0m\n",
       "\u001b[95m│\u001b[0m \u001b[1;36mHola\u001b[0m                               \u001b[95m│\u001b[0m\n",
       "\u001b[95m│\u001b[0m \u001b[1;32mVIDA:\u001b[0m 100/125 \u001b[1;32m████████████████\u001b[0m\u001b[1;31m░░░░\u001b[0m \u001b[95m│\u001b[0m\n",
       "\u001b[95m│\u001b[0m \u001b[1;33mENERGÍA:\u001b[0m \u001b[1;33m■\u001b[0m \u001b[1;33m■\u001b[0m \u001b[1;33m■\u001b[0m \u001b[2;37m□\u001b[0m \u001b[2;37m□\u001b[0m                 \u001b[95m│\u001b[0m\n",
       "\u001b[95m│\u001b[0m \u001b[1;31mRECARGAS:\u001b[0m \u001b[1;31m■\u001b[0m                        \u001b[95m│\u001b[0m\n",
       "\u001b[95m╰────────────────────────────────────╯\u001b[0m\n"
      ]
     },
     "metadata": {},
     "output_type": "display_data"
    },
    {
     "data": {
      "text/html": [
       "<pre style=\"white-space:pre;overflow-x:auto;line-height:normal;font-family:Menlo,'DejaVu Sans Mono',consolas,'Courier New',monospace\"><span style=\"color: #800080; text-decoration-color: #800080; font-weight: bold\">Turno de Hola</span>\n",
       "</pre>\n"
      ],
      "text/plain": [
       "\u001b[1;35mTurno de Hola\u001b[0m\n"
      ]
     },
     "metadata": {},
     "output_type": "display_data"
    },
    {
     "data": {
      "text/html": [
       "<pre style=\"white-space:pre;overflow-x:auto;line-height:normal;font-family:Menlo,'DejaVu Sans Mono',consolas,'Courier New',monospace\"><span style=\"color: #008080; text-decoration-color: #008080; font-weight: bold\">1</span>. Atacar\n",
       "<span style=\"color: #008080; text-decoration-color: #008080; font-weight: bold\">2</span>. Recargar Energía\n",
       "<span style=\"color: #008080; text-decoration-color: #008080; font-weight: bold\">3</span>. Recargar Vida\n",
       "<span style=\"color: #008080; text-decoration-color: #008080; font-weight: bold\">4</span>. Obtener Recarga de Vida\n",
       "</pre>\n"
      ],
      "text/plain": [
       "\u001b[1;36m1\u001b[0m. Atacar\n",
       "\u001b[1;36m2\u001b[0m. Recargar Energía\n",
       "\u001b[1;36m3\u001b[0m. Recargar Vida\n",
       "\u001b[1;36m4\u001b[0m. Obtener Recarga de Vida\n"
      ]
     },
     "metadata": {},
     "output_type": "display_data"
    },
    {
     "data": {
      "text/html": [
       "<pre style=\"white-space:pre;overflow-x:auto;line-height:normal;font-family:Menlo,'DejaVu Sans Mono',consolas,'Courier New',monospace\">Elige una acción <span style=\"color: #800080; text-decoration-color: #800080; font-weight: bold\">[1/2/3/4]</span>: </pre>\n"
      ],
      "text/plain": [
       "Elige una acción \u001b[1;35m[1/2/3/4]\u001b[0m: "
      ]
     },
     "metadata": {},
     "output_type": "display_data"
    },
    {
     "data": {
      "text/html": [
       "<pre style=\"white-space:pre;overflow-x:auto;line-height:normal;font-family:Menlo,'DejaVu Sans Mono',consolas,'Courier New',monospace\"><span style=\"color: #800000; text-decoration-color: #800000\">Please select one of the available options</span>\n",
       "</pre>\n"
      ],
      "text/plain": [
       "\u001b[31mPlease select one of the available options\u001b[0m\n"
      ]
     },
     "metadata": {},
     "output_type": "display_data"
    },
    {
     "data": {
      "text/html": [
       "<pre style=\"white-space:pre;overflow-x:auto;line-height:normal;font-family:Menlo,'DejaVu Sans Mono',consolas,'Courier New',monospace\">Elige una acción <span style=\"color: #800080; text-decoration-color: #800080; font-weight: bold\">[1/2/3/4]</span>: </pre>\n"
      ],
      "text/plain": [
       "Elige una acción \u001b[1;35m[1/2/3/4]\u001b[0m: "
      ]
     },
     "metadata": {},
     "output_type": "display_data"
    },
    {
     "data": {
      "text/html": [
       "<pre style=\"white-space:pre;overflow-x:auto;line-height:normal;font-family:Menlo,'DejaVu Sans Mono',consolas,'Courier New',monospace\"><span style=\"color: #800000; text-decoration-color: #800000\">Please select one of the available options</span>\n",
       "</pre>\n"
      ],
      "text/plain": [
       "\u001b[31mPlease select one of the available options\u001b[0m\n"
      ]
     },
     "metadata": {},
     "output_type": "display_data"
    },
    {
     "data": {
      "text/html": [
       "<pre style=\"white-space:pre;overflow-x:auto;line-height:normal;font-family:Menlo,'DejaVu Sans Mono',consolas,'Courier New',monospace\">Elige una acción <span style=\"color: #800080; text-decoration-color: #800080; font-weight: bold\">[1/2/3/4]</span>: </pre>\n"
      ],
      "text/plain": [
       "Elige una acción \u001b[1;35m[1/2/3/4]\u001b[0m: "
      ]
     },
     "metadata": {},
     "output_type": "display_data"
    },
    {
     "data": {
      "text/html": [
       "<pre style=\"white-space:pre;overflow-x:auto;line-height:normal;font-family:Menlo,'DejaVu Sans Mono',consolas,'Courier New',monospace\"><span style=\"color: #808000; text-decoration-color: #808000; font-weight: bold\">Hola recarga </span><span style=\"color: #808000; text-decoration-color: #808000; font-weight: bold\">2</span><span style=\"color: #808000; text-decoration-color: #808000; font-weight: bold\"> de energía.</span>\n",
       "</pre>\n"
      ],
      "text/plain": [
       "\u001b[1;33mHola recarga \u001b[0m\u001b[1;33m2\u001b[0m\u001b[1;33m de energía.\u001b[0m\n"
      ]
     },
     "metadata": {},
     "output_type": "display_data"
    },
    {
     "data": {
      "text/html": [
       "<pre style=\"white-space:pre;overflow-x:auto;line-height:normal;font-family:Menlo,'DejaVu Sans Mono',consolas,'Courier New',monospace\"><span style=\"color: #800080; text-decoration-color: #800080; font-weight: bold\">Turno de Hola</span>\n",
       "</pre>\n"
      ],
      "text/plain": [
       "\u001b[1;35mTurno de Hola\u001b[0m\n"
      ]
     },
     "metadata": {},
     "output_type": "display_data"
    },
    {
     "data": {
      "text/html": [
       "<pre style=\"white-space:pre;overflow-x:auto;line-height:normal;font-family:Menlo,'DejaVu Sans Mono',consolas,'Courier New',monospace\"><span style=\"color: #008080; text-decoration-color: #008080; font-weight: bold\">1</span>. Atacar\n",
       "<span style=\"color: #008080; text-decoration-color: #008080; font-weight: bold\">2</span>. Recargar Energía\n",
       "<span style=\"color: #008080; text-decoration-color: #008080; font-weight: bold\">3</span>. Recargar Vida\n",
       "<span style=\"color: #008080; text-decoration-color: #008080; font-weight: bold\">4</span>. Obtener Recarga de Vida\n",
       "</pre>\n"
      ],
      "text/plain": [
       "\u001b[1;36m1\u001b[0m. Atacar\n",
       "\u001b[1;36m2\u001b[0m. Recargar Energía\n",
       "\u001b[1;36m3\u001b[0m. Recargar Vida\n",
       "\u001b[1;36m4\u001b[0m. Obtener Recarga de Vida\n"
      ]
     },
     "metadata": {},
     "output_type": "display_data"
    },
    {
     "data": {
      "text/html": [
       "<pre style=\"white-space:pre;overflow-x:auto;line-height:normal;font-family:Menlo,'DejaVu Sans Mono',consolas,'Courier New',monospace\">Elige una acción <span style=\"color: #800080; text-decoration-color: #800080; font-weight: bold\">[1/2/3/4]</span>: </pre>\n"
      ],
      "text/plain": [
       "Elige una acción \u001b[1;35m[1/2/3/4]\u001b[0m: "
      ]
     },
     "metadata": {},
     "output_type": "display_data"
    },
    {
     "data": {
      "text/html": [
       "<pre style=\"white-space:pre;overflow-x:auto;line-height:normal;font-family:Menlo,'DejaVu Sans Mono',consolas,'Courier New',monospace\">¿Cuántas municiones deseas usar (1-3)?: </pre>\n"
      ],
      "text/plain": [
       "¿Cuántas municiones deseas usar (1-3)?: "
      ]
     },
     "metadata": {},
     "output_type": "display_data"
    },
    {
     "data": {
      "text/html": [
       "<pre style=\"white-space:pre;overflow-x:auto;line-height:normal;font-family:Menlo,'DejaVu Sans Mono',consolas,'Courier New',monospace\"><span style=\"color: #808000; text-decoration-color: #808000; font-weight: bold\">Hola realizó un ataque con </span><span style=\"color: #808000; text-decoration-color: #808000; font-weight: bold\">15</span><span style=\"color: #808000; text-decoration-color: #808000; font-weight: bold\"> de daño!</span>\n",
       "</pre>\n"
      ],
      "text/plain": [
       "\u001b[1;33mHola realizó un ataque con \u001b[0m\u001b[1;33m15\u001b[0m\u001b[1;33m de daño!\u001b[0m\n"
      ]
     },
     "metadata": {},
     "output_type": "display_data"
    },
    {
     "data": {
      "text/html": [
       "<pre style=\"white-space:pre;overflow-x:auto;line-height:normal;font-family:Menlo,'DejaVu Sans Mono',consolas,'Courier New',monospace\"><span style=\"color: #ff00ff; text-decoration-color: #ff00ff\">╭─ </span><span style=\"color: #800080; text-decoration-color: #800080; font-weight: bold\">-------- ESTADÍSTICAS --------</span><span style=\"color: #ff00ff; text-decoration-color: #ff00ff\"> ──╮</span>\n",
       "<span style=\"color: #ff00ff; text-decoration-color: #ff00ff\">│</span> <span style=\"color: #008080; text-decoration-color: #008080; font-weight: bold\">Hola</span>                              <span style=\"color: #ff00ff; text-decoration-color: #ff00ff\">│</span>\n",
       "<span style=\"color: #ff00ff; text-decoration-color: #ff00ff\">│</span> <span style=\"color: #008000; text-decoration-color: #008000; font-weight: bold\">VIDA:</span> 85/125 <span style=\"color: #008000; text-decoration-color: #008000; font-weight: bold\">██████████████</span><span style=\"color: #800000; text-decoration-color: #800000; font-weight: bold\">░░░░░░</span> <span style=\"color: #ff00ff; text-decoration-color: #ff00ff\">│</span>\n",
       "<span style=\"color: #ff00ff; text-decoration-color: #ff00ff\">│</span> <span style=\"color: #808000; text-decoration-color: #808000; font-weight: bold\">ENERGÍA:</span> <span style=\"color: #808000; text-decoration-color: #808000; font-weight: bold\">■</span> <span style=\"color: #808000; text-decoration-color: #808000; font-weight: bold\">■</span> <span style=\"color: #808000; text-decoration-color: #808000; font-weight: bold\">■</span> <span style=\"color: #808000; text-decoration-color: #808000; font-weight: bold\">■</span> <span style=\"color: #808000; text-decoration-color: #808000; font-weight: bold\">■</span>                <span style=\"color: #ff00ff; text-decoration-color: #ff00ff\">│</span>\n",
       "<span style=\"color: #ff00ff; text-decoration-color: #ff00ff\">│</span> <span style=\"color: #800000; text-decoration-color: #800000; font-weight: bold\">RECARGAS:</span> <span style=\"color: #800000; text-decoration-color: #800000; font-weight: bold\">■</span>                       <span style=\"color: #ff00ff; text-decoration-color: #ff00ff\">│</span>\n",
       "<span style=\"color: #ff00ff; text-decoration-color: #ff00ff\">╰───────────────────────────────────╯</span>\n",
       "</pre>\n"
      ],
      "text/plain": [
       "\u001b[95m╭─\u001b[0m\u001b[95m \u001b[0m\u001b[1;35m-------- ESTADÍSTICAS --------\u001b[0m\u001b[95m \u001b[0m\u001b[95m─\u001b[0m\u001b[95m─╮\u001b[0m\n",
       "\u001b[95m│\u001b[0m \u001b[1;36mHola\u001b[0m                              \u001b[95m│\u001b[0m\n",
       "\u001b[95m│\u001b[0m \u001b[1;32mVIDA:\u001b[0m 85/125 \u001b[1;32m██████████████\u001b[0m\u001b[1;31m░░░░░░\u001b[0m \u001b[95m│\u001b[0m\n",
       "\u001b[95m│\u001b[0m \u001b[1;33mENERGÍA:\u001b[0m \u001b[1;33m■\u001b[0m \u001b[1;33m■\u001b[0m \u001b[1;33m■\u001b[0m \u001b[1;33m■\u001b[0m \u001b[1;33m■\u001b[0m                \u001b[95m│\u001b[0m\n",
       "\u001b[95m│\u001b[0m \u001b[1;31mRECARGAS:\u001b[0m \u001b[1;31m■\u001b[0m                       \u001b[95m│\u001b[0m\n",
       "\u001b[95m╰───────────────────────────────────╯\u001b[0m\n"
      ]
     },
     "metadata": {},
     "output_type": "display_data"
    },
    {
     "data": {
      "text/html": [
       "<pre style=\"white-space:pre;overflow-x:auto;line-height:normal;font-family:Menlo,'DejaVu Sans Mono',consolas,'Courier New',monospace\"><span style=\"color: #ff00ff; text-decoration-color: #ff00ff\">╭── </span><span style=\"color: #800080; text-decoration-color: #800080; font-weight: bold\">-------- ESTADÍSTICAS --------</span><span style=\"color: #ff00ff; text-decoration-color: #ff00ff\"> ──╮</span>\n",
       "<span style=\"color: #ff00ff; text-decoration-color: #ff00ff\">│</span> <span style=\"color: #008080; text-decoration-color: #008080; font-weight: bold\">Hola</span>                               <span style=\"color: #ff00ff; text-decoration-color: #ff00ff\">│</span>\n",
       "<span style=\"color: #ff00ff; text-decoration-color: #ff00ff\">│</span> <span style=\"color: #008000; text-decoration-color: #008000; font-weight: bold\">VIDA:</span> 100/125 <span style=\"color: #008000; text-decoration-color: #008000; font-weight: bold\">████████████████</span><span style=\"color: #800000; text-decoration-color: #800000; font-weight: bold\">░░░░</span> <span style=\"color: #ff00ff; text-decoration-color: #ff00ff\">│</span>\n",
       "<span style=\"color: #ff00ff; text-decoration-color: #ff00ff\">│</span> <span style=\"color: #808000; text-decoration-color: #808000; font-weight: bold\">ENERGÍA:</span> <span style=\"color: #dfdfdf; text-decoration-color: #dfdfdf\">□</span> <span style=\"color: #dfdfdf; text-decoration-color: #dfdfdf\">□</span> <span style=\"color: #dfdfdf; text-decoration-color: #dfdfdf\">□</span> <span style=\"color: #dfdfdf; text-decoration-color: #dfdfdf\">□</span> <span style=\"color: #dfdfdf; text-decoration-color: #dfdfdf\">□</span>                 <span style=\"color: #ff00ff; text-decoration-color: #ff00ff\">│</span>\n",
       "<span style=\"color: #ff00ff; text-decoration-color: #ff00ff\">│</span> <span style=\"color: #800000; text-decoration-color: #800000; font-weight: bold\">RECARGAS:</span> <span style=\"color: #800000; text-decoration-color: #800000; font-weight: bold\">■</span>                        <span style=\"color: #ff00ff; text-decoration-color: #ff00ff\">│</span>\n",
       "<span style=\"color: #ff00ff; text-decoration-color: #ff00ff\">╰────────────────────────────────────╯</span>\n",
       "</pre>\n"
      ],
      "text/plain": [
       "\u001b[95m╭─\u001b[0m\u001b[95m─\u001b[0m\u001b[95m \u001b[0m\u001b[1;35m-------- ESTADÍSTICAS --------\u001b[0m\u001b[95m \u001b[0m\u001b[95m─\u001b[0m\u001b[95m─╮\u001b[0m\n",
       "\u001b[95m│\u001b[0m \u001b[1;36mHola\u001b[0m                               \u001b[95m│\u001b[0m\n",
       "\u001b[95m│\u001b[0m \u001b[1;32mVIDA:\u001b[0m 100/125 \u001b[1;32m████████████████\u001b[0m\u001b[1;31m░░░░\u001b[0m \u001b[95m│\u001b[0m\n",
       "\u001b[95m│\u001b[0m \u001b[1;33mENERGÍA:\u001b[0m \u001b[2;37m□\u001b[0m \u001b[2;37m□\u001b[0m \u001b[2;37m□\u001b[0m \u001b[2;37m□\u001b[0m \u001b[2;37m□\u001b[0m                 \u001b[95m│\u001b[0m\n",
       "\u001b[95m│\u001b[0m \u001b[1;31mRECARGAS:\u001b[0m \u001b[1;31m■\u001b[0m                        \u001b[95m│\u001b[0m\n",
       "\u001b[95m╰────────────────────────────────────╯\u001b[0m\n"
      ]
     },
     "metadata": {},
     "output_type": "display_data"
    },
    {
     "data": {
      "text/html": [
       "<pre style=\"white-space:pre;overflow-x:auto;line-height:normal;font-family:Menlo,'DejaVu Sans Mono',consolas,'Courier New',monospace\"><span style=\"color: #800080; text-decoration-color: #800080; font-weight: bold\">Turno de Hola</span>\n",
       "</pre>\n"
      ],
      "text/plain": [
       "\u001b[1;35mTurno de Hola\u001b[0m\n"
      ]
     },
     "metadata": {},
     "output_type": "display_data"
    },
    {
     "data": {
      "text/html": [
       "<pre style=\"white-space:pre;overflow-x:auto;line-height:normal;font-family:Menlo,'DejaVu Sans Mono',consolas,'Courier New',monospace\"><span style=\"color: #008080; text-decoration-color: #008080; font-weight: bold\">1</span>. Atacar\n",
       "<span style=\"color: #008080; text-decoration-color: #008080; font-weight: bold\">2</span>. Recargar Energía\n",
       "<span style=\"color: #008080; text-decoration-color: #008080; font-weight: bold\">3</span>. Recargar Vida\n",
       "<span style=\"color: #008080; text-decoration-color: #008080; font-weight: bold\">4</span>. Obtener Recarga de Vida\n",
       "</pre>\n"
      ],
      "text/plain": [
       "\u001b[1;36m1\u001b[0m. Atacar\n",
       "\u001b[1;36m2\u001b[0m. Recargar Energía\n",
       "\u001b[1;36m3\u001b[0m. Recargar Vida\n",
       "\u001b[1;36m4\u001b[0m. Obtener Recarga de Vida\n"
      ]
     },
     "metadata": {},
     "output_type": "display_data"
    },
    {
     "data": {
      "text/html": [
       "<pre style=\"white-space:pre;overflow-x:auto;line-height:normal;font-family:Menlo,'DejaVu Sans Mono',consolas,'Courier New',monospace\">Elige una acción <span style=\"color: #800080; text-decoration-color: #800080; font-weight: bold\">[1/2/3/4]</span>: </pre>\n"
      ],
      "text/plain": [
       "Elige una acción \u001b[1;35m[1/2/3/4]\u001b[0m: "
      ]
     },
     "metadata": {},
     "output_type": "display_data"
    },
    {
     "data": {
      "text/html": [
       "<pre style=\"white-space:pre;overflow-x:auto;line-height:normal;font-family:Menlo,'DejaVu Sans Mono',consolas,'Courier New',monospace\"><span style=\"color: #800000; text-decoration-color: #800000\">Please select one of the available options</span>\n",
       "</pre>\n"
      ],
      "text/plain": [
       "\u001b[31mPlease select one of the available options\u001b[0m\n"
      ]
     },
     "metadata": {},
     "output_type": "display_data"
    },
    {
     "data": {
      "text/html": [
       "<pre style=\"white-space:pre;overflow-x:auto;line-height:normal;font-family:Menlo,'DejaVu Sans Mono',consolas,'Courier New',monospace\">Elige una acción <span style=\"color: #800080; text-decoration-color: #800080; font-weight: bold\">[1/2/3/4]</span>: </pre>\n"
      ],
      "text/plain": [
       "Elige una acción \u001b[1;35m[1/2/3/4]\u001b[0m: "
      ]
     },
     "metadata": {},
     "output_type": "display_data"
    },
    {
     "data": {
      "text/html": [
       "<pre style=\"white-space:pre;overflow-x:auto;line-height:normal;font-family:Menlo,'DejaVu Sans Mono',consolas,'Courier New',monospace\">¿Cuántas municiones deseas usar (1-3)?: </pre>\n"
      ],
      "text/plain": [
       "¿Cuántas municiones deseas usar (1-3)?: "
      ]
     },
     "metadata": {},
     "output_type": "display_data"
    },
    {
     "data": {
      "text/html": [
       "<pre style=\"white-space:pre;overflow-x:auto;line-height:normal;font-family:Menlo,'DejaVu Sans Mono',consolas,'Courier New',monospace\"><span style=\"color: #808000; text-decoration-color: #808000; font-weight: bold\">Hola realizó un ataque con </span><span style=\"color: #808000; text-decoration-color: #808000; font-weight: bold\">12</span><span style=\"color: #808000; text-decoration-color: #808000; font-weight: bold\"> de daño!</span>\n",
       "</pre>\n"
      ],
      "text/plain": [
       "\u001b[1;33mHola realizó un ataque con \u001b[0m\u001b[1;33m12\u001b[0m\u001b[1;33m de daño!\u001b[0m\n"
      ]
     },
     "metadata": {},
     "output_type": "display_data"
    },
    {
     "data": {
      "text/html": [
       "<pre style=\"white-space:pre;overflow-x:auto;line-height:normal;font-family:Menlo,'DejaVu Sans Mono',consolas,'Courier New',monospace\"><span style=\"color: #800080; text-decoration-color: #800080; font-weight: bold\">Turno de Hola</span>\n",
       "</pre>\n"
      ],
      "text/plain": [
       "\u001b[1;35mTurno de Hola\u001b[0m\n"
      ]
     },
     "metadata": {},
     "output_type": "display_data"
    },
    {
     "data": {
      "text/html": [
       "<pre style=\"white-space:pre;overflow-x:auto;line-height:normal;font-family:Menlo,'DejaVu Sans Mono',consolas,'Courier New',monospace\"><span style=\"color: #008080; text-decoration-color: #008080; font-weight: bold\">1</span>. Atacar\n",
       "<span style=\"color: #008080; text-decoration-color: #008080; font-weight: bold\">2</span>. Recargar Energía\n",
       "<span style=\"color: #008080; text-decoration-color: #008080; font-weight: bold\">3</span>. Recargar Vida\n",
       "<span style=\"color: #008080; text-decoration-color: #008080; font-weight: bold\">4</span>. Obtener Recarga de Vida\n",
       "</pre>\n"
      ],
      "text/plain": [
       "\u001b[1;36m1\u001b[0m. Atacar\n",
       "\u001b[1;36m2\u001b[0m. Recargar Energía\n",
       "\u001b[1;36m3\u001b[0m. Recargar Vida\n",
       "\u001b[1;36m4\u001b[0m. Obtener Recarga de Vida\n"
      ]
     },
     "metadata": {},
     "output_type": "display_data"
    },
    {
     "data": {
      "text/html": [
       "<pre style=\"white-space:pre;overflow-x:auto;line-height:normal;font-family:Menlo,'DejaVu Sans Mono',consolas,'Courier New',monospace\">Elige una acción <span style=\"color: #800080; text-decoration-color: #800080; font-weight: bold\">[1/2/3/4]</span>: </pre>\n"
      ],
      "text/plain": [
       "Elige una acción \u001b[1;35m[1/2/3/4]\u001b[0m: "
      ]
     },
     "metadata": {},
     "output_type": "display_data"
    },
    {
     "data": {
      "text/html": [
       "<pre style=\"white-space:pre;overflow-x:auto;line-height:normal;font-family:Menlo,'DejaVu Sans Mono',consolas,'Courier New',monospace\">¿Cuántas municiones deseas usar (1-3)?: </pre>\n"
      ],
      "text/plain": [
       "¿Cuántas municiones deseas usar (1-3)?: "
      ]
     },
     "metadata": {},
     "output_type": "display_data"
    },
    {
     "data": {
      "text/html": [
       "<pre style=\"white-space:pre;overflow-x:auto;line-height:normal;font-family:Menlo,'DejaVu Sans Mono',consolas,'Courier New',monospace\"><span style=\"color: #800000; text-decoration-color: #800000; font-weight: bold\">Hola no tiene suficiente energía para atacar!</span>\n",
       "</pre>\n"
      ],
      "text/plain": [
       "\u001b[1;31mHola no tiene suficiente energía para atacar!\u001b[0m\n"
      ]
     },
     "metadata": {},
     "output_type": "display_data"
    },
    {
     "data": {
      "text/html": [
       "<pre style=\"white-space:pre;overflow-x:auto;line-height:normal;font-family:Menlo,'DejaVu Sans Mono',consolas,'Courier New',monospace\"><span style=\"color: #ff00ff; text-decoration-color: #ff00ff\">╭─ </span><span style=\"color: #800080; text-decoration-color: #800080; font-weight: bold\">-------- ESTADÍSTICAS --------</span><span style=\"color: #ff00ff; text-decoration-color: #ff00ff\"> ──╮</span>\n",
       "<span style=\"color: #ff00ff; text-decoration-color: #ff00ff\">│</span> <span style=\"color: #008080; text-decoration-color: #008080; font-weight: bold\">Hola</span>                              <span style=\"color: #ff00ff; text-decoration-color: #ff00ff\">│</span>\n",
       "<span style=\"color: #ff00ff; text-decoration-color: #ff00ff\">│</span> <span style=\"color: #008000; text-decoration-color: #008000; font-weight: bold\">VIDA:</span> 85/125 <span style=\"color: #008000; text-decoration-color: #008000; font-weight: bold\">██████████████</span><span style=\"color: #800000; text-decoration-color: #800000; font-weight: bold\">░░░░░░</span> <span style=\"color: #ff00ff; text-decoration-color: #ff00ff\">│</span>\n",
       "<span style=\"color: #ff00ff; text-decoration-color: #ff00ff\">│</span> <span style=\"color: #808000; text-decoration-color: #808000; font-weight: bold\">ENERGÍA:</span> <span style=\"color: #808000; text-decoration-color: #808000; font-weight: bold\">■</span> <span style=\"color: #808000; text-decoration-color: #808000; font-weight: bold\">■</span> <span style=\"color: #808000; text-decoration-color: #808000; font-weight: bold\">■</span> <span style=\"color: #808000; text-decoration-color: #808000; font-weight: bold\">■</span> <span style=\"color: #dfdfdf; text-decoration-color: #dfdfdf\">□</span>                <span style=\"color: #ff00ff; text-decoration-color: #ff00ff\">│</span>\n",
       "<span style=\"color: #ff00ff; text-decoration-color: #ff00ff\">│</span> <span style=\"color: #800000; text-decoration-color: #800000; font-weight: bold\">RECARGAS:</span> <span style=\"color: #800000; text-decoration-color: #800000; font-weight: bold\">■</span>                       <span style=\"color: #ff00ff; text-decoration-color: #ff00ff\">│</span>\n",
       "<span style=\"color: #ff00ff; text-decoration-color: #ff00ff\">╰───────────────────────────────────╯</span>\n",
       "</pre>\n"
      ],
      "text/plain": [
       "\u001b[95m╭─\u001b[0m\u001b[95m \u001b[0m\u001b[1;35m-------- ESTADÍSTICAS --------\u001b[0m\u001b[95m \u001b[0m\u001b[95m─\u001b[0m\u001b[95m─╮\u001b[0m\n",
       "\u001b[95m│\u001b[0m \u001b[1;36mHola\u001b[0m                              \u001b[95m│\u001b[0m\n",
       "\u001b[95m│\u001b[0m \u001b[1;32mVIDA:\u001b[0m 85/125 \u001b[1;32m██████████████\u001b[0m\u001b[1;31m░░░░░░\u001b[0m \u001b[95m│\u001b[0m\n",
       "\u001b[95m│\u001b[0m \u001b[1;33mENERGÍA:\u001b[0m \u001b[1;33m■\u001b[0m \u001b[1;33m■\u001b[0m \u001b[1;33m■\u001b[0m \u001b[1;33m■\u001b[0m \u001b[2;37m□\u001b[0m                \u001b[95m│\u001b[0m\n",
       "\u001b[95m│\u001b[0m \u001b[1;31mRECARGAS:\u001b[0m \u001b[1;31m■\u001b[0m                       \u001b[95m│\u001b[0m\n",
       "\u001b[95m╰───────────────────────────────────╯\u001b[0m\n"
      ]
     },
     "metadata": {},
     "output_type": "display_data"
    },
    {
     "data": {
      "text/html": [
       "<pre style=\"white-space:pre;overflow-x:auto;line-height:normal;font-family:Menlo,'DejaVu Sans Mono',consolas,'Courier New',monospace\"><span style=\"color: #ff00ff; text-decoration-color: #ff00ff\">╭─ </span><span style=\"color: #800080; text-decoration-color: #800080; font-weight: bold\">-------- ESTADÍSTICAS --------</span><span style=\"color: #ff00ff; text-decoration-color: #ff00ff\"> ──╮</span>\n",
       "<span style=\"color: #ff00ff; text-decoration-color: #ff00ff\">│</span> <span style=\"color: #008080; text-decoration-color: #008080; font-weight: bold\">Hola</span>                              <span style=\"color: #ff00ff; text-decoration-color: #ff00ff\">│</span>\n",
       "<span style=\"color: #ff00ff; text-decoration-color: #ff00ff\">│</span> <span style=\"color: #008000; text-decoration-color: #008000; font-weight: bold\">VIDA:</span> 88/125 <span style=\"color: #008000; text-decoration-color: #008000; font-weight: bold\">██████████████</span><span style=\"color: #800000; text-decoration-color: #800000; font-weight: bold\">░░░░░░</span> <span style=\"color: #ff00ff; text-decoration-color: #ff00ff\">│</span>\n",
       "<span style=\"color: #ff00ff; text-decoration-color: #ff00ff\">│</span> <span style=\"color: #808000; text-decoration-color: #808000; font-weight: bold\">ENERGÍA:</span> <span style=\"color: #dfdfdf; text-decoration-color: #dfdfdf\">□</span> <span style=\"color: #dfdfdf; text-decoration-color: #dfdfdf\">□</span> <span style=\"color: #dfdfdf; text-decoration-color: #dfdfdf\">□</span> <span style=\"color: #dfdfdf; text-decoration-color: #dfdfdf\">□</span> <span style=\"color: #dfdfdf; text-decoration-color: #dfdfdf\">□</span>                <span style=\"color: #ff00ff; text-decoration-color: #ff00ff\">│</span>\n",
       "<span style=\"color: #ff00ff; text-decoration-color: #ff00ff\">│</span> <span style=\"color: #800000; text-decoration-color: #800000; font-weight: bold\">RECARGAS:</span> <span style=\"color: #800000; text-decoration-color: #800000; font-weight: bold\">■</span>                       <span style=\"color: #ff00ff; text-decoration-color: #ff00ff\">│</span>\n",
       "<span style=\"color: #ff00ff; text-decoration-color: #ff00ff\">╰───────────────────────────────────╯</span>\n",
       "</pre>\n"
      ],
      "text/plain": [
       "\u001b[95m╭─\u001b[0m\u001b[95m \u001b[0m\u001b[1;35m-------- ESTADÍSTICAS --------\u001b[0m\u001b[95m \u001b[0m\u001b[95m─\u001b[0m\u001b[95m─╮\u001b[0m\n",
       "\u001b[95m│\u001b[0m \u001b[1;36mHola\u001b[0m                              \u001b[95m│\u001b[0m\n",
       "\u001b[95m│\u001b[0m \u001b[1;32mVIDA:\u001b[0m 88/125 \u001b[1;32m██████████████\u001b[0m\u001b[1;31m░░░░░░\u001b[0m \u001b[95m│\u001b[0m\n",
       "\u001b[95m│\u001b[0m \u001b[1;33mENERGÍA:\u001b[0m \u001b[2;37m□\u001b[0m \u001b[2;37m□\u001b[0m \u001b[2;37m□\u001b[0m \u001b[2;37m□\u001b[0m \u001b[2;37m□\u001b[0m                \u001b[95m│\u001b[0m\n",
       "\u001b[95m│\u001b[0m \u001b[1;31mRECARGAS:\u001b[0m \u001b[1;31m■\u001b[0m                       \u001b[95m│\u001b[0m\n",
       "\u001b[95m╰───────────────────────────────────╯\u001b[0m\n"
      ]
     },
     "metadata": {},
     "output_type": "display_data"
    },
    {
     "data": {
      "text/html": [
       "<pre style=\"white-space:pre;overflow-x:auto;line-height:normal;font-family:Menlo,'DejaVu Sans Mono',consolas,'Courier New',monospace\"><span style=\"color: #800080; text-decoration-color: #800080; font-weight: bold\">Turno de Hola</span>\n",
       "</pre>\n"
      ],
      "text/plain": [
       "\u001b[1;35mTurno de Hola\u001b[0m\n"
      ]
     },
     "metadata": {},
     "output_type": "display_data"
    },
    {
     "data": {
      "text/html": [
       "<pre style=\"white-space:pre;overflow-x:auto;line-height:normal;font-family:Menlo,'DejaVu Sans Mono',consolas,'Courier New',monospace\"><span style=\"color: #008080; text-decoration-color: #008080; font-weight: bold\">1</span>. Atacar\n",
       "<span style=\"color: #008080; text-decoration-color: #008080; font-weight: bold\">2</span>. Recargar Energía\n",
       "<span style=\"color: #008080; text-decoration-color: #008080; font-weight: bold\">3</span>. Recargar Vida\n",
       "<span style=\"color: #008080; text-decoration-color: #008080; font-weight: bold\">4</span>. Obtener Recarga de Vida\n",
       "</pre>\n"
      ],
      "text/plain": [
       "\u001b[1;36m1\u001b[0m. Atacar\n",
       "\u001b[1;36m2\u001b[0m. Recargar Energía\n",
       "\u001b[1;36m3\u001b[0m. Recargar Vida\n",
       "\u001b[1;36m4\u001b[0m. Obtener Recarga de Vida\n"
      ]
     },
     "metadata": {},
     "output_type": "display_data"
    },
    {
     "data": {
      "text/html": [
       "<pre style=\"white-space:pre;overflow-x:auto;line-height:normal;font-family:Menlo,'DejaVu Sans Mono',consolas,'Courier New',monospace\">Elige una acción <span style=\"color: #800080; text-decoration-color: #800080; font-weight: bold\">[1/2/3/4]</span>: </pre>\n"
      ],
      "text/plain": [
       "Elige una acción \u001b[1;35m[1/2/3/4]\u001b[0m: "
      ]
     },
     "metadata": {},
     "output_type": "display_data"
    },
    {
     "data": {
      "text/html": [
       "<pre style=\"white-space:pre;overflow-x:auto;line-height:normal;font-family:Menlo,'DejaVu Sans Mono',consolas,'Courier New',monospace\">¿Cuántas municiones deseas usar (1-3)?: </pre>\n"
      ],
      "text/plain": [
       "¿Cuántas municiones deseas usar (1-3)?: "
      ]
     },
     "metadata": {},
     "output_type": "display_data"
    },
    {
     "data": {
      "text/html": [
       "<pre style=\"white-space:pre;overflow-x:auto;line-height:normal;font-family:Menlo,'DejaVu Sans Mono',consolas,'Courier New',monospace\"><span style=\"color: #808000; text-decoration-color: #808000; font-weight: bold\">Hola realizó un ataque con </span><span style=\"color: #808000; text-decoration-color: #808000; font-weight: bold\">4</span><span style=\"color: #808000; text-decoration-color: #808000; font-weight: bold\"> de daño!</span>\n",
       "</pre>\n"
      ],
      "text/plain": [
       "\u001b[1;33mHola realizó un ataque con \u001b[0m\u001b[1;33m4\u001b[0m\u001b[1;33m de daño!\u001b[0m\n"
      ]
     },
     "metadata": {},
     "output_type": "display_data"
    },
    {
     "data": {
      "text/html": [
       "<pre style=\"white-space:pre;overflow-x:auto;line-height:normal;font-family:Menlo,'DejaVu Sans Mono',consolas,'Courier New',monospace\"><span style=\"color: #800080; text-decoration-color: #800080; font-weight: bold\">Turno de Hola</span>\n",
       "</pre>\n"
      ],
      "text/plain": [
       "\u001b[1;35mTurno de Hola\u001b[0m\n"
      ]
     },
     "metadata": {},
     "output_type": "display_data"
    },
    {
     "data": {
      "text/html": [
       "<pre style=\"white-space:pre;overflow-x:auto;line-height:normal;font-family:Menlo,'DejaVu Sans Mono',consolas,'Courier New',monospace\"><span style=\"color: #008080; text-decoration-color: #008080; font-weight: bold\">1</span>. Atacar\n",
       "<span style=\"color: #008080; text-decoration-color: #008080; font-weight: bold\">2</span>. Recargar Energía\n",
       "<span style=\"color: #008080; text-decoration-color: #008080; font-weight: bold\">3</span>. Recargar Vida\n",
       "<span style=\"color: #008080; text-decoration-color: #008080; font-weight: bold\">4</span>. Obtener Recarga de Vida\n",
       "</pre>\n"
      ],
      "text/plain": [
       "\u001b[1;36m1\u001b[0m. Atacar\n",
       "\u001b[1;36m2\u001b[0m. Recargar Energía\n",
       "\u001b[1;36m3\u001b[0m. Recargar Vida\n",
       "\u001b[1;36m4\u001b[0m. Obtener Recarga de Vida\n"
      ]
     },
     "metadata": {},
     "output_type": "display_data"
    },
    {
     "data": {
      "text/html": [
       "<pre style=\"white-space:pre;overflow-x:auto;line-height:normal;font-family:Menlo,'DejaVu Sans Mono',consolas,'Courier New',monospace\">Elige una acción <span style=\"color: #800080; text-decoration-color: #800080; font-weight: bold\">[1/2/3/4]</span>: </pre>\n"
      ],
      "text/plain": [
       "Elige una acción \u001b[1;35m[1/2/3/4]\u001b[0m: "
      ]
     },
     "metadata": {},
     "output_type": "display_data"
    },
    {
     "data": {
      "text/html": [
       "<pre style=\"white-space:pre;overflow-x:auto;line-height:normal;font-family:Menlo,'DejaVu Sans Mono',consolas,'Courier New',monospace\">¿Cuántas municiones deseas usar (1-3)?: </pre>\n"
      ],
      "text/plain": [
       "¿Cuántas municiones deseas usar (1-3)?: "
      ]
     },
     "metadata": {},
     "output_type": "display_data"
    },
    {
     "data": {
      "text/html": [
       "<pre style=\"white-space:pre;overflow-x:auto;line-height:normal;font-family:Menlo,'DejaVu Sans Mono',consolas,'Courier New',monospace\"><span style=\"color: #800000; text-decoration-color: #800000; font-weight: bold\">Hola no tiene suficiente energía para atacar!</span>\n",
       "</pre>\n"
      ],
      "text/plain": [
       "\u001b[1;31mHola no tiene suficiente energía para atacar!\u001b[0m\n"
      ]
     },
     "metadata": {},
     "output_type": "display_data"
    },
    {
     "data": {
      "text/html": [
       "<pre style=\"white-space:pre;overflow-x:auto;line-height:normal;font-family:Menlo,'DejaVu Sans Mono',consolas,'Courier New',monospace\"><span style=\"color: #ff00ff; text-decoration-color: #ff00ff\">╭─ </span><span style=\"color: #800080; text-decoration-color: #800080; font-weight: bold\">-------- ESTADÍSTICAS --------</span><span style=\"color: #ff00ff; text-decoration-color: #ff00ff\"> ──╮</span>\n",
       "<span style=\"color: #ff00ff; text-decoration-color: #ff00ff\">│</span> <span style=\"color: #008080; text-decoration-color: #008080; font-weight: bold\">Hola</span>                              <span style=\"color: #ff00ff; text-decoration-color: #ff00ff\">│</span>\n",
       "<span style=\"color: #ff00ff; text-decoration-color: #ff00ff\">│</span> <span style=\"color: #008000; text-decoration-color: #008000; font-weight: bold\">VIDA:</span> 85/125 <span style=\"color: #008000; text-decoration-color: #008000; font-weight: bold\">██████████████</span><span style=\"color: #800000; text-decoration-color: #800000; font-weight: bold\">░░░░░░</span> <span style=\"color: #ff00ff; text-decoration-color: #ff00ff\">│</span>\n",
       "<span style=\"color: #ff00ff; text-decoration-color: #ff00ff\">│</span> <span style=\"color: #808000; text-decoration-color: #808000; font-weight: bold\">ENERGÍA:</span> <span style=\"color: #808000; text-decoration-color: #808000; font-weight: bold\">■</span> <span style=\"color: #808000; text-decoration-color: #808000; font-weight: bold\">■</span> <span style=\"color: #808000; text-decoration-color: #808000; font-weight: bold\">■</span> <span style=\"color: #dfdfdf; text-decoration-color: #dfdfdf\">□</span> <span style=\"color: #dfdfdf; text-decoration-color: #dfdfdf\">□</span>                <span style=\"color: #ff00ff; text-decoration-color: #ff00ff\">│</span>\n",
       "<span style=\"color: #ff00ff; text-decoration-color: #ff00ff\">│</span> <span style=\"color: #800000; text-decoration-color: #800000; font-weight: bold\">RECARGAS:</span> <span style=\"color: #800000; text-decoration-color: #800000; font-weight: bold\">■</span>                       <span style=\"color: #ff00ff; text-decoration-color: #ff00ff\">│</span>\n",
       "<span style=\"color: #ff00ff; text-decoration-color: #ff00ff\">╰───────────────────────────────────╯</span>\n",
       "</pre>\n"
      ],
      "text/plain": [
       "\u001b[95m╭─\u001b[0m\u001b[95m \u001b[0m\u001b[1;35m-------- ESTADÍSTICAS --------\u001b[0m\u001b[95m \u001b[0m\u001b[95m─\u001b[0m\u001b[95m─╮\u001b[0m\n",
       "\u001b[95m│\u001b[0m \u001b[1;36mHola\u001b[0m                              \u001b[95m│\u001b[0m\n",
       "\u001b[95m│\u001b[0m \u001b[1;32mVIDA:\u001b[0m 85/125 \u001b[1;32m██████████████\u001b[0m\u001b[1;31m░░░░░░\u001b[0m \u001b[95m│\u001b[0m\n",
       "\u001b[95m│\u001b[0m \u001b[1;33mENERGÍA:\u001b[0m \u001b[1;33m■\u001b[0m \u001b[1;33m■\u001b[0m \u001b[1;33m■\u001b[0m \u001b[2;37m□\u001b[0m \u001b[2;37m□\u001b[0m                \u001b[95m│\u001b[0m\n",
       "\u001b[95m│\u001b[0m \u001b[1;31mRECARGAS:\u001b[0m \u001b[1;31m■\u001b[0m                       \u001b[95m│\u001b[0m\n",
       "\u001b[95m╰───────────────────────────────────╯\u001b[0m\n"
      ]
     },
     "metadata": {},
     "output_type": "display_data"
    },
    {
     "data": {
      "text/html": [
       "<pre style=\"white-space:pre;overflow-x:auto;line-height:normal;font-family:Menlo,'DejaVu Sans Mono',consolas,'Courier New',monospace\"><span style=\"color: #ff00ff; text-decoration-color: #ff00ff\">╭─ </span><span style=\"color: #800080; text-decoration-color: #800080; font-weight: bold\">-------- ESTADÍSTICAS --------</span><span style=\"color: #ff00ff; text-decoration-color: #ff00ff\"> ──╮</span>\n",
       "<span style=\"color: #ff00ff; text-decoration-color: #ff00ff\">│</span> <span style=\"color: #008080; text-decoration-color: #008080; font-weight: bold\">Hola</span>                              <span style=\"color: #ff00ff; text-decoration-color: #ff00ff\">│</span>\n",
       "<span style=\"color: #ff00ff; text-decoration-color: #ff00ff\">│</span> <span style=\"color: #008000; text-decoration-color: #008000; font-weight: bold\">VIDA:</span> 84/125 <span style=\"color: #008000; text-decoration-color: #008000; font-weight: bold\">██████████████</span><span style=\"color: #800000; text-decoration-color: #800000; font-weight: bold\">░░░░░░</span> <span style=\"color: #ff00ff; text-decoration-color: #ff00ff\">│</span>\n",
       "<span style=\"color: #ff00ff; text-decoration-color: #ff00ff\">│</span> <span style=\"color: #808000; text-decoration-color: #808000; font-weight: bold\">ENERGÍA:</span> <span style=\"color: #dfdfdf; text-decoration-color: #dfdfdf\">□</span> <span style=\"color: #dfdfdf; text-decoration-color: #dfdfdf\">□</span> <span style=\"color: #dfdfdf; text-decoration-color: #dfdfdf\">□</span> <span style=\"color: #dfdfdf; text-decoration-color: #dfdfdf\">□</span> <span style=\"color: #dfdfdf; text-decoration-color: #dfdfdf\">□</span>                <span style=\"color: #ff00ff; text-decoration-color: #ff00ff\">│</span>\n",
       "<span style=\"color: #ff00ff; text-decoration-color: #ff00ff\">│</span> <span style=\"color: #800000; text-decoration-color: #800000; font-weight: bold\">RECARGAS:</span> <span style=\"color: #800000; text-decoration-color: #800000; font-weight: bold\">■</span>                       <span style=\"color: #ff00ff; text-decoration-color: #ff00ff\">│</span>\n",
       "<span style=\"color: #ff00ff; text-decoration-color: #ff00ff\">╰───────────────────────────────────╯</span>\n",
       "</pre>\n"
      ],
      "text/plain": [
       "\u001b[95m╭─\u001b[0m\u001b[95m \u001b[0m\u001b[1;35m-------- ESTADÍSTICAS --------\u001b[0m\u001b[95m \u001b[0m\u001b[95m─\u001b[0m\u001b[95m─╮\u001b[0m\n",
       "\u001b[95m│\u001b[0m \u001b[1;36mHola\u001b[0m                              \u001b[95m│\u001b[0m\n",
       "\u001b[95m│\u001b[0m \u001b[1;32mVIDA:\u001b[0m 84/125 \u001b[1;32m██████████████\u001b[0m\u001b[1;31m░░░░░░\u001b[0m \u001b[95m│\u001b[0m\n",
       "\u001b[95m│\u001b[0m \u001b[1;33mENERGÍA:\u001b[0m \u001b[2;37m□\u001b[0m \u001b[2;37m□\u001b[0m \u001b[2;37m□\u001b[0m \u001b[2;37m□\u001b[0m \u001b[2;37m□\u001b[0m                \u001b[95m│\u001b[0m\n",
       "\u001b[95m│\u001b[0m \u001b[1;31mRECARGAS:\u001b[0m \u001b[1;31m■\u001b[0m                       \u001b[95m│\u001b[0m\n",
       "\u001b[95m╰───────────────────────────────────╯\u001b[0m\n"
      ]
     },
     "metadata": {},
     "output_type": "display_data"
    },
    {
     "data": {
      "text/html": [
       "<pre style=\"white-space:pre;overflow-x:auto;line-height:normal;font-family:Menlo,'DejaVu Sans Mono',consolas,'Courier New',monospace\"><span style=\"color: #800080; text-decoration-color: #800080; font-weight: bold\">Turno de Hola</span>\n",
       "</pre>\n"
      ],
      "text/plain": [
       "\u001b[1;35mTurno de Hola\u001b[0m\n"
      ]
     },
     "metadata": {},
     "output_type": "display_data"
    },
    {
     "data": {
      "text/html": [
       "<pre style=\"white-space:pre;overflow-x:auto;line-height:normal;font-family:Menlo,'DejaVu Sans Mono',consolas,'Courier New',monospace\"><span style=\"color: #008080; text-decoration-color: #008080; font-weight: bold\">1</span>. Atacar\n",
       "<span style=\"color: #008080; text-decoration-color: #008080; font-weight: bold\">2</span>. Recargar Energía\n",
       "<span style=\"color: #008080; text-decoration-color: #008080; font-weight: bold\">3</span>. Recargar Vida\n",
       "<span style=\"color: #008080; text-decoration-color: #008080; font-weight: bold\">4</span>. Obtener Recarga de Vida\n",
       "</pre>\n"
      ],
      "text/plain": [
       "\u001b[1;36m1\u001b[0m. Atacar\n",
       "\u001b[1;36m2\u001b[0m. Recargar Energía\n",
       "\u001b[1;36m3\u001b[0m. Recargar Vida\n",
       "\u001b[1;36m4\u001b[0m. Obtener Recarga de Vida\n"
      ]
     },
     "metadata": {},
     "output_type": "display_data"
    },
    {
     "data": {
      "text/html": [
       "<pre style=\"white-space:pre;overflow-x:auto;line-height:normal;font-family:Menlo,'DejaVu Sans Mono',consolas,'Courier New',monospace\">Elige una acción <span style=\"color: #800080; text-decoration-color: #800080; font-weight: bold\">[1/2/3/4]</span>: </pre>\n"
      ],
      "text/plain": [
       "Elige una acción \u001b[1;35m[1/2/3/4]\u001b[0m: "
      ]
     },
     "metadata": {},
     "output_type": "display_data"
    },
    {
     "data": {
      "text/html": [
       "<pre style=\"white-space:pre;overflow-x:auto;line-height:normal;font-family:Menlo,'DejaVu Sans Mono',consolas,'Courier New',monospace\">¿Cuántas municiones deseas usar (1-3)?: </pre>\n"
      ],
      "text/plain": [
       "¿Cuántas municiones deseas usar (1-3)?: "
      ]
     },
     "metadata": {},
     "output_type": "display_data"
    },
    {
     "data": {
      "text/html": [
       "<pre style=\"white-space:pre;overflow-x:auto;line-height:normal;font-family:Menlo,'DejaVu Sans Mono',consolas,'Courier New',monospace\"><span style=\"color: #808000; text-decoration-color: #808000; font-weight: bold\">Hola realizó un ataque con </span><span style=\"color: #808000; text-decoration-color: #808000; font-weight: bold\">19</span><span style=\"color: #808000; text-decoration-color: #808000; font-weight: bold\"> de daño!</span>\n",
       "</pre>\n"
      ],
      "text/plain": [
       "\u001b[1;33mHola realizó un ataque con \u001b[0m\u001b[1;33m19\u001b[0m\u001b[1;33m de daño!\u001b[0m\n"
      ]
     },
     "metadata": {},
     "output_type": "display_data"
    },
    {
     "data": {
      "text/html": [
       "<pre style=\"white-space:pre;overflow-x:auto;line-height:normal;font-family:Menlo,'DejaVu Sans Mono',consolas,'Courier New',monospace\"><span style=\"color: #800080; text-decoration-color: #800080; font-weight: bold\">Turno de Hola</span>\n",
       "</pre>\n"
      ],
      "text/plain": [
       "\u001b[1;35mTurno de Hola\u001b[0m\n"
      ]
     },
     "metadata": {},
     "output_type": "display_data"
    },
    {
     "data": {
      "text/html": [
       "<pre style=\"white-space:pre;overflow-x:auto;line-height:normal;font-family:Menlo,'DejaVu Sans Mono',consolas,'Courier New',monospace\"><span style=\"color: #008080; text-decoration-color: #008080; font-weight: bold\">1</span>. Atacar\n",
       "<span style=\"color: #008080; text-decoration-color: #008080; font-weight: bold\">2</span>. Recargar Energía\n",
       "<span style=\"color: #008080; text-decoration-color: #008080; font-weight: bold\">3</span>. Recargar Vida\n",
       "<span style=\"color: #008080; text-decoration-color: #008080; font-weight: bold\">4</span>. Obtener Recarga de Vida\n",
       "</pre>\n"
      ],
      "text/plain": [
       "\u001b[1;36m1\u001b[0m. Atacar\n",
       "\u001b[1;36m2\u001b[0m. Recargar Energía\n",
       "\u001b[1;36m3\u001b[0m. Recargar Vida\n",
       "\u001b[1;36m4\u001b[0m. Obtener Recarga de Vida\n"
      ]
     },
     "metadata": {},
     "output_type": "display_data"
    },
    {
     "data": {
      "text/html": [
       "<pre style=\"white-space:pre;overflow-x:auto;line-height:normal;font-family:Menlo,'DejaVu Sans Mono',consolas,'Courier New',monospace\">Elige una acción <span style=\"color: #800080; text-decoration-color: #800080; font-weight: bold\">[1/2/3/4]</span>: </pre>\n"
      ],
      "text/plain": [
       "Elige una acción \u001b[1;35m[1/2/3/4]\u001b[0m: "
      ]
     },
     "metadata": {},
     "output_type": "display_data"
    },
    {
     "data": {
      "text/html": [
       "<pre style=\"white-space:pre;overflow-x:auto;line-height:normal;font-family:Menlo,'DejaVu Sans Mono',consolas,'Courier New',monospace\">¿Cuántas municiones deseas usar (1-3)?: </pre>\n"
      ],
      "text/plain": [
       "¿Cuántas municiones deseas usar (1-3)?: "
      ]
     },
     "metadata": {},
     "output_type": "display_data"
    },
    {
     "data": {
      "text/html": [
       "<pre style=\"white-space:pre;overflow-x:auto;line-height:normal;font-family:Menlo,'DejaVu Sans Mono',consolas,'Courier New',monospace\"><span style=\"color: #800000; text-decoration-color: #800000; font-weight: bold\">Hola no tiene suficiente energía para atacar!</span>\n",
       "</pre>\n"
      ],
      "text/plain": [
       "\u001b[1;31mHola no tiene suficiente energía para atacar!\u001b[0m\n"
      ]
     },
     "metadata": {},
     "output_type": "display_data"
    },
    {
     "data": {
      "text/html": [
       "<pre style=\"white-space:pre;overflow-x:auto;line-height:normal;font-family:Menlo,'DejaVu Sans Mono',consolas,'Courier New',monospace\"><span style=\"color: #ff00ff; text-decoration-color: #ff00ff\">╭─ </span><span style=\"color: #800080; text-decoration-color: #800080; font-weight: bold\">-------- ESTADÍSTICAS --------</span><span style=\"color: #ff00ff; text-decoration-color: #ff00ff\"> ──╮</span>\n",
       "<span style=\"color: #ff00ff; text-decoration-color: #ff00ff\">│</span> <span style=\"color: #008080; text-decoration-color: #008080; font-weight: bold\">Hola</span>                              <span style=\"color: #ff00ff; text-decoration-color: #ff00ff\">│</span>\n",
       "<span style=\"color: #ff00ff; text-decoration-color: #ff00ff\">│</span> <span style=\"color: #008000; text-decoration-color: #008000; font-weight: bold\">VIDA:</span> 85/125 <span style=\"color: #008000; text-decoration-color: #008000; font-weight: bold\">██████████████</span><span style=\"color: #800000; text-decoration-color: #800000; font-weight: bold\">░░░░░░</span> <span style=\"color: #ff00ff; text-decoration-color: #ff00ff\">│</span>\n",
       "<span style=\"color: #ff00ff; text-decoration-color: #ff00ff\">│</span> <span style=\"color: #808000; text-decoration-color: #808000; font-weight: bold\">ENERGÍA:</span> <span style=\"color: #808000; text-decoration-color: #808000; font-weight: bold\">■</span> <span style=\"color: #808000; text-decoration-color: #808000; font-weight: bold\">■</span> <span style=\"color: #dfdfdf; text-decoration-color: #dfdfdf\">□</span> <span style=\"color: #dfdfdf; text-decoration-color: #dfdfdf\">□</span> <span style=\"color: #dfdfdf; text-decoration-color: #dfdfdf\">□</span>                <span style=\"color: #ff00ff; text-decoration-color: #ff00ff\">│</span>\n",
       "<span style=\"color: #ff00ff; text-decoration-color: #ff00ff\">│</span> <span style=\"color: #800000; text-decoration-color: #800000; font-weight: bold\">RECARGAS:</span> <span style=\"color: #800000; text-decoration-color: #800000; font-weight: bold\">■</span>                       <span style=\"color: #ff00ff; text-decoration-color: #ff00ff\">│</span>\n",
       "<span style=\"color: #ff00ff; text-decoration-color: #ff00ff\">╰───────────────────────────────────╯</span>\n",
       "</pre>\n"
      ],
      "text/plain": [
       "\u001b[95m╭─\u001b[0m\u001b[95m \u001b[0m\u001b[1;35m-------- ESTADÍSTICAS --------\u001b[0m\u001b[95m \u001b[0m\u001b[95m─\u001b[0m\u001b[95m─╮\u001b[0m\n",
       "\u001b[95m│\u001b[0m \u001b[1;36mHola\u001b[0m                              \u001b[95m│\u001b[0m\n",
       "\u001b[95m│\u001b[0m \u001b[1;32mVIDA:\u001b[0m 85/125 \u001b[1;32m██████████████\u001b[0m\u001b[1;31m░░░░░░\u001b[0m \u001b[95m│\u001b[0m\n",
       "\u001b[95m│\u001b[0m \u001b[1;33mENERGÍA:\u001b[0m \u001b[1;33m■\u001b[0m \u001b[1;33m■\u001b[0m \u001b[2;37m□\u001b[0m \u001b[2;37m□\u001b[0m \u001b[2;37m□\u001b[0m                \u001b[95m│\u001b[0m\n",
       "\u001b[95m│\u001b[0m \u001b[1;31mRECARGAS:\u001b[0m \u001b[1;31m■\u001b[0m                       \u001b[95m│\u001b[0m\n",
       "\u001b[95m╰───────────────────────────────────╯\u001b[0m\n"
      ]
     },
     "metadata": {},
     "output_type": "display_data"
    },
    {
     "data": {
      "text/html": [
       "<pre style=\"white-space:pre;overflow-x:auto;line-height:normal;font-family:Menlo,'DejaVu Sans Mono',consolas,'Courier New',monospace\"><span style=\"color: #ff00ff; text-decoration-color: #ff00ff\">╭─ </span><span style=\"color: #800080; text-decoration-color: #800080; font-weight: bold\">-------- ESTADÍSTICAS --------</span><span style=\"color: #ff00ff; text-decoration-color: #ff00ff\"> ──╮</span>\n",
       "<span style=\"color: #ff00ff; text-decoration-color: #ff00ff\">│</span> <span style=\"color: #008080; text-decoration-color: #008080; font-weight: bold\">Hola</span>                              <span style=\"color: #ff00ff; text-decoration-color: #ff00ff\">│</span>\n",
       "<span style=\"color: #ff00ff; text-decoration-color: #ff00ff\">│</span> <span style=\"color: #008000; text-decoration-color: #008000; font-weight: bold\">VIDA:</span> 65/125 <span style=\"color: #008000; text-decoration-color: #008000; font-weight: bold\">██████████</span><span style=\"color: #800000; text-decoration-color: #800000; font-weight: bold\">░░░░░░░░░░</span> <span style=\"color: #ff00ff; text-decoration-color: #ff00ff\">│</span>\n",
       "<span style=\"color: #ff00ff; text-decoration-color: #ff00ff\">│</span> <span style=\"color: #808000; text-decoration-color: #808000; font-weight: bold\">ENERGÍA:</span> <span style=\"color: #dfdfdf; text-decoration-color: #dfdfdf\">□</span> <span style=\"color: #dfdfdf; text-decoration-color: #dfdfdf\">□</span> <span style=\"color: #dfdfdf; text-decoration-color: #dfdfdf\">□</span> <span style=\"color: #dfdfdf; text-decoration-color: #dfdfdf\">□</span> <span style=\"color: #dfdfdf; text-decoration-color: #dfdfdf\">□</span>                <span style=\"color: #ff00ff; text-decoration-color: #ff00ff\">│</span>\n",
       "<span style=\"color: #ff00ff; text-decoration-color: #ff00ff\">│</span> <span style=\"color: #800000; text-decoration-color: #800000; font-weight: bold\">RECARGAS:</span> <span style=\"color: #800000; text-decoration-color: #800000; font-weight: bold\">■</span>                       <span style=\"color: #ff00ff; text-decoration-color: #ff00ff\">│</span>\n",
       "<span style=\"color: #ff00ff; text-decoration-color: #ff00ff\">╰───────────────────────────────────╯</span>\n",
       "</pre>\n"
      ],
      "text/plain": [
       "\u001b[95m╭─\u001b[0m\u001b[95m \u001b[0m\u001b[1;35m-------- ESTADÍSTICAS --------\u001b[0m\u001b[95m \u001b[0m\u001b[95m─\u001b[0m\u001b[95m─╮\u001b[0m\n",
       "\u001b[95m│\u001b[0m \u001b[1;36mHola\u001b[0m                              \u001b[95m│\u001b[0m\n",
       "\u001b[95m│\u001b[0m \u001b[1;32mVIDA:\u001b[0m 65/125 \u001b[1;32m██████████\u001b[0m\u001b[1;31m░░░░░░░░░░\u001b[0m \u001b[95m│\u001b[0m\n",
       "\u001b[95m│\u001b[0m \u001b[1;33mENERGÍA:\u001b[0m \u001b[2;37m□\u001b[0m \u001b[2;37m□\u001b[0m \u001b[2;37m□\u001b[0m \u001b[2;37m□\u001b[0m \u001b[2;37m□\u001b[0m                \u001b[95m│\u001b[0m\n",
       "\u001b[95m│\u001b[0m \u001b[1;31mRECARGAS:\u001b[0m \u001b[1;31m■\u001b[0m                       \u001b[95m│\u001b[0m\n",
       "\u001b[95m╰───────────────────────────────────╯\u001b[0m\n"
      ]
     },
     "metadata": {},
     "output_type": "display_data"
    },
    {
     "data": {
      "text/html": [
       "<pre style=\"white-space:pre;overflow-x:auto;line-height:normal;font-family:Menlo,'DejaVu Sans Mono',consolas,'Courier New',monospace\"><span style=\"color: #800080; text-decoration-color: #800080; font-weight: bold\">Turno de Hola</span>\n",
       "</pre>\n"
      ],
      "text/plain": [
       "\u001b[1;35mTurno de Hola\u001b[0m\n"
      ]
     },
     "metadata": {},
     "output_type": "display_data"
    },
    {
     "data": {
      "text/html": [
       "<pre style=\"white-space:pre;overflow-x:auto;line-height:normal;font-family:Menlo,'DejaVu Sans Mono',consolas,'Courier New',monospace\"><span style=\"color: #008080; text-decoration-color: #008080; font-weight: bold\">1</span>. Atacar\n",
       "<span style=\"color: #008080; text-decoration-color: #008080; font-weight: bold\">2</span>. Recargar Energía\n",
       "<span style=\"color: #008080; text-decoration-color: #008080; font-weight: bold\">3</span>. Recargar Vida\n",
       "<span style=\"color: #008080; text-decoration-color: #008080; font-weight: bold\">4</span>. Obtener Recarga de Vida\n",
       "</pre>\n"
      ],
      "text/plain": [
       "\u001b[1;36m1\u001b[0m. Atacar\n",
       "\u001b[1;36m2\u001b[0m. Recargar Energía\n",
       "\u001b[1;36m3\u001b[0m. Recargar Vida\n",
       "\u001b[1;36m4\u001b[0m. Obtener Recarga de Vida\n"
      ]
     },
     "metadata": {},
     "output_type": "display_data"
    },
    {
     "data": {
      "text/html": [
       "<pre style=\"white-space:pre;overflow-x:auto;line-height:normal;font-family:Menlo,'DejaVu Sans Mono',consolas,'Courier New',monospace\">Elige una acción <span style=\"color: #800080; text-decoration-color: #800080; font-weight: bold\">[1/2/3/4]</span>: </pre>\n"
      ],
      "text/plain": [
       "Elige una acción \u001b[1;35m[1/2/3/4]\u001b[0m: "
      ]
     },
     "metadata": {},
     "output_type": "display_data"
    },
    {
     "data": {
      "text/html": [
       "<pre style=\"white-space:pre;overflow-x:auto;line-height:normal;font-family:Menlo,'DejaVu Sans Mono',consolas,'Courier New',monospace\">¿Cuántas municiones deseas usar (1-3)?: </pre>\n"
      ],
      "text/plain": [
       "¿Cuántas municiones deseas usar (1-3)?: "
      ]
     },
     "metadata": {},
     "output_type": "display_data"
    },
    {
     "data": {
      "text/html": [
       "<pre style=\"white-space:pre;overflow-x:auto;line-height:normal;font-family:Menlo,'DejaVu Sans Mono',consolas,'Courier New',monospace\"><span style=\"color: #808000; text-decoration-color: #808000; font-weight: bold\">Hola realizó un ataque con </span><span style=\"color: #808000; text-decoration-color: #808000; font-weight: bold\">14</span><span style=\"color: #808000; text-decoration-color: #808000; font-weight: bold\"> de daño!</span>\n",
       "</pre>\n"
      ],
      "text/plain": [
       "\u001b[1;33mHola realizó un ataque con \u001b[0m\u001b[1;33m14\u001b[0m\u001b[1;33m de daño!\u001b[0m\n"
      ]
     },
     "metadata": {},
     "output_type": "display_data"
    },
    {
     "data": {
      "text/html": [
       "<pre style=\"white-space:pre;overflow-x:auto;line-height:normal;font-family:Menlo,'DejaVu Sans Mono',consolas,'Courier New',monospace\"><span style=\"color: #800080; text-decoration-color: #800080; font-weight: bold\">Turno de Hola</span>\n",
       "</pre>\n"
      ],
      "text/plain": [
       "\u001b[1;35mTurno de Hola\u001b[0m\n"
      ]
     },
     "metadata": {},
     "output_type": "display_data"
    },
    {
     "data": {
      "text/html": [
       "<pre style=\"white-space:pre;overflow-x:auto;line-height:normal;font-family:Menlo,'DejaVu Sans Mono',consolas,'Courier New',monospace\"><span style=\"color: #008080; text-decoration-color: #008080; font-weight: bold\">1</span>. Atacar\n",
       "<span style=\"color: #008080; text-decoration-color: #008080; font-weight: bold\">2</span>. Recargar Energía\n",
       "<span style=\"color: #008080; text-decoration-color: #008080; font-weight: bold\">3</span>. Recargar Vida\n",
       "<span style=\"color: #008080; text-decoration-color: #008080; font-weight: bold\">4</span>. Obtener Recarga de Vida\n",
       "</pre>\n"
      ],
      "text/plain": [
       "\u001b[1;36m1\u001b[0m. Atacar\n",
       "\u001b[1;36m2\u001b[0m. Recargar Energía\n",
       "\u001b[1;36m3\u001b[0m. Recargar Vida\n",
       "\u001b[1;36m4\u001b[0m. Obtener Recarga de Vida\n"
      ]
     },
     "metadata": {},
     "output_type": "display_data"
    },
    {
     "data": {
      "text/html": [
       "<pre style=\"white-space:pre;overflow-x:auto;line-height:normal;font-family:Menlo,'DejaVu Sans Mono',consolas,'Courier New',monospace\">Elige una acción <span style=\"color: #800080; text-decoration-color: #800080; font-weight: bold\">[1/2/3/4]</span>: </pre>\n"
      ],
      "text/plain": [
       "Elige una acción \u001b[1;35m[1/2/3/4]\u001b[0m: "
      ]
     },
     "metadata": {},
     "output_type": "display_data"
    },
    {
     "data": {
      "text/html": [
       "<pre style=\"white-space:pre;overflow-x:auto;line-height:normal;font-family:Menlo,'DejaVu Sans Mono',consolas,'Courier New',monospace\">¿Cuántas municiones deseas usar (1-3)?: </pre>\n"
      ],
      "text/plain": [
       "¿Cuántas municiones deseas usar (1-3)?: "
      ]
     },
     "metadata": {},
     "output_type": "display_data"
    },
    {
     "data": {
      "text/html": [
       "<pre style=\"white-space:pre;overflow-x:auto;line-height:normal;font-family:Menlo,'DejaVu Sans Mono',consolas,'Courier New',monospace\"><span style=\"color: #800000; text-decoration-color: #800000; font-weight: bold\">Hola no tiene suficiente energía para atacar!</span>\n",
       "</pre>\n"
      ],
      "text/plain": [
       "\u001b[1;31mHola no tiene suficiente energía para atacar!\u001b[0m\n"
      ]
     },
     "metadata": {},
     "output_type": "display_data"
    },
    {
     "data": {
      "text/html": [
       "<pre style=\"white-space:pre;overflow-x:auto;line-height:normal;font-family:Menlo,'DejaVu Sans Mono',consolas,'Courier New',monospace\"><span style=\"color: #ff00ff; text-decoration-color: #ff00ff\">╭─ </span><span style=\"color: #800080; text-decoration-color: #800080; font-weight: bold\">-------- ESTADÍSTICAS --------</span><span style=\"color: #ff00ff; text-decoration-color: #ff00ff\"> ──╮</span>\n",
       "<span style=\"color: #ff00ff; text-decoration-color: #ff00ff\">│</span> <span style=\"color: #008080; text-decoration-color: #008080; font-weight: bold\">Hola</span>                              <span style=\"color: #ff00ff; text-decoration-color: #ff00ff\">│</span>\n",
       "<span style=\"color: #ff00ff; text-decoration-color: #ff00ff\">│</span> <span style=\"color: #008000; text-decoration-color: #008000; font-weight: bold\">VIDA:</span> 85/125 <span style=\"color: #008000; text-decoration-color: #008000; font-weight: bold\">██████████████</span><span style=\"color: #800000; text-decoration-color: #800000; font-weight: bold\">░░░░░░</span> <span style=\"color: #ff00ff; text-decoration-color: #ff00ff\">│</span>\n",
       "<span style=\"color: #ff00ff; text-decoration-color: #ff00ff\">│</span> <span style=\"color: #808000; text-decoration-color: #808000; font-weight: bold\">ENERGÍA:</span> <span style=\"color: #808000; text-decoration-color: #808000; font-weight: bold\">■</span> <span style=\"color: #dfdfdf; text-decoration-color: #dfdfdf\">□</span> <span style=\"color: #dfdfdf; text-decoration-color: #dfdfdf\">□</span> <span style=\"color: #dfdfdf; text-decoration-color: #dfdfdf\">□</span> <span style=\"color: #dfdfdf; text-decoration-color: #dfdfdf\">□</span>                <span style=\"color: #ff00ff; text-decoration-color: #ff00ff\">│</span>\n",
       "<span style=\"color: #ff00ff; text-decoration-color: #ff00ff\">│</span> <span style=\"color: #800000; text-decoration-color: #800000; font-weight: bold\">RECARGAS:</span> <span style=\"color: #800000; text-decoration-color: #800000; font-weight: bold\">■</span>                       <span style=\"color: #ff00ff; text-decoration-color: #ff00ff\">│</span>\n",
       "<span style=\"color: #ff00ff; text-decoration-color: #ff00ff\">╰───────────────────────────────────╯</span>\n",
       "</pre>\n"
      ],
      "text/plain": [
       "\u001b[95m╭─\u001b[0m\u001b[95m \u001b[0m\u001b[1;35m-------- ESTADÍSTICAS --------\u001b[0m\u001b[95m \u001b[0m\u001b[95m─\u001b[0m\u001b[95m─╮\u001b[0m\n",
       "\u001b[95m│\u001b[0m \u001b[1;36mHola\u001b[0m                              \u001b[95m│\u001b[0m\n",
       "\u001b[95m│\u001b[0m \u001b[1;32mVIDA:\u001b[0m 85/125 \u001b[1;32m██████████████\u001b[0m\u001b[1;31m░░░░░░\u001b[0m \u001b[95m│\u001b[0m\n",
       "\u001b[95m│\u001b[0m \u001b[1;33mENERGÍA:\u001b[0m \u001b[1;33m■\u001b[0m \u001b[2;37m□\u001b[0m \u001b[2;37m□\u001b[0m \u001b[2;37m□\u001b[0m \u001b[2;37m□\u001b[0m                \u001b[95m│\u001b[0m\n",
       "\u001b[95m│\u001b[0m \u001b[1;31mRECARGAS:\u001b[0m \u001b[1;31m■\u001b[0m                       \u001b[95m│\u001b[0m\n",
       "\u001b[95m╰───────────────────────────────────╯\u001b[0m\n"
      ]
     },
     "metadata": {},
     "output_type": "display_data"
    },
    {
     "data": {
      "text/html": [
       "<pre style=\"white-space:pre;overflow-x:auto;line-height:normal;font-family:Menlo,'DejaVu Sans Mono',consolas,'Courier New',monospace\"><span style=\"color: #ff00ff; text-decoration-color: #ff00ff\">╭─ </span><span style=\"color: #800080; text-decoration-color: #800080; font-weight: bold\">-------- ESTADÍSTICAS --------</span><span style=\"color: #ff00ff; text-decoration-color: #ff00ff\"> ──╮</span>\n",
       "<span style=\"color: #ff00ff; text-decoration-color: #ff00ff\">│</span> <span style=\"color: #008080; text-decoration-color: #008080; font-weight: bold\">Hola</span>                              <span style=\"color: #ff00ff; text-decoration-color: #ff00ff\">│</span>\n",
       "<span style=\"color: #ff00ff; text-decoration-color: #ff00ff\">│</span> <span style=\"color: #008000; text-decoration-color: #008000; font-weight: bold\">VIDA:</span> 51/125 <span style=\"color: #008000; text-decoration-color: #008000; font-weight: bold\">████████</span><span style=\"color: #800000; text-decoration-color: #800000; font-weight: bold\">░░░░░░░░░░░░</span> <span style=\"color: #ff00ff; text-decoration-color: #ff00ff\">│</span>\n",
       "<span style=\"color: #ff00ff; text-decoration-color: #ff00ff\">│</span> <span style=\"color: #808000; text-decoration-color: #808000; font-weight: bold\">ENERGÍA:</span> <span style=\"color: #dfdfdf; text-decoration-color: #dfdfdf\">□</span> <span style=\"color: #dfdfdf; text-decoration-color: #dfdfdf\">□</span> <span style=\"color: #dfdfdf; text-decoration-color: #dfdfdf\">□</span> <span style=\"color: #dfdfdf; text-decoration-color: #dfdfdf\">□</span> <span style=\"color: #dfdfdf; text-decoration-color: #dfdfdf\">□</span>                <span style=\"color: #ff00ff; text-decoration-color: #ff00ff\">│</span>\n",
       "<span style=\"color: #ff00ff; text-decoration-color: #ff00ff\">│</span> <span style=\"color: #800000; text-decoration-color: #800000; font-weight: bold\">RECARGAS:</span> <span style=\"color: #800000; text-decoration-color: #800000; font-weight: bold\">■</span>                       <span style=\"color: #ff00ff; text-decoration-color: #ff00ff\">│</span>\n",
       "<span style=\"color: #ff00ff; text-decoration-color: #ff00ff\">╰───────────────────────────────────╯</span>\n",
       "</pre>\n"
      ],
      "text/plain": [
       "\u001b[95m╭─\u001b[0m\u001b[95m \u001b[0m\u001b[1;35m-------- ESTADÍSTICAS --------\u001b[0m\u001b[95m \u001b[0m\u001b[95m─\u001b[0m\u001b[95m─╮\u001b[0m\n",
       "\u001b[95m│\u001b[0m \u001b[1;36mHola\u001b[0m                              \u001b[95m│\u001b[0m\n",
       "\u001b[95m│\u001b[0m \u001b[1;32mVIDA:\u001b[0m 51/125 \u001b[1;32m████████\u001b[0m\u001b[1;31m░░░░░░░░░░░░\u001b[0m \u001b[95m│\u001b[0m\n",
       "\u001b[95m│\u001b[0m \u001b[1;33mENERGÍA:\u001b[0m \u001b[2;37m□\u001b[0m \u001b[2;37m□\u001b[0m \u001b[2;37m□\u001b[0m \u001b[2;37m□\u001b[0m \u001b[2;37m□\u001b[0m                \u001b[95m│\u001b[0m\n",
       "\u001b[95m│\u001b[0m \u001b[1;31mRECARGAS:\u001b[0m \u001b[1;31m■\u001b[0m                       \u001b[95m│\u001b[0m\n",
       "\u001b[95m╰───────────────────────────────────╯\u001b[0m\n"
      ]
     },
     "metadata": {},
     "output_type": "display_data"
    },
    {
     "data": {
      "text/html": [
       "<pre style=\"white-space:pre;overflow-x:auto;line-height:normal;font-family:Menlo,'DejaVu Sans Mono',consolas,'Courier New',monospace\"><span style=\"color: #800080; text-decoration-color: #800080; font-weight: bold\">Turno de Hola</span>\n",
       "</pre>\n"
      ],
      "text/plain": [
       "\u001b[1;35mTurno de Hola\u001b[0m\n"
      ]
     },
     "metadata": {},
     "output_type": "display_data"
    },
    {
     "data": {
      "text/html": [
       "<pre style=\"white-space:pre;overflow-x:auto;line-height:normal;font-family:Menlo,'DejaVu Sans Mono',consolas,'Courier New',monospace\"><span style=\"color: #008080; text-decoration-color: #008080; font-weight: bold\">1</span>. Atacar\n",
       "<span style=\"color: #008080; text-decoration-color: #008080; font-weight: bold\">2</span>. Recargar Energía\n",
       "<span style=\"color: #008080; text-decoration-color: #008080; font-weight: bold\">3</span>. Recargar Vida\n",
       "<span style=\"color: #008080; text-decoration-color: #008080; font-weight: bold\">4</span>. Obtener Recarga de Vida\n",
       "</pre>\n"
      ],
      "text/plain": [
       "\u001b[1;36m1\u001b[0m. Atacar\n",
       "\u001b[1;36m2\u001b[0m. Recargar Energía\n",
       "\u001b[1;36m3\u001b[0m. Recargar Vida\n",
       "\u001b[1;36m4\u001b[0m. Obtener Recarga de Vida\n"
      ]
     },
     "metadata": {},
     "output_type": "display_data"
    },
    {
     "data": {
      "text/html": [
       "<pre style=\"white-space:pre;overflow-x:auto;line-height:normal;font-family:Menlo,'DejaVu Sans Mono',consolas,'Courier New',monospace\">Elige una acción <span style=\"color: #800080; text-decoration-color: #800080; font-weight: bold\">[1/2/3/4]</span>: </pre>\n"
      ],
      "text/plain": [
       "Elige una acción \u001b[1;35m[1/2/3/4]\u001b[0m: "
      ]
     },
     "metadata": {},
     "output_type": "display_data"
    },
    {
     "data": {
      "text/html": [
       "<pre style=\"white-space:pre;overflow-x:auto;line-height:normal;font-family:Menlo,'DejaVu Sans Mono',consolas,'Courier New',monospace\">¿Cuántas municiones deseas usar (1-3)?: </pre>\n"
      ],
      "text/plain": [
       "¿Cuántas municiones deseas usar (1-3)?: "
      ]
     },
     "metadata": {},
     "output_type": "display_data"
    },
    {
     "data": {
      "text/html": [
       "<pre style=\"white-space:pre;overflow-x:auto;line-height:normal;font-family:Menlo,'DejaVu Sans Mono',consolas,'Courier New',monospace\"><span style=\"color: #800000; text-decoration-color: #800000; font-weight: bold\">Hola no tiene suficiente energía para usar </span><span style=\"color: #800000; text-decoration-color: #800000; font-weight: bold\">2</span><span style=\"color: #800000; text-decoration-color: #800000; font-weight: bold\"> municiones!</span>\n",
       "</pre>\n"
      ],
      "text/plain": [
       "\u001b[1;31mHola no tiene suficiente energía para usar \u001b[0m\u001b[1;31m2\u001b[0m\u001b[1;31m municiones!\u001b[0m\n"
      ]
     },
     "metadata": {},
     "output_type": "display_data"
    },
    {
     "data": {
      "text/html": [
       "<pre style=\"white-space:pre;overflow-x:auto;line-height:normal;font-family:Menlo,'DejaVu Sans Mono',consolas,'Courier New',monospace\"><span style=\"color: #800080; text-decoration-color: #800080; font-weight: bold\">Turno de Hola</span>\n",
       "</pre>\n"
      ],
      "text/plain": [
       "\u001b[1;35mTurno de Hola\u001b[0m\n"
      ]
     },
     "metadata": {},
     "output_type": "display_data"
    },
    {
     "data": {
      "text/html": [
       "<pre style=\"white-space:pre;overflow-x:auto;line-height:normal;font-family:Menlo,'DejaVu Sans Mono',consolas,'Courier New',monospace\"><span style=\"color: #008080; text-decoration-color: #008080; font-weight: bold\">1</span>. Atacar\n",
       "<span style=\"color: #008080; text-decoration-color: #008080; font-weight: bold\">2</span>. Recargar Energía\n",
       "<span style=\"color: #008080; text-decoration-color: #008080; font-weight: bold\">3</span>. Recargar Vida\n",
       "<span style=\"color: #008080; text-decoration-color: #008080; font-weight: bold\">4</span>. Obtener Recarga de Vida\n",
       "</pre>\n"
      ],
      "text/plain": [
       "\u001b[1;36m1\u001b[0m. Atacar\n",
       "\u001b[1;36m2\u001b[0m. Recargar Energía\n",
       "\u001b[1;36m3\u001b[0m. Recargar Vida\n",
       "\u001b[1;36m4\u001b[0m. Obtener Recarga de Vida\n"
      ]
     },
     "metadata": {},
     "output_type": "display_data"
    },
    {
     "data": {
      "text/html": [
       "<pre style=\"white-space:pre;overflow-x:auto;line-height:normal;font-family:Menlo,'DejaVu Sans Mono',consolas,'Courier New',monospace\">Elige una acción <span style=\"color: #800080; text-decoration-color: #800080; font-weight: bold\">[1/2/3/4]</span>: </pre>\n"
      ],
      "text/plain": [
       "Elige una acción \u001b[1;35m[1/2/3/4]\u001b[0m: "
      ]
     },
     "metadata": {},
     "output_type": "display_data"
    },
    {
     "data": {
      "text/html": [
       "<pre style=\"white-space:pre;overflow-x:auto;line-height:normal;font-family:Menlo,'DejaVu Sans Mono',consolas,'Courier New',monospace\"><span style=\"color: #808000; text-decoration-color: #808000; font-weight: bold\">Hola recarga </span><span style=\"color: #808000; text-decoration-color: #808000; font-weight: bold\">2</span><span style=\"color: #808000; text-decoration-color: #808000; font-weight: bold\"> de energía.</span>\n",
       "</pre>\n"
      ],
      "text/plain": [
       "\u001b[1;33mHola recarga \u001b[0m\u001b[1;33m2\u001b[0m\u001b[1;33m de energía.\u001b[0m\n"
      ]
     },
     "metadata": {},
     "output_type": "display_data"
    },
    {
     "data": {
      "text/html": [
       "<pre style=\"white-space:pre;overflow-x:auto;line-height:normal;font-family:Menlo,'DejaVu Sans Mono',consolas,'Courier New',monospace\"><span style=\"color: #ff00ff; text-decoration-color: #ff00ff\">╭─ </span><span style=\"color: #800080; text-decoration-color: #800080; font-weight: bold\">-------- ESTADÍSTICAS --------</span><span style=\"color: #ff00ff; text-decoration-color: #ff00ff\"> ──╮</span>\n",
       "<span style=\"color: #ff00ff; text-decoration-color: #ff00ff\">│</span> <span style=\"color: #008080; text-decoration-color: #008080; font-weight: bold\">Hola</span>                              <span style=\"color: #ff00ff; text-decoration-color: #ff00ff\">│</span>\n",
       "<span style=\"color: #ff00ff; text-decoration-color: #ff00ff\">│</span> <span style=\"color: #008000; text-decoration-color: #008000; font-weight: bold\">VIDA:</span> 85/125 <span style=\"color: #008000; text-decoration-color: #008000; font-weight: bold\">██████████████</span><span style=\"color: #800000; text-decoration-color: #800000; font-weight: bold\">░░░░░░</span> <span style=\"color: #ff00ff; text-decoration-color: #ff00ff\">│</span>\n",
       "<span style=\"color: #ff00ff; text-decoration-color: #ff00ff\">│</span> <span style=\"color: #808000; text-decoration-color: #808000; font-weight: bold\">ENERGÍA:</span> <span style=\"color: #808000; text-decoration-color: #808000; font-weight: bold\">■</span> <span style=\"color: #dfdfdf; text-decoration-color: #dfdfdf\">□</span> <span style=\"color: #dfdfdf; text-decoration-color: #dfdfdf\">□</span> <span style=\"color: #dfdfdf; text-decoration-color: #dfdfdf\">□</span> <span style=\"color: #dfdfdf; text-decoration-color: #dfdfdf\">□</span>                <span style=\"color: #ff00ff; text-decoration-color: #ff00ff\">│</span>\n",
       "<span style=\"color: #ff00ff; text-decoration-color: #ff00ff\">│</span> <span style=\"color: #800000; text-decoration-color: #800000; font-weight: bold\">RECARGAS:</span> <span style=\"color: #800000; text-decoration-color: #800000; font-weight: bold\">■</span>                       <span style=\"color: #ff00ff; text-decoration-color: #ff00ff\">│</span>\n",
       "<span style=\"color: #ff00ff; text-decoration-color: #ff00ff\">╰───────────────────────────────────╯</span>\n",
       "</pre>\n"
      ],
      "text/plain": [
       "\u001b[95m╭─\u001b[0m\u001b[95m \u001b[0m\u001b[1;35m-------- ESTADÍSTICAS --------\u001b[0m\u001b[95m \u001b[0m\u001b[95m─\u001b[0m\u001b[95m─╮\u001b[0m\n",
       "\u001b[95m│\u001b[0m \u001b[1;36mHola\u001b[0m                              \u001b[95m│\u001b[0m\n",
       "\u001b[95m│\u001b[0m \u001b[1;32mVIDA:\u001b[0m 85/125 \u001b[1;32m██████████████\u001b[0m\u001b[1;31m░░░░░░\u001b[0m \u001b[95m│\u001b[0m\n",
       "\u001b[95m│\u001b[0m \u001b[1;33mENERGÍA:\u001b[0m \u001b[1;33m■\u001b[0m \u001b[2;37m□\u001b[0m \u001b[2;37m□\u001b[0m \u001b[2;37m□\u001b[0m \u001b[2;37m□\u001b[0m                \u001b[95m│\u001b[0m\n",
       "\u001b[95m│\u001b[0m \u001b[1;31mRECARGAS:\u001b[0m \u001b[1;31m■\u001b[0m                       \u001b[95m│\u001b[0m\n",
       "\u001b[95m╰───────────────────────────────────╯\u001b[0m\n"
      ]
     },
     "metadata": {},
     "output_type": "display_data"
    },
    {
     "data": {
      "text/html": [
       "<pre style=\"white-space:pre;overflow-x:auto;line-height:normal;font-family:Menlo,'DejaVu Sans Mono',consolas,'Courier New',monospace\"><span style=\"color: #ff00ff; text-decoration-color: #ff00ff\">╭─ </span><span style=\"color: #800080; text-decoration-color: #800080; font-weight: bold\">-------- ESTADÍSTICAS --------</span><span style=\"color: #ff00ff; text-decoration-color: #ff00ff\"> ──╮</span>\n",
       "<span style=\"color: #ff00ff; text-decoration-color: #ff00ff\">│</span> <span style=\"color: #008080; text-decoration-color: #008080; font-weight: bold\">Hola</span>                              <span style=\"color: #ff00ff; text-decoration-color: #ff00ff\">│</span>\n",
       "<span style=\"color: #ff00ff; text-decoration-color: #ff00ff\">│</span> <span style=\"color: #008000; text-decoration-color: #008000; font-weight: bold\">VIDA:</span> 51/125 <span style=\"color: #008000; text-decoration-color: #008000; font-weight: bold\">████████</span><span style=\"color: #800000; text-decoration-color: #800000; font-weight: bold\">░░░░░░░░░░░░</span> <span style=\"color: #ff00ff; text-decoration-color: #ff00ff\">│</span>\n",
       "<span style=\"color: #ff00ff; text-decoration-color: #ff00ff\">│</span> <span style=\"color: #808000; text-decoration-color: #808000; font-weight: bold\">ENERGÍA:</span> <span style=\"color: #808000; text-decoration-color: #808000; font-weight: bold\">■</span> <span style=\"color: #808000; text-decoration-color: #808000; font-weight: bold\">■</span> <span style=\"color: #dfdfdf; text-decoration-color: #dfdfdf\">□</span> <span style=\"color: #dfdfdf; text-decoration-color: #dfdfdf\">□</span> <span style=\"color: #dfdfdf; text-decoration-color: #dfdfdf\">□</span>                <span style=\"color: #ff00ff; text-decoration-color: #ff00ff\">│</span>\n",
       "<span style=\"color: #ff00ff; text-decoration-color: #ff00ff\">│</span> <span style=\"color: #800000; text-decoration-color: #800000; font-weight: bold\">RECARGAS:</span> <span style=\"color: #800000; text-decoration-color: #800000; font-weight: bold\">■</span>                       <span style=\"color: #ff00ff; text-decoration-color: #ff00ff\">│</span>\n",
       "<span style=\"color: #ff00ff; text-decoration-color: #ff00ff\">╰───────────────────────────────────╯</span>\n",
       "</pre>\n"
      ],
      "text/plain": [
       "\u001b[95m╭─\u001b[0m\u001b[95m \u001b[0m\u001b[1;35m-------- ESTADÍSTICAS --------\u001b[0m\u001b[95m \u001b[0m\u001b[95m─\u001b[0m\u001b[95m─╮\u001b[0m\n",
       "\u001b[95m│\u001b[0m \u001b[1;36mHola\u001b[0m                              \u001b[95m│\u001b[0m\n",
       "\u001b[95m│\u001b[0m \u001b[1;32mVIDA:\u001b[0m 51/125 \u001b[1;32m████████\u001b[0m\u001b[1;31m░░░░░░░░░░░░\u001b[0m \u001b[95m│\u001b[0m\n",
       "\u001b[95m│\u001b[0m \u001b[1;33mENERGÍA:\u001b[0m \u001b[1;33m■\u001b[0m \u001b[1;33m■\u001b[0m \u001b[2;37m□\u001b[0m \u001b[2;37m□\u001b[0m \u001b[2;37m□\u001b[0m                \u001b[95m│\u001b[0m\n",
       "\u001b[95m│\u001b[0m \u001b[1;31mRECARGAS:\u001b[0m \u001b[1;31m■\u001b[0m                       \u001b[95m│\u001b[0m\n",
       "\u001b[95m╰───────────────────────────────────╯\u001b[0m\n"
      ]
     },
     "metadata": {},
     "output_type": "display_data"
    },
    {
     "data": {
      "text/html": [
       "<pre style=\"white-space:pre;overflow-x:auto;line-height:normal;font-family:Menlo,'DejaVu Sans Mono',consolas,'Courier New',monospace\"><span style=\"color: #800080; text-decoration-color: #800080; font-weight: bold\">Turno de Hola</span>\n",
       "</pre>\n"
      ],
      "text/plain": [
       "\u001b[1;35mTurno de Hola\u001b[0m\n"
      ]
     },
     "metadata": {},
     "output_type": "display_data"
    },
    {
     "data": {
      "text/html": [
       "<pre style=\"white-space:pre;overflow-x:auto;line-height:normal;font-family:Menlo,'DejaVu Sans Mono',consolas,'Courier New',monospace\"><span style=\"color: #008080; text-decoration-color: #008080; font-weight: bold\">1</span>. Atacar\n",
       "<span style=\"color: #008080; text-decoration-color: #008080; font-weight: bold\">2</span>. Recargar Energía\n",
       "<span style=\"color: #008080; text-decoration-color: #008080; font-weight: bold\">3</span>. Recargar Vida\n",
       "<span style=\"color: #008080; text-decoration-color: #008080; font-weight: bold\">4</span>. Obtener Recarga de Vida\n",
       "</pre>\n"
      ],
      "text/plain": [
       "\u001b[1;36m1\u001b[0m. Atacar\n",
       "\u001b[1;36m2\u001b[0m. Recargar Energía\n",
       "\u001b[1;36m3\u001b[0m. Recargar Vida\n",
       "\u001b[1;36m4\u001b[0m. Obtener Recarga de Vida\n"
      ]
     },
     "metadata": {},
     "output_type": "display_data"
    },
    {
     "data": {
      "text/html": [
       "<pre style=\"white-space:pre;overflow-x:auto;line-height:normal;font-family:Menlo,'DejaVu Sans Mono',consolas,'Courier New',monospace\">Elige una acción <span style=\"color: #800080; text-decoration-color: #800080; font-weight: bold\">[1/2/3/4]</span>: </pre>\n"
      ],
      "text/plain": [
       "Elige una acción \u001b[1;35m[1/2/3/4]\u001b[0m: "
      ]
     },
     "metadata": {},
     "output_type": "display_data"
    },
    {
     "data": {
      "text/html": [
       "<pre style=\"white-space:pre;overflow-x:auto;line-height:normal;font-family:Menlo,'DejaVu Sans Mono',consolas,'Courier New',monospace\"><span style=\"color: #808000; text-decoration-color: #808000; font-weight: bold\">Hola recarga </span><span style=\"color: #808000; text-decoration-color: #808000; font-weight: bold\">1</span><span style=\"color: #808000; text-decoration-color: #808000; font-weight: bold\"> de energía.</span>\n",
       "</pre>\n"
      ],
      "text/plain": [
       "\u001b[1;33mHola recarga \u001b[0m\u001b[1;33m1\u001b[0m\u001b[1;33m de energía.\u001b[0m\n"
      ]
     },
     "metadata": {},
     "output_type": "display_data"
    },
    {
     "data": {
      "text/html": [
       "<pre style=\"white-space:pre;overflow-x:auto;line-height:normal;font-family:Menlo,'DejaVu Sans Mono',consolas,'Courier New',monospace\"><span style=\"color: #800080; text-decoration-color: #800080; font-weight: bold\">Turno de Hola</span>\n",
       "</pre>\n"
      ],
      "text/plain": [
       "\u001b[1;35mTurno de Hola\u001b[0m\n"
      ]
     },
     "metadata": {},
     "output_type": "display_data"
    },
    {
     "data": {
      "text/html": [
       "<pre style=\"white-space:pre;overflow-x:auto;line-height:normal;font-family:Menlo,'DejaVu Sans Mono',consolas,'Courier New',monospace\"><span style=\"color: #008080; text-decoration-color: #008080; font-weight: bold\">1</span>. Atacar\n",
       "<span style=\"color: #008080; text-decoration-color: #008080; font-weight: bold\">2</span>. Recargar Energía\n",
       "<span style=\"color: #008080; text-decoration-color: #008080; font-weight: bold\">3</span>. Recargar Vida\n",
       "<span style=\"color: #008080; text-decoration-color: #008080; font-weight: bold\">4</span>. Obtener Recarga de Vida\n",
       "</pre>\n"
      ],
      "text/plain": [
       "\u001b[1;36m1\u001b[0m. Atacar\n",
       "\u001b[1;36m2\u001b[0m. Recargar Energía\n",
       "\u001b[1;36m3\u001b[0m. Recargar Vida\n",
       "\u001b[1;36m4\u001b[0m. Obtener Recarga de Vida\n"
      ]
     },
     "metadata": {},
     "output_type": "display_data"
    },
    {
     "data": {
      "text/html": [
       "<pre style=\"white-space:pre;overflow-x:auto;line-height:normal;font-family:Menlo,'DejaVu Sans Mono',consolas,'Courier New',monospace\">Elige una acción <span style=\"color: #800080; text-decoration-color: #800080; font-weight: bold\">[1/2/3/4]</span>: </pre>\n"
      ],
      "text/plain": [
       "Elige una acción \u001b[1;35m[1/2/3/4]\u001b[0m: "
      ]
     },
     "metadata": {},
     "output_type": "display_data"
    },
    {
     "data": {
      "text/html": [
       "<pre style=\"white-space:pre;overflow-x:auto;line-height:normal;font-family:Menlo,'DejaVu Sans Mono',consolas,'Courier New',monospace\"><span style=\"color: #808000; text-decoration-color: #808000; font-weight: bold\">Hola recarga </span><span style=\"color: #808000; text-decoration-color: #808000; font-weight: bold\">2</span><span style=\"color: #808000; text-decoration-color: #808000; font-weight: bold\"> de energía.</span>\n",
       "</pre>\n"
      ],
      "text/plain": [
       "\u001b[1;33mHola recarga \u001b[0m\u001b[1;33m2\u001b[0m\u001b[1;33m de energía.\u001b[0m\n"
      ]
     },
     "metadata": {},
     "output_type": "display_data"
    },
    {
     "data": {
      "text/html": [
       "<pre style=\"white-space:pre;overflow-x:auto;line-height:normal;font-family:Menlo,'DejaVu Sans Mono',consolas,'Courier New',monospace\"><span style=\"color: #ff00ff; text-decoration-color: #ff00ff\">╭─ </span><span style=\"color: #800080; text-decoration-color: #800080; font-weight: bold\">-------- ESTADÍSTICAS --------</span><span style=\"color: #ff00ff; text-decoration-color: #ff00ff\"> ──╮</span>\n",
       "<span style=\"color: #ff00ff; text-decoration-color: #ff00ff\">│</span> <span style=\"color: #008080; text-decoration-color: #008080; font-weight: bold\">Hola</span>                              <span style=\"color: #ff00ff; text-decoration-color: #ff00ff\">│</span>\n",
       "<span style=\"color: #ff00ff; text-decoration-color: #ff00ff\">│</span> <span style=\"color: #008000; text-decoration-color: #008000; font-weight: bold\">VIDA:</span> 85/125 <span style=\"color: #008000; text-decoration-color: #008000; font-weight: bold\">██████████████</span><span style=\"color: #800000; text-decoration-color: #800000; font-weight: bold\">░░░░░░</span> <span style=\"color: #ff00ff; text-decoration-color: #ff00ff\">│</span>\n",
       "<span style=\"color: #ff00ff; text-decoration-color: #ff00ff\">│</span> <span style=\"color: #808000; text-decoration-color: #808000; font-weight: bold\">ENERGÍA:</span> <span style=\"color: #808000; text-decoration-color: #808000; font-weight: bold\">■</span> <span style=\"color: #808000; text-decoration-color: #808000; font-weight: bold\">■</span> <span style=\"color: #dfdfdf; text-decoration-color: #dfdfdf\">□</span> <span style=\"color: #dfdfdf; text-decoration-color: #dfdfdf\">□</span> <span style=\"color: #dfdfdf; text-decoration-color: #dfdfdf\">□</span>                <span style=\"color: #ff00ff; text-decoration-color: #ff00ff\">│</span>\n",
       "<span style=\"color: #ff00ff; text-decoration-color: #ff00ff\">│</span> <span style=\"color: #800000; text-decoration-color: #800000; font-weight: bold\">RECARGAS:</span> <span style=\"color: #800000; text-decoration-color: #800000; font-weight: bold\">■</span>                       <span style=\"color: #ff00ff; text-decoration-color: #ff00ff\">│</span>\n",
       "<span style=\"color: #ff00ff; text-decoration-color: #ff00ff\">╰───────────────────────────────────╯</span>\n",
       "</pre>\n"
      ],
      "text/plain": [
       "\u001b[95m╭─\u001b[0m\u001b[95m \u001b[0m\u001b[1;35m-------- ESTADÍSTICAS --------\u001b[0m\u001b[95m \u001b[0m\u001b[95m─\u001b[0m\u001b[95m─╮\u001b[0m\n",
       "\u001b[95m│\u001b[0m \u001b[1;36mHola\u001b[0m                              \u001b[95m│\u001b[0m\n",
       "\u001b[95m│\u001b[0m \u001b[1;32mVIDA:\u001b[0m 85/125 \u001b[1;32m██████████████\u001b[0m\u001b[1;31m░░░░░░\u001b[0m \u001b[95m│\u001b[0m\n",
       "\u001b[95m│\u001b[0m \u001b[1;33mENERGÍA:\u001b[0m \u001b[1;33m■\u001b[0m \u001b[1;33m■\u001b[0m \u001b[2;37m□\u001b[0m \u001b[2;37m□\u001b[0m \u001b[2;37m□\u001b[0m                \u001b[95m│\u001b[0m\n",
       "\u001b[95m│\u001b[0m \u001b[1;31mRECARGAS:\u001b[0m \u001b[1;31m■\u001b[0m                       \u001b[95m│\u001b[0m\n",
       "\u001b[95m╰───────────────────────────────────╯\u001b[0m\n"
      ]
     },
     "metadata": {},
     "output_type": "display_data"
    },
    {
     "data": {
      "text/html": [
       "<pre style=\"white-space:pre;overflow-x:auto;line-height:normal;font-family:Menlo,'DejaVu Sans Mono',consolas,'Courier New',monospace\"><span style=\"color: #ff00ff; text-decoration-color: #ff00ff\">╭─ </span><span style=\"color: #800080; text-decoration-color: #800080; font-weight: bold\">-------- ESTADÍSTICAS --------</span><span style=\"color: #ff00ff; text-decoration-color: #ff00ff\"> ──╮</span>\n",
       "<span style=\"color: #ff00ff; text-decoration-color: #ff00ff\">│</span> <span style=\"color: #008080; text-decoration-color: #008080; font-weight: bold\">Hola</span>                              <span style=\"color: #ff00ff; text-decoration-color: #ff00ff\">│</span>\n",
       "<span style=\"color: #ff00ff; text-decoration-color: #ff00ff\">│</span> <span style=\"color: #008000; text-decoration-color: #008000; font-weight: bold\">VIDA:</span> 51/125 <span style=\"color: #008000; text-decoration-color: #008000; font-weight: bold\">████████</span><span style=\"color: #800000; text-decoration-color: #800000; font-weight: bold\">░░░░░░░░░░░░</span> <span style=\"color: #ff00ff; text-decoration-color: #ff00ff\">│</span>\n",
       "<span style=\"color: #ff00ff; text-decoration-color: #ff00ff\">│</span> <span style=\"color: #808000; text-decoration-color: #808000; font-weight: bold\">ENERGÍA:</span> <span style=\"color: #808000; text-decoration-color: #808000; font-weight: bold\">■</span> <span style=\"color: #808000; text-decoration-color: #808000; font-weight: bold\">■</span> <span style=\"color: #808000; text-decoration-color: #808000; font-weight: bold\">■</span> <span style=\"color: #808000; text-decoration-color: #808000; font-weight: bold\">■</span> <span style=\"color: #dfdfdf; text-decoration-color: #dfdfdf\">□</span>                <span style=\"color: #ff00ff; text-decoration-color: #ff00ff\">│</span>\n",
       "<span style=\"color: #ff00ff; text-decoration-color: #ff00ff\">│</span> <span style=\"color: #800000; text-decoration-color: #800000; font-weight: bold\">RECARGAS:</span> <span style=\"color: #800000; text-decoration-color: #800000; font-weight: bold\">■</span>                       <span style=\"color: #ff00ff; text-decoration-color: #ff00ff\">│</span>\n",
       "<span style=\"color: #ff00ff; text-decoration-color: #ff00ff\">╰───────────────────────────────────╯</span>\n",
       "</pre>\n"
      ],
      "text/plain": [
       "\u001b[95m╭─\u001b[0m\u001b[95m \u001b[0m\u001b[1;35m-------- ESTADÍSTICAS --------\u001b[0m\u001b[95m \u001b[0m\u001b[95m─\u001b[0m\u001b[95m─╮\u001b[0m\n",
       "\u001b[95m│\u001b[0m \u001b[1;36mHola\u001b[0m                              \u001b[95m│\u001b[0m\n",
       "\u001b[95m│\u001b[0m \u001b[1;32mVIDA:\u001b[0m 51/125 \u001b[1;32m████████\u001b[0m\u001b[1;31m░░░░░░░░░░░░\u001b[0m \u001b[95m│\u001b[0m\n",
       "\u001b[95m│\u001b[0m \u001b[1;33mENERGÍA:\u001b[0m \u001b[1;33m■\u001b[0m \u001b[1;33m■\u001b[0m \u001b[1;33m■\u001b[0m \u001b[1;33m■\u001b[0m \u001b[2;37m□\u001b[0m                \u001b[95m│\u001b[0m\n",
       "\u001b[95m│\u001b[0m \u001b[1;31mRECARGAS:\u001b[0m \u001b[1;31m■\u001b[0m                       \u001b[95m│\u001b[0m\n",
       "\u001b[95m╰───────────────────────────────────╯\u001b[0m\n"
      ]
     },
     "metadata": {},
     "output_type": "display_data"
    },
    {
     "data": {
      "text/html": [
       "<pre style=\"white-space:pre;overflow-x:auto;line-height:normal;font-family:Menlo,'DejaVu Sans Mono',consolas,'Courier New',monospace\"><span style=\"color: #800080; text-decoration-color: #800080; font-weight: bold\">Turno de Hola</span>\n",
       "</pre>\n"
      ],
      "text/plain": [
       "\u001b[1;35mTurno de Hola\u001b[0m\n"
      ]
     },
     "metadata": {},
     "output_type": "display_data"
    },
    {
     "data": {
      "text/html": [
       "<pre style=\"white-space:pre;overflow-x:auto;line-height:normal;font-family:Menlo,'DejaVu Sans Mono',consolas,'Courier New',monospace\"><span style=\"color: #008080; text-decoration-color: #008080; font-weight: bold\">1</span>. Atacar\n",
       "<span style=\"color: #008080; text-decoration-color: #008080; font-weight: bold\">2</span>. Recargar Energía\n",
       "<span style=\"color: #008080; text-decoration-color: #008080; font-weight: bold\">3</span>. Recargar Vida\n",
       "<span style=\"color: #008080; text-decoration-color: #008080; font-weight: bold\">4</span>. Obtener Recarga de Vida\n",
       "</pre>\n"
      ],
      "text/plain": [
       "\u001b[1;36m1\u001b[0m. Atacar\n",
       "\u001b[1;36m2\u001b[0m. Recargar Energía\n",
       "\u001b[1;36m3\u001b[0m. Recargar Vida\n",
       "\u001b[1;36m4\u001b[0m. Obtener Recarga de Vida\n"
      ]
     },
     "metadata": {},
     "output_type": "display_data"
    },
    {
     "data": {
      "text/html": [
       "<pre style=\"white-space:pre;overflow-x:auto;line-height:normal;font-family:Menlo,'DejaVu Sans Mono',consolas,'Courier New',monospace\">Elige una acción <span style=\"color: #800080; text-decoration-color: #800080; font-weight: bold\">[1/2/3/4]</span>: </pre>\n"
      ],
      "text/plain": [
       "Elige una acción \u001b[1;35m[1/2/3/4]\u001b[0m: "
      ]
     },
     "metadata": {},
     "output_type": "display_data"
    },
    {
     "data": {
      "text/html": [
       "<pre style=\"white-space:pre;overflow-x:auto;line-height:normal;font-family:Menlo,'DejaVu Sans Mono',consolas,'Courier New',monospace\"><span style=\"color: #808000; text-decoration-color: #808000; font-weight: bold\">Hola recarga </span><span style=\"color: #808000; text-decoration-color: #808000; font-weight: bold\">1</span><span style=\"color: #808000; text-decoration-color: #808000; font-weight: bold\"> de energía.</span>\n",
       "</pre>\n"
      ],
      "text/plain": [
       "\u001b[1;33mHola recarga \u001b[0m\u001b[1;33m1\u001b[0m\u001b[1;33m de energía.\u001b[0m\n"
      ]
     },
     "metadata": {},
     "output_type": "display_data"
    },
    {
     "data": {
      "text/html": [
       "<pre style=\"white-space:pre;overflow-x:auto;line-height:normal;font-family:Menlo,'DejaVu Sans Mono',consolas,'Courier New',monospace\"><span style=\"color: #800080; text-decoration-color: #800080; font-weight: bold\">Turno de Hola</span>\n",
       "</pre>\n"
      ],
      "text/plain": [
       "\u001b[1;35mTurno de Hola\u001b[0m\n"
      ]
     },
     "metadata": {},
     "output_type": "display_data"
    },
    {
     "data": {
      "text/html": [
       "<pre style=\"white-space:pre;overflow-x:auto;line-height:normal;font-family:Menlo,'DejaVu Sans Mono',consolas,'Courier New',monospace\"><span style=\"color: #008080; text-decoration-color: #008080; font-weight: bold\">1</span>. Atacar\n",
       "<span style=\"color: #008080; text-decoration-color: #008080; font-weight: bold\">2</span>. Recargar Energía\n",
       "<span style=\"color: #008080; text-decoration-color: #008080; font-weight: bold\">3</span>. Recargar Vida\n",
       "<span style=\"color: #008080; text-decoration-color: #008080; font-weight: bold\">4</span>. Obtener Recarga de Vida\n",
       "</pre>\n"
      ],
      "text/plain": [
       "\u001b[1;36m1\u001b[0m. Atacar\n",
       "\u001b[1;36m2\u001b[0m. Recargar Energía\n",
       "\u001b[1;36m3\u001b[0m. Recargar Vida\n",
       "\u001b[1;36m4\u001b[0m. Obtener Recarga de Vida\n"
      ]
     },
     "metadata": {},
     "output_type": "display_data"
    },
    {
     "data": {
      "text/html": [
       "<pre style=\"white-space:pre;overflow-x:auto;line-height:normal;font-family:Menlo,'DejaVu Sans Mono',consolas,'Courier New',monospace\">Elige una acción <span style=\"color: #800080; text-decoration-color: #800080; font-weight: bold\">[1/2/3/4]</span>: </pre>\n"
      ],
      "text/plain": [
       "Elige una acción \u001b[1;35m[1/2/3/4]\u001b[0m: "
      ]
     },
     "metadata": {},
     "output_type": "display_data"
    },
    {
     "data": {
      "text/html": [
       "<pre style=\"white-space:pre;overflow-x:auto;line-height:normal;font-family:Menlo,'DejaVu Sans Mono',consolas,'Courier New',monospace\"><span style=\"color: #808000; text-decoration-color: #808000; font-weight: bold\">Hola recarga </span><span style=\"color: #808000; text-decoration-color: #808000; font-weight: bold\">2</span><span style=\"color: #808000; text-decoration-color: #808000; font-weight: bold\"> de energía.</span>\n",
       "</pre>\n"
      ],
      "text/plain": [
       "\u001b[1;33mHola recarga \u001b[0m\u001b[1;33m2\u001b[0m\u001b[1;33m de energía.\u001b[0m\n"
      ]
     },
     "metadata": {},
     "output_type": "display_data"
    },
    {
     "data": {
      "text/html": [
       "<pre style=\"white-space:pre;overflow-x:auto;line-height:normal;font-family:Menlo,'DejaVu Sans Mono',consolas,'Courier New',monospace\"><span style=\"color: #ff00ff; text-decoration-color: #ff00ff\">╭─ </span><span style=\"color: #800080; text-decoration-color: #800080; font-weight: bold\">-------- ESTADÍSTICAS --------</span><span style=\"color: #ff00ff; text-decoration-color: #ff00ff\"> ──╮</span>\n",
       "<span style=\"color: #ff00ff; text-decoration-color: #ff00ff\">│</span> <span style=\"color: #008080; text-decoration-color: #008080; font-weight: bold\">Hola</span>                              <span style=\"color: #ff00ff; text-decoration-color: #ff00ff\">│</span>\n",
       "<span style=\"color: #ff00ff; text-decoration-color: #ff00ff\">│</span> <span style=\"color: #008000; text-decoration-color: #008000; font-weight: bold\">VIDA:</span> 85/125 <span style=\"color: #008000; text-decoration-color: #008000; font-weight: bold\">██████████████</span><span style=\"color: #800000; text-decoration-color: #800000; font-weight: bold\">░░░░░░</span> <span style=\"color: #ff00ff; text-decoration-color: #ff00ff\">│</span>\n",
       "<span style=\"color: #ff00ff; text-decoration-color: #ff00ff\">│</span> <span style=\"color: #808000; text-decoration-color: #808000; font-weight: bold\">ENERGÍA:</span> <span style=\"color: #808000; text-decoration-color: #808000; font-weight: bold\">■</span> <span style=\"color: #808000; text-decoration-color: #808000; font-weight: bold\">■</span> <span style=\"color: #808000; text-decoration-color: #808000; font-weight: bold\">■</span> <span style=\"color: #dfdfdf; text-decoration-color: #dfdfdf\">□</span> <span style=\"color: #dfdfdf; text-decoration-color: #dfdfdf\">□</span>                <span style=\"color: #ff00ff; text-decoration-color: #ff00ff\">│</span>\n",
       "<span style=\"color: #ff00ff; text-decoration-color: #ff00ff\">│</span> <span style=\"color: #800000; text-decoration-color: #800000; font-weight: bold\">RECARGAS:</span> <span style=\"color: #800000; text-decoration-color: #800000; font-weight: bold\">■</span>                       <span style=\"color: #ff00ff; text-decoration-color: #ff00ff\">│</span>\n",
       "<span style=\"color: #ff00ff; text-decoration-color: #ff00ff\">╰───────────────────────────────────╯</span>\n",
       "</pre>\n"
      ],
      "text/plain": [
       "\u001b[95m╭─\u001b[0m\u001b[95m \u001b[0m\u001b[1;35m-------- ESTADÍSTICAS --------\u001b[0m\u001b[95m \u001b[0m\u001b[95m─\u001b[0m\u001b[95m─╮\u001b[0m\n",
       "\u001b[95m│\u001b[0m \u001b[1;36mHola\u001b[0m                              \u001b[95m│\u001b[0m\n",
       "\u001b[95m│\u001b[0m \u001b[1;32mVIDA:\u001b[0m 85/125 \u001b[1;32m██████████████\u001b[0m\u001b[1;31m░░░░░░\u001b[0m \u001b[95m│\u001b[0m\n",
       "\u001b[95m│\u001b[0m \u001b[1;33mENERGÍA:\u001b[0m \u001b[1;33m■\u001b[0m \u001b[1;33m■\u001b[0m \u001b[1;33m■\u001b[0m \u001b[2;37m□\u001b[0m \u001b[2;37m□\u001b[0m                \u001b[95m│\u001b[0m\n",
       "\u001b[95m│\u001b[0m \u001b[1;31mRECARGAS:\u001b[0m \u001b[1;31m■\u001b[0m                       \u001b[95m│\u001b[0m\n",
       "\u001b[95m╰───────────────────────────────────╯\u001b[0m\n"
      ]
     },
     "metadata": {},
     "output_type": "display_data"
    },
    {
     "data": {
      "text/html": [
       "<pre style=\"white-space:pre;overflow-x:auto;line-height:normal;font-family:Menlo,'DejaVu Sans Mono',consolas,'Courier New',monospace\"><span style=\"color: #ff00ff; text-decoration-color: #ff00ff\">╭─ </span><span style=\"color: #800080; text-decoration-color: #800080; font-weight: bold\">-------- ESTADÍSTICAS --------</span><span style=\"color: #ff00ff; text-decoration-color: #ff00ff\"> ──╮</span>\n",
       "<span style=\"color: #ff00ff; text-decoration-color: #ff00ff\">│</span> <span style=\"color: #008080; text-decoration-color: #008080; font-weight: bold\">Hola</span>                              <span style=\"color: #ff00ff; text-decoration-color: #ff00ff\">│</span>\n",
       "<span style=\"color: #ff00ff; text-decoration-color: #ff00ff\">│</span> <span style=\"color: #008000; text-decoration-color: #008000; font-weight: bold\">VIDA:</span> 51/125 <span style=\"color: #008000; text-decoration-color: #008000; font-weight: bold\">████████</span><span style=\"color: #800000; text-decoration-color: #800000; font-weight: bold\">░░░░░░░░░░░░</span> <span style=\"color: #ff00ff; text-decoration-color: #ff00ff\">│</span>\n",
       "<span style=\"color: #ff00ff; text-decoration-color: #ff00ff\">│</span> <span style=\"color: #808000; text-decoration-color: #808000; font-weight: bold\">ENERGÍA:</span> <span style=\"color: #808000; text-decoration-color: #808000; font-weight: bold\">■</span> <span style=\"color: #808000; text-decoration-color: #808000; font-weight: bold\">■</span> <span style=\"color: #808000; text-decoration-color: #808000; font-weight: bold\">■</span> <span style=\"color: #808000; text-decoration-color: #808000; font-weight: bold\">■</span> <span style=\"color: #808000; text-decoration-color: #808000; font-weight: bold\">■</span>                <span style=\"color: #ff00ff; text-decoration-color: #ff00ff\">│</span>\n",
       "<span style=\"color: #ff00ff; text-decoration-color: #ff00ff\">│</span> <span style=\"color: #800000; text-decoration-color: #800000; font-weight: bold\">RECARGAS:</span> <span style=\"color: #800000; text-decoration-color: #800000; font-weight: bold\">■</span>                       <span style=\"color: #ff00ff; text-decoration-color: #ff00ff\">│</span>\n",
       "<span style=\"color: #ff00ff; text-decoration-color: #ff00ff\">╰───────────────────────────────────╯</span>\n",
       "</pre>\n"
      ],
      "text/plain": [
       "\u001b[95m╭─\u001b[0m\u001b[95m \u001b[0m\u001b[1;35m-------- ESTADÍSTICAS --------\u001b[0m\u001b[95m \u001b[0m\u001b[95m─\u001b[0m\u001b[95m─╮\u001b[0m\n",
       "\u001b[95m│\u001b[0m \u001b[1;36mHola\u001b[0m                              \u001b[95m│\u001b[0m\n",
       "\u001b[95m│\u001b[0m \u001b[1;32mVIDA:\u001b[0m 51/125 \u001b[1;32m████████\u001b[0m\u001b[1;31m░░░░░░░░░░░░\u001b[0m \u001b[95m│\u001b[0m\n",
       "\u001b[95m│\u001b[0m \u001b[1;33mENERGÍA:\u001b[0m \u001b[1;33m■\u001b[0m \u001b[1;33m■\u001b[0m \u001b[1;33m■\u001b[0m \u001b[1;33m■\u001b[0m \u001b[1;33m■\u001b[0m                \u001b[95m│\u001b[0m\n",
       "\u001b[95m│\u001b[0m \u001b[1;31mRECARGAS:\u001b[0m \u001b[1;31m■\u001b[0m                       \u001b[95m│\u001b[0m\n",
       "\u001b[95m╰───────────────────────────────────╯\u001b[0m\n"
      ]
     },
     "metadata": {},
     "output_type": "display_data"
    },
    {
     "data": {
      "text/html": [
       "<pre style=\"white-space:pre;overflow-x:auto;line-height:normal;font-family:Menlo,'DejaVu Sans Mono',consolas,'Courier New',monospace\"><span style=\"color: #800080; text-decoration-color: #800080; font-weight: bold\">Turno de Hola</span>\n",
       "</pre>\n"
      ],
      "text/plain": [
       "\u001b[1;35mTurno de Hola\u001b[0m\n"
      ]
     },
     "metadata": {},
     "output_type": "display_data"
    },
    {
     "data": {
      "text/html": [
       "<pre style=\"white-space:pre;overflow-x:auto;line-height:normal;font-family:Menlo,'DejaVu Sans Mono',consolas,'Courier New',monospace\"><span style=\"color: #008080; text-decoration-color: #008080; font-weight: bold\">1</span>. Atacar\n",
       "<span style=\"color: #008080; text-decoration-color: #008080; font-weight: bold\">2</span>. Recargar Energía\n",
       "<span style=\"color: #008080; text-decoration-color: #008080; font-weight: bold\">3</span>. Recargar Vida\n",
       "<span style=\"color: #008080; text-decoration-color: #008080; font-weight: bold\">4</span>. Obtener Recarga de Vida\n",
       "</pre>\n"
      ],
      "text/plain": [
       "\u001b[1;36m1\u001b[0m. Atacar\n",
       "\u001b[1;36m2\u001b[0m. Recargar Energía\n",
       "\u001b[1;36m3\u001b[0m. Recargar Vida\n",
       "\u001b[1;36m4\u001b[0m. Obtener Recarga de Vida\n"
      ]
     },
     "metadata": {},
     "output_type": "display_data"
    },
    {
     "data": {
      "text/html": [
       "<pre style=\"white-space:pre;overflow-x:auto;line-height:normal;font-family:Menlo,'DejaVu Sans Mono',consolas,'Courier New',monospace\">Elige una acción <span style=\"color: #800080; text-decoration-color: #800080; font-weight: bold\">[1/2/3/4]</span>: </pre>\n"
      ],
      "text/plain": [
       "Elige una acción \u001b[1;35m[1/2/3/4]\u001b[0m: "
      ]
     },
     "metadata": {},
     "output_type": "display_data"
    },
    {
     "data": {
      "text/html": [
       "<pre style=\"white-space:pre;overflow-x:auto;line-height:normal;font-family:Menlo,'DejaVu Sans Mono',consolas,'Courier New',monospace\"><span style=\"color: #808000; text-decoration-color: #808000; font-weight: bold\">Hola recarga </span><span style=\"color: #808000; text-decoration-color: #808000; font-weight: bold\">2</span><span style=\"color: #808000; text-decoration-color: #808000; font-weight: bold\"> de energía.</span>\n",
       "</pre>\n"
      ],
      "text/plain": [
       "\u001b[1;33mHola recarga \u001b[0m\u001b[1;33m2\u001b[0m\u001b[1;33m de energía.\u001b[0m\n"
      ]
     },
     "metadata": {},
     "output_type": "display_data"
    },
    {
     "data": {
      "text/html": [
       "<pre style=\"white-space:pre;overflow-x:auto;line-height:normal;font-family:Menlo,'DejaVu Sans Mono',consolas,'Courier New',monospace\"><span style=\"color: #800080; text-decoration-color: #800080; font-weight: bold\">Turno de Hola</span>\n",
       "</pre>\n"
      ],
      "text/plain": [
       "\u001b[1;35mTurno de Hola\u001b[0m\n"
      ]
     },
     "metadata": {},
     "output_type": "display_data"
    },
    {
     "data": {
      "text/html": [
       "<pre style=\"white-space:pre;overflow-x:auto;line-height:normal;font-family:Menlo,'DejaVu Sans Mono',consolas,'Courier New',monospace\"><span style=\"color: #008080; text-decoration-color: #008080; font-weight: bold\">1</span>. Atacar\n",
       "<span style=\"color: #008080; text-decoration-color: #008080; font-weight: bold\">2</span>. Recargar Energía\n",
       "<span style=\"color: #008080; text-decoration-color: #008080; font-weight: bold\">3</span>. Recargar Vida\n",
       "<span style=\"color: #008080; text-decoration-color: #008080; font-weight: bold\">4</span>. Obtener Recarga de Vida\n",
       "</pre>\n"
      ],
      "text/plain": [
       "\u001b[1;36m1\u001b[0m. Atacar\n",
       "\u001b[1;36m2\u001b[0m. Recargar Energía\n",
       "\u001b[1;36m3\u001b[0m. Recargar Vida\n",
       "\u001b[1;36m4\u001b[0m. Obtener Recarga de Vida\n"
      ]
     },
     "metadata": {},
     "output_type": "display_data"
    },
    {
     "data": {
      "text/html": [
       "<pre style=\"white-space:pre;overflow-x:auto;line-height:normal;font-family:Menlo,'DejaVu Sans Mono',consolas,'Courier New',monospace\">Elige una acción <span style=\"color: #800080; text-decoration-color: #800080; font-weight: bold\">[1/2/3/4]</span>: </pre>\n"
      ],
      "text/plain": [
       "Elige una acción \u001b[1;35m[1/2/3/4]\u001b[0m: "
      ]
     },
     "metadata": {},
     "output_type": "display_data"
    },
    {
     "data": {
      "text/html": [
       "<pre style=\"white-space:pre;overflow-x:auto;line-height:normal;font-family:Menlo,'DejaVu Sans Mono',consolas,'Courier New',monospace\"><span style=\"color: #800000; text-decoration-color: #800000; font-weight: bold\">Hola ya tiene la energía máxima!</span>\n",
       "</pre>\n"
      ],
      "text/plain": [
       "\u001b[1;31mHola ya tiene la energía máxima!\u001b[0m\n"
      ]
     },
     "metadata": {},
     "output_type": "display_data"
    },
    {
     "data": {
      "text/html": [
       "<pre style=\"white-space:pre;overflow-x:auto;line-height:normal;font-family:Menlo,'DejaVu Sans Mono',consolas,'Courier New',monospace\"><span style=\"color: #ff00ff; text-decoration-color: #ff00ff\">╭─ </span><span style=\"color: #800080; text-decoration-color: #800080; font-weight: bold\">-------- ESTADÍSTICAS --------</span><span style=\"color: #ff00ff; text-decoration-color: #ff00ff\"> ──╮</span>\n",
       "<span style=\"color: #ff00ff; text-decoration-color: #ff00ff\">│</span> <span style=\"color: #008080; text-decoration-color: #008080; font-weight: bold\">Hola</span>                              <span style=\"color: #ff00ff; text-decoration-color: #ff00ff\">│</span>\n",
       "<span style=\"color: #ff00ff; text-decoration-color: #ff00ff\">│</span> <span style=\"color: #008000; text-decoration-color: #008000; font-weight: bold\">VIDA:</span> 85/125 <span style=\"color: #008000; text-decoration-color: #008000; font-weight: bold\">██████████████</span><span style=\"color: #800000; text-decoration-color: #800000; font-weight: bold\">░░░░░░</span> <span style=\"color: #ff00ff; text-decoration-color: #ff00ff\">│</span>\n",
       "<span style=\"color: #ff00ff; text-decoration-color: #ff00ff\">│</span> <span style=\"color: #808000; text-decoration-color: #808000; font-weight: bold\">ENERGÍA:</span> <span style=\"color: #808000; text-decoration-color: #808000; font-weight: bold\">■</span> <span style=\"color: #808000; text-decoration-color: #808000; font-weight: bold\">■</span> <span style=\"color: #808000; text-decoration-color: #808000; font-weight: bold\">■</span> <span style=\"color: #808000; text-decoration-color: #808000; font-weight: bold\">■</span> <span style=\"color: #808000; text-decoration-color: #808000; font-weight: bold\">■</span>                <span style=\"color: #ff00ff; text-decoration-color: #ff00ff\">│</span>\n",
       "<span style=\"color: #ff00ff; text-decoration-color: #ff00ff\">│</span> <span style=\"color: #800000; text-decoration-color: #800000; font-weight: bold\">RECARGAS:</span> <span style=\"color: #800000; text-decoration-color: #800000; font-weight: bold\">■</span>                       <span style=\"color: #ff00ff; text-decoration-color: #ff00ff\">│</span>\n",
       "<span style=\"color: #ff00ff; text-decoration-color: #ff00ff\">╰───────────────────────────────────╯</span>\n",
       "</pre>\n"
      ],
      "text/plain": [
       "\u001b[95m╭─\u001b[0m\u001b[95m \u001b[0m\u001b[1;35m-------- ESTADÍSTICAS --------\u001b[0m\u001b[95m \u001b[0m\u001b[95m─\u001b[0m\u001b[95m─╮\u001b[0m\n",
       "\u001b[95m│\u001b[0m \u001b[1;36mHola\u001b[0m                              \u001b[95m│\u001b[0m\n",
       "\u001b[95m│\u001b[0m \u001b[1;32mVIDA:\u001b[0m 85/125 \u001b[1;32m██████████████\u001b[0m\u001b[1;31m░░░░░░\u001b[0m \u001b[95m│\u001b[0m\n",
       "\u001b[95m│\u001b[0m \u001b[1;33mENERGÍA:\u001b[0m \u001b[1;33m■\u001b[0m \u001b[1;33m■\u001b[0m \u001b[1;33m■\u001b[0m \u001b[1;33m■\u001b[0m \u001b[1;33m■\u001b[0m                \u001b[95m│\u001b[0m\n",
       "\u001b[95m│\u001b[0m \u001b[1;31mRECARGAS:\u001b[0m \u001b[1;31m■\u001b[0m                       \u001b[95m│\u001b[0m\n",
       "\u001b[95m╰───────────────────────────────────╯\u001b[0m\n"
      ]
     },
     "metadata": {},
     "output_type": "display_data"
    },
    {
     "data": {
      "text/html": [
       "<pre style=\"white-space:pre;overflow-x:auto;line-height:normal;font-family:Menlo,'DejaVu Sans Mono',consolas,'Courier New',monospace\"><span style=\"color: #ff00ff; text-decoration-color: #ff00ff\">╭─ </span><span style=\"color: #800080; text-decoration-color: #800080; font-weight: bold\">-------- ESTADÍSTICAS --------</span><span style=\"color: #ff00ff; text-decoration-color: #ff00ff\"> ──╮</span>\n",
       "<span style=\"color: #ff00ff; text-decoration-color: #ff00ff\">│</span> <span style=\"color: #008080; text-decoration-color: #008080; font-weight: bold\">Hola</span>                              <span style=\"color: #ff00ff; text-decoration-color: #ff00ff\">│</span>\n",
       "<span style=\"color: #ff00ff; text-decoration-color: #ff00ff\">│</span> <span style=\"color: #008000; text-decoration-color: #008000; font-weight: bold\">VIDA:</span> 51/125 <span style=\"color: #008000; text-decoration-color: #008000; font-weight: bold\">████████</span><span style=\"color: #800000; text-decoration-color: #800000; font-weight: bold\">░░░░░░░░░░░░</span> <span style=\"color: #ff00ff; text-decoration-color: #ff00ff\">│</span>\n",
       "<span style=\"color: #ff00ff; text-decoration-color: #ff00ff\">│</span> <span style=\"color: #808000; text-decoration-color: #808000; font-weight: bold\">ENERGÍA:</span> <span style=\"color: #808000; text-decoration-color: #808000; font-weight: bold\">■</span> <span style=\"color: #808000; text-decoration-color: #808000; font-weight: bold\">■</span> <span style=\"color: #808000; text-decoration-color: #808000; font-weight: bold\">■</span> <span style=\"color: #808000; text-decoration-color: #808000; font-weight: bold\">■</span> <span style=\"color: #808000; text-decoration-color: #808000; font-weight: bold\">■</span>                <span style=\"color: #ff00ff; text-decoration-color: #ff00ff\">│</span>\n",
       "<span style=\"color: #ff00ff; text-decoration-color: #ff00ff\">│</span> <span style=\"color: #800000; text-decoration-color: #800000; font-weight: bold\">RECARGAS:</span> <span style=\"color: #800000; text-decoration-color: #800000; font-weight: bold\">■</span>                       <span style=\"color: #ff00ff; text-decoration-color: #ff00ff\">│</span>\n",
       "<span style=\"color: #ff00ff; text-decoration-color: #ff00ff\">╰───────────────────────────────────╯</span>\n",
       "</pre>\n"
      ],
      "text/plain": [
       "\u001b[95m╭─\u001b[0m\u001b[95m \u001b[0m\u001b[1;35m-------- ESTADÍSTICAS --------\u001b[0m\u001b[95m \u001b[0m\u001b[95m─\u001b[0m\u001b[95m─╮\u001b[0m\n",
       "\u001b[95m│\u001b[0m \u001b[1;36mHola\u001b[0m                              \u001b[95m│\u001b[0m\n",
       "\u001b[95m│\u001b[0m \u001b[1;32mVIDA:\u001b[0m 51/125 \u001b[1;32m████████\u001b[0m\u001b[1;31m░░░░░░░░░░░░\u001b[0m \u001b[95m│\u001b[0m\n",
       "\u001b[95m│\u001b[0m \u001b[1;33mENERGÍA:\u001b[0m \u001b[1;33m■\u001b[0m \u001b[1;33m■\u001b[0m \u001b[1;33m■\u001b[0m \u001b[1;33m■\u001b[0m \u001b[1;33m■\u001b[0m                \u001b[95m│\u001b[0m\n",
       "\u001b[95m│\u001b[0m \u001b[1;31mRECARGAS:\u001b[0m \u001b[1;31m■\u001b[0m                       \u001b[95m│\u001b[0m\n",
       "\u001b[95m╰───────────────────────────────────╯\u001b[0m\n"
      ]
     },
     "metadata": {},
     "output_type": "display_data"
    },
    {
     "data": {
      "text/html": [
       "<pre style=\"white-space:pre;overflow-x:auto;line-height:normal;font-family:Menlo,'DejaVu Sans Mono',consolas,'Courier New',monospace\"><span style=\"color: #800080; text-decoration-color: #800080; font-weight: bold\">Turno de Hola</span>\n",
       "</pre>\n"
      ],
      "text/plain": [
       "\u001b[1;35mTurno de Hola\u001b[0m\n"
      ]
     },
     "metadata": {},
     "output_type": "display_data"
    },
    {
     "data": {
      "text/html": [
       "<pre style=\"white-space:pre;overflow-x:auto;line-height:normal;font-family:Menlo,'DejaVu Sans Mono',consolas,'Courier New',monospace\"><span style=\"color: #008080; text-decoration-color: #008080; font-weight: bold\">1</span>. Atacar\n",
       "<span style=\"color: #008080; text-decoration-color: #008080; font-weight: bold\">2</span>. Recargar Energía\n",
       "<span style=\"color: #008080; text-decoration-color: #008080; font-weight: bold\">3</span>. Recargar Vida\n",
       "<span style=\"color: #008080; text-decoration-color: #008080; font-weight: bold\">4</span>. Obtener Recarga de Vida\n",
       "</pre>\n"
      ],
      "text/plain": [
       "\u001b[1;36m1\u001b[0m. Atacar\n",
       "\u001b[1;36m2\u001b[0m. Recargar Energía\n",
       "\u001b[1;36m3\u001b[0m. Recargar Vida\n",
       "\u001b[1;36m4\u001b[0m. Obtener Recarga de Vida\n"
      ]
     },
     "metadata": {},
     "output_type": "display_data"
    },
    {
     "data": {
      "text/html": [
       "<pre style=\"white-space:pre;overflow-x:auto;line-height:normal;font-family:Menlo,'DejaVu Sans Mono',consolas,'Courier New',monospace\">Elige una acción <span style=\"color: #800080; text-decoration-color: #800080; font-weight: bold\">[1/2/3/4]</span>: </pre>\n"
      ],
      "text/plain": [
       "Elige una acción \u001b[1;35m[1/2/3/4]\u001b[0m: "
      ]
     },
     "metadata": {},
     "output_type": "display_data"
    },
    {
     "data": {
      "text/html": [
       "<pre style=\"white-space:pre;overflow-x:auto;line-height:normal;font-family:Menlo,'DejaVu Sans Mono',consolas,'Courier New',monospace\"><span style=\"color: #800000; text-decoration-color: #800000; font-weight: bold\">Hola ya tiene la energía máxima!</span>\n",
       "</pre>\n"
      ],
      "text/plain": [
       "\u001b[1;31mHola ya tiene la energía máxima!\u001b[0m\n"
      ]
     },
     "metadata": {},
     "output_type": "display_data"
    },
    {
     "data": {
      "text/html": [
       "<pre style=\"white-space:pre;overflow-x:auto;line-height:normal;font-family:Menlo,'DejaVu Sans Mono',consolas,'Courier New',monospace\"><span style=\"color: #800080; text-decoration-color: #800080; font-weight: bold\">Turno de Hola</span>\n",
       "</pre>\n"
      ],
      "text/plain": [
       "\u001b[1;35mTurno de Hola\u001b[0m\n"
      ]
     },
     "metadata": {},
     "output_type": "display_data"
    },
    {
     "data": {
      "text/html": [
       "<pre style=\"white-space:pre;overflow-x:auto;line-height:normal;font-family:Menlo,'DejaVu Sans Mono',consolas,'Courier New',monospace\"><span style=\"color: #008080; text-decoration-color: #008080; font-weight: bold\">1</span>. Atacar\n",
       "<span style=\"color: #008080; text-decoration-color: #008080; font-weight: bold\">2</span>. Recargar Energía\n",
       "<span style=\"color: #008080; text-decoration-color: #008080; font-weight: bold\">3</span>. Recargar Vida\n",
       "<span style=\"color: #008080; text-decoration-color: #008080; font-weight: bold\">4</span>. Obtener Recarga de Vida\n",
       "</pre>\n"
      ],
      "text/plain": [
       "\u001b[1;36m1\u001b[0m. Atacar\n",
       "\u001b[1;36m2\u001b[0m. Recargar Energía\n",
       "\u001b[1;36m3\u001b[0m. Recargar Vida\n",
       "\u001b[1;36m4\u001b[0m. Obtener Recarga de Vida\n"
      ]
     },
     "metadata": {},
     "output_type": "display_data"
    },
    {
     "data": {
      "text/html": [
       "<pre style=\"white-space:pre;overflow-x:auto;line-height:normal;font-family:Menlo,'DejaVu Sans Mono',consolas,'Courier New',monospace\">Elige una acción <span style=\"color: #800080; text-decoration-color: #800080; font-weight: bold\">[1/2/3/4]</span>: </pre>\n"
      ],
      "text/plain": [
       "Elige una acción \u001b[1;35m[1/2/3/4]\u001b[0m: "
      ]
     },
     "metadata": {},
     "output_type": "display_data"
    },
    {
     "data": {
      "text/html": [
       "<pre style=\"white-space:pre;overflow-x:auto;line-height:normal;font-family:Menlo,'DejaVu Sans Mono',consolas,'Courier New',monospace\"><span style=\"color: #800000; text-decoration-color: #800000; font-weight: bold\">Hola ya tiene la energía máxima!</span>\n",
       "</pre>\n"
      ],
      "text/plain": [
       "\u001b[1;31mHola ya tiene la energía máxima!\u001b[0m\n"
      ]
     },
     "metadata": {},
     "output_type": "display_data"
    },
    {
     "data": {
      "text/html": [
       "<pre style=\"white-space:pre;overflow-x:auto;line-height:normal;font-family:Menlo,'DejaVu Sans Mono',consolas,'Courier New',monospace\"><span style=\"color: #ff00ff; text-decoration-color: #ff00ff\">╭─ </span><span style=\"color: #800080; text-decoration-color: #800080; font-weight: bold\">-------- ESTADÍSTICAS --------</span><span style=\"color: #ff00ff; text-decoration-color: #ff00ff\"> ──╮</span>\n",
       "<span style=\"color: #ff00ff; text-decoration-color: #ff00ff\">│</span> <span style=\"color: #008080; text-decoration-color: #008080; font-weight: bold\">Hola</span>                              <span style=\"color: #ff00ff; text-decoration-color: #ff00ff\">│</span>\n",
       "<span style=\"color: #ff00ff; text-decoration-color: #ff00ff\">│</span> <span style=\"color: #008000; text-decoration-color: #008000; font-weight: bold\">VIDA:</span> 85/125 <span style=\"color: #008000; text-decoration-color: #008000; font-weight: bold\">██████████████</span><span style=\"color: #800000; text-decoration-color: #800000; font-weight: bold\">░░░░░░</span> <span style=\"color: #ff00ff; text-decoration-color: #ff00ff\">│</span>\n",
       "<span style=\"color: #ff00ff; text-decoration-color: #ff00ff\">│</span> <span style=\"color: #808000; text-decoration-color: #808000; font-weight: bold\">ENERGÍA:</span> <span style=\"color: #808000; text-decoration-color: #808000; font-weight: bold\">■</span> <span style=\"color: #808000; text-decoration-color: #808000; font-weight: bold\">■</span> <span style=\"color: #808000; text-decoration-color: #808000; font-weight: bold\">■</span> <span style=\"color: #808000; text-decoration-color: #808000; font-weight: bold\">■</span> <span style=\"color: #808000; text-decoration-color: #808000; font-weight: bold\">■</span>                <span style=\"color: #ff00ff; text-decoration-color: #ff00ff\">│</span>\n",
       "<span style=\"color: #ff00ff; text-decoration-color: #ff00ff\">│</span> <span style=\"color: #800000; text-decoration-color: #800000; font-weight: bold\">RECARGAS:</span> <span style=\"color: #800000; text-decoration-color: #800000; font-weight: bold\">■</span>                       <span style=\"color: #ff00ff; text-decoration-color: #ff00ff\">│</span>\n",
       "<span style=\"color: #ff00ff; text-decoration-color: #ff00ff\">╰───────────────────────────────────╯</span>\n",
       "</pre>\n"
      ],
      "text/plain": [
       "\u001b[95m╭─\u001b[0m\u001b[95m \u001b[0m\u001b[1;35m-------- ESTADÍSTICAS --------\u001b[0m\u001b[95m \u001b[0m\u001b[95m─\u001b[0m\u001b[95m─╮\u001b[0m\n",
       "\u001b[95m│\u001b[0m \u001b[1;36mHola\u001b[0m                              \u001b[95m│\u001b[0m\n",
       "\u001b[95m│\u001b[0m \u001b[1;32mVIDA:\u001b[0m 85/125 \u001b[1;32m██████████████\u001b[0m\u001b[1;31m░░░░░░\u001b[0m \u001b[95m│\u001b[0m\n",
       "\u001b[95m│\u001b[0m \u001b[1;33mENERGÍA:\u001b[0m \u001b[1;33m■\u001b[0m \u001b[1;33m■\u001b[0m \u001b[1;33m■\u001b[0m \u001b[1;33m■\u001b[0m \u001b[1;33m■\u001b[0m                \u001b[95m│\u001b[0m\n",
       "\u001b[95m│\u001b[0m \u001b[1;31mRECARGAS:\u001b[0m \u001b[1;31m■\u001b[0m                       \u001b[95m│\u001b[0m\n",
       "\u001b[95m╰───────────────────────────────────╯\u001b[0m\n"
      ]
     },
     "metadata": {},
     "output_type": "display_data"
    },
    {
     "data": {
      "text/html": [
       "<pre style=\"white-space:pre;overflow-x:auto;line-height:normal;font-family:Menlo,'DejaVu Sans Mono',consolas,'Courier New',monospace\"><span style=\"color: #ff00ff; text-decoration-color: #ff00ff\">╭─ </span><span style=\"color: #800080; text-decoration-color: #800080; font-weight: bold\">-------- ESTADÍSTICAS --------</span><span style=\"color: #ff00ff; text-decoration-color: #ff00ff\"> ──╮</span>\n",
       "<span style=\"color: #ff00ff; text-decoration-color: #ff00ff\">│</span> <span style=\"color: #008080; text-decoration-color: #008080; font-weight: bold\">Hola</span>                              <span style=\"color: #ff00ff; text-decoration-color: #ff00ff\">│</span>\n",
       "<span style=\"color: #ff00ff; text-decoration-color: #ff00ff\">│</span> <span style=\"color: #008000; text-decoration-color: #008000; font-weight: bold\">VIDA:</span> 51/125 <span style=\"color: #008000; text-decoration-color: #008000; font-weight: bold\">████████</span><span style=\"color: #800000; text-decoration-color: #800000; font-weight: bold\">░░░░░░░░░░░░</span> <span style=\"color: #ff00ff; text-decoration-color: #ff00ff\">│</span>\n",
       "<span style=\"color: #ff00ff; text-decoration-color: #ff00ff\">│</span> <span style=\"color: #808000; text-decoration-color: #808000; font-weight: bold\">ENERGÍA:</span> <span style=\"color: #808000; text-decoration-color: #808000; font-weight: bold\">■</span> <span style=\"color: #808000; text-decoration-color: #808000; font-weight: bold\">■</span> <span style=\"color: #808000; text-decoration-color: #808000; font-weight: bold\">■</span> <span style=\"color: #808000; text-decoration-color: #808000; font-weight: bold\">■</span> <span style=\"color: #808000; text-decoration-color: #808000; font-weight: bold\">■</span>                <span style=\"color: #ff00ff; text-decoration-color: #ff00ff\">│</span>\n",
       "<span style=\"color: #ff00ff; text-decoration-color: #ff00ff\">│</span> <span style=\"color: #800000; text-decoration-color: #800000; font-weight: bold\">RECARGAS:</span> <span style=\"color: #800000; text-decoration-color: #800000; font-weight: bold\">■</span>                       <span style=\"color: #ff00ff; text-decoration-color: #ff00ff\">│</span>\n",
       "<span style=\"color: #ff00ff; text-decoration-color: #ff00ff\">╰───────────────────────────────────╯</span>\n",
       "</pre>\n"
      ],
      "text/plain": [
       "\u001b[95m╭─\u001b[0m\u001b[95m \u001b[0m\u001b[1;35m-------- ESTADÍSTICAS --------\u001b[0m\u001b[95m \u001b[0m\u001b[95m─\u001b[0m\u001b[95m─╮\u001b[0m\n",
       "\u001b[95m│\u001b[0m \u001b[1;36mHola\u001b[0m                              \u001b[95m│\u001b[0m\n",
       "\u001b[95m│\u001b[0m \u001b[1;32mVIDA:\u001b[0m 51/125 \u001b[1;32m████████\u001b[0m\u001b[1;31m░░░░░░░░░░░░\u001b[0m \u001b[95m│\u001b[0m\n",
       "\u001b[95m│\u001b[0m \u001b[1;33mENERGÍA:\u001b[0m \u001b[1;33m■\u001b[0m \u001b[1;33m■\u001b[0m \u001b[1;33m■\u001b[0m \u001b[1;33m■\u001b[0m \u001b[1;33m■\u001b[0m                \u001b[95m│\u001b[0m\n",
       "\u001b[95m│\u001b[0m \u001b[1;31mRECARGAS:\u001b[0m \u001b[1;31m■\u001b[0m                       \u001b[95m│\u001b[0m\n",
       "\u001b[95m╰───────────────────────────────────╯\u001b[0m\n"
      ]
     },
     "metadata": {},
     "output_type": "display_data"
    },
    {
     "data": {
      "text/html": [
       "<pre style=\"white-space:pre;overflow-x:auto;line-height:normal;font-family:Menlo,'DejaVu Sans Mono',consolas,'Courier New',monospace\"><span style=\"color: #800080; text-decoration-color: #800080; font-weight: bold\">Turno de Hola</span>\n",
       "</pre>\n"
      ],
      "text/plain": [
       "\u001b[1;35mTurno de Hola\u001b[0m\n"
      ]
     },
     "metadata": {},
     "output_type": "display_data"
    },
    {
     "data": {
      "text/html": [
       "<pre style=\"white-space:pre;overflow-x:auto;line-height:normal;font-family:Menlo,'DejaVu Sans Mono',consolas,'Courier New',monospace\"><span style=\"color: #008080; text-decoration-color: #008080; font-weight: bold\">1</span>. Atacar\n",
       "<span style=\"color: #008080; text-decoration-color: #008080; font-weight: bold\">2</span>. Recargar Energía\n",
       "<span style=\"color: #008080; text-decoration-color: #008080; font-weight: bold\">3</span>. Recargar Vida\n",
       "<span style=\"color: #008080; text-decoration-color: #008080; font-weight: bold\">4</span>. Obtener Recarga de Vida\n",
       "</pre>\n"
      ],
      "text/plain": [
       "\u001b[1;36m1\u001b[0m. Atacar\n",
       "\u001b[1;36m2\u001b[0m. Recargar Energía\n",
       "\u001b[1;36m3\u001b[0m. Recargar Vida\n",
       "\u001b[1;36m4\u001b[0m. Obtener Recarga de Vida\n"
      ]
     },
     "metadata": {},
     "output_type": "display_data"
    },
    {
     "data": {
      "text/html": [
       "<pre style=\"white-space:pre;overflow-x:auto;line-height:normal;font-family:Menlo,'DejaVu Sans Mono',consolas,'Courier New',monospace\">Elige una acción <span style=\"color: #800080; text-decoration-color: #800080; font-weight: bold\">[1/2/3/4]</span>: </pre>\n"
      ],
      "text/plain": [
       "Elige una acción \u001b[1;35m[1/2/3/4]\u001b[0m: "
      ]
     },
     "metadata": {},
     "output_type": "display_data"
    },
    {
     "data": {
      "text/html": [
       "<pre style=\"white-space:pre;overflow-x:auto;line-height:normal;font-family:Menlo,'DejaVu Sans Mono',consolas,'Courier New',monospace\">¿Cuántas municiones deseas usar (1-3)?: </pre>\n"
      ],
      "text/plain": [
       "¿Cuántas municiones deseas usar (1-3)?: "
      ]
     },
     "metadata": {},
     "output_type": "display_data"
    },
    {
     "data": {
      "text/html": [
       "<pre style=\"white-space:pre;overflow-x:auto;line-height:normal;font-family:Menlo,'DejaVu Sans Mono',consolas,'Courier New',monospace\"><span style=\"color: #808000; text-decoration-color: #808000; font-weight: bold\">Hola realizó un ataque con </span><span style=\"color: #808000; text-decoration-color: #808000; font-weight: bold\">20</span><span style=\"color: #808000; text-decoration-color: #808000; font-weight: bold\"> de daño!</span>\n",
       "</pre>\n"
      ],
      "text/plain": [
       "\u001b[1;33mHola realizó un ataque con \u001b[0m\u001b[1;33m20\u001b[0m\u001b[1;33m de daño!\u001b[0m\n"
      ]
     },
     "metadata": {},
     "output_type": "display_data"
    },
    {
     "data": {
      "text/html": [
       "<pre style=\"white-space:pre;overflow-x:auto;line-height:normal;font-family:Menlo,'DejaVu Sans Mono',consolas,'Courier New',monospace\"><span style=\"color: #800080; text-decoration-color: #800080; font-weight: bold\">Turno de Hola</span>\n",
       "</pre>\n"
      ],
      "text/plain": [
       "\u001b[1;35mTurno de Hola\u001b[0m\n"
      ]
     },
     "metadata": {},
     "output_type": "display_data"
    },
    {
     "data": {
      "text/html": [
       "<pre style=\"white-space:pre;overflow-x:auto;line-height:normal;font-family:Menlo,'DejaVu Sans Mono',consolas,'Courier New',monospace\"><span style=\"color: #008080; text-decoration-color: #008080; font-weight: bold\">1</span>. Atacar\n",
       "<span style=\"color: #008080; text-decoration-color: #008080; font-weight: bold\">2</span>. Recargar Energía\n",
       "<span style=\"color: #008080; text-decoration-color: #008080; font-weight: bold\">3</span>. Recargar Vida\n",
       "<span style=\"color: #008080; text-decoration-color: #008080; font-weight: bold\">4</span>. Obtener Recarga de Vida\n",
       "</pre>\n"
      ],
      "text/plain": [
       "\u001b[1;36m1\u001b[0m. Atacar\n",
       "\u001b[1;36m2\u001b[0m. Recargar Energía\n",
       "\u001b[1;36m3\u001b[0m. Recargar Vida\n",
       "\u001b[1;36m4\u001b[0m. Obtener Recarga de Vida\n"
      ]
     },
     "metadata": {},
     "output_type": "display_data"
    },
    {
     "data": {
      "text/html": [
       "<pre style=\"white-space:pre;overflow-x:auto;line-height:normal;font-family:Menlo,'DejaVu Sans Mono',consolas,'Courier New',monospace\">Elige una acción <span style=\"color: #800080; text-decoration-color: #800080; font-weight: bold\">[1/2/3/4]</span>: </pre>\n"
      ],
      "text/plain": [
       "Elige una acción \u001b[1;35m[1/2/3/4]\u001b[0m: "
      ]
     },
     "metadata": {},
     "output_type": "display_data"
    },
    {
     "data": {
      "text/html": [
       "<pre style=\"white-space:pre;overflow-x:auto;line-height:normal;font-family:Menlo,'DejaVu Sans Mono',consolas,'Courier New',monospace\">¿Cuántas municiones deseas usar (1-3)?: </pre>\n"
      ],
      "text/plain": [
       "¿Cuántas municiones deseas usar (1-3)?: "
      ]
     },
     "metadata": {},
     "output_type": "display_data"
    },
    {
     "data": {
      "text/html": [
       "<pre style=\"white-space:pre;overflow-x:auto;line-height:normal;font-family:Menlo,'DejaVu Sans Mono',consolas,'Courier New',monospace\"><span style=\"color: #808000; text-decoration-color: #808000; font-weight: bold\">Hola realizó un ataque con </span><span style=\"color: #808000; text-decoration-color: #808000; font-weight: bold\">15</span><span style=\"color: #808000; text-decoration-color: #808000; font-weight: bold\"> de daño!</span>\n",
       "</pre>\n"
      ],
      "text/plain": [
       "\u001b[1;33mHola realizó un ataque con \u001b[0m\u001b[1;33m15\u001b[0m\u001b[1;33m de daño!\u001b[0m\n"
      ]
     },
     "metadata": {},
     "output_type": "display_data"
    },
    {
     "data": {
      "text/html": [
       "<pre style=\"white-space:pre;overflow-x:auto;line-height:normal;font-family:Menlo,'DejaVu Sans Mono',consolas,'Courier New',monospace\"><span style=\"color: #ff00ff; text-decoration-color: #ff00ff\">╭─ </span><span style=\"color: #800080; text-decoration-color: #800080; font-weight: bold\">-------- ESTADÍSTICAS --------</span><span style=\"color: #ff00ff; text-decoration-color: #ff00ff\"> ──╮</span>\n",
       "<span style=\"color: #ff00ff; text-decoration-color: #ff00ff\">│</span> <span style=\"color: #008080; text-decoration-color: #008080; font-weight: bold\">Hola</span>                              <span style=\"color: #ff00ff; text-decoration-color: #ff00ff\">│</span>\n",
       "<span style=\"color: #ff00ff; text-decoration-color: #ff00ff\">│</span> <span style=\"color: #008000; text-decoration-color: #008000; font-weight: bold\">VIDA:</span> 70/125 <span style=\"color: #008000; text-decoration-color: #008000; font-weight: bold\">███████████</span><span style=\"color: #800000; text-decoration-color: #800000; font-weight: bold\">░░░░░░░░░</span> <span style=\"color: #ff00ff; text-decoration-color: #ff00ff\">│</span>\n",
       "<span style=\"color: #ff00ff; text-decoration-color: #ff00ff\">│</span> <span style=\"color: #808000; text-decoration-color: #808000; font-weight: bold\">ENERGÍA:</span> <span style=\"color: #808000; text-decoration-color: #808000; font-weight: bold\">■</span> <span style=\"color: #808000; text-decoration-color: #808000; font-weight: bold\">■</span> <span style=\"color: #808000; text-decoration-color: #808000; font-weight: bold\">■</span> <span style=\"color: #808000; text-decoration-color: #808000; font-weight: bold\">■</span> <span style=\"color: #dfdfdf; text-decoration-color: #dfdfdf\">□</span>                <span style=\"color: #ff00ff; text-decoration-color: #ff00ff\">│</span>\n",
       "<span style=\"color: #ff00ff; text-decoration-color: #ff00ff\">│</span> <span style=\"color: #800000; text-decoration-color: #800000; font-weight: bold\">RECARGAS:</span> <span style=\"color: #800000; text-decoration-color: #800000; font-weight: bold\">■</span>                       <span style=\"color: #ff00ff; text-decoration-color: #ff00ff\">│</span>\n",
       "<span style=\"color: #ff00ff; text-decoration-color: #ff00ff\">╰───────────────────────────────────╯</span>\n",
       "</pre>\n"
      ],
      "text/plain": [
       "\u001b[95m╭─\u001b[0m\u001b[95m \u001b[0m\u001b[1;35m-------- ESTADÍSTICAS --------\u001b[0m\u001b[95m \u001b[0m\u001b[95m─\u001b[0m\u001b[95m─╮\u001b[0m\n",
       "\u001b[95m│\u001b[0m \u001b[1;36mHola\u001b[0m                              \u001b[95m│\u001b[0m\n",
       "\u001b[95m│\u001b[0m \u001b[1;32mVIDA:\u001b[0m 70/125 \u001b[1;32m███████████\u001b[0m\u001b[1;31m░░░░░░░░░\u001b[0m \u001b[95m│\u001b[0m\n",
       "\u001b[95m│\u001b[0m \u001b[1;33mENERGÍA:\u001b[0m \u001b[1;33m■\u001b[0m \u001b[1;33m■\u001b[0m \u001b[1;33m■\u001b[0m \u001b[1;33m■\u001b[0m \u001b[2;37m□\u001b[0m                \u001b[95m│\u001b[0m\n",
       "\u001b[95m│\u001b[0m \u001b[1;31mRECARGAS:\u001b[0m \u001b[1;31m■\u001b[0m                       \u001b[95m│\u001b[0m\n",
       "\u001b[95m╰───────────────────────────────────╯\u001b[0m\n"
      ]
     },
     "metadata": {},
     "output_type": "display_data"
    },
    {
     "data": {
      "text/html": [
       "<pre style=\"white-space:pre;overflow-x:auto;line-height:normal;font-family:Menlo,'DejaVu Sans Mono',consolas,'Courier New',monospace\"><span style=\"color: #ff00ff; text-decoration-color: #ff00ff\">╭─ </span><span style=\"color: #800080; text-decoration-color: #800080; font-weight: bold\">-------- ESTADÍSTICAS --------</span><span style=\"color: #ff00ff; text-decoration-color: #ff00ff\"> ──╮</span>\n",
       "<span style=\"color: #ff00ff; text-decoration-color: #ff00ff\">│</span> <span style=\"color: #008080; text-decoration-color: #008080; font-weight: bold\">Hola</span>                              <span style=\"color: #ff00ff; text-decoration-color: #ff00ff\">│</span>\n",
       "<span style=\"color: #ff00ff; text-decoration-color: #ff00ff\">│</span> <span style=\"color: #008000; text-decoration-color: #008000; font-weight: bold\">VIDA:</span> 31/125 <span style=\"color: #008000; text-decoration-color: #008000; font-weight: bold\">█████</span><span style=\"color: #800000; text-decoration-color: #800000; font-weight: bold\">░░░░░░░░░░░░░░░</span> <span style=\"color: #ff00ff; text-decoration-color: #ff00ff\">│</span>\n",
       "<span style=\"color: #ff00ff; text-decoration-color: #ff00ff\">│</span> <span style=\"color: #808000; text-decoration-color: #808000; font-weight: bold\">ENERGÍA:</span> <span style=\"color: #808000; text-decoration-color: #808000; font-weight: bold\">■</span> <span style=\"color: #808000; text-decoration-color: #808000; font-weight: bold\">■</span> <span style=\"color: #808000; text-decoration-color: #808000; font-weight: bold\">■</span> <span style=\"color: #808000; text-decoration-color: #808000; font-weight: bold\">■</span> <span style=\"color: #dfdfdf; text-decoration-color: #dfdfdf\">□</span>                <span style=\"color: #ff00ff; text-decoration-color: #ff00ff\">│</span>\n",
       "<span style=\"color: #ff00ff; text-decoration-color: #ff00ff\">│</span> <span style=\"color: #800000; text-decoration-color: #800000; font-weight: bold\">RECARGAS:</span> <span style=\"color: #800000; text-decoration-color: #800000; font-weight: bold\">■</span>                       <span style=\"color: #ff00ff; text-decoration-color: #ff00ff\">│</span>\n",
       "<span style=\"color: #ff00ff; text-decoration-color: #ff00ff\">╰───────────────────────────────────╯</span>\n",
       "</pre>\n"
      ],
      "text/plain": [
       "\u001b[95m╭─\u001b[0m\u001b[95m \u001b[0m\u001b[1;35m-------- ESTADÍSTICAS --------\u001b[0m\u001b[95m \u001b[0m\u001b[95m─\u001b[0m\u001b[95m─╮\u001b[0m\n",
       "\u001b[95m│\u001b[0m \u001b[1;36mHola\u001b[0m                              \u001b[95m│\u001b[0m\n",
       "\u001b[95m│\u001b[0m \u001b[1;32mVIDA:\u001b[0m 31/125 \u001b[1;32m█████\u001b[0m\u001b[1;31m░░░░░░░░░░░░░░░\u001b[0m \u001b[95m│\u001b[0m\n",
       "\u001b[95m│\u001b[0m \u001b[1;33mENERGÍA:\u001b[0m \u001b[1;33m■\u001b[0m \u001b[1;33m■\u001b[0m \u001b[1;33m■\u001b[0m \u001b[1;33m■\u001b[0m \u001b[2;37m□\u001b[0m                \u001b[95m│\u001b[0m\n",
       "\u001b[95m│\u001b[0m \u001b[1;31mRECARGAS:\u001b[0m \u001b[1;31m■\u001b[0m                       \u001b[95m│\u001b[0m\n",
       "\u001b[95m╰───────────────────────────────────╯\u001b[0m\n"
      ]
     },
     "metadata": {},
     "output_type": "display_data"
    },
    {
     "data": {
      "text/html": [
       "<pre style=\"white-space:pre;overflow-x:auto;line-height:normal;font-family:Menlo,'DejaVu Sans Mono',consolas,'Courier New',monospace\"><span style=\"color: #800080; text-decoration-color: #800080; font-weight: bold\">Turno de Hola</span>\n",
       "</pre>\n"
      ],
      "text/plain": [
       "\u001b[1;35mTurno de Hola\u001b[0m\n"
      ]
     },
     "metadata": {},
     "output_type": "display_data"
    },
    {
     "data": {
      "text/html": [
       "<pre style=\"white-space:pre;overflow-x:auto;line-height:normal;font-family:Menlo,'DejaVu Sans Mono',consolas,'Courier New',monospace\"><span style=\"color: #008080; text-decoration-color: #008080; font-weight: bold\">1</span>. Atacar\n",
       "<span style=\"color: #008080; text-decoration-color: #008080; font-weight: bold\">2</span>. Recargar Energía\n",
       "<span style=\"color: #008080; text-decoration-color: #008080; font-weight: bold\">3</span>. Recargar Vida\n",
       "<span style=\"color: #008080; text-decoration-color: #008080; font-weight: bold\">4</span>. Obtener Recarga de Vida\n",
       "</pre>\n"
      ],
      "text/plain": [
       "\u001b[1;36m1\u001b[0m. Atacar\n",
       "\u001b[1;36m2\u001b[0m. Recargar Energía\n",
       "\u001b[1;36m3\u001b[0m. Recargar Vida\n",
       "\u001b[1;36m4\u001b[0m. Obtener Recarga de Vida\n"
      ]
     },
     "metadata": {},
     "output_type": "display_data"
    },
    {
     "data": {
      "text/html": [
       "<pre style=\"white-space:pre;overflow-x:auto;line-height:normal;font-family:Menlo,'DejaVu Sans Mono',consolas,'Courier New',monospace\">Elige una acción <span style=\"color: #800080; text-decoration-color: #800080; font-weight: bold\">[1/2/3/4]</span>: </pre>\n"
      ],
      "text/plain": [
       "Elige una acción \u001b[1;35m[1/2/3/4]\u001b[0m: "
      ]
     },
     "metadata": {},
     "output_type": "display_data"
    },
    {
     "data": {
      "text/html": [
       "<pre style=\"white-space:pre;overflow-x:auto;line-height:normal;font-family:Menlo,'DejaVu Sans Mono',consolas,'Courier New',monospace\">¿Cuántas municiones deseas usar (1-3)?: </pre>\n"
      ],
      "text/plain": [
       "¿Cuántas municiones deseas usar (1-3)?: "
      ]
     },
     "metadata": {},
     "output_type": "display_data"
    },
    {
     "data": {
      "text/html": [
       "<pre style=\"white-space:pre;overflow-x:auto;line-height:normal;font-family:Menlo,'DejaVu Sans Mono',consolas,'Courier New',monospace\"><span style=\"color: #808000; text-decoration-color: #808000; font-weight: bold\">Hola realizó un ataque con </span><span style=\"color: #808000; text-decoration-color: #808000; font-weight: bold\">11</span><span style=\"color: #808000; text-decoration-color: #808000; font-weight: bold\"> de daño!</span>\n",
       "</pre>\n"
      ],
      "text/plain": [
       "\u001b[1;33mHola realizó un ataque con \u001b[0m\u001b[1;33m11\u001b[0m\u001b[1;33m de daño!\u001b[0m\n"
      ]
     },
     "metadata": {},
     "output_type": "display_data"
    },
    {
     "data": {
      "text/html": [
       "<pre style=\"white-space:pre;overflow-x:auto;line-height:normal;font-family:Menlo,'DejaVu Sans Mono',consolas,'Courier New',monospace\"><span style=\"color: #800080; text-decoration-color: #800080; font-weight: bold\">Turno de Hola</span>\n",
       "</pre>\n"
      ],
      "text/plain": [
       "\u001b[1;35mTurno de Hola\u001b[0m\n"
      ]
     },
     "metadata": {},
     "output_type": "display_data"
    },
    {
     "data": {
      "text/html": [
       "<pre style=\"white-space:pre;overflow-x:auto;line-height:normal;font-family:Menlo,'DejaVu Sans Mono',consolas,'Courier New',monospace\"><span style=\"color: #008080; text-decoration-color: #008080; font-weight: bold\">1</span>. Atacar\n",
       "<span style=\"color: #008080; text-decoration-color: #008080; font-weight: bold\">2</span>. Recargar Energía\n",
       "<span style=\"color: #008080; text-decoration-color: #008080; font-weight: bold\">3</span>. Recargar Vida\n",
       "<span style=\"color: #008080; text-decoration-color: #008080; font-weight: bold\">4</span>. Obtener Recarga de Vida\n",
       "</pre>\n"
      ],
      "text/plain": [
       "\u001b[1;36m1\u001b[0m. Atacar\n",
       "\u001b[1;36m2\u001b[0m. Recargar Energía\n",
       "\u001b[1;36m3\u001b[0m. Recargar Vida\n",
       "\u001b[1;36m4\u001b[0m. Obtener Recarga de Vida\n"
      ]
     },
     "metadata": {},
     "output_type": "display_data"
    },
    {
     "data": {
      "text/html": [
       "<pre style=\"white-space:pre;overflow-x:auto;line-height:normal;font-family:Menlo,'DejaVu Sans Mono',consolas,'Courier New',monospace\">Elige una acción <span style=\"color: #800080; text-decoration-color: #800080; font-weight: bold\">[1/2/3/4]</span>: </pre>\n"
      ],
      "text/plain": [
       "Elige una acción \u001b[1;35m[1/2/3/4]\u001b[0m: "
      ]
     },
     "metadata": {},
     "output_type": "display_data"
    },
    {
     "data": {
      "text/html": [
       "<pre style=\"white-space:pre;overflow-x:auto;line-height:normal;font-family:Menlo,'DejaVu Sans Mono',consolas,'Courier New',monospace\">¿Cuántas municiones deseas usar (1-3)?: </pre>\n"
      ],
      "text/plain": [
       "¿Cuántas municiones deseas usar (1-3)?: "
      ]
     },
     "metadata": {},
     "output_type": "display_data"
    },
    {
     "data": {
      "text/html": [
       "<pre style=\"white-space:pre;overflow-x:auto;line-height:normal;font-family:Menlo,'DejaVu Sans Mono',consolas,'Courier New',monospace\"><span style=\"color: #808000; text-decoration-color: #808000; font-weight: bold\">Hola realizó un ataque con </span><span style=\"color: #808000; text-decoration-color: #808000; font-weight: bold\">7</span><span style=\"color: #808000; text-decoration-color: #808000; font-weight: bold\"> de daño!</span>\n",
       "</pre>\n"
      ],
      "text/plain": [
       "\u001b[1;33mHola realizó un ataque con \u001b[0m\u001b[1;33m7\u001b[0m\u001b[1;33m de daño!\u001b[0m\n"
      ]
     },
     "metadata": {},
     "output_type": "display_data"
    },
    {
     "data": {
      "text/html": [
       "<pre style=\"white-space:pre;overflow-x:auto;line-height:normal;font-family:Menlo,'DejaVu Sans Mono',consolas,'Courier New',monospace\"><span style=\"color: #ff00ff; text-decoration-color: #ff00ff\">╭─ </span><span style=\"color: #800080; text-decoration-color: #800080; font-weight: bold\">-------- ESTADÍSTICAS --------</span><span style=\"color: #ff00ff; text-decoration-color: #ff00ff\"> ──╮</span>\n",
       "<span style=\"color: #ff00ff; text-decoration-color: #ff00ff\">│</span> <span style=\"color: #008080; text-decoration-color: #008080; font-weight: bold\">Hola</span>                              <span style=\"color: #ff00ff; text-decoration-color: #ff00ff\">│</span>\n",
       "<span style=\"color: #ff00ff; text-decoration-color: #ff00ff\">│</span> <span style=\"color: #008000; text-decoration-color: #008000; font-weight: bold\">VIDA:</span> 63/125 <span style=\"color: #008000; text-decoration-color: #008000; font-weight: bold\">██████████</span><span style=\"color: #800000; text-decoration-color: #800000; font-weight: bold\">░░░░░░░░░░</span> <span style=\"color: #ff00ff; text-decoration-color: #ff00ff\">│</span>\n",
       "<span style=\"color: #ff00ff; text-decoration-color: #ff00ff\">│</span> <span style=\"color: #808000; text-decoration-color: #808000; font-weight: bold\">ENERGÍA:</span> <span style=\"color: #808000; text-decoration-color: #808000; font-weight: bold\">■</span> <span style=\"color: #808000; text-decoration-color: #808000; font-weight: bold\">■</span> <span style=\"color: #808000; text-decoration-color: #808000; font-weight: bold\">■</span> <span style=\"color: #dfdfdf; text-decoration-color: #dfdfdf\">□</span> <span style=\"color: #dfdfdf; text-decoration-color: #dfdfdf\">□</span>                <span style=\"color: #ff00ff; text-decoration-color: #ff00ff\">│</span>\n",
       "<span style=\"color: #ff00ff; text-decoration-color: #ff00ff\">│</span> <span style=\"color: #800000; text-decoration-color: #800000; font-weight: bold\">RECARGAS:</span> <span style=\"color: #800000; text-decoration-color: #800000; font-weight: bold\">■</span>                       <span style=\"color: #ff00ff; text-decoration-color: #ff00ff\">│</span>\n",
       "<span style=\"color: #ff00ff; text-decoration-color: #ff00ff\">╰───────────────────────────────────╯</span>\n",
       "</pre>\n"
      ],
      "text/plain": [
       "\u001b[95m╭─\u001b[0m\u001b[95m \u001b[0m\u001b[1;35m-------- ESTADÍSTICAS --------\u001b[0m\u001b[95m \u001b[0m\u001b[95m─\u001b[0m\u001b[95m─╮\u001b[0m\n",
       "\u001b[95m│\u001b[0m \u001b[1;36mHola\u001b[0m                              \u001b[95m│\u001b[0m\n",
       "\u001b[95m│\u001b[0m \u001b[1;32mVIDA:\u001b[0m 63/125 \u001b[1;32m██████████\u001b[0m\u001b[1;31m░░░░░░░░░░\u001b[0m \u001b[95m│\u001b[0m\n",
       "\u001b[95m│\u001b[0m \u001b[1;33mENERGÍA:\u001b[0m \u001b[1;33m■\u001b[0m \u001b[1;33m■\u001b[0m \u001b[1;33m■\u001b[0m \u001b[2;37m□\u001b[0m \u001b[2;37m□\u001b[0m                \u001b[95m│\u001b[0m\n",
       "\u001b[95m│\u001b[0m \u001b[1;31mRECARGAS:\u001b[0m \u001b[1;31m■\u001b[0m                       \u001b[95m│\u001b[0m\n",
       "\u001b[95m╰───────────────────────────────────╯\u001b[0m\n"
      ]
     },
     "metadata": {},
     "output_type": "display_data"
    },
    {
     "data": {
      "text/html": [
       "<pre style=\"white-space:pre;overflow-x:auto;line-height:normal;font-family:Menlo,'DejaVu Sans Mono',consolas,'Courier New',monospace\"><span style=\"color: #ff00ff; text-decoration-color: #ff00ff\">╭─ </span><span style=\"color: #800080; text-decoration-color: #800080; font-weight: bold\">-------- ESTADÍSTICAS --------</span><span style=\"color: #ff00ff; text-decoration-color: #ff00ff\"> ──╮</span>\n",
       "<span style=\"color: #ff00ff; text-decoration-color: #ff00ff\">│</span> <span style=\"color: #008080; text-decoration-color: #008080; font-weight: bold\">Hola</span>                              <span style=\"color: #ff00ff; text-decoration-color: #ff00ff\">│</span>\n",
       "<span style=\"color: #ff00ff; text-decoration-color: #ff00ff\">│</span> <span style=\"color: #008000; text-decoration-color: #008000; font-weight: bold\">VIDA:</span> 20/125 <span style=\"color: #008000; text-decoration-color: #008000; font-weight: bold\">███</span><span style=\"color: #800000; text-decoration-color: #800000; font-weight: bold\">░░░░░░░░░░░░░░░░░</span> <span style=\"color: #ff00ff; text-decoration-color: #ff00ff\">│</span>\n",
       "<span style=\"color: #ff00ff; text-decoration-color: #ff00ff\">│</span> <span style=\"color: #808000; text-decoration-color: #808000; font-weight: bold\">ENERGÍA:</span> <span style=\"color: #808000; text-decoration-color: #808000; font-weight: bold\">■</span> <span style=\"color: #808000; text-decoration-color: #808000; font-weight: bold\">■</span> <span style=\"color: #808000; text-decoration-color: #808000; font-weight: bold\">■</span> <span style=\"color: #dfdfdf; text-decoration-color: #dfdfdf\">□</span> <span style=\"color: #dfdfdf; text-decoration-color: #dfdfdf\">□</span>                <span style=\"color: #ff00ff; text-decoration-color: #ff00ff\">│</span>\n",
       "<span style=\"color: #ff00ff; text-decoration-color: #ff00ff\">│</span> <span style=\"color: #800000; text-decoration-color: #800000; font-weight: bold\">RECARGAS:</span> <span style=\"color: #800000; text-decoration-color: #800000; font-weight: bold\">■</span>                       <span style=\"color: #ff00ff; text-decoration-color: #ff00ff\">│</span>\n",
       "<span style=\"color: #ff00ff; text-decoration-color: #ff00ff\">╰───────────────────────────────────╯</span>\n",
       "</pre>\n"
      ],
      "text/plain": [
       "\u001b[95m╭─\u001b[0m\u001b[95m \u001b[0m\u001b[1;35m-------- ESTADÍSTICAS --------\u001b[0m\u001b[95m \u001b[0m\u001b[95m─\u001b[0m\u001b[95m─╮\u001b[0m\n",
       "\u001b[95m│\u001b[0m \u001b[1;36mHola\u001b[0m                              \u001b[95m│\u001b[0m\n",
       "\u001b[95m│\u001b[0m \u001b[1;32mVIDA:\u001b[0m 20/125 \u001b[1;32m███\u001b[0m\u001b[1;31m░░░░░░░░░░░░░░░░░\u001b[0m \u001b[95m│\u001b[0m\n",
       "\u001b[95m│\u001b[0m \u001b[1;33mENERGÍA:\u001b[0m \u001b[1;33m■\u001b[0m \u001b[1;33m■\u001b[0m \u001b[1;33m■\u001b[0m \u001b[2;37m□\u001b[0m \u001b[2;37m□\u001b[0m                \u001b[95m│\u001b[0m\n",
       "\u001b[95m│\u001b[0m \u001b[1;31mRECARGAS:\u001b[0m \u001b[1;31m■\u001b[0m                       \u001b[95m│\u001b[0m\n",
       "\u001b[95m╰───────────────────────────────────╯\u001b[0m\n"
      ]
     },
     "metadata": {},
     "output_type": "display_data"
    },
    {
     "data": {
      "text/html": [
       "<pre style=\"white-space:pre;overflow-x:auto;line-height:normal;font-family:Menlo,'DejaVu Sans Mono',consolas,'Courier New',monospace\"><span style=\"color: #800080; text-decoration-color: #800080; font-weight: bold\">Turno de Hola</span>\n",
       "</pre>\n"
      ],
      "text/plain": [
       "\u001b[1;35mTurno de Hola\u001b[0m\n"
      ]
     },
     "metadata": {},
     "output_type": "display_data"
    },
    {
     "data": {
      "text/html": [
       "<pre style=\"white-space:pre;overflow-x:auto;line-height:normal;font-family:Menlo,'DejaVu Sans Mono',consolas,'Courier New',monospace\"><span style=\"color: #008080; text-decoration-color: #008080; font-weight: bold\">1</span>. Atacar\n",
       "<span style=\"color: #008080; text-decoration-color: #008080; font-weight: bold\">2</span>. Recargar Energía\n",
       "<span style=\"color: #008080; text-decoration-color: #008080; font-weight: bold\">3</span>. Recargar Vida\n",
       "<span style=\"color: #008080; text-decoration-color: #008080; font-weight: bold\">4</span>. Obtener Recarga de Vida\n",
       "</pre>\n"
      ],
      "text/plain": [
       "\u001b[1;36m1\u001b[0m. Atacar\n",
       "\u001b[1;36m2\u001b[0m. Recargar Energía\n",
       "\u001b[1;36m3\u001b[0m. Recargar Vida\n",
       "\u001b[1;36m4\u001b[0m. Obtener Recarga de Vida\n"
      ]
     },
     "metadata": {},
     "output_type": "display_data"
    },
    {
     "data": {
      "text/html": [
       "<pre style=\"white-space:pre;overflow-x:auto;line-height:normal;font-family:Menlo,'DejaVu Sans Mono',consolas,'Courier New',monospace\">Elige una acción <span style=\"color: #800080; text-decoration-color: #800080; font-weight: bold\">[1/2/3/4]</span>: </pre>\n"
      ],
      "text/plain": [
       "Elige una acción \u001b[1;35m[1/2/3/4]\u001b[0m: "
      ]
     },
     "metadata": {},
     "output_type": "display_data"
    },
    {
     "data": {
      "text/html": [
       "<pre style=\"white-space:pre;overflow-x:auto;line-height:normal;font-family:Menlo,'DejaVu Sans Mono',consolas,'Courier New',monospace\">¿Cuántas municiones deseas usar (1-3)?: </pre>\n"
      ],
      "text/plain": [
       "¿Cuántas municiones deseas usar (1-3)?: "
      ]
     },
     "metadata": {},
     "output_type": "display_data"
    },
    {
     "data": {
      "text/html": [
       "<pre style=\"white-space:pre;overflow-x:auto;line-height:normal;font-family:Menlo,'DejaVu Sans Mono',consolas,'Courier New',monospace\"><span style=\"color: #808000; text-decoration-color: #808000; font-weight: bold\">Hola realizó un ataque con </span><span style=\"color: #808000; text-decoration-color: #808000; font-weight: bold\">9</span><span style=\"color: #808000; text-decoration-color: #808000; font-weight: bold\"> de daño!</span>\n",
       "</pre>\n"
      ],
      "text/plain": [
       "\u001b[1;33mHola realizó un ataque con \u001b[0m\u001b[1;33m9\u001b[0m\u001b[1;33m de daño!\u001b[0m\n"
      ]
     },
     "metadata": {},
     "output_type": "display_data"
    },
    {
     "data": {
      "text/html": [
       "<pre style=\"white-space:pre;overflow-x:auto;line-height:normal;font-family:Menlo,'DejaVu Sans Mono',consolas,'Courier New',monospace\"><span style=\"color: #800080; text-decoration-color: #800080; font-weight: bold\">Turno de Hola</span>\n",
       "</pre>\n"
      ],
      "text/plain": [
       "\u001b[1;35mTurno de Hola\u001b[0m\n"
      ]
     },
     "metadata": {},
     "output_type": "display_data"
    },
    {
     "data": {
      "text/html": [
       "<pre style=\"white-space:pre;overflow-x:auto;line-height:normal;font-family:Menlo,'DejaVu Sans Mono',consolas,'Courier New',monospace\"><span style=\"color: #008080; text-decoration-color: #008080; font-weight: bold\">1</span>. Atacar\n",
       "<span style=\"color: #008080; text-decoration-color: #008080; font-weight: bold\">2</span>. Recargar Energía\n",
       "<span style=\"color: #008080; text-decoration-color: #008080; font-weight: bold\">3</span>. Recargar Vida\n",
       "<span style=\"color: #008080; text-decoration-color: #008080; font-weight: bold\">4</span>. Obtener Recarga de Vida\n",
       "</pre>\n"
      ],
      "text/plain": [
       "\u001b[1;36m1\u001b[0m. Atacar\n",
       "\u001b[1;36m2\u001b[0m. Recargar Energía\n",
       "\u001b[1;36m3\u001b[0m. Recargar Vida\n",
       "\u001b[1;36m4\u001b[0m. Obtener Recarga de Vida\n"
      ]
     },
     "metadata": {},
     "output_type": "display_data"
    },
    {
     "data": {
      "text/html": [
       "<pre style=\"white-space:pre;overflow-x:auto;line-height:normal;font-family:Menlo,'DejaVu Sans Mono',consolas,'Courier New',monospace\">Elige una acción <span style=\"color: #800080; text-decoration-color: #800080; font-weight: bold\">[1/2/3/4]</span>: </pre>\n"
      ],
      "text/plain": [
       "Elige una acción \u001b[1;35m[1/2/3/4]\u001b[0m: "
      ]
     },
     "metadata": {},
     "output_type": "display_data"
    },
    {
     "data": {
      "text/html": [
       "<pre style=\"white-space:pre;overflow-x:auto;line-height:normal;font-family:Menlo,'DejaVu Sans Mono',consolas,'Courier New',monospace\">¿Cuántas municiones deseas usar (1-3)?: </pre>\n"
      ],
      "text/plain": [
       "¿Cuántas municiones deseas usar (1-3)?: "
      ]
     },
     "metadata": {},
     "output_type": "display_data"
    },
    {
     "data": {
      "text/html": [
       "<pre style=\"white-space:pre;overflow-x:auto;line-height:normal;font-family:Menlo,'DejaVu Sans Mono',consolas,'Courier New',monospace\"><span style=\"color: #808000; text-decoration-color: #808000; font-weight: bold\">Hola realizó un ataque con </span><span style=\"color: #808000; text-decoration-color: #808000; font-weight: bold\">7</span><span style=\"color: #808000; text-decoration-color: #808000; font-weight: bold\"> de daño!</span>\n",
       "</pre>\n"
      ],
      "text/plain": [
       "\u001b[1;33mHola realizó un ataque con \u001b[0m\u001b[1;33m7\u001b[0m\u001b[1;33m de daño!\u001b[0m\n"
      ]
     },
     "metadata": {},
     "output_type": "display_data"
    },
    {
     "data": {
      "text/html": [
       "<pre style=\"white-space:pre;overflow-x:auto;line-height:normal;font-family:Menlo,'DejaVu Sans Mono',consolas,'Courier New',monospace\"><span style=\"color: #ff00ff; text-decoration-color: #ff00ff\">╭─ </span><span style=\"color: #800080; text-decoration-color: #800080; font-weight: bold\">-------- ESTADÍSTICAS --------</span><span style=\"color: #ff00ff; text-decoration-color: #ff00ff\"> ──╮</span>\n",
       "<span style=\"color: #ff00ff; text-decoration-color: #ff00ff\">│</span> <span style=\"color: #008080; text-decoration-color: #008080; font-weight: bold\">Hola</span>                              <span style=\"color: #ff00ff; text-decoration-color: #ff00ff\">│</span>\n",
       "<span style=\"color: #ff00ff; text-decoration-color: #ff00ff\">│</span> <span style=\"color: #008000; text-decoration-color: #008000; font-weight: bold\">VIDA:</span> 56/125 <span style=\"color: #008000; text-decoration-color: #008000; font-weight: bold\">█████████</span><span style=\"color: #800000; text-decoration-color: #800000; font-weight: bold\">░░░░░░░░░░░</span> <span style=\"color: #ff00ff; text-decoration-color: #ff00ff\">│</span>\n",
       "<span style=\"color: #ff00ff; text-decoration-color: #ff00ff\">│</span> <span style=\"color: #808000; text-decoration-color: #808000; font-weight: bold\">ENERGÍA:</span> <span style=\"color: #808000; text-decoration-color: #808000; font-weight: bold\">■</span> <span style=\"color: #808000; text-decoration-color: #808000; font-weight: bold\">■</span> <span style=\"color: #dfdfdf; text-decoration-color: #dfdfdf\">□</span> <span style=\"color: #dfdfdf; text-decoration-color: #dfdfdf\">□</span> <span style=\"color: #dfdfdf; text-decoration-color: #dfdfdf\">□</span>                <span style=\"color: #ff00ff; text-decoration-color: #ff00ff\">│</span>\n",
       "<span style=\"color: #ff00ff; text-decoration-color: #ff00ff\">│</span> <span style=\"color: #800000; text-decoration-color: #800000; font-weight: bold\">RECARGAS:</span> <span style=\"color: #800000; text-decoration-color: #800000; font-weight: bold\">■</span>                       <span style=\"color: #ff00ff; text-decoration-color: #ff00ff\">│</span>\n",
       "<span style=\"color: #ff00ff; text-decoration-color: #ff00ff\">╰───────────────────────────────────╯</span>\n",
       "</pre>\n"
      ],
      "text/plain": [
       "\u001b[95m╭─\u001b[0m\u001b[95m \u001b[0m\u001b[1;35m-------- ESTADÍSTICAS --------\u001b[0m\u001b[95m \u001b[0m\u001b[95m─\u001b[0m\u001b[95m─╮\u001b[0m\n",
       "\u001b[95m│\u001b[0m \u001b[1;36mHola\u001b[0m                              \u001b[95m│\u001b[0m\n",
       "\u001b[95m│\u001b[0m \u001b[1;32mVIDA:\u001b[0m 56/125 \u001b[1;32m█████████\u001b[0m\u001b[1;31m░░░░░░░░░░░\u001b[0m \u001b[95m│\u001b[0m\n",
       "\u001b[95m│\u001b[0m \u001b[1;33mENERGÍA:\u001b[0m \u001b[1;33m■\u001b[0m \u001b[1;33m■\u001b[0m \u001b[2;37m□\u001b[0m \u001b[2;37m□\u001b[0m \u001b[2;37m□\u001b[0m                \u001b[95m│\u001b[0m\n",
       "\u001b[95m│\u001b[0m \u001b[1;31mRECARGAS:\u001b[0m \u001b[1;31m■\u001b[0m                       \u001b[95m│\u001b[0m\n",
       "\u001b[95m╰───────────────────────────────────╯\u001b[0m\n"
      ]
     },
     "metadata": {},
     "output_type": "display_data"
    },
    {
     "data": {
      "text/html": [
       "<pre style=\"white-space:pre;overflow-x:auto;line-height:normal;font-family:Menlo,'DejaVu Sans Mono',consolas,'Courier New',monospace\"><span style=\"color: #ff00ff; text-decoration-color: #ff00ff\">╭─ </span><span style=\"color: #800080; text-decoration-color: #800080; font-weight: bold\">-------- ESTADÍSTICAS --------</span><span style=\"color: #ff00ff; text-decoration-color: #ff00ff\"> ──╮</span>\n",
       "<span style=\"color: #ff00ff; text-decoration-color: #ff00ff\">│</span> <span style=\"color: #008080; text-decoration-color: #008080; font-weight: bold\">Hola</span>                              <span style=\"color: #ff00ff; text-decoration-color: #ff00ff\">│</span>\n",
       "<span style=\"color: #ff00ff; text-decoration-color: #ff00ff\">│</span> <span style=\"color: #008000; text-decoration-color: #008000; font-weight: bold\">VIDA:</span> 11/125 <span style=\"color: #008000; text-decoration-color: #008000; font-weight: bold\">█</span><span style=\"color: #800000; text-decoration-color: #800000; font-weight: bold\">░░░░░░░░░░░░░░░░░░░</span> <span style=\"color: #ff00ff; text-decoration-color: #ff00ff\">│</span>\n",
       "<span style=\"color: #ff00ff; text-decoration-color: #ff00ff\">│</span> <span style=\"color: #808000; text-decoration-color: #808000; font-weight: bold\">ENERGÍA:</span> <span style=\"color: #808000; text-decoration-color: #808000; font-weight: bold\">■</span> <span style=\"color: #808000; text-decoration-color: #808000; font-weight: bold\">■</span> <span style=\"color: #dfdfdf; text-decoration-color: #dfdfdf\">□</span> <span style=\"color: #dfdfdf; text-decoration-color: #dfdfdf\">□</span> <span style=\"color: #dfdfdf; text-decoration-color: #dfdfdf\">□</span>                <span style=\"color: #ff00ff; text-decoration-color: #ff00ff\">│</span>\n",
       "<span style=\"color: #ff00ff; text-decoration-color: #ff00ff\">│</span> <span style=\"color: #800000; text-decoration-color: #800000; font-weight: bold\">RECARGAS:</span> <span style=\"color: #800000; text-decoration-color: #800000; font-weight: bold\">■</span>                       <span style=\"color: #ff00ff; text-decoration-color: #ff00ff\">│</span>\n",
       "<span style=\"color: #ff00ff; text-decoration-color: #ff00ff\">╰───────────────────────────────────╯</span>\n",
       "</pre>\n"
      ],
      "text/plain": [
       "\u001b[95m╭─\u001b[0m\u001b[95m \u001b[0m\u001b[1;35m-------- ESTADÍSTICAS --------\u001b[0m\u001b[95m \u001b[0m\u001b[95m─\u001b[0m\u001b[95m─╮\u001b[0m\n",
       "\u001b[95m│\u001b[0m \u001b[1;36mHola\u001b[0m                              \u001b[95m│\u001b[0m\n",
       "\u001b[95m│\u001b[0m \u001b[1;32mVIDA:\u001b[0m 11/125 \u001b[1;32m█\u001b[0m\u001b[1;31m░░░░░░░░░░░░░░░░░░░\u001b[0m \u001b[95m│\u001b[0m\n",
       "\u001b[95m│\u001b[0m \u001b[1;33mENERGÍA:\u001b[0m \u001b[1;33m■\u001b[0m \u001b[1;33m■\u001b[0m \u001b[2;37m□\u001b[0m \u001b[2;37m□\u001b[0m \u001b[2;37m□\u001b[0m                \u001b[95m│\u001b[0m\n",
       "\u001b[95m│\u001b[0m \u001b[1;31mRECARGAS:\u001b[0m \u001b[1;31m■\u001b[0m                       \u001b[95m│\u001b[0m\n",
       "\u001b[95m╰───────────────────────────────────╯\u001b[0m\n"
      ]
     },
     "metadata": {},
     "output_type": "display_data"
    },
    {
     "data": {
      "text/html": [
       "<pre style=\"white-space:pre;overflow-x:auto;line-height:normal;font-family:Menlo,'DejaVu Sans Mono',consolas,'Courier New',monospace\"><span style=\"color: #800080; text-decoration-color: #800080; font-weight: bold\">Turno de Hola</span>\n",
       "</pre>\n"
      ],
      "text/plain": [
       "\u001b[1;35mTurno de Hola\u001b[0m\n"
      ]
     },
     "metadata": {},
     "output_type": "display_data"
    },
    {
     "data": {
      "text/html": [
       "<pre style=\"white-space:pre;overflow-x:auto;line-height:normal;font-family:Menlo,'DejaVu Sans Mono',consolas,'Courier New',monospace\"><span style=\"color: #008080; text-decoration-color: #008080; font-weight: bold\">1</span>. Atacar\n",
       "<span style=\"color: #008080; text-decoration-color: #008080; font-weight: bold\">2</span>. Recargar Energía\n",
       "<span style=\"color: #008080; text-decoration-color: #008080; font-weight: bold\">3</span>. Recargar Vida\n",
       "<span style=\"color: #008080; text-decoration-color: #008080; font-weight: bold\">4</span>. Obtener Recarga de Vida\n",
       "</pre>\n"
      ],
      "text/plain": [
       "\u001b[1;36m1\u001b[0m. Atacar\n",
       "\u001b[1;36m2\u001b[0m. Recargar Energía\n",
       "\u001b[1;36m3\u001b[0m. Recargar Vida\n",
       "\u001b[1;36m4\u001b[0m. Obtener Recarga de Vida\n"
      ]
     },
     "metadata": {},
     "output_type": "display_data"
    },
    {
     "data": {
      "text/html": [
       "<pre style=\"white-space:pre;overflow-x:auto;line-height:normal;font-family:Menlo,'DejaVu Sans Mono',consolas,'Courier New',monospace\">Elige una acción <span style=\"color: #800080; text-decoration-color: #800080; font-weight: bold\">[1/2/3/4]</span>: </pre>\n"
      ],
      "text/plain": [
       "Elige una acción \u001b[1;35m[1/2/3/4]\u001b[0m: "
      ]
     },
     "metadata": {},
     "output_type": "display_data"
    },
    {
     "data": {
      "text/html": [
       "<pre style=\"white-space:pre;overflow-x:auto;line-height:normal;font-family:Menlo,'DejaVu Sans Mono',consolas,'Courier New',monospace\">¿Cuántas municiones deseas usar (1-3)?: </pre>\n"
      ],
      "text/plain": [
       "¿Cuántas municiones deseas usar (1-3)?: "
      ]
     },
     "metadata": {},
     "output_type": "display_data"
    },
    {
     "data": {
      "text/html": [
       "<pre style=\"white-space:pre;overflow-x:auto;line-height:normal;font-family:Menlo,'DejaVu Sans Mono',consolas,'Courier New',monospace\"><span style=\"color: #808000; text-decoration-color: #808000; font-weight: bold\">Hola realizó un ataque con </span><span style=\"color: #808000; text-decoration-color: #808000; font-weight: bold\">19</span><span style=\"color: #808000; text-decoration-color: #808000; font-weight: bold\"> de daño!</span>\n",
       "</pre>\n"
      ],
      "text/plain": [
       "\u001b[1;33mHola realizó un ataque con \u001b[0m\u001b[1;33m19\u001b[0m\u001b[1;33m de daño!\u001b[0m\n"
      ]
     },
     "metadata": {},
     "output_type": "display_data"
    },
    {
     "data": {
      "text/html": [
       "<pre style=\"white-space:pre;overflow-x:auto;line-height:normal;font-family:Menlo,'DejaVu Sans Mono',consolas,'Courier New',monospace\"><span style=\"color: #008000; text-decoration-color: #008000; font-weight: bold\">Hola ha sido derrotado. ¡Hola gana!</span>\n",
       "</pre>\n"
      ],
      "text/plain": [
       "\u001b[1;32mHola ha sido derrotado. ¡Hola gana!\u001b[0m\n"
      ]
     },
     "metadata": {},
     "output_type": "display_data"
    },
    {
     "data": {
      "text/html": [
       "<pre style=\"white-space:pre;overflow-x:auto;line-height:normal;font-family:Menlo,'DejaVu Sans Mono',consolas,'Courier New',monospace\"><span style=\"color: #808000; text-decoration-color: #808000; background-color: #000000; font-weight: bold\">=== Fin del Juego ===</span>\n",
       "</pre>\n"
      ],
      "text/plain": [
       "\u001b[1;33;40m=== Fin del Juego ===\u001b[0m\n"
      ]
     },
     "metadata": {},
     "output_type": "display_data"
    }
   ],
   "source": [
    "from rich.console import Console\n",
    "from rich.panel import Panel\n",
    "from rich.prompt import Prompt\n",
    "import random\n",
    "\n",
    "# Crear consola Rich\n",
    "console = Console()\n",
    "\n",
    "def mostrar_estado(jugador, vida, energia, recargas):\n",
    "    \"\"\"Muestra el estado del jugador con barras visuales mejoradas y colores vibrantes.\"\"\"\n",
    "    vida_barra = \"[bold green]\" + \"█\" * max(vida // 6, 0) + \"[/bold green]\" + \"[bold red]\" + \"░\" * max(20 - vida // 6, 0) + \"[/bold red]\"\n",
    "    energia_barra = \"[bold yellow]■[/bold yellow] \" * energia + \"[dim white]□[/dim white] \" * (5 - energia)\n",
    "    recargas_barra = \"[bold red]■[/bold red]\" if recargas > 0 else \"[dim white]□[/dim white]\"\n",
    "\n",
    "    console.print(Panel.fit(\n",
    "        f\"[cyan bold]{jugador}[/cyan bold]\\n\"\n",
    "        f\"[green bold]VIDA:[/green bold] {vida}/125 {vida_barra}\\n\"\n",
    "        f\"[yellow bold]ENERGÍA:[/yellow bold] {energia_barra}\\n\"\n",
    "        f\"[red bold]RECARGAS:[/red bold] {recargas_barra}\",\n",
    "        title=f\"[magenta bold]{' ESTADÍSTICAS ':-^30}[/magenta bold]\",\n",
    "        border_style=\"bright_magenta\"\n",
    "    ))\n",
    "\n",
    "def atacar(jugador, energia, municiones):\n",
    "    \"\"\"Realiza un ataque y reduce la energía del jugador.\"\"\"\n",
    "    if energia <= 0:\n",
    "        console.print(f\"[red bold]{jugador} no tiene suficiente energía para atacar![/red bold]\")\n",
    "        return 0, energia\n",
    "\n",
    "    if municiones not in [1, 2, 3]:\n",
    "        console.print(f\"[red bold]Cantidad de municiones inválida. Debe ser entre 1 y 3.[/red bold]\")\n",
    "        return 0, energia\n",
    "\n",
    "    if energia < municiones:\n",
    "        console.print(f\"[red bold]{jugador} no tiene suficiente energía para usar {municiones} municiones![/red bold]\")\n",
    "        return 0, energia\n",
    "\n",
    "    energia -= municiones\n",
    "    if municiones == 1:\n",
    "        dano = random.randint(1, 20)\n",
    "    elif municiones == 2:\n",
    "        dano = random.randint(1, 18) * 2\n",
    "    elif municiones == 3:\n",
    "        dano = random.randint(1, 15) * 3\n",
    "\n",
    "    console.print(f\"[yellow bold]{jugador} realizó un ataque con {dano} de daño![/yellow bold]\")\n",
    "    return dano, energia\n",
    "\n",
    "def recargar_energia(jugador, energia):\n",
    "    \"\"\"Recarga energía del jugador.\"\"\"\n",
    "    if energia >= 5:\n",
    "        console.print(f\"[red bold]{jugador} ya tiene la energía máxima![/red bold]\")\n",
    "        return energia\n",
    "\n",
    "    recarga = random.randint(1, 2)\n",
    "    energia = min(energia + recarga, 5)\n",
    "    console.print(f\"[yellow bold]{jugador} recarga {recarga} de energía.[/yellow bold]\")\n",
    "    return energia\n",
    "\n",
    "def recargar_vida(jugador, vida, recargas):\n",
    "    \"\"\"Recarga vida del jugador si tiene recargas disponibles.\"\"\"\n",
    "    if recargas <= 0:\n",
    "        console.print(f\"[red bold]{jugador} no tiene recargas de vida disponibles![/red bold]\")\n",
    "        return vida, recargas\n",
    "\n",
    "    vida_extra = random.randint(1, 15)\n",
    "    vida = min(vida + vida_extra, 125)\n",
    "    recargas -= 1\n",
    "    console.print(f\"[green bold]{jugador} recupera {vida_extra} puntos de vida.[/green bold]\")\n",
    "    return vida, recargas\n",
    "\n",
    "def obtener_recarga(jugador, recargas):\n",
    "    \"\"\"Otorga una recarga de vida al jugador si es exitoso.\"\"\"\n",
    "    if recargas >= 1:\n",
    "        console.print(f\"[red bold]{jugador} ya tiene una recarga disponible![/red bold]\")\n",
    "        return recargas\n",
    "\n",
    "    exito = random.choice([True, False])\n",
    "    if exito:\n",
    "        recargas += 1\n",
    "        console.print(f\"[green bold]¡{jugador} ha obtenido una recarga de vida![/green bold]\")\n",
    "    else:\n",
    "        console.print(f\"[red bold]{jugador} no logró obtener una recarga de vida.[/red bold]\")\n",
    "    return recargas\n",
    "\n",
    "def juego_batalla_tactica():\n",
    "    \"\"\"Juego principal de la batalla táctica.\"\"\"\n",
    "    console.print(\"[yellow bold on black]=== Batalla Táctica ===[/yellow bold on black]\")\n",
    "    jugador1 = Prompt.ask(\"[bold cyan]Nombre del Jugador 1[/bold cyan]\")\n",
    "    jugador2 = Prompt.ask(\"[bold cyan]Nombre del Jugador 2[/bold cyan]\")\n",
    "\n",
    "    vida1, energia1, recargas1 = 100, 3, 1\n",
    "    vida2, energia2, recargas2 = 100, 3, 1\n",
    "\n",
    "    while vida1 > 0 and vida2 > 0:\n",
    "        mostrar_estado(jugador1, vida1, energia1, recargas1)\n",
    "        mostrar_estado(jugador2, vida2, energia2, recargas2)\n",
    "\n",
    "        # Turno del jugador 1\n",
    "        console.print(f\"[magenta bold]Turno de {jugador1}[/magenta bold]\")\n",
    "        console.print(\"1. Atacar\\n2. Recargar Energía\\n3. Recargar Vida\\n4. Obtener Recarga de Vida\")\n",
    "        accion = Prompt.ask(\"Elige una acción\", choices=[\"1\", \"2\", \"3\", \"4\"])\n",
    "\n",
    "        if accion == \"1\":\n",
    "            try:\n",
    "                municiones = int(Prompt.ask(\"¿Cuántas municiones deseas usar (1-3)?\"))\n",
    "                ataque, energia1 = atacar(jugador1, energia1, municiones)\n",
    "                vida2 -= ataque\n",
    "            except ValueError:\n",
    "                console.print(\"[red bold]Entrada inválida. Debes ingresar un número válido.[/red bold]\")\n",
    "        elif accion == \"2\":\n",
    "            energia1 = recargar_energia(jugador1, energia1)\n",
    "        elif accion == \"3\":\n",
    "            vida1, recargas1 = recargar_vida(jugador1, vida1, recargas1)\n",
    "        elif accion == \"4\":\n",
    "            recargas1 = obtener_recarga(jugador1, recargas1)\n",
    "\n",
    "        if vida2 <= 0:\n",
    "            console.print(f\"[green bold]{jugador2} ha sido derrotado. ¡{jugador1} gana![/green bold]\")\n",
    "            break\n",
    "\n",
    "        # Turno del jugador 2\n",
    "        console.print(f\"[magenta bold]Turno de {jugador2}[/magenta bold]\")\n",
    "        console.print(\"1. Atacar\\n2. Recargar Energía\\n3. Recargar Vida\\n4. Obtener Recarga de Vida\")\n",
    "        accion = Prompt.ask(\"Elige una acción\", choices=[\"1\", \"2\", \"3\", \"4\"])\n",
    "\n",
    "        if accion == \"1\":\n",
    "            try:\n",
    "                municiones = int(Prompt.ask(\"¿Cuántas municiones deseas usar (1-3)?\"))\n",
    "                ataque, energia2 = atacar(jugador2, energia2, municiones)\n",
    "                vida1 -= ataque\n",
    "            except ValueError:\n",
    "                console.print(\"[red bold]Entrada inválida. Debes ingresar un número válido.[/red bold]\")\n",
    "        elif accion == \"2\":\n",
    "            energia2 = recargar_energia(jugador2, energia2)\n",
    "        elif accion == \"3\":\n",
    "            vida2, recargas2 = recargar_vida(jugador2, vida2, recargas2)\n",
    "        elif accion == \"4\":\n",
    "            recargas2 = obtener_recarga(jugador2, recargas2)\n",
    "\n",
    "        if vida1 <= 0:\n",
    "            console.print(f\"[green bold]{jugador1} ha sido derrotado. ¡{jugador2} gana![/green bold]\")\n",
    "            break\n",
    "\n",
    "    console.print(\"[yellow bold on black]=== Fin del Juego ===[/yellow bold on black]\")\n",
    "\n",
    "if __name__ == \"__main__\":\n",
    "    juego_batalla_tactica()"
   ]
  }
 ],
 "metadata": {
  "kernelspec": {
   "display_name": "Python 3",
   "language": "python",
   "name": "python3"
  },
  "language_info": {
   "codemirror_mode": {
    "name": "ipython",
    "version": 3
   },
   "file_extension": ".py",
   "mimetype": "text/x-python",
   "name": "python",
   "nbconvert_exporter": "python",
   "pygments_lexer": "ipython3",
   "version": "3.13.7"
  }
 },
 "nbformat": 4,
 "nbformat_minor": 5
}
