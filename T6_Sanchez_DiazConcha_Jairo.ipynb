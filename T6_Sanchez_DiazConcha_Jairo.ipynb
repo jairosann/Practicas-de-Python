{
 "cells": [
  {
   "cell_type": "markdown",
   "id": "b7525c3c",
   "metadata": {},
   "source": [
    "1. Pide al usuario un número entero y muestra si es par o impar."
   ]
  },
  {
   "cell_type": "code",
   "execution_count": null,
   "id": "5c1a6acd",
   "metadata": {},
   "outputs": [
    {
     "name": "stdout",
     "output_type": "stream",
     "text": [
      "El número 4 es par\n"
     ]
    }
   ],
   "source": [
    "# se pide un numero al usuario y se establece si ese numero es par o impar con el resto de la division de ese numero entre 2\n",
    "num = int(input('Establece un número entero: '))\n",
    "if num % 2 == 0:\n",
    "    print(f'El número {num} es par')\n",
    "else:\n",
    "    print(f'El número {num} es impar')"
   ]
  },
  {
   "cell_type": "markdown",
   "id": "1da20b43",
   "metadata": {},
   "source": [
    "2. Pide al usuario su edad y clasifícala en niño (0–12), adolescente (13–17),\n",
    "adulto (18–64) o adulto mayor (65+)."
   ]
  },
  {
   "cell_type": "code",
   "execution_count": null,
   "id": "0be64bc4",
   "metadata": {},
   "outputs": [
    {
     "name": "stdout",
     "output_type": "stream",
     "text": [
      "Eres un adulto\n"
     ]
    }
   ],
   "source": [
    "edad = int(input('Introduce tu edad: '))\n",
    "if edad >= 0 and edad <= 12:\n",
    "    print('Eres un niño')\n",
    "elif edad <= 17:\n",
    "    print('Eres un adolescente')\n",
    "elif edad <= 64:\n",
    "    print('Eres un adulto')\n",
    "else:\n",
    "    print('Eres un adulto mayor')"
   ]
  },
  {
   "cell_type": "markdown",
   "id": "6c819c2f",
   "metadata": {},
   "source": [
    "3. Encuentra el mayor de tres números introducidos por consola."
   ]
  },
  {
   "cell_type": "code",
   "execution_count": null,
   "id": "c4131c7b",
   "metadata": {},
   "outputs": [
    {
     "name": "stdout",
     "output_type": "stream",
     "text": [
      "2.0 3.0 3.0\n",
      "el 3.0 es el número mayor\n"
     ]
    }
   ],
   "source": [
    "# Pedimos al usuario 3 numeros y vemos cual es mayor de los 3\n",
    "n1 = float(input('Introduce un numero cualquiera: '))\n",
    "n2 = float(input('Introduce otro número cualquiera: '))\n",
    "n3 = float(input('Introduce otro número cualquiera: '))\n",
    "print(n1, n2, n3)\n",
    "if n1 >= n2 and n1 >= n3:\n",
    "    print(f'el {n1} es el número mayor')\n",
    "elif n2 >= n1 and n2 >= n3:\n",
    "    print(f'el {n2} es el número mayor')\n",
    "elif n3 >= n2 and n3 >= n1:\n",
    "    print(f'el {n3} es el número mayor')\n",
    "\n"
   ]
  },
  {
   "cell_type": "markdown",
   "id": "ad623348",
   "metadata": {},
   "source": [
    "4. Pide una palabra al usuario y muestra cuántas vocales contiene."
   ]
  },
  {
   "cell_type": "code",
   "execution_count": null,
   "id": "7b86a440",
   "metadata": {},
   "outputs": [
    {
     "name": "stdout",
     "output_type": "stream",
     "text": [
      "hola\n",
      "hay 1 a\n",
      "hay 0 e\n",
      "hay 0 i\n",
      "hay 1 o\n",
      "hay 0 u\n"
     ]
    }
   ],
   "source": [
    "# Pedimos al usuario una cualquiera y contamos el numero de vocales que hay\n",
    "palabra = input('Pon una palabra cualquiera: ')\n",
    "print(palabra)\n",
    "print(f'hay {palabra.count('a')} a')\n",
    "print(f'hay {palabra.count('e')} e')\n",
    "print(f'hay {palabra.count('i')} i')\n",
    "print(f'hay {palabra.count('o')} o')\n",
    "print(f'hay {palabra.count('u')} u')"
   ]
  },
  {
   "cell_type": "markdown",
   "id": "bb4bcf55",
   "metadata": {},
   "source": [
    "5. Pide un número entero. Si es positivo, imprime del 1 al número. Si es\n",
    "negativo, imprime desde el número hasta -1."
   ]
  },
  {
   "cell_type": "code",
   "execution_count": null,
   "id": "b7920044",
   "metadata": {},
   "outputs": [
    {
     "name": "stdout",
     "output_type": "stream",
     "text": [
      "-3\n",
      "-2\n",
      "-1\n"
     ]
    }
   ],
   "source": [
    "# Pedimos el numero y determinamos si es positivo o negativo y según como sea creamos un bucle for para imprimir todos los numeros desde 1 hasta n1 o desde n1 hasta 0 \n",
    "n1 = int(input('Establece un número entero: '))\n",
    "if n1 > 0:\n",
    "    for i in range(1, n1 + 1):\n",
    "        print(i)\n",
    "elif n1 < 0:\n",
    "    for i in range (n1, 0):\n",
    "        print(i)"
   ]
  },
  {
   "cell_type": "markdown",
   "id": "fa1b95f0",
   "metadata": {},
   "source": [
    "Pide al usuario una lista de número6. s y muestra la suma de los positivos."
   ]
  },
  {
   "cell_type": "code",
   "execution_count": null,
   "id": "7b502e4d",
   "metadata": {},
   "outputs": [
    {
     "name": "stdout",
     "output_type": "stream",
     "text": [
      "[4, -3, 5]\n",
      "[4, 5]\n",
      "La suma de los números positivos de la lista es 9\n"
     ]
    }
   ],
   "source": [
    "# Pedimos al usuario una lisya a su gusto\n",
    "listaNum = []\n",
    "nElementos = int(input('¿Cuántos elementos quieres añadir?'))\n",
    "for i in range(1, nElementos + 1):\n",
    "    elemento = int(input('Establece un número cualquiera: '))\n",
    "    listaNum.append(elemento)\n",
    "print(listaNum)\n",
    "\n",
    "# Creamos dos listas vacias y los numeros positivos los metemos en una lista y los negativos en la otra\n",
    "listaPos = []\n",
    "listaRest = []\n",
    "for i in listaNum:\n",
    "    if i > 0:\n",
    "        listaPos.append(i)\n",
    "    else:\n",
    "        listaRest.append(i)\n",
    "print(listaPos)\n",
    "# Finalmente hacemos el sumatorio de los numeros positivos de la lista en la que hemos metido los numeros positivos\n",
    "print(f'La suma de los números positivos de la lista es {sum(listaPos)}')"
   ]
  },
  {
   "cell_type": "markdown",
   "id": "94d17567",
   "metadata": {},
   "source": [
    "7. Pide al usuario una lista de palabras y muestra solo aquellas que tienen más\n",
    "de 5 letras."
   ]
  },
  {
   "cell_type": "code",
   "execution_count": null,
   "id": "a0f4a026",
   "metadata": {},
   "outputs": [
    {
     "name": "stdout",
     "output_type": "stream",
     "text": [
      "['hola', 'python', 'mundos']\n",
      "['python', 'mundos']\n"
     ]
    }
   ],
   "source": [
    "# Creamos una lista a gusto del usuario\n",
    "listaPalabras = []\n",
    "listaPalabrasLargas = []\n",
    "nElementos = int(input('¿Cuántos elementos quieres añadir a la lista'))\n",
    "for i in range(1, nElementos + 1):\n",
    "    elemento = input('Establece una palabra cualquiera: ')\n",
    "    listaPalabras.append(elemento)\n",
    "print(listaPalabras)\n",
    "\n",
    "# Evaluamos cuales son las palabras con mas de 5 letras\n",
    "for i in listaPalabras:\n",
    "    if len(i) > 5:\n",
    "        listaPalabrasLargas.append(i)\n",
    "print(listaPalabrasLargas)"
   ]
  },
  {
   "cell_type": "markdown",
   "id": "2b6efe25",
   "metadata": {},
   "source": [
    "8. Pide una frase al usuario y muestra cuántas veces aparece cada letra (ignora\n",
    "espacios y mayúsculas)."
   ]
  },
  {
   "cell_type": "code",
   "execution_count": null,
   "id": "450b7012",
   "metadata": {},
   "outputs": [
    {
     "name": "stdout",
     "output_type": "stream",
     "text": [
      "h: 1\n",
      "o: 1\n",
      "l: 2\n",
      "a: 2\n",
      "q: 1\n",
      "u: 1\n",
      "e: 1\n",
      "t: 1\n"
     ]
    }
   ],
   "source": [
    "# Pedimos la frase e ignoramos espacios y mayusculas\n",
    "frase = input(\"Introduce una frase: \").lower().replace(\" \", \"\")\n",
    "conteo = {}\n",
    "\n",
    "# Contamos cuantas veces aparece cada letra\n",
    "for letra in frase:\n",
    "    conteo[letra] = conteo.get(letra, 0) + 1\n",
    "\n",
    "# metemos la letra y la cantidad de veces que aparece en un diccionario\n",
    "for letra, cantidad in conteo.items():\n",
    "    print(f\"{letra}: {cantidad}\")"
   ]
  },
  {
   "cell_type": "markdown",
   "id": "69be3095",
   "metadata": {},
   "source": [
    "9. Pide al usuario un número entero positivo y calcula su factorial usando un\n",
    "bucle."
   ]
  },
  {
   "cell_type": "code",
   "execution_count": null,
   "id": "dd41adca",
   "metadata": {},
   "outputs": [
    {
     "name": "stdout",
     "output_type": "stream",
     "text": [
      "el factorial de 10 es 3628800\n"
     ]
    }
   ],
   "source": [
    "n = int(input('Introduce un número entero: '))\n",
    "\n",
    "# inicializamos el factorial en 1 ya que vamos subiendo la i\n",
    "factorial = 1\n",
    "\n",
    "# Creamos el bucle e imprimimos el resultado\n",
    "for i in range(1, n + 1):\n",
    "    factorial *= i \n",
    "    \n",
    "print(f'el factorial de {n} es {factorial}')\n"
   ]
  },
  {
   "cell_type": "markdown",
   "id": "fef4e69e",
   "metadata": {},
   "source": [
    "10. Pide al usuario un número entero positivo n e imprime los primeros n\n",
    "números de la serie de Fibonacci. Serie: 0, 1, 1, 2, 3, 5, 8, 13..."
   ]
  },
  {
   "cell_type": "code",
   "execution_count": null,
   "id": "4d07d75a",
   "metadata": {},
   "outputs": [
    {
     "name": "stdout",
     "output_type": "stream",
     "text": [
      "0 1 1 2 3 "
     ]
    }
   ],
   "source": [
    "n = int(input(\"Introduce un número entero positivo: \"))\n",
    "\n",
    "# Establecemos los dos primeros terminos de la sucesion\n",
    "a, b = 0, 1\n",
    "\n",
    "# Establecemos una recurrencia para el termino anterior\n",
    "for i in range(n):\n",
    "    print(a, end=\" \")\n",
    "    a, b = b, a + b\n"
   ]
  },
  {
   "cell_type": "markdown",
   "id": "a7e7df68",
   "metadata": {},
   "source": [
    "11. Dado un diccionario con nombres como claves y listas de notas como\n",
    "valores, muestra el promedio de cada estudiante y si aprueba (≥5)."
   ]
  },
  {
   "cell_type": "code",
   "execution_count": null,
   "id": "6c57ab16",
   "metadata": {},
   "outputs": [
    {
     "name": "stdout",
     "output_type": "stream",
     "text": [
      "Jairo, has aprobado con un promedio de 6.67\n",
      "López, has aprobado con un promedio de 5.00\n",
      "Ángel, has suspendido con un promedio de 3.00\n"
     ]
    }
   ],
   "source": [
    "\n",
    "# Creamos un diccionario con las notas\n",
    "d = {\n",
    "    'Jairo': [4, 7, 9],\n",
    "    'López': [3, 5, 7],\n",
    "    'Ángel': [2, 3, 4]\n",
    "}\n",
    "\n",
    "# Recorremos el diccionario y comprobamos el promedio de cada uno determinando si a aprobado o ha suspendido\n",
    "for nombre, notas in d.items():\n",
    "    prom = sum(notas) / len(notas)\n",
    "    if prom >= 5:\n",
    "        print(f'{nombre}, has aprobado con un promedio de {prom:.2f}')\n",
    "    else:\n",
    "        print(f'{nombre}, has suspendido con un promedio de {prom:.2f}')"
   ]
  },
  {
   "cell_type": "markdown",
   "id": "c7df79ba",
   "metadata": {},
   "source": [
    "12. Pide una palabra o frase y verifica si es un palíndromo (se lee igual de\n",
    "derecha a izquierda que viceversa). Ignora espacios, mayúsculas y signos de\n",
    "puntuación."
   ]
  },
  {
   "cell_type": "code",
   "execution_count": null,
   "id": "a90e9969",
   "metadata": {},
   "outputs": [
    {
     "name": "stdout",
     "output_type": "stream",
     "text": [
      " es un palíndromo\n"
     ]
    }
   ],
   "source": [
    "frase = input('Establece una frase o palabra: ').lower().replace(' ', '').replace('á', 'a').replace('é', 'e').replace('í', 'i').replace('ó', 'o').replace('ú', 'u').replace('.', '').replace(',', '') # Pedimos al usuario una frase e ignoramos espacios mayusculas y signos de puntuacion\n",
    "\n",
    "fraseReves = frase[::-1] # Damos la vuelta a la frase \n",
    "\n",
    "# Comprobamos si son iguales\n",
    "if frase == fraseReves:\n",
    "    print(f'{frase} es un palíndromo')\n",
    "else:\n",
    "    print(f'{frase} no es un palíndromo')\n"
   ]
  },
  {
   "cell_type": "markdown",
   "id": "3e9749b2",
   "metadata": {},
   "source": [
    "13. Simula un cajero automático. Pide un saldo inicial y crea un menú que\n",
    "permita al usuario hacer depósitos y retiros. No debe permitir retirar más de\n",
    "lo disponible."
   ]
  },
  {
   "cell_type": "code",
   "execution_count": null,
   "id": "222d46a9",
   "metadata": {},
   "outputs": [
    {
     "name": "stdout",
     "output_type": "stream",
     "text": [
      "\n",
      "    (1) Depositar dinero\n",
      "    (2) Retirar dinero \n",
      "    (3) Mostrar saldo\n",
      "    (4) Salir del cajero\n",
      "\n",
      "Has retirado 75.0€\n",
      "Tú saldo actual es 25.0€\n",
      "\n",
      "    (1) Depositar dinero\n",
      "    (2) Retirar dinero \n",
      "    (3) Mostrar saldo\n",
      "    (4) Salir del cajero\n",
      "\n",
      "no puedes retirar 34.0€ ya que tu saldo es de 25.0€\n",
      "\n",
      "    (1) Depositar dinero\n",
      "    (2) Retirar dinero \n",
      "    (3) Mostrar saldo\n",
      "    (4) Salir del cajero\n",
      "\n",
      "Tú saldo actual es 25.0€\n",
      "\n",
      "    (1) Depositar dinero\n",
      "    (2) Retirar dinero \n",
      "    (3) Mostrar saldo\n",
      "    (4) Salir del cajero\n",
      "\n",
      "Has depositado 105.0€\n",
      "Tú saldo actual es 130.0€\n",
      "\n",
      "    (1) Depositar dinero\n",
      "    (2) Retirar dinero \n",
      "    (3) Mostrar saldo\n",
      "    (4) Salir del cajero\n",
      "\n",
      "Has retirado 130.0€\n",
      "Tú saldo actual es 0.0€\n",
      "\n",
      "    (1) Depositar dinero\n",
      "    (2) Retirar dinero \n",
      "    (3) Mostrar saldo\n",
      "    (4) Salir del cajero\n",
      "\n",
      "Has salido del cajero\n"
     ]
    }
   ],
   "source": [
    "# Pedimos el saldo y creamos el menú\n",
    "saldo = float(input('Introduce tu saldo inicial: '))\n",
    "cajeroAutomatico = \"\"\"\n",
    "    (1) Depositar dinero\n",
    "    (2) Retirar dinero \n",
    "    (3) Mostrar saldo\n",
    "    (4) Salir del cajero\n",
    "\"\"\"\n",
    "\n",
    "# Creamos un bucle infinito con las distintas opciones que nos encontramos\n",
    "while True:\n",
    "    print(cajeroAutomatico)\n",
    "    eleccion = int(input('Introduce una opcion [1/2/3/4]: '))\n",
    "\n",
    "    if eleccion == 1:\n",
    "        depositar = float(input('Introduce la cantidad de dinero que deseas depositar: '))\n",
    "        saldo = saldo + depositar\n",
    "        print(f'Has depositado {depositar}€')\n",
    "        print(f'Tú saldo actual es {saldo}€')\n",
    "\n",
    "    elif eleccion == 2: \n",
    "        retirar = float(input('Introduce la cantidad de dinero que deseas retirar: ')) \n",
    "        # Si el saldo es menor que lo que se quiere retirar no te deja y te devuelve al menú de inicio\n",
    "        if retirar > saldo: \n",
    "            print(f'no puedes retirar {retirar}€ ya que tu saldo es de {saldo}€') \n",
    "            continue \n",
    "        else: \n",
    "            saldo -= retirar\n",
    "            print(f'Has retirado {retirar}€') \n",
    "            print(f'Tú saldo actual es {saldo}€')\n",
    "\n",
    "    elif eleccion == 3:  \n",
    "        print(f'Tú saldo actual es {saldo}€')\n",
    "\n",
    "    elif eleccion == 4:\n",
    "        print('Has salido del cajero')\n",
    "        break\n",
    "\n",
    "    else:\n",
    "        print(f'debes elegir otra opción, {eleccion} no es una opción valida')\n",
    "        continue\n"
   ]
  }
 ],
 "metadata": {
  "kernelspec": {
   "display_name": "Python 3",
   "language": "python",
   "name": "python3"
  },
  "language_info": {
   "codemirror_mode": {
    "name": "ipython",
    "version": 3
   },
   "file_extension": ".py",
   "mimetype": "text/x-python",
   "name": "python",
   "nbconvert_exporter": "python",
   "pygments_lexer": "ipython3",
   "version": "3.13.7"
  }
 },
 "nbformat": 4,
 "nbformat_minor": 5
}
