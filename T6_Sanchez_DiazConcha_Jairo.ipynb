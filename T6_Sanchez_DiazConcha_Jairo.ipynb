{
 "cells": [
  {
   "cell_type": "markdown",
   "id": "b7525c3c",
   "metadata": {},
   "source": [
    "1. Pide al usuario un número entero y muestra si es par o impar."
   ]
  },
  {
   "cell_type": "code",
   "execution_count": 2,
   "id": "5c1a6acd",
   "metadata": {},
   "outputs": [
    {
     "name": "stdout",
     "output_type": "stream",
     "text": [
      "El número 4 es par\n"
     ]
    }
   ],
   "source": [
    "num = int(input('Establece un número entero: '))\n",
    "if num % 2 == 0:\n",
    "    print(f'El número {num} es par')\n",
    "else:\n",
    "    print(f'El número {num} es impar')"
   ]
  },
  {
   "cell_type": "markdown",
   "id": "1da20b43",
   "metadata": {},
   "source": [
    "2. Pide al usuario su edad y clasifícala en niño (0–12), adolescente (13–17),\n",
    "adulto (18–64) o adulto mayor (65+)."
   ]
  },
  {
   "cell_type": "code",
   "execution_count": 8,
   "id": "0be64bc4",
   "metadata": {},
   "outputs": [
    {
     "name": "stdout",
     "output_type": "stream",
     "text": [
      "Eres un adulto\n"
     ]
    }
   ],
   "source": [
    "edad = int(input('Introduce tu edad: '))\n",
    "if edad >= 0 and edad <= 12:\n",
    "    print('Eres un niño')\n",
    "elif edad <= 17:\n",
    "    print('Eres un adolescente')\n",
    "elif edad <= 64:\n",
    "    print('Eres un adulto')\n",
    "else:\n",
    "    print('Eres un adulto mayor')"
   ]
  },
  {
   "cell_type": "markdown",
   "id": "6c819c2f",
   "metadata": {},
   "source": [
    "3. Encuentra el mayor de tres números introducidos por consola."
   ]
  },
  {
   "cell_type": "code",
   "execution_count": 13,
   "id": "c4131c7b",
   "metadata": {},
   "outputs": [
    {
     "name": "stdout",
     "output_type": "stream",
     "text": [
      "2.0 3.0 3.0\n",
      "el 3.0 es el número mayor\n"
     ]
    }
   ],
   "source": [
    "n1 = float(input('Introduce un numero cualquiera: '))\n",
    "n2 = float(input('Introduce otro número cualquiera: '))\n",
    "n3 = float(input('Introduce otro número cualquiera: '))\n",
    "print(n1, n2, n3)\n",
    "if n1 >= n2 and n1 >= n3:\n",
    "    print(f'el {n1} es el número mayor')\n",
    "elif n2 >= n1 and n2 >= n3:\n",
    "    print(f'el {n2} es el número mayor')\n",
    "elif n3 >= n2 and n3 >= n1:\n",
    "    print(f'el {n3} es el número mayor')\n",
    "\n"
   ]
  },
  {
   "cell_type": "markdown",
   "id": "ad623348",
   "metadata": {},
   "source": [
    "4. Pide una palabra al usuario y muestra cuántas vocales contiene."
   ]
  },
  {
   "cell_type": "code",
   "execution_count": 23,
   "id": "7b86a440",
   "metadata": {},
   "outputs": [
    {
     "name": "stdout",
     "output_type": "stream",
     "text": [
      "hola\n",
      "hay 1 a\n",
      "hay 0 e\n",
      "hay 0 i\n",
      "hay 1 o\n",
      "hay 0 u\n"
     ]
    }
   ],
   "source": [
    "palabra = input('Pon una palabra cualquiera: ')\n",
    "print(palabra)\n",
    "print(f'hay {palabra.count('a')} a')\n",
    "print(f'hay {palabra.count('e')} e')\n",
    "print(f'hay {palabra.count('i')} i')\n",
    "print(f'hay {palabra.count('o')} o')\n",
    "print(f'hay {palabra.count('u')} u')"
   ]
  },
  {
   "cell_type": "markdown",
   "id": "bb4bcf55",
   "metadata": {},
   "source": [
    "5. Pide un número entero. Si es positivo, imprime del 1 al número. Si es\n",
    "negativo, imprime desde el número hasta -1."
   ]
  },
  {
   "cell_type": "code",
   "execution_count": null,
   "id": "b7920044",
   "metadata": {},
   "outputs": [
    {
     "name": "stdout",
     "output_type": "stream",
     "text": [
      "-3\n",
      "-2\n",
      "-1\n"
     ]
    }
   ],
   "source": [
    "n1 = int(input('Establece un número entero: '))\n",
    "if n1 > 0:\n",
    "    for i in range(1, n1 + 1):\n",
    "        print(i)\n",
    "elif n1 < 0:\n",
    "    for i in range (n1, 0):\n",
    "        print(i)"
   ]
  },
  {
   "cell_type": "markdown",
   "id": "fa1b95f0",
   "metadata": {},
   "source": [
    "Pide al usuario una lista de número6. s y muestra la suma de los positivos."
   ]
  },
  {
   "cell_type": "code",
   "execution_count": 37,
   "id": "7b502e4d",
   "metadata": {},
   "outputs": [
    {
     "name": "stdout",
     "output_type": "stream",
     "text": [
      "[4, -3, 5]\n",
      "[4, 5]\n",
      "La suma de los números positivos de la lista es 9\n"
     ]
    }
   ],
   "source": [
    "listaNum = []\n",
    "nElementos = int(input('¿Cuántos elementos quieres añadir?'))\n",
    "for i in range(1, nElementos + 1):\n",
    "    elemento = int(input('Establece un número cualquiera: '))\n",
    "    listaNum.append(elemento)\n",
    "print(listaNum)\n",
    "listaPos = []\n",
    "listaRest = []\n",
    "for i in listaNum:\n",
    "    if i > 0:\n",
    "        listaPos.append(i)\n",
    "    else:\n",
    "        listaRest.append(i)\n",
    "print(listaPos)\n",
    "print(f'La suma de los números positivos de la lista es {sum(listaPos)}')"
   ]
  },
  {
   "cell_type": "markdown",
   "id": "94d17567",
   "metadata": {},
   "source": [
    "7. Pide al usuario una lista de palabras y muestra solo aquellas que tienen más\n",
    "de 5 letras."
   ]
  },
  {
   "cell_type": "code",
   "execution_count": 42,
   "id": "a0f4a026",
   "metadata": {},
   "outputs": [
    {
     "name": "stdout",
     "output_type": "stream",
     "text": [
      "['hola', 'adios', 'molon']\n",
      "['adios', 'molon']\n"
     ]
    }
   ],
   "source": [
    "listaPalabras = []\n",
    "listaPalabrasLargas = []\n",
    "nElementos = int(input('¿Cuántos elementos quieres añadir?: '))\n",
    "for i in range(1, nElementos + 1):\n",
    "    elemento = input('Establece una palabra cualquiera: ')\n",
    "    listaPalabras.append(elemento)\n",
    "print(listaPalabras)\n",
    "for i in listaPalabras:\n",
    "    if len(i) >= 5:\n",
    "        listaPalabrasLargas.append(i)\n",
    "print(listaPalabrasLargas)"
   ]
  },
  {
   "cell_type": "markdown",
   "id": "2b6efe25",
   "metadata": {},
   "source": [
    "8. Pide una frase al usuario y muestra cuántas veces aparece cada letra (ignora\n",
    "espacios y mayúsculas)."
   ]
  },
  {
   "cell_type": "code",
   "execution_count": null,
   "id": "450b7012",
   "metadata": {},
   "outputs": [
    {
     "name": "stdout",
     "output_type": "stream",
     "text": [
      "['hola', 'que', 'tal']\n"
     ]
    }
   ],
   "source": [
    "listaFrase = input('Establece una frase cualquiera: ').lower().split()\n",
    "print(listaFrase)"
   ]
  },
  {
   "cell_type": "markdown",
   "id": "69be3095",
   "metadata": {},
   "source": [
    "9. Pide al usuario un número entero positivo y calcula su factorial usando un\n",
    "bucle."
   ]
  },
  {
   "cell_type": "code",
   "execution_count": null,
   "id": "dd41adca",
   "metadata": {},
   "outputs": [],
   "source": []
  },
  {
   "cell_type": "markdown",
   "id": "fef4e69e",
   "metadata": {},
   "source": []
  },
  {
   "cell_type": "code",
   "execution_count": null,
   "id": "4d07d75a",
   "metadata": {},
   "outputs": [],
   "source": []
  },
  {
   "cell_type": "markdown",
   "id": "a7e7df68",
   "metadata": {},
   "source": [
    "11. Dado un diccionario con nombres como claves y listas de notas como\n",
    "valores, muestra el promedio de cada estudiante y si aprueba (≥5)."
   ]
  },
  {
   "cell_type": "code",
   "execution_count": null,
   "id": "6c57ab16",
   "metadata": {},
   "outputs": [],
   "source": []
  },
  {
   "cell_type": "markdown",
   "id": "c7df79ba",
   "metadata": {},
   "source": [
    "12. Pide una palabra o frase y verifica si es un palíndromo (se lee igual de\n",
    "derecha a izquierda que viceversa). Ignora espacios, mayúsculas y signos de\n",
    "puntuación."
   ]
  },
  {
   "cell_type": "code",
   "execution_count": null,
   "id": "a90e9969",
   "metadata": {},
   "outputs": [],
   "source": []
  },
  {
   "cell_type": "markdown",
   "id": "3e9749b2",
   "metadata": {},
   "source": [
    "13. Simula un cajero automático. Pide un saldo inicial y crea un menú que\n",
    "permita al usuario hacer depósitos y retiros. No debe permitir retirar más de\n",
    "lo disponible."
   ]
  },
  {
   "cell_type": "code",
   "execution_count": null,
   "id": "222d46a9",
   "metadata": {},
   "outputs": [],
   "source": []
  }
 ],
 "metadata": {
  "kernelspec": {
   "display_name": "Python 3",
   "language": "python",
   "name": "python3"
  },
  "language_info": {
   "codemirror_mode": {
    "name": "ipython",
    "version": 3
   },
   "file_extension": ".py",
   "mimetype": "text/x-python",
   "name": "python",
   "nbconvert_exporter": "python",
   "pygments_lexer": "ipython3",
   "version": "3.13.7"
  }
 },
 "nbformat": 4,
 "nbformat_minor": 5
}
