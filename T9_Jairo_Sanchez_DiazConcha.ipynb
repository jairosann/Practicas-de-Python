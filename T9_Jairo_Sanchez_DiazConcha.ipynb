{
 "cells": [
  {
   "cell_type": "markdown",
   "id": "e230582c",
   "metadata": {},
   "source": [
    "1. Escribe una función que reciba dos números y devuelva el resultado de la\n",
    "división. Usa un bloque try-except para capturar la división por cero."
   ]
  },
  {
   "cell_type": "code",
   "execution_count": 4,
   "id": "108246cb",
   "metadata": {},
   "outputs": [
    {
     "data": {
      "text/plain": [
       "3.0"
      ]
     },
     "execution_count": 4,
     "metadata": {},
     "output_type": "execute_result"
    }
   ],
   "source": [
    "def div(a, b):\n",
    "    try:\n",
    "        division = a / b\n",
    "        return division\n",
    "    except Exception as e:\n",
    "        print(type(e).__name__)\n",
    "\n",
    "\n",
    "div(3, 1)"
   ]
  },
  {
   "cell_type": "markdown",
   "id": "f5ef27a6",
   "metadata": {},
   "source": [
    "2. Pide al usuario que introduzca un número por teclado. Usa try-except para\n",
    "manejar el caso en que el valor no sea convertible a int."
   ]
  },
  {
   "cell_type": "code",
   "execution_count": 10,
   "id": "4408604b",
   "metadata": {},
   "outputs": [
    {
     "name": "stdout",
     "output_type": "stream",
     "text": [
      "ValueError\n"
     ]
    }
   ],
   "source": [
    "cosa = input('Introduce un input: ')\n",
    "\n",
    "try:\n",
    "    cosa2 = int(cosa)\n",
    "    print(cosa2)\n",
    "except:\n",
    "    print('ValueError')\n",
    "\n"
   ]
  },
  {
   "cell_type": "markdown",
   "id": "7974c8a3",
   "metadata": {},
   "source": [
    "3. Modifica el ejercicio anterior para que, si no hay excepción, se imprima un\n",
    "mensaje indicando que la conversión fue exitosa (usando else)."
   ]
  },
  {
   "cell_type": "code",
   "execution_count": 9,
   "id": "2abad840",
   "metadata": {},
   "outputs": [
    {
     "name": "stdout",
     "output_type": "stream",
     "text": [
      "La conversion no fue exitosa\n"
     ]
    }
   ],
   "source": [
    "cosa = input('Introduce un input: ')\n",
    "\n",
    "try:\n",
    "    cosa2 = int(cosa)\n",
    "    print(cosa2)\n",
    "except:\n",
    "    print('La conversion no fue exitosa')\n",
    "else:\n",
    "    print('La conversion fue exitosa')"
   ]
  },
  {
   "cell_type": "markdown",
   "id": "8755ef7b",
   "metadata": {},
   "source": [
    "4. Crea una función que intente acceder a un índice de una lista y devuelva el\n",
    "valor. Captura la excepción como e y muestra el tipo y el mensaje de error"
   ]
  },
  {
   "cell_type": "code",
   "execution_count": null,
   "id": "b3bdc7df",
   "metadata": {},
   "outputs": [
    {
     "name": "stdout",
     "output_type": "stream",
     "text": [
      "IndexError\n"
     ]
    }
   ],
   "source": [
    "def ind_list():\n",
    "    lista = [1, 2, 3]\n",
    "    try:\n",
    "        valor = lista[int(input('Establece un valor de la lista'))]\n",
    "        return valor\n",
    "    except Exception as e:\n",
    "        print(type(e).__name__)\n",
    "    \n",
    "ind_list()"
   ]
  },
  {
   "cell_type": "markdown",
   "id": "4199052c",
   "metadata": {},
   "source": [
    "5. Modifica la función anterior. Usa múltiples bloques except para manejar\n",
    "IndexError y TypeError, mostrando el mensaje de error correspondiente."
   ]
  },
  {
   "cell_type": "code",
   "execution_count": 30,
   "id": "98c08254",
   "metadata": {},
   "outputs": [
    {
     "name": "stdout",
     "output_type": "stream",
     "text": [
      "El caracter que has introducido no es valido\n"
     ]
    }
   ],
   "source": [
    "def ind_list():\n",
    "    lista = [1, 2, 3]\n",
    "    try:\n",
    "        pos = input('Establece una posicion de la lista a la que quieras acceder')\n",
    "        valor = lista[pos]\n",
    "        return valor\n",
    "    except IndexError:\n",
    "        print('La posicion de la lista a la que quieres acceder no existe')\n",
    "    except TypeError:\n",
    "        print('El caracter que has introducido no es valido')\n",
    "    \n",
    "    \n",
    "ind_list()"
   ]
  },
  {
   "cell_type": "code",
   "execution_count": 34,
   "id": "e51d098f",
   "metadata": {},
   "outputs": [
    {
     "ename": "ValueError",
     "evalue": "invalid literal for int() with base 10: 's'",
     "output_type": "error",
     "traceback": [
      "\u001b[31m---------------------------------------------------------------------------\u001b[39m",
      "\u001b[31mValueError\u001b[39m                                Traceback (most recent call last)",
      "\u001b[36mCell\u001b[39m\u001b[36m \u001b[39m\u001b[32mIn[34]\u001b[39m\u001b[32m, line 12\u001b[39m\n\u001b[32m      9\u001b[39m     \u001b[38;5;28;01mexcept\u001b[39;00m \u001b[38;5;167;01mTypeError\u001b[39;00m:\n\u001b[32m     10\u001b[39m         \u001b[38;5;28mprint\u001b[39m(\u001b[33m'\u001b[39m\u001b[33mEl tipo de dato introducido no es válido.\u001b[39m\u001b[33m'\u001b[39m)\n\u001b[32m---> \u001b[39m\u001b[32m12\u001b[39m \u001b[43mind_list\u001b[49m\u001b[43m(\u001b[49m\u001b[43m)\u001b[49m\n",
      "\u001b[36mCell\u001b[39m\u001b[36m \u001b[39m\u001b[32mIn[34]\u001b[39m\u001b[32m, line 5\u001b[39m, in \u001b[36mind_list\u001b[39m\u001b[34m()\u001b[39m\n\u001b[32m      3\u001b[39m \u001b[38;5;28;01mtry\u001b[39;00m:\n\u001b[32m      4\u001b[39m     pos = \u001b[38;5;28minput\u001b[39m(\u001b[33m'\u001b[39m\u001b[33mEstablece un valor de la lista: \u001b[39m\u001b[33m'\u001b[39m)\n\u001b[32m----> \u001b[39m\u001b[32m5\u001b[39m     valor = lista[\u001b[38;5;28;43mint\u001b[39;49m\u001b[43m(\u001b[49m\u001b[43mpos\u001b[49m\u001b[43m)\u001b[49m]   \u001b[38;5;66;03m# aquí TypeError si no es número\u001b[39;00m\n\u001b[32m      6\u001b[39m     \u001b[38;5;28;01mreturn\u001b[39;00m valor\n\u001b[32m      7\u001b[39m \u001b[38;5;28;01mexcept\u001b[39;00m \u001b[38;5;167;01mIndexError\u001b[39;00m:\n",
      "\u001b[31mValueError\u001b[39m: invalid literal for int() with base 10: 's'"
     ]
    }
   ],
   "source": [
    "def ind_list():\n",
    "    lista = [1, 2, 3]\n",
    "    try:\n",
    "        pos = input('Establece un valor de la lista: ')\n",
    "        valor = lista[int(pos)]   # aquí TypeError si no es número\n",
    "        return valor\n",
    "    except IndexError:\n",
    "        print('La posición no existe.')\n",
    "    except TypeError:\n",
    "        print('El tipo de dato introducido no es válido.')\n",
    "\n",
    "ind_list()\n"
   ]
  },
  {
   "cell_type": "code",
   "execution_count": 36,
   "id": "96995b39",
   "metadata": {},
   "outputs": [
    {
     "name": "stdout",
     "output_type": "stream",
     "text": [
      "El tipo de dato introducido no es válido (no es un número entero).\n"
     ]
    }
   ],
   "source": [
    "def ind_list(index):\n",
    "    lista = [1, 2, 3]\n",
    "    try:\n",
    "        return lista[index]\n",
    "    except IndexError:\n",
    "        print('La posición no existe.')\n",
    "    except TypeError:\n",
    "        print('El tipo de dato introducido no es válido (no es un número entero).')\n",
    "\n",
    "ind_list('ab')\n"
   ]
  },
  {
   "cell_type": "markdown",
   "id": "03cbe58e",
   "metadata": {},
   "source": [
    "6. Crea una función que intente convertir una cadena a entero. Si falla, lanza\n",
    "una nueva excepción ValueError(\"Conversión fallida\") usando raise"
   ]
  },
  {
   "cell_type": "code",
   "execution_count": 38,
   "id": "e290cfca",
   "metadata": {},
   "outputs": [
    {
     "data": {
      "text/plain": [
       "2"
      ]
     },
     "execution_count": 38,
     "metadata": {},
     "output_type": "execute_result"
    }
   ],
   "source": [
    "def funcion():\n",
    "    try:\n",
    "        n = input(\"Introduce una cadena\")\n",
    "        n1 = int(n)\n",
    "        return n1\n",
    "        if n1 == int:\n",
    "            raise ValueError\n",
    "    except ValueError:\n",
    "        print(\"No se pueede hacer la conversion\")\n",
    "\n",
    "funcion()"
   ]
  },
  {
   "cell_type": "markdown",
   "id": "2897ef37",
   "metadata": {},
   "source": [
    "7. Escribe una función que reciba una edad y lance una excepción ValueError\n",
    "si la edad es negativa."
   ]
  },
  {
   "cell_type": "code",
   "execution_count": 47,
   "id": "910a2375",
   "metadata": {},
   "outputs": [
    {
     "name": "stdout",
     "output_type": "stream",
     "text": [
      "La edad no puede ser negativa.\n"
     ]
    }
   ],
   "source": [
    "def comprobar_edad(edad):\n",
    "    if edad < 0:\n",
    "        raise ValueError('La edad no puede ser negativa.')\n",
    "    return edad\n",
    "\n",
    "try:\n",
    "    print(f'{comprobar_edad(-1)} es edad valida')\n",
    "except ValueError as e: \n",
    "    print(e)"
   ]
  },
  {
   "cell_type": "markdown",
   "id": "4fee88e7",
   "metadata": {},
   "source": [
    "8. Escribe una función procesar_lista(lista) que reciba una lista con\n",
    "elementos de distintos tipos (enteros, cadenas, None, etc.). La función\n",
    "debe intentar convertir cada elemento a entero. Si no se puede convertir,\n",
    "debe capturar la excepción y guardar un mensaje de error en una lista de\n",
    "errores. Al final, debe devolver una tupla con dos listas: una con los enteros\n",
    "convertidos correctamente y otra con los mensajes de error."
   ]
  },
  {
   "cell_type": "code",
   "execution_count": null,
   "id": "854e030d",
   "metadata": {},
   "outputs": [
    {
     "name": "stdout",
     "output_type": "stream",
     "text": [
      "1\n",
      "1 No puede convertir a entero\n",
      "2\n",
      "2 No puede convertir a entero\n",
      "3\n",
      "3 No puede convertir a entero\n",
      "None No se puede convertir a entero\n",
      "abc No se puede convertir a entero\n",
      "[1, 2, '3']\n",
      "[None, 'abc']\n"
     ]
    }
   ],
   "source": [
    "def procesar_lista(lista):\n",
    "    global listaenteros \n",
    "    listaenteros = []\n",
    "    global listanoenteros\n",
    "    listanoenteros = []\n",
    "    for i in lista:\n",
    "        try:\n",
    "            print(int(i))\n",
    "            print(f'{i} Se puede convertir a entero')\n",
    "            listaenteros.append(i)\n",
    "        except:\n",
    "            print(f'{i} No se puede convertir a entero')\n",
    "            listanoenteros.append(i)\n",
    "    print(listaenteros)\n",
    "    print(listanoenteros)\n",
    "\n",
    "\n",
    "\n",
    "procesar_lista([1, 2, '3', None, 'abc'])\n",
    "\n",
    "\n"
   ]
  }
 ],
 "metadata": {
  "kernelspec": {
   "display_name": "Python 3",
   "language": "python",
   "name": "python3"
  },
  "language_info": {
   "codemirror_mode": {
    "name": "ipython",
    "version": 3
   },
   "file_extension": ".py",
   "mimetype": "text/x-python",
   "name": "python",
   "nbconvert_exporter": "python",
   "pygments_lexer": "ipython3",
   "version": "3.13.7"
  }
 },
 "nbformat": 4,
 "nbformat_minor": 5
}
